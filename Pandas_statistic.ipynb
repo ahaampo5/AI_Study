{
 "cells": [
  {
   "cell_type": "markdown",
   "id": "written-citizen",
   "metadata": {},
   "source": [
    "# Pandas"
   ]
  },
  {
   "cell_type": "code",
   "execution_count": 2,
   "id": "operational-occasions",
   "metadata": {},
   "outputs": [],
   "source": [
    "import pandas as pd\n",
    "import numpy as np"
   ]
  },
  {
   "cell_type": "markdown",
   "id": "damaged-institute",
   "metadata": {},
   "source": [
    "- 데이터 로딩\n",
    "\n",
    "df_data = pd.read_csv(`url`,sep= , header = None) # sep=`정규식 표현`"
   ]
  },
  {
   "cell_type": "markdown",
   "id": "adequate-discharge",
   "metadata": {},
   "source": [
    "- 데이터 프레임 확인\n",
    "\n",
    "df_data.head()"
   ]
  },
  {
   "cell_type": "markdown",
   "id": "adaptive-baptist",
   "metadata": {},
   "source": [
    "## Series 객체"
   ]
  },
  {
   "cell_type": "markdown",
   "id": "accepting-warehouse",
   "metadata": {},
   "source": [
    "Series 객체가 가진 값 : index, values, name, index.name \n",
    "\n",
    "            # index 객체, ndarray 객체, "
   ]
  },
  {
   "cell_type": "markdown",
   "id": "noble-knitting",
   "metadata": {},
   "source": [
    "index를 기준으로 연산"
   ]
  },
  {
   "cell_type": "markdown",
   "id": "european-cherry",
   "metadata": {},
   "source": [
    ".astype : 타입 변경"
   ]
  },
  {
   "cell_type": "markdown",
   "id": "alive-invasion",
   "metadata": {},
   "source": [
    "pd.Series()  # data= , index= , dtype= , name= , "
   ]
  },
  {
   "cell_type": "markdown",
   "id": "sustainable-letters",
   "metadata": {},
   "source": [
    "## DataFrame 객체"
   ]
  },
  {
   "cell_type": "markdown",
   "id": "greenhouse-conditions",
   "metadata": {},
   "source": [
    "- Basic"
   ]
  },
  {
   "cell_type": "code",
   "execution_count": null,
   "id": "married-learning",
   "metadata": {},
   "outputs": [],
   "source": [
    "df = pd.DataFrame() # data= , index= , columns= , dtype= , (key:list)"
   ]
  },
  {
   "cell_type": "code",
   "execution_count": 4,
   "id": "allied-clothing",
   "metadata": {},
   "outputs": [],
   "source": [
    "df = pd.read_csv('./csv/phone_data.csv')"
   ]
  },
  {
   "cell_type": "markdown",
   "id": "reserved-combat",
   "metadata": {},
   "source": [
    "- DataFrame이 가진 정보  \n",
    "\n",
    "df.`column_name`, df[`column_name`] : series가져오기  \n",
    "df.index : index 객체 반환  \n",
    "df.to_csv() : csv로 바꾸어줌\n",
    "df_data.columns # 리스트로 반환  - feature 확인  \n",
    "df_data.values # 넘파이 데이터로 반환 - - value 확인"
   ]
  },
  {
   "cell_type": "markdown",
   "id": "tough-grant",
   "metadata": {},
   "source": [
    "- - -"
   ]
  },
  {
   "cell_type": "markdown",
   "id": "continental-palmer",
   "metadata": {},
   "source": [
    "- 원하는 dataframe 자르기\n",
    "\n",
    "df[`list`]<br>\n",
    "df[`list`][`index_list`]\n",
    "\n",
    "df.loc[`index_list(name)`,`column_list(name)`]\n",
    "df.iloc[`column_list(index)`,`index_list(index)`]\n",
    "\n",
    " - index로 dataframe 잘라오기\n",
    "\n",
    "  - df.loc[:`index_name`] : index 이름을 포함한데까지\n",
    "  - df.iloc[:3] : 원래 index가져오는 룰과 같음"
   ]
  },
  {
   "cell_type": "markdown",
   "id": "driven-reward",
   "metadata": {},
   "source": [
    "- 새로운 컬럼 생성\n",
    "df.`new_column` = series넣기"
   ]
  },
  {
   "cell_type": "markdown",
   "id": "judicial-employment",
   "metadata": {},
   "source": [
    "- bool series로 기준에 맞는 데이터 뽑기"
   ]
  },
  {
   "cell_type": "markdown",
   "id": "weird-spectacular",
   "metadata": {},
   "source": [
    "df.something = df.age < 40 # series 넣기"
   ]
  },
  {
   "cell_type": "markdown",
   "id": "chubby-attendance",
   "metadata": {},
   "source": [
    "- 데이터 삭제 ( 컬럼 )"
   ]
  },
  {
   "cell_type": "markdown",
   "id": "assigned-canada",
   "metadata": {},
   "source": [
    "df.drop(`name`, axis=0) # df에서 axis방향으로 name을 찾아서 없애준다.  \n",
    "del()"
   ]
  },
  {
   "cell_type": "markdown",
   "id": "pending-review",
   "metadata": {},
   "source": [
    "- index 초기화해주기"
   ]
  },
  {
   "cell_type": "markdown",
   "id": "virtual-remark",
   "metadata": {},
   "source": [
    "df.reset_index() # drop=True 를 많이쓴다."
   ]
  },
  {
   "cell_type": "markdown",
   "id": "wrong-receipt",
   "metadata": {},
   "source": [
    "- 변화 적용은 inplace=True"
   ]
  },
  {
   "cell_type": "markdown",
   "id": "increased-winter",
   "metadata": {},
   "source": [
    "- 연산"
   ]
  },
  {
   "cell_type": "markdown",
   "id": "comparable-holder",
   "metadata": {},
   "source": [
    "연산기호보다는 .add() # NaN 값때문에 add, mul에 fill_value를 써준다."
   ]
  },
  {
   "cell_type": "markdown",
   "id": "consecutive-unemployment",
   "metadata": {},
   "source": [
    "- 원하는대로 데이터 변환"
   ]
  },
  {
   "cell_type": "markdown",
   "id": "controlled-threshold",
   "metadata": {},
   "source": [
    "먼저 feature vector에 무슨 데이터있는지 확인 unique()"
   ]
  },
  {
   "cell_type": "markdown",
   "id": "breeding-cornell",
   "metadata": {},
   "source": [
    "![unique1.png](./img/unique1.png)"
   ]
  },
  {
   "cell_type": "markdown",
   "id": "sublime-capital",
   "metadata": {},
   "source": [
    "![](./img/unique2.png)"
   ]
  },
  {
   "cell_type": "markdown",
   "id": "favorite-runner",
   "metadata": {},
   "source": [
    "series - map() 1. 일반적인 map함수, 2. dict넣어주면 매칭  \n",
    "series - replace() # dict나 target list, conversion list  \n",
    "dataframe - apply(func) # 컬럼 별로 결과값 반환  \n",
    "dataframe - applymap(func) # 모든 데이터에 적용"
   ]
  },
  {
   "cell_type": "markdown",
   "id": "cordless-compensation",
   "metadata": {},
   "source": [
    "- 통계치 여러가지 쓸 때  \n",
    "dataframe - apply(func)\n",
    "``` python\n",
    "def func(x):\n",
    "    return Series(\n",
    "    [x.min(), x.max(), x.mean(), sum(x.isnull())],\n",
    "    index=['min', 'max', 'mean', 'null'],\n",
    "    )\n",
    "```"
   ]
  },
  {
   "cell_type": "markdown",
   "id": "corporate-confidence",
   "metadata": {},
   "source": [
    "- 전체 통계치 요약\n",
    "df.describe()"
   ]
  },
  {
   "cell_type": "markdown",
   "id": "similar-capacity",
   "metadata": {},
   "source": [
    "- 상관계수, 공분산"
   ]
  },
  {
   "cell_type": "markdown",
   "id": "unable-cement",
   "metadata": {},
   "source": [
    "series.corr(series)\n",
    "series.cov(series)\n",
    "df.corrwith(series)\n",
    "df.corr() # 모든 관계 dataframe"
   ]
  },
  {
   "cell_type": "markdown",
   "id": "fatty-happening",
   "metadata": {},
   "source": [
    "- 여러가지 함수"
   ]
  },
  {
   "cell_type": "markdown",
   "id": "demanding-direction",
   "metadata": {},
   "source": [
    "sort_values(`column_list`,ascending=True)\n",
    "isnull() # sum과 같이씀"
   ]
  }
 ],
 "metadata": {
  "kernelspec": {
   "display_name": "Python 3",
   "language": "python",
   "name": "python3"
  },
  "language_info": {
   "codemirror_mode": {
    "name": "ipython",
    "version": 3
   },
   "file_extension": ".py",
   "mimetype": "text/x-python",
   "name": "python",
   "nbconvert_exporter": "python",
   "pygments_lexer": "ipython3",
   "version": "3.8.5"
  }
 },
 "nbformat": 4,
 "nbformat_minor": 5
}
