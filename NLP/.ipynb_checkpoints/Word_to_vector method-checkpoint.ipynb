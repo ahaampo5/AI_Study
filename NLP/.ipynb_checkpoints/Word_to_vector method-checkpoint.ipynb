{
 "cells": [
  {
   "cell_type": "markdown",
   "id": "pleasant-product",
   "metadata": {},
   "source": [
    "## Word를 Vector로 만들기"
   ]
  },
  {
   "cell_type": "markdown",
   "id": "deadly-library",
   "metadata": {},
   "source": [
    "- Word to One-hot vector"
   ]
  },
  {
   "cell_type": "code",
   "execution_count": 2,
   "id": "distributed-given",
   "metadata": {},
   "outputs": [],
   "source": [
    "# distance = sqrt(2) , \n",
    "dict = {'door':[1,0,0,0],'cat':[0,1,0,0],'dog':[0,0,1,0],'man':[0,0,0,1]}"
   ]
  },
  {
   "cell_type": "markdown",
   "id": "starting-rebate",
   "metadata": {},
   "source": [
    "Back of wards\n",
    "- door cat dog dog -> [1,1,2,0]"
   ]
  },
  {
   "cell_type": "markdown",
   "id": "fundamental-vertical",
   "metadata": {},
   "source": [
    "NaiveBayse Classifier - MLE\n",
    "- Sentence, Label 데이터 -> 확률"
   ]
  },
  {
   "cell_type": "markdown",
   "id": "authentic-scroll",
   "metadata": {},
   "source": [
    "Word2Vec\n",
    "- 같은 문장 내에 단어는 관련성이 높을 것이라는 가정으로 시작 -> 주변 단어들로 단어를 예측할 수 있을 것\n",
    "- Sliding Window 기술 적용 or 현재 단어|다음 단어로 training\n",
    "\n",
    "활용 : Word Detection-나머지 단어와의norm2의 평균값이 가장 큰 것\n",
    "Machine translation : \n",
    "Sentiment analysis : 감정 분석\n",
    "Image Captioning : 그림을 보고 자연어로 생성"
   ]
  },
  {
   "cell_type": "markdown",
   "id": "capital-recorder",
   "metadata": {},
   "source": [
    "GloVe\n",
    "- Window 사용, 확률 적용, 단어의 빈도를 고려하여 조정, "
   ]
  }
 ],
 "metadata": {
  "kernelspec": {
   "display_name": "Python 3",
   "language": "python",
   "name": "python3"
  },
  "language_info": {
   "codemirror_mode": {
    "name": "ipython",
    "version": 3
   },
   "file_extension": ".py",
   "mimetype": "text/x-python",
   "name": "python",
   "nbconvert_exporter": "python",
   "pygments_lexer": "ipython3",
   "version": "3.8.5"
  }
 },
 "nbformat": 4,
 "nbformat_minor": 5
}
