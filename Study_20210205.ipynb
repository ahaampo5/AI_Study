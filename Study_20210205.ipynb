{
 "cells": [
  {
   "cell_type": "markdown",
   "id": "impossible-advantage",
   "metadata": {},
   "source": [
    "# **학업 일지**"
   ]
  },
  {
   "cell_type": "markdown",
   "id": "bottom-space",
   "metadata": {},
   "source": [
    "#### 오늘의 한마디  "
   ]
  },
  {
   "cell_type": "markdown",
   "id": "american-feedback",
   "metadata": {},
   "source": [
    "> **모델을 구현 할 때 목적이 뭔지 명확하게 정의하고 그 문제가 가지는 성향까지 정리를 해야한다. 어떤 성향을 가지느냐를 잘 분석하고 구현해야 좋은 모델이 만들어진다.**"
   ]
  },
  {
   "cell_type": "markdown",
   "id": "finished-theorem",
   "metadata": {},
   "source": [
    "## 1. 강의 정리"
   ]
  },
  {
   "cell_type": "markdown",
   "id": "tamil-oklahoma",
   "metadata": {},
   "source": [
    "### 1.1 Generative Model"
   ]
  },
  {
   "cell_type": "markdown",
   "id": "metallic-magic",
   "metadata": {},
   "source": [
    "#### 1.1.1 Generative Model의 이해"
   ]
  },
  {
   "cell_type": "markdown",
   "id": "rubber-allen",
   "metadata": {},
   "source": [
    "- Generation :\n",
    "- Density estimation : \n",
    "- Unsupervised representation learning :"
   ]
  },
  {
   "cell_type": "markdown",
   "id": "changed-version",
   "metadata": {},
   "source": [
    "#### 1.1.2 p(x)를 어떻게 구할 것인가\n",
    "- 확률 분포\n",
    " - Bernoulli distribution : 확률을 표현하기 위한 파라메터 수 - 2개\n",
    " - Categorical distribution : 확률을 표현하기 위한 파라메터 수 - (n - 1) 개\n",
    "- Image같은 경우에  \n",
    " - 모든 경우의 수는 $2^n$이며 파라메터 수는 $2^n - 1$ 개이다.\n",
    " - 어떻게 줄일까?  \n",
    "  - fully dependent는 너무 파라메터가 많고 fully independent는 너무 표현할 수 있는 것이 적다.  \n",
    "  - chain rule을 만들자. `2^n - 1`개 파라미터  \n",
    "  - Bayes' rule을 쓰자.  `2*n - 1`\n",
    "  - Conditional independence(Markov assumption)  \n",
    "  - chain rule과 conditional independence를 잘 섞어쓰자."
   ]
  },
  {
   "cell_type": "markdown",
   "id": "bibliographic-appointment",
   "metadata": {},
   "source": [
    "### 1.2 Auto regressive Model"
   ]
  },
  {
   "cell_type": "markdown",
   "id": "printable-portuguese",
   "metadata": {},
   "source": [
    "- 이전 정보를 고려한 모델을 통틀어 이르는 말"
   ]
  },
  {
   "cell_type": "markdown",
   "id": "closing-flour",
   "metadata": {},
   "source": [
    "#### 1.2.1 NADE (Neural "
   ]
  },
  {
   "cell_type": "markdown",
   "id": "minute-diary",
   "metadata": {},
   "source": [
    "- 입력에 대한 확률을 출력할 수 있다.  \n",
    "- 마지막에 가우시안을 넣어 표현하겟다."
   ]
  },
  {
   "cell_type": "markdown",
   "id": "boxed-dealer",
   "metadata": {},
   "source": [
    "#### 1.2.2 Pixel RNN  "
   ]
  },
  {
   "cell_type": "markdown",
   "id": "automotive-prospect",
   "metadata": {},
   "source": [
    "- RNN을 사용  \n",
    "- Ordering\n",
    " - Row LSTM\n",
    " - Diagonal BiLSTM"
   ]
  },
  {
   "cell_type": "markdown",
   "id": "wrapped-bruce",
   "metadata": {},
   "source": [
    "### 1.3 Autoencoder, Generative model"
   ]
  },
  {
   "cell_type": "markdown",
   "id": "active-polls",
   "metadata": {},
   "source": [
    "#### 1.3.1 Variational Auto-encoder"
   ]
  },
  {
   "cell_type": "markdown",
   "id": "vulnerable-standing",
   "metadata": {},
   "source": [
    "- posterior distribution : 이상치  \n",
    "- variational distribution : 근사치  \n",
    "- ELBO를 최대화하는 것이 posterior distribution과 variational distribution이 비슷해진다. 따라서 \n",
    "![image.png](./img/latent.png)  \n",
    "\n",
    "가장 큰 단점 : KL diversence를 활용하는것이 가우시안 분포를 꼭 써야하는 단점"
   ]
  },
  {
   "cell_type": "markdown",
   "id": "crude-treasury",
   "metadata": {},
   "source": [
    "#### 1.3.2 Adversarial Auto-encoder "
   ]
  },
  {
   "cell_type": "markdown",
   "id": "great-olympus",
   "metadata": {},
   "source": [
    "KL diversence를 GAN objective로 바꾼것 - 다양한 분포를 활용할수있다.  \n"
   ]
  },
  {
   "cell_type": "markdown",
   "id": "major-collins",
   "metadata": {},
   "source": [
    "#### 1.3 GAN (Generative Adversarial Network)"
   ]
  },
  {
   "cell_type": "markdown",
   "id": "existing-nightmare",
   "metadata": {},
   "source": [
    "- VAE는 확률적인 수식을 이용하여 가지고 있는 정보로 최적상황을 예측하는 식으로 모델링 되지만 GAN은 맞았는지 틀렸는지를 확인해주는 판별자가 들어가면서 판별자도 학습이 되고 generate하는 모델도 학습이 되면서 완성도를 높여간다."
   ]
  },
  {
   "cell_type": "markdown",
   "id": "primary-guard",
   "metadata": {},
   "source": [
    "## 2. 피어 세션 정리"
   ]
  },
  {
   "cell_type": "markdown",
   "id": "boring-fashion",
   "metadata": {},
   "source": [
    "#### 2.1 스터디"
   ]
  },
  {
   "cell_type": "markdown",
   "id": "speaking-kruger",
   "metadata": {},
   "source": [
    "- 2.1.1 RNN 모델에 대해 수업을 리뷰하고 토론하는 시간을 가졌다.(발표: 안동주)\n",
    "\n",
    "- 2.1.2 Transformer에 대해 전체 개념을 잡고 실제 코드를 보고 분석하는 시간을 가졌다. (발표: 배새봄)\n"
   ]
  },
  {
   "cell_type": "markdown",
   "id": "formed-adult",
   "metadata": {},
   "source": [
    "#### 2.2 원하는 진로를 잡고 논문 공부"
   ]
  },
  {
   "cell_type": "markdown",
   "id": "prerequisite-mattress",
   "metadata": {},
   "source": [
    "- Deep Learning : Yann LeCnn, Yoshua Bengio & Geoffrey Hinton\n",
    "딥러닝에 대한 전반적인 이해를 돕고 AI 논문에 대한 언어 장벽을 없애기 위해 필요하며 발표 예정"
   ]
  },
  {
   "cell_type": "markdown",
   "id": "prompt-finding",
   "metadata": {},
   "source": [
    "## 3. 진행중인 공부 및 신규 공부 목록"
   ]
  },
  {
   "cell_type": "markdown",
   "id": "seven-violation",
   "metadata": {},
   "source": [
    "- 진행중인 공부  \n",
    "\n",
    "    - Deep learning 논문 읽고 정리하기\n",
    "    - AI 기본 수학 : Mathematics for Machine learning - Marc Peter Deisenroth 3과 공부\n",
    "    - 웹 크롤링 및 데이터 처리 연습 익숙해지기\n",
    "    - Numpy를 이용하여 프로젝트 하나 진행해보기 (wav파일로 악보를 추출하는 것을 계획중)\n",
    "    - Pandas 연산 반복 학습 하기\n",
    "    - Pytorch로 시작하는 딥러닝, Pytorch tutorial 공부  \n",
    "    - pytorch 데이터셋 설정"
   ]
  },
  {
   "cell_type": "markdown",
   "id": "broad-payroll",
   "metadata": {},
   "source": [
    "- 신규 공부 목록  \n"
   ]
  },
  {
   "cell_type": "markdown",
   "id": "boxed-particular",
   "metadata": {},
   "source": [
    "- 완료한 공부  "
   ]
  },
  {
   "cell_type": "markdown",
   "id": "british-monkey",
   "metadata": {},
   "source": [
    "## 4. 감사한 일"
   ]
  },
  {
   "cell_type": "markdown",
   "id": "functional-bridges",
   "metadata": {},
   "source": [
    "- 트랜스포머 이해가 되지 않아 계속 질문을 해도 친절하게 설명해준 새봄님에게 감사합니다.  \n",
    "- 난이도가 점점 어려워지면서 시간쏟는 것도 매우 많지만 밝은 모습으로 좋은 분위기를 만드는 팀원들에게 감사합니다."
   ]
  }
 ],
 "metadata": {
  "kernelspec": {
   "display_name": "Python 3",
   "language": "python",
   "name": "python3"
  },
  "language_info": {
   "codemirror_mode": {
    "name": "ipython",
    "version": 3
   },
   "file_extension": ".py",
   "mimetype": "text/x-python",
   "name": "python",
   "nbconvert_exporter": "python",
   "pygments_lexer": "ipython3",
   "version": "3.8.5"
  }
 },
 "nbformat": 4,
 "nbformat_minor": 5
}
