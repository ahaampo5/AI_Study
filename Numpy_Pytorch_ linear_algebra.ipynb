{
 "cells": [
  {
   "cell_type": "markdown",
   "id": "satellite-norwegian",
   "metadata": {},
   "source": [
    "# Numpy"
   ]
  },
  {
   "cell_type": "code",
   "execution_count": 27,
   "id": "roman-above",
   "metadata": {},
   "outputs": [],
   "source": [
    "import numpy as np\n",
    "import torch"
   ]
  },
  {
   "cell_type": "code",
   "execution_count": 28,
   "id": "short-paraguay",
   "metadata": {
    "scrolled": true
   },
   "outputs": [],
   "source": [
    "nd1 = np.random.uniform(0,1,(3,4))\n",
    "nd2 = np.arange(12).reshape(3,4)\n",
    "nd3 = np.arange(24).reshape(2,3,4)"
   ]
  },
  {
   "cell_type": "markdown",
   "id": "reasonable-utilization",
   "metadata": {},
   "source": [
    "- alg 기본연산 :   \n",
    "dot product, broadcast, \n",
    "ndarray가 가진 정보 : dtype, shape, values, size(data개수), nbytes\n",
    "reshape - 데이터를 가진 matrix를 모양변환, 특별한 의미 없이 모양바꾸는 함수 (-1,4)"
   ]
  },
  {
   "cell_type": "markdown",
   "id": "literary-miniature",
   "metadata": {},
   "source": [
    "- 초기화 : np.arange(10),np.zeros(shape= , dtype) # np.ones, np.empty\n",
    "np.ones_like(`ndarray`) # zeros, empty\n",
    "np.identity(`n`)<br>\n",
    "np.eye(`row`,`column`,`start_point`)"
   ]
  },
  {
   "cell_type": "markdown",
   "id": "introductory-commander",
   "metadata": {},
   "source": [
    "- np.diag(`ndarray`) # 대각선만"
   ]
  },
  {
   "cell_type": "markdown",
   "id": "norman-google",
   "metadata": {},
   "source": [
    "- 분포<br>\n",
    "np.random.uniform(`모수`) # normal, exponential, "
   ]
  },
  {
   "cell_type": "markdown",
   "id": "aboriginal-integer",
   "metadata": {},
   "source": [
    "- 통계학 연산 : sum, mean, std, median, var,  + 추가항 : axis <br>\n",
    "연산, 함수 쓸거있으면 다있으니 검색해라"
   ]
  },
  {
   "cell_type": "markdown",
   "id": "registered-network",
   "metadata": {},
   "source": [
    "- 붙이기 : + 추가 axis  \n",
    "np.vstack((a,b))  \n",
    "np.hstack((a,b))  \n",
    "np.concatenate((a,b))"
   ]
  },
  {
   "cell_type": "markdown",
   "id": "surgical-surprise",
   "metadata": {},
   "source": [
    "- 축 추가 :\n",
    "nd1 = nd1[np.newaxis,:]"
   ]
  },
  {
   "cell_type": "markdown",
   "id": "legislative-curve",
   "metadata": {},
   "source": [
    "- 비교 연산 : broadcasting과 비슷한 개념  \n",
    "np.any, np.all, np.logical_and, # or, not"
   ]
  },
  {
   "cell_type": "markdown",
   "id": "severe-inquiry",
   "metadata": {},
   "source": [
    "- np.where 두가지방법  \n",
    "np.where(a > 0,3,2) # 1번째 방법 참이면 3, 거짓이면 2 출력 - 기준을 잡아 원하는 수로 출력가능  \n",
    "np.where(`조건`) # index값 반환"
   ]
  },
  {
   "cell_type": "markdown",
   "id": "faced-robinson",
   "metadata": {},
   "source": [
    "- np.argmin() # argmax, argsort - index 반환"
   ]
  },
  {
   "cell_type": "markdown",
   "id": "golden-spring",
   "metadata": {},
   "source": [
    "- boolean index : bool array를 참조하여 True의 index값만 뽑는다.\n",
    "- fancy index : index array를 참조하여 값을 뽑는다. # 여러 index array사용가능 = .take\n"
   ]
  },
  {
   "cell_type": "markdown",
   "id": "twenty-clarity",
   "metadata": {},
   "source": [
    "- 저장 : np.savetet(`name`,`array`,delimiter=',') # scv로\n",
    "np.save(`name`,`array`) # pickle로\n",
    "불러오기 : np.load(`name`) # scv로부터"
   ]
  },
  {
   "cell_type": "markdown",
   "id": "detected-characterization",
   "metadata": {},
   "source": [
    "# 선형대 함수"
   ]
  },
  {
   "cell_type": "code",
   "execution_count": 39,
   "id": "silent-fireplace",
   "metadata": {
    "scrolled": true
   },
   "outputs": [
    {
     "data": {
      "text/plain": [
       "<function numpy.linalg.norm(x, ord=None, axis=None, keepdims=False)>"
      ]
     },
     "execution_count": 39,
     "metadata": {},
     "output_type": "execute_result"
    }
   ],
   "source": [
    "np.linalg.pinv\n",
    "np.linalg.inv\n",
    "np.linalg.norm"
   ]
  },
  {
   "cell_type": "markdown",
   "id": "happy-explorer",
   "metadata": {},
   "source": [
    "- Regression with GD"
   ]
  },
  {
   "cell_type": "markdown",
   "id": "celtic-coordination",
   "metadata": {},
   "source": [
    "![image.png](./img/regression.png)"
   ]
  },
  {
   "cell_type": "markdown",
   "id": "metropolitan-facial",
   "metadata": {},
   "source": [
    "# Pytorch"
   ]
  },
  {
   "cell_type": "code",
   "execution_count": 29,
   "id": "interstate-terrorism",
   "metadata": {},
   "outputs": [],
   "source": [
    "import torch\n",
    "import torch.nn as nn\n",
    "import torch.optim as optim\n",
    "import numpy as np"
   ]
  },
  {
   "cell_type": "code",
   "execution_count": 34,
   "id": "unexpected-guarantee",
   "metadata": {
    "scrolled": true
   },
   "outputs": [
    {
     "data": {
      "text/plain": [
       "tensor([[0.5779, 0.2203, 0.0422],\n",
       "        [0.1237, 0.0406, 0.2653]])"
      ]
     },
     "execution_count": 34,
     "metadata": {},
     "output_type": "execute_result"
    }
   ],
   "source": [
    "np_array = np.random.uniform(0,1,(2,4,5))\n",
    "x_torch = torch.from_numpy(np_array)\n",
    "\n",
    "torch.rand((2,3)) # ones, zeros,"
   ]
  },
  {
   "cell_type": "code",
   "execution_count": null,
   "id": "sporting-serum",
   "metadata": {},
   "outputs": [],
   "source": [
    "torch.ones_like(x_data) # rand_list, "
   ]
  },
  {
   "cell_type": "markdown",
   "id": "sized-breakfast",
   "metadata": {},
   "source": [
    "- torch가 가지고 있는 정보 shape, dtype, device, size(shape가진 객체), "
   ]
  },
  {
   "cell_type": "code",
   "execution_count": 38,
   "id": "manufactured-interpretation",
   "metadata": {},
   "outputs": [
    {
     "data": {
      "text/plain": [
       "torch.Size([2, 4, 5])"
      ]
     },
     "execution_count": 38,
     "metadata": {},
     "output_type": "execute_result"
    }
   ],
   "source": [
    "x_torch.shape"
   ]
  },
  {
   "cell_type": "code",
   "execution_count": null,
   "id": "minor-aggregate",
   "metadata": {},
   "outputs": [],
   "source": [
    "- torch 연산\n",
    "\n",
    "torch.cat([x_data,x_data]) # dim \n",
    "\n",
    "torch.stack([x_data,x_data]) # dim\n",
    "\n",
    "x_data.mul(x_data) # x_data * x_data\n",
    "x_data.matmul(x_data) #  x_data @ x_data\n",
    "\n",
    "x_data.unsqueeze(dim=0) # squeeze\n",
    "\n",
    "- 여러가지 함수\n",
    "\n",
    "\n",
    "import torch.nn.functional as F\n",
    "tensor = torch.FloatTensor([0.5, 0.7, 0.1])\n",
    "a_tensor = F.softmax(tensor, dim=0)\n",
    "a_tensor\n",
    "\n",
    "argmax(), one_hot()\n",
    "\n",
    "- 모델 구조\n",
    "\n",
    "import torchvision\n",
    "\n",
    "model = torchvision.models.resnet18(pretrained=True)\n",
    "data = torch.rand(1, 3, 64, 64)\n",
    "labels = torch.rand(1, 1000)\n",
    "\n",
    "prediction = model(data) # forward pass\n",
    "loss = (prediction - labels).sum()\n",
    "loss.backward()\n",
    "optim = torch.optim.SGD(model.parameters(),lr=1e-2, momentum=0.9)\n",
    "optim.step\n",
    "\n",
    "- 미분 구조\n",
    "\n",
    "a = torch.tensor([2., 3.], requires_grad=True)\n",
    "b = torch.tensor([6., 4.], requires_grad=True)\n",
    "\n",
    "Q = 3*a**3 + b**2\n",
    "\n",
    "external_grad = torch.tensor([1., 1.]) \n",
    "Q.backward(gradient=external_grad) # 반복해서 실행시키면 오류\n",
    "print(a.grad) # 미분값을 a 객체에 저장하네\n",
    "print(b.grad)\n",
    "\n",
    "x = torch.rand(5,5) # frozen parameters 미분값 계산 안해\n",
    "y = torch.rand(5,5)\n",
    "z = torch.rand((5,5), requires_grad=True)\n",
    "\n",
    "model = torchvision.models.resnet18(pretrained=True)\n",
    "\n",
    "for param in model.parameters(): # 모델의 파라메터마다 requires_grad 존재\n",
    "    param.shape\n",
    "    param.requires_grad\n",
    "\n",
    "- layer의 구조과 파라메터와 관계\n",
    "\n",
    "import torch\n",
    "import torch.nn as nn\n",
    "import torch.nn.functional as F\n",
    "\n",
    "\n",
    "class Net(nn.Module):\n",
    "\n",
    "    def __init__(self):\n",
    "        super(Net, self).__init__()\n",
    "        # 1 input image channel, 6 output channels, 3x3 square convolution\n",
    "        # kernel\n",
    "        self.conv1 = nn.Conv2d(1, 6, 3)\n",
    "        self.conv2 = nn.Conv2d(6, 16, 3)\n",
    "        # an affine operation: y = Wx + b\n",
    "        self.fc1 = nn.Linear(16 * 6 * 6, 120)  # 6*6 from image dimension\n",
    "        self.fc2 = nn.Linear(120, 84)\n",
    "        self.fc3 = nn.Linear(84, 10)\n",
    "\n",
    "    def forward(self, x):\n",
    "        # Max pooling over a (2, 2) window\n",
    "        x = F.max_pool2d(F.relu(self.conv1(x)), (2, 2))\n",
    "        # If the size is a square you can only specify a single number\n",
    "        x = F.max_pool2d(F.relu(self.conv2(x)), 2)\n",
    "        x = x.view(-1, self.num_flat_features(x))\n",
    "        x = F.relu(self.fc1())\n",
    "        x = F.relu(self.fc2(x))\n",
    "        x = self.fc3(x)\n",
    "        return x\n",
    "\n",
    "    def num_flat_features(self, x):\n",
    "        size = x.size()[1:]  # all dimensions except the batch dimension\n",
    "        num_features = 1\n",
    "        for s in size:\n",
    "            num_features *= s\n",
    "        return num_features\n",
    "\n",
    "\n",
    "net = Net() # 객체 생성\n",
    "print(net)\n",
    "\n",
    "input = torch.randn(1, 1, 32, 32) # 모델에 넣기만해도 출력나오네?\n",
    "out = net.forward(input)\n",
    "print(out)\n",
    "\n",
    "\n",
    "print(net.parameters)\n",
    "net.zero_grad() # 각각의 input데이터에 대한 미분값을 초기화시키겠다.\n",
    "out.backward(torch.randn(1,10)) # \n",
    "\n",
    "output = net(input)\n",
    "target = torch.randn(10)  # a dummy target, for example\n",
    "target = target.view(1, -1)  # make it the same shape as output, shape변경\n",
    "criterion = nn.MSELoss()\n",
    "\n",
    "loss = criterion(output, target)\n",
    "print(loss)\n",
    "\n",
    "input데이터가 multi-layer를 지나 loss함수를 지나 마지막으로 loss값으로 결론이 난다.\n",
    "따라서 loss로 시작하여 미분값을 거꾸로 추적할 수 있다.\n",
    "\n",
    "print(loss.grad_fn) # MSELoss\n",
    "print(loss.grad_fn.next_functions[0][0]) # Linear\n",
    "\n",
    "net.zero_grad()     # zeroes the gradient buffers of all parameters\n",
    "\n",
    "print('conv1.bias.grad before backward')\n",
    "print(net.conv1.bias.grad)\n",
    "\n",
    "loss.backward()\n",
    "\n",
    "print('conv1.bias.grad after backward')\n",
    "print(net.conv1.bias.grad)"
   ]
  }
 ],
 "metadata": {
  "kernelspec": {
   "display_name": "Python 3",
   "language": "python",
   "name": "python3"
  },
  "language_info": {
   "codemirror_mode": {
    "name": "ipython",
    "version": 3
   },
   "file_extension": ".py",
   "mimetype": "text/x-python",
   "name": "python",
   "nbconvert_exporter": "python",
   "pygments_lexer": "ipython3",
   "version": "3.8.5"
  }
 },
 "nbformat": 4,
 "nbformat_minor": 5
}
