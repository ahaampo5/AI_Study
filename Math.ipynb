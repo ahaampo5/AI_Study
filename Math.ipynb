{
 "cells": [
  {
   "cell_type": "markdown",
   "id": "ready-examination",
   "metadata": {},
   "source": [
    "# 수학"
   ]
  },
  {
   "cell_type": "markdown",
   "id": "protective-honor",
   "metadata": {},
   "source": [
    "### 손으로 표현하는 수식을 모두 표현가능하다."
   ]
  },
  {
   "cell_type": "markdown",
   "id": "comparative-tokyo",
   "metadata": {},
   "source": [
    "- 미분 가능"
   ]
  },
  {
   "cell_type": "code",
   "execution_count": 6,
   "id": "mineral-brand",
   "metadata": {},
   "outputs": [],
   "source": [
    "import sympy as sym\n",
    "from sympy.abc import x, y\n",
    "\n",
    "a = sym.diff(sym.poly(x**2 +2*x + 3),x)"
   ]
  },
  {
   "cell_type": "code",
   "execution_count": null,
   "id": "mobile-batman",
   "metadata": {},
   "outputs": [],
   "source": [
    "- 값 대입"
   ]
  },
  {
   "cell_type": "code",
   "execution_count": 7,
   "id": "olympic-voltage",
   "metadata": {},
   "outputs": [
    {
     "data": {
      "text/latex": [
       "$\\displaystyle 6$"
      ],
      "text/plain": [
       "6"
      ]
     },
     "execution_count": 7,
     "metadata": {},
     "output_type": "execute_result"
    }
   ],
   "source": [
    "a.subs(x, 2)"
   ]
  },
  {
   "cell_type": "code",
   "execution_count": null,
   "id": "actual-bidding",
   "metadata": {},
   "outputs": [],
   "source": []
  },
  {
   "cell_type": "code",
   "execution_count": null,
   "id": "endless-stock",
   "metadata": {},
   "outputs": [],
   "source": []
  }
 ],
 "metadata": {
  "kernelspec": {
   "display_name": "Python 3",
   "language": "python",
   "name": "python3"
  },
  "language_info": {
   "codemirror_mode": {
    "name": "ipython",
    "version": 3
   },
   "file_extension": ".py",
   "mimetype": "text/x-python",
   "name": "python",
   "nbconvert_exporter": "python",
   "pygments_lexer": "ipython3",
   "version": "3.8.5"
  }
 },
 "nbformat": 4,
 "nbformat_minor": 5
}
