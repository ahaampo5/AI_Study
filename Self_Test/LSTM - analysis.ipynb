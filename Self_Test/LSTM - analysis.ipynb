{
 "cells": [
  {
   "cell_type": "code",
   "execution_count": 10,
   "id": "final-excellence",
   "metadata": {},
   "outputs": [
    {
     "name": "stdout",
     "output_type": "stream",
     "text": [
      "Pytorch version : 1.7.1\n",
      "device : [cuda:0]\n"
     ]
    }
   ],
   "source": [
    "import numpy as np\n",
    "import torch\n",
    "import torch.nn as nn\n",
    "import torch.optim as optim\n",
    "import torch.nn.functional as F\n",
    "from torch.utils.data import DataLoader\n",
    "import matplotlib.pyplot as plt\n",
    "%matplotlib inline\n",
    "%config InlineBackend.figure_format='retina'\n",
    "print('Pytorch version :', torch.__version__)\n",
    "device = torch.device('cuda:0' if torch.cuda.is_available() else 'cpu')\n",
    "print(f'device : [{device}]')"
   ]
  },
  {
   "cell_type": "code",
   "execution_count": 11,
   "id": "isolated-december",
   "metadata": {},
   "outputs": [],
   "source": [
    "from torchvision import datasets, transforms\n",
    "train_data = datasets.MNIST(root='./data',train=True,transform=transforms.ToTensor(),download=False)\n",
    "test_data = datasets.MNIST(root='./data',train=False,transform=transforms.ToTensor(),download=False)"
   ]
  },
  {
   "cell_type": "code",
   "execution_count": 12,
   "id": "blond-scholarship",
   "metadata": {},
   "outputs": [],
   "source": [
    "BATCH_SIZE = 256\n",
    "train_iter = DataLoader(train_data,shuffle=True,batch_size=BATCH_SIZE,num_workers=1)\n",
    "test_iter = DataLoader(test_data,shuffle=True,batch_size=BATCH_SIZE,num_workers=1)"
   ]
  },
  {
   "cell_type": "code",
   "execution_count": 23,
   "id": "configured-office",
   "metadata": {},
   "outputs": [],
   "source": [
    "class LSTM(nn.Module):\n",
    "    def __init__(self,x_dim=28,h_dim=256,y_dim=10,n_layer=3 ):\n",
    "        super(LSTM,self).__init__()\n",
    "        self.x_dim = x_dim\n",
    "        self.h_dim = h_dim\n",
    "        self.y_dim = y_dim\n",
    "        self.n_layer = n_layer\n",
    "        # forget gate\n",
    "        self.lin_xh_f = nn.Linear(self.x_dim,self.h_dim)\n",
    "        self.lin_hh_f = nn.Linear(self.h_dim,self.h_dim)\n",
    "        # input gate\n",
    "        self.lin_xh_in1 = nn.Linear(self.x_dim,self.h_dim)\n",
    "        self.lin_hh_in1 = nn.Linear(self.h_dim,self.h_dim)\n",
    "        self.lin_xh_in2 = nn.Linear(self.x_dim,self.h_dim)\n",
    "        self.lin_hh_in2 = nn.Linear(self.h_dim,self.h_dim)\n",
    "        # output gate\n",
    "        self.lin_xh_out = nn.Linear(self.x_dim,self.h_dim)\n",
    "        self.lin_hh_out = nn.Linear(self.h_dim,self.h_dim)        \n",
    "        \n",
    "        self.lin = nn.Linear(self.h_dim,self.y_dim)\n",
    "        \n",
    "        self.init_param()\n",
    "    \n",
    "    def forward(self,input):\n",
    "        x = input\n",
    "        h_0 = torch.zeros(self.n_layer,x.size(0),self.h_dim).to(device)\n",
    "        c_0 = torch.zeros(self.n_layer,x.size(0),self.h_dim).to(device)\n",
    "        forget_gate = (self.lin_xh_f(x)+self.lin_hh_f)\n",
    "        out = self.lin(rnn_out[:,-1,:]).view(-1,self.y_dim)\n",
    "        return out\n",
    "    \n",
    "    def init_param(self):\n",
    "        for name, param in self.named_parameters():\n",
    "            if 'Linear' in name:\n",
    "                nn.init.kaiming_normal_(param.weight)\n",
    "                nn.init.zeros_(param.bias)"
   ]
  },
  {
   "cell_type": "code",
   "execution_count": 24,
   "id": "dress-extraction",
   "metadata": {},
   "outputs": [],
   "source": [
    "model = LSTM(x_dim=28,h_dim=256,y_dim=10,n_layer=3).to(device)\n",
    "optimizer = optim.Adam(model.parameters(),lr=1e-3)\n",
    "loss = nn.CrossEntropyLoss()\n"
   ]
  },
  {
   "cell_type": "code",
   "execution_count": 21,
   "id": "working-bacon",
   "metadata": {
    "scrolled": true
   },
   "outputs": [
    {
     "data": {
      "text/plain": [
       "[RNN(\n",
       "   (lin_xh_f): Linear(in_features=28, out_features=256, bias=True)\n",
       "   (lin_hh_f): Linear(in_features=256, out_features=256, bias=True)\n",
       "   (lin_xh_in1): Linear(in_features=28, out_features=256, bias=True)\n",
       "   (lin_hh_in1): Linear(in_features=256, out_features=256, bias=True)\n",
       "   (lin_xh_in2): Linear(in_features=28, out_features=256, bias=True)\n",
       "   (lin_hh_in2): Linear(in_features=256, out_features=256, bias=True)\n",
       "   (lin_xh_out): Linear(in_features=28, out_features=256, bias=True)\n",
       "   (lin_hh_out): Linear(in_features=256, out_features=256, bias=True)\n",
       "   (lin): Linear(in_features=256, out_features=10, bias=True)\n",
       " ),\n",
       " Linear(in_features=28, out_features=256, bias=True),\n",
       " Linear(in_features=256, out_features=256, bias=True),\n",
       " Linear(in_features=28, out_features=256, bias=True),\n",
       " Linear(in_features=256, out_features=256, bias=True),\n",
       " Linear(in_features=28, out_features=256, bias=True),\n",
       " Linear(in_features=256, out_features=256, bias=True),\n",
       " Linear(in_features=28, out_features=256, bias=True),\n",
       " Linear(in_features=256, out_features=256, bias=True),\n",
       " Linear(in_features=256, out_features=10, bias=True)]"
      ]
     },
     "execution_count": 21,
     "metadata": {},
     "output_type": "execute_result"
    }
   ],
   "source": [
    "list(model.modules())"
   ]
  },
  {
   "cell_type": "code",
   "execution_count": 22,
   "id": "informational-ceremony",
   "metadata": {},
   "outputs": [
    {
     "data": {
      "text/plain": [
       "[('',\n",
       "  RNN(\n",
       "    (lin_xh_f): Linear(in_features=28, out_features=256, bias=True)\n",
       "    (lin_hh_f): Linear(in_features=256, out_features=256, bias=True)\n",
       "    (lin_xh_in1): Linear(in_features=28, out_features=256, bias=True)\n",
       "    (lin_hh_in1): Linear(in_features=256, out_features=256, bias=True)\n",
       "    (lin_xh_in2): Linear(in_features=28, out_features=256, bias=True)\n",
       "    (lin_hh_in2): Linear(in_features=256, out_features=256, bias=True)\n",
       "    (lin_xh_out): Linear(in_features=28, out_features=256, bias=True)\n",
       "    (lin_hh_out): Linear(in_features=256, out_features=256, bias=True)\n",
       "    (lin): Linear(in_features=256, out_features=10, bias=True)\n",
       "  )),\n",
       " ('lin_xh_f', Linear(in_features=28, out_features=256, bias=True)),\n",
       " ('lin_hh_f', Linear(in_features=256, out_features=256, bias=True)),\n",
       " ('lin_xh_in1', Linear(in_features=28, out_features=256, bias=True)),\n",
       " ('lin_hh_in1', Linear(in_features=256, out_features=256, bias=True)),\n",
       " ('lin_xh_in2', Linear(in_features=28, out_features=256, bias=True)),\n",
       " ('lin_hh_in2', Linear(in_features=256, out_features=256, bias=True)),\n",
       " ('lin_xh_out', Linear(in_features=28, out_features=256, bias=True)),\n",
       " ('lin_hh_out', Linear(in_features=256, out_features=256, bias=True)),\n",
       " ('lin', Linear(in_features=256, out_features=10, bias=True))]"
      ]
     },
     "execution_count": 22,
     "metadata": {},
     "output_type": "execute_result"
    }
   ],
   "source": [
    "list(model.named_modules())"
   ]
  }
 ],
 "metadata": {
  "kernelspec": {
   "display_name": "Python 3",
   "language": "python",
   "name": "python3"
  },
  "language_info": {
   "codemirror_mode": {
    "name": "ipython",
    "version": 3
   },
   "file_extension": ".py",
   "mimetype": "text/x-python",
   "name": "python",
   "nbconvert_exporter": "python",
   "pygments_lexer": "ipython3",
   "version": "3.8.5"
  }
 },
 "nbformat": 4,
 "nbformat_minor": 5
}
