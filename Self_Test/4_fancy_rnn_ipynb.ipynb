{
  "nbformat": 4,
  "nbformat_minor": 0,
  "metadata": {
    "accelerator": "GPU",
    "colab": {
      "name": "4_fancy_rnn.ipynb의 사본",
      "provenance": [],
      "collapsed_sections": [],
      "toc_visible": true
    },
    "kernelspec": {
      "display_name": "Python 3",
      "name": "python3"
    }
  },
  "cells": [
    {
      "cell_type": "markdown",
      "metadata": {
        "id": "0M47aJDTXtbL"
      },
      "source": [
        "##**4. LSTM, GRU**\r\n",
        "1. 기존 RNN과 다른 부분에 대해서 배웁니다.\r\n",
        "2. 이전 실습에 이어 다양한 적용법을 배웁니다."
      ]
    },
    {
      "cell_type": "markdown",
      "metadata": {
        "id": "jBoAWPAJSI2D"
      },
      "source": [
        "### **필요 패키지 import**"
      ]
    },
    {
      "cell_type": "code",
      "metadata": {
        "id": "vEnlDHarWusL"
      },
      "source": [
        "from tqdm import tqdm\r\n",
        "from torch import nn\r\n",
        "from torch.nn.utils.rnn import pack_padded_sequence, pad_packed_sequence\r\n",
        "\r\n",
        "import torch"
      ],
      "execution_count": null,
      "outputs": []
    },
    {
      "cell_type": "markdown",
      "metadata": {
        "id": "sze4MVwxSYPR"
      },
      "source": [
        "### **데이터 전처리**"
      ]
    },
    {
      "cell_type": "markdown",
      "metadata": {
        "id": "ugKWDpQrSY3o"
      },
      "source": [
        "아래의 sample data를 확인해봅시다.  \r\n",
        "이전 실습과 동일합니다."
      ]
    },
    {
      "cell_type": "code",
      "metadata": {
        "id": "IWjwZOmGYMhw"
      },
      "source": [
        "vocab_size = 100\r\n",
        "pad_id = 0\r\n",
        "\r\n",
        "data = [\r\n",
        "  [85,14,80,34,99,20,31,65,53,86,3,58,30,4,11,6,50,71,74,13],\r\n",
        "  [62,76,79,66,32],\r\n",
        "  [93,77,16,67,46,74,24,70],\r\n",
        "  [19,83,88,22,57,40,75,82,4,46],\r\n",
        "  [70,28,30,24,76,84,92,76,77,51,7,20,82,94,57],\r\n",
        "  [58,13,40,61,88,18,92,89,8,14,61,67,49,59,45,12,47,5],\r\n",
        "  [22,5,21,84,39,6,9,84,36,59,32,30,69,70,82,56,1],\r\n",
        "  [94,21,79,24,3,86],\r\n",
        "  [80,80,33,63,34,63],\r\n",
        "  [87,32,79,65,2,96,43,80,85,20,41,52,95,50,35,96,24,80]\r\n",
        "]"
      ],
      "execution_count": null,
      "outputs": []
    },
    {
      "cell_type": "code",
      "metadata": {
        "id": "FmqlfxW_Tsfm",
        "colab": {
          "base_uri": "https://localhost:8080/"
        },
        "outputId": "613b58b8-5fbd-43af-ab4b-566d880093b2"
      },
      "source": [
        "max_len = len(max(data, key=len))\r\n",
        "print(f\"Maximum sequence length: {max_len}\")\r\n",
        "\r\n",
        "valid_lens = []\r\n",
        "for i, seq in enumerate(tqdm(data)):\r\n",
        "  valid_lens.append(len(seq))\r\n",
        "  if len(seq) < max_len:\r\n",
        "    data[i] = seq + [pad_id] * (max_len - len(seq))"
      ],
      "execution_count": null,
      "outputs": [
        {
          "output_type": "stream",
          "text": [
            "100%|██████████| 10/10 [00:00<00:00, 4736.65it/s]"
          ],
          "name": "stderr"
        },
        {
          "output_type": "stream",
          "text": [
            "Maximum sequence length: 20\n"
          ],
          "name": "stdout"
        },
        {
          "output_type": "stream",
          "text": [
            "\n"
          ],
          "name": "stderr"
        }
      ]
    },
    {
      "cell_type": "code",
      "metadata": {
        "id": "znWCR7UbTvVE",
        "colab": {
          "base_uri": "https://localhost:8080/"
        },
        "outputId": "5b46bca8-88d3-48fe-b091-fbfa67bddf17"
      },
      "source": [
        "# B: batch size, L: maximum sequence length\r\n",
        "batch = torch.LongTensor(data)  # (B, L)\r\n",
        "batch_lens = torch.LongTensor(valid_lens)  # (B)\r\n",
        "\r\n",
        "batch_lens, sorted_idx = batch_lens.sort(descending=True)\r\n",
        "batch = batch[sorted_idx]\r\n",
        "\r\n",
        "print(batch)\r\n",
        "print(batch_lens)"
      ],
      "execution_count": null,
      "outputs": [
        {
          "output_type": "stream",
          "text": [
            "tensor([[85, 14, 80, 34, 99, 20, 31, 65, 53, 86,  3, 58, 30,  4, 11,  6, 50, 71,\n",
            "         74, 13],\n",
            "        [58, 13, 40, 61, 88, 18, 92, 89,  8, 14, 61, 67, 49, 59, 45, 12, 47,  5,\n",
            "          0,  0],\n",
            "        [87, 32, 79, 65,  2, 96, 43, 80, 85, 20, 41, 52, 95, 50, 35, 96, 24, 80,\n",
            "          0,  0],\n",
            "        [22,  5, 21, 84, 39,  6,  9, 84, 36, 59, 32, 30, 69, 70, 82, 56,  1,  0,\n",
            "          0,  0],\n",
            "        [70, 28, 30, 24, 76, 84, 92, 76, 77, 51,  7, 20, 82, 94, 57,  0,  0,  0,\n",
            "          0,  0],\n",
            "        [19, 83, 88, 22, 57, 40, 75, 82,  4, 46,  0,  0,  0,  0,  0,  0,  0,  0,\n",
            "          0,  0],\n",
            "        [93, 77, 16, 67, 46, 74, 24, 70,  0,  0,  0,  0,  0,  0,  0,  0,  0,  0,\n",
            "          0,  0],\n",
            "        [94, 21, 79, 24,  3, 86,  0,  0,  0,  0,  0,  0,  0,  0,  0,  0,  0,  0,\n",
            "          0,  0],\n",
            "        [80, 80, 33, 63, 34, 63,  0,  0,  0,  0,  0,  0,  0,  0,  0,  0,  0,  0,\n",
            "          0,  0],\n",
            "        [62, 76, 79, 66, 32,  0,  0,  0,  0,  0,  0,  0,  0,  0,  0,  0,  0,  0,\n",
            "          0,  0]])\n",
            "tensor([20, 18, 18, 17, 15, 10,  8,  6,  6,  5])\n"
          ],
          "name": "stdout"
        }
      ]
    },
    {
      "cell_type": "markdown",
      "metadata": {
        "id": "mPRtdhHoUKhH"
      },
      "source": [
        "### **LSTM 사용**"
      ]
    },
    {
      "cell_type": "markdown",
      "metadata": {
        "id": "l1FvfENCUqYN"
      },
      "source": [
        "LSTM에선 cell state가 추가됩니다.  \r\n",
        "Cell state의 shape는 hidden state의 그것과 동일합니다."
      ]
    },
    {
      "cell_type": "code",
      "metadata": {
        "id": "Q76VGoCCUrcQ"
      },
      "source": [
        "embedding_size = 256\r\n",
        "hidden_size = 512\r\n",
        "num_layers = 1\r\n",
        "num_dirs = 1\r\n",
        "\r\n",
        "embedding = nn.Embedding(vocab_size, embedding_size)\r\n",
        "lstm = nn.LSTM(\r\n",
        "    input_size=embedding_size,\r\n",
        "    hidden_size=hidden_size,\r\n",
        "    num_layers=num_layers,\r\n",
        "    bidirectional=True if num_dirs > 1 else False\r\n",
        ")\r\n",
        "\r\n",
        "h_0 = torch.zeros((num_layers * num_dirs, batch.shape[0], hidden_size))  # (num_layers * num_dirs, B, d_h)\r\n",
        "c_0 = torch.zeros((num_layers * num_dirs, batch.shape[0], hidden_size))  # (num_layers * num_dirs, B, d_h)"
      ],
      "execution_count": null,
      "outputs": []
    },
    {
      "cell_type": "code",
      "metadata": {
        "id": "uhS7qvIKWYYb",
        "colab": {
          "base_uri": "https://localhost:8080/"
        },
        "outputId": "8df7bd87-fb4b-476c-8635-eece9b48200a"
      },
      "source": [
        "# d_w: word embedding size\r\n",
        "batch_emb = embedding(batch)  # (B, L, d_w)\r\n",
        "\r\n",
        "packed_batch = pack_padded_sequence(batch_emb.transpose(0, 1), batch_lens)\r\n",
        "\r\n",
        "packed_outputs, (h_n, c_n) = lstm(packed_batch, (h_0, c_0))\r\n",
        "print(packed_outputs)\r\n",
        "print(packed_outputs[0].shape)\r\n",
        "print(h_n.shape)\r\n",
        "print(c_n.shape)"
      ],
      "execution_count": null,
      "outputs": [
        {
          "output_type": "stream",
          "text": [
            "PackedSequence(data=tensor([[ 0.1426,  0.2288, -0.2273,  ...,  0.1419,  0.1319, -0.1626],\n",
            "        [ 0.0646, -0.0180, -0.2237,  ...,  0.0041, -0.0149,  0.0570],\n",
            "        [ 0.0005, -0.0466, -0.0291,  ..., -0.2170,  0.1401,  0.0619],\n",
            "        ...,\n",
            "        [ 0.1308,  0.1339, -0.1072,  ..., -0.0238, -0.0459, -0.0676],\n",
            "        [ 0.1604,  0.0164, -0.1757,  ..., -0.1474,  0.0184,  0.0005],\n",
            "        [ 0.1876,  0.0175, -0.2531,  ..., -0.0713, -0.0522, -0.0039]],\n",
            "       grad_fn=<CatBackward>), batch_sizes=tensor([10, 10, 10, 10, 10,  9,  7,  7,  6,  6,  5,  5,  5,  5,  5,  4,  4,  3,\n",
            "         1,  1]), sorted_indices=None, unsorted_indices=None)\n",
            "torch.Size([123, 512])\n",
            "torch.Size([1, 10, 512])\n",
            "torch.Size([1, 10, 512])\n"
          ],
          "name": "stdout"
        }
      ]
    },
    {
      "cell_type": "code",
      "metadata": {
        "id": "ArOrgjHjZqAa",
        "colab": {
          "base_uri": "https://localhost:8080/"
        },
        "outputId": "44c12faa-713d-4317-ba4b-4fe080239735"
      },
      "source": [
        "outputs, output_lens = pad_packed_sequence(packed_outputs)\r\n",
        "print(outputs.shape)\r\n",
        "print(output_lens)"
      ],
      "execution_count": null,
      "outputs": [
        {
          "output_type": "stream",
          "text": [
            "torch.Size([20, 10, 512])\n",
            "tensor([20, 18, 18, 17, 15, 10,  8,  6,  6,  5])\n"
          ],
          "name": "stdout"
        }
      ]
    },
    {
      "cell_type": "markdown",
      "metadata": {
        "id": "meuNwIIn-H-g"
      },
      "source": [
        "### **GRU 사용**"
      ]
    },
    {
      "cell_type": "markdown",
      "metadata": {
        "id": "kMUysrtLihqt"
      },
      "source": [
        "GRU는 cell state가 없어 RNN과 동일하게 사용 가능합니다.   \r\n",
        "GRU를 이용하여 LM task를 수행해봅시다."
      ]
    },
    {
      "cell_type": "code",
      "metadata": {
        "id": "ZHw8PSf--lVg"
      },
      "source": [
        "gru = nn.GRU(\r\n",
        "    input_size=embedding_size,\r\n",
        "    hidden_size=hidden_size,\r\n",
        "    num_layers=num_layers,\r\n",
        "    bidirectional=True if num_dirs > 1 else False\r\n",
        ")"
      ],
      "execution_count": null,
      "outputs": []
    },
    {
      "cell_type": "code",
      "metadata": {
        "id": "GbMy2CkWzobD"
      },
      "source": [
        "output_layer = nn.Linear(hidden_size, vocab_size)"
      ],
      "execution_count": null,
      "outputs": []
    },
    {
      "cell_type": "code",
      "metadata": {
        "id": "YavlcFZywCBK"
      },
      "source": [
        "input_id = batch.transpose(0, 1)[0, :]  # (B)\r\n",
        "hidden = torch.zeros((num_layers * num_dirs, batch.shape[0], hidden_size))  # (1, B, d_h)"
      ],
      "execution_count": null,
      "outputs": []
    },
    {
      "cell_type": "markdown",
      "metadata": {
        "id": "e1tFGyvo-uHb"
      },
      "source": [
        "Teacher forcing 없이 이전에 얻은 결과를 다음 input으로 이용합니다."
      ]
    },
    {
      "cell_type": "code",
      "metadata": {
        "id": "J6HRC3TAxtGa",
        "colab": {
          "base_uri": "https://localhost:8080/"
        },
        "outputId": "43e91069-8da8-40bb-da9f-6530db683e24"
      },
      "source": [
        "for t in range(max_len):\r\n",
        "  input_emb = embedding(input_id).unsqueeze(0)  # (1, B, d_w)\r\n",
        "  output, hidden = gru(input_emb, hidden)  # output: (1, B, d_h), hidden: (1, B, d_h)\r\n",
        "\r\n",
        "  # V: vocab size\r\n",
        "  output = output_layer(output)  # (1, B, V)\r\n",
        "  probs, top_id = torch.max(output, dim=-1)  # probs: (1, B), top_id: (1, B)\r\n",
        "\r\n",
        "  print(\"*\" * 50)\r\n",
        "  print(f\"Time step: {t}\")\r\n",
        "  print(output.shape)\r\n",
        "  print(probs.shape)\r\n",
        "  print(top_id.shape)\r\n",
        "\r\n",
        "  input_id = top_id.squeeze(0)  # (B)"
      ],
      "execution_count": null,
      "outputs": [
        {
          "output_type": "stream",
          "text": [
            "**************************************************\n",
            "Time step: 0\n",
            "torch.Size([1, 10, 100])\n",
            "torch.Size([1, 10])\n",
            "torch.Size([1, 10])\n",
            "**************************************************\n",
            "Time step: 1\n",
            "torch.Size([1, 10, 100])\n",
            "torch.Size([1, 10])\n",
            "torch.Size([1, 10])\n",
            "**************************************************\n",
            "Time step: 2\n",
            "torch.Size([1, 10, 100])\n",
            "torch.Size([1, 10])\n",
            "torch.Size([1, 10])\n",
            "**************************************************\n",
            "Time step: 3\n",
            "torch.Size([1, 10, 100])\n",
            "torch.Size([1, 10])\n",
            "torch.Size([1, 10])\n",
            "**************************************************\n",
            "Time step: 4\n",
            "torch.Size([1, 10, 100])\n",
            "torch.Size([1, 10])\n",
            "torch.Size([1, 10])\n",
            "**************************************************\n",
            "Time step: 5\n",
            "torch.Size([1, 10, 100])\n",
            "torch.Size([1, 10])\n",
            "torch.Size([1, 10])\n",
            "**************************************************\n",
            "Time step: 6\n",
            "torch.Size([1, 10, 100])\n",
            "torch.Size([1, 10])\n",
            "torch.Size([1, 10])\n",
            "**************************************************\n",
            "Time step: 7\n",
            "torch.Size([1, 10, 100])\n",
            "torch.Size([1, 10])\n",
            "torch.Size([1, 10])\n",
            "**************************************************\n",
            "Time step: 8\n",
            "torch.Size([1, 10, 100])\n",
            "torch.Size([1, 10])\n",
            "torch.Size([1, 10])\n",
            "**************************************************\n",
            "Time step: 9\n",
            "torch.Size([1, 10, 100])\n",
            "torch.Size([1, 10])\n",
            "torch.Size([1, 10])\n",
            "**************************************************\n",
            "Time step: 10\n",
            "torch.Size([1, 10, 100])\n",
            "torch.Size([1, 10])\n",
            "torch.Size([1, 10])\n",
            "**************************************************\n",
            "Time step: 11\n",
            "torch.Size([1, 10, 100])\n",
            "torch.Size([1, 10])\n",
            "torch.Size([1, 10])\n",
            "**************************************************\n",
            "Time step: 12\n",
            "torch.Size([1, 10, 100])\n",
            "torch.Size([1, 10])\n",
            "torch.Size([1, 10])\n",
            "**************************************************\n",
            "Time step: 13\n",
            "torch.Size([1, 10, 100])\n",
            "torch.Size([1, 10])\n",
            "torch.Size([1, 10])\n",
            "**************************************************\n",
            "Time step: 14\n",
            "torch.Size([1, 10, 100])\n",
            "torch.Size([1, 10])\n",
            "torch.Size([1, 10])\n",
            "**************************************************\n",
            "Time step: 15\n",
            "torch.Size([1, 10, 100])\n",
            "torch.Size([1, 10])\n",
            "torch.Size([1, 10])\n",
            "**************************************************\n",
            "Time step: 16\n",
            "torch.Size([1, 10, 100])\n",
            "torch.Size([1, 10])\n",
            "torch.Size([1, 10])\n",
            "**************************************************\n",
            "Time step: 17\n",
            "torch.Size([1, 10, 100])\n",
            "torch.Size([1, 10])\n",
            "torch.Size([1, 10])\n",
            "**************************************************\n",
            "Time step: 18\n",
            "torch.Size([1, 10, 100])\n",
            "torch.Size([1, 10])\n",
            "torch.Size([1, 10])\n",
            "**************************************************\n",
            "Time step: 19\n",
            "torch.Size([1, 10, 100])\n",
            "torch.Size([1, 10])\n",
            "torch.Size([1, 10])\n"
          ],
          "name": "stdout"
        }
      ]
    },
    {
      "cell_type": "markdown",
      "metadata": {
        "id": "WY3vh9Cm4KaH"
      },
      "source": [
        "`max_len`만큼의 for 문을 돌면서 모든 결과물의 모양을 확인했지만 만약 종료 조건(예를 들어 문장의 끝을 나타내는 end token 등)이 되면 중간에 생성을 그만둘 수도 있습니다."
      ]
    },
    {
      "cell_type": "markdown",
      "metadata": {
        "id": "l07L_QncemE7"
      },
      "source": [
        "### **양방향 및 여러 layer 사용**"
      ]
    },
    {
      "cell_type": "markdown",
      "metadata": {
        "id": "lasjjz-teohw"
      },
      "source": [
        "이번엔 양방향 + 2개 이상의 layer를 쓸 때 얻을 수 있는 결과에 대해 알아봅니다."
      ]
    },
    {
      "cell_type": "code",
      "metadata": {
        "id": "JEy00WX3ghsb"
      },
      "source": [
        "num_layers = 2\r\n",
        "num_dirs = 2\r\n",
        "dropout=0.1\r\n",
        "\r\n",
        "gru = nn.GRU(\r\n",
        "    input_size=embedding_size,\r\n",
        "    hidden_size=hidden_size,\r\n",
        "    num_layers=num_layers,\r\n",
        "    dropout=dropout,\r\n",
        "    bidirectional=True if num_dirs > 1 else False\r\n",
        ")"
      ],
      "execution_count": null,
      "outputs": []
    },
    {
      "cell_type": "markdown",
      "metadata": {
        "id": "QX4LVL_Ag4kK"
      },
      "source": [
        "Bidirectional이 되었고 layer의 개수가 $2$로 늘었기 때문에 hidden state의 shape도 `(4, B, d_h)`가 됩니다."
      ]
    },
    {
      "cell_type": "code",
      "metadata": {
        "id": "Q8aBk8yrfOHU",
        "colab": {
          "base_uri": "https://localhost:8080/"
        },
        "outputId": "951ecb48-a662-443f-880d-f132edde1327"
      },
      "source": [
        "# d_w: word embedding size, num_layers: layer의 개수, num_dirs: 방향의 개수\r\n",
        "batch_emb = embedding(batch)  # (B, L, d_w)\r\n",
        "h_0 = torch.zeros((num_layers * num_dirs, batch.shape[0], hidden_size))  # (num_layers * num_dirs, B, d_h) = (4, B, d_h)\r\n",
        "\r\n",
        "packed_batch = pack_padded_sequence(batch_emb.transpose(0, 1), batch_lens)\r\n",
        "\r\n",
        "packed_outputs, h_n = gru(packed_batch, h_0)\r\n",
        "print(packed_outputs)\r\n",
        "print(packed_outputs[0].shape)\r\n",
        "print(h_n.shape)"
      ],
      "execution_count": null,
      "outputs": [
        {
          "output_type": "stream",
          "text": [
            "PackedSequence(data=tensor([[ 0.1367, -0.0523, -0.0913,  ..., -0.0395, -0.1799,  0.1575],\n",
            "        [ 0.1078,  0.0570,  0.1148,  ...,  0.0977, -0.2144, -0.0093],\n",
            "        [-0.1273,  0.0163,  0.1399,  ...,  0.0399,  0.0305,  0.0912],\n",
            "        ...,\n",
            "        [ 0.0686,  0.0009, -0.1181,  ...,  0.0471,  0.0047, -0.1626],\n",
            "        [ 0.1057,  0.0435,  0.0301,  ..., -0.1278,  0.0473, -0.0443],\n",
            "        [ 0.0961,  0.1078,  0.0847,  ..., -0.0445,  0.0063,  0.0168]],\n",
            "       grad_fn=<CatBackward>), batch_sizes=tensor([10, 10, 10, 10, 10,  9,  7,  7,  6,  6,  5,  5,  5,  5,  5,  4,  4,  3,\n",
            "         1,  1]), sorted_indices=None, unsorted_indices=None)\n",
            "torch.Size([123, 1024])\n",
            "torch.Size([4, 10, 512])\n"
          ],
          "name": "stdout"
        }
      ]
    },
    {
      "cell_type": "code",
      "metadata": {
        "id": "VQdVtMcehndm",
        "colab": {
          "base_uri": "https://localhost:8080/"
        },
        "outputId": "e8d650a4-b6fc-4fbf-d125-6719832397c0"
      },
      "source": [
        "outputs, output_lens = pad_packed_sequence(packed_outputs)\r\n",
        "\r\n",
        "print(outputs.shape)  # (L, B, num_dirs*d_h)\r\n",
        "print(output_lens)"
      ],
      "execution_count": null,
      "outputs": [
        {
          "output_type": "stream",
          "text": [
            "torch.Size([20, 10, 1024])\n",
            "tensor([20, 18, 18, 17, 15, 10,  8,  6,  6,  5])\n"
          ],
          "name": "stdout"
        }
      ]
    },
    {
      "cell_type": "markdown",
      "metadata": {
        "id": "byuggMjekUxS"
      },
      "source": [
        "각각의 결과물의 shape는 다음과 같습니다.\r\n",
        "\r\n",
        "`outputs`: `(max_len, batch_size, num_dir * hidden_size)`  \r\n",
        "`h_n`: `(num_layers*num_dirs, batch_size, hidden_size)`"
      ]
    },
    {
      "cell_type": "code",
      "metadata": {
        "id": "HaXhvyHjmFR3",
        "colab": {
          "base_uri": "https://localhost:8080/"
        },
        "outputId": "2517a607-ac7d-4371-b7b9-049a3adaf857"
      },
      "source": [
        "batch_size = h_n.shape[1]\r\n",
        "print(h_n.view(num_layers, num_dirs, batch_size, hidden_size))\r\n",
        "print(h_n.view(num_layers, num_dirs, batch_size, hidden_size).shape)"
      ],
      "execution_count": null,
      "outputs": [
        {
          "output_type": "stream",
          "text": [
            "tensor([[[[ 6.2516e-02,  1.4323e-02, -2.3245e-02,  ..., -1.4926e-01,\n",
            "           -2.5432e-01, -1.4624e-01],\n",
            "          [-1.0691e-01,  1.6410e-03,  1.2417e-01,  ..., -6.4256e-02,\n",
            "            2.0909e-01, -3.5208e-01],\n",
            "          [-8.8574e-02, -7.4343e-02,  4.1523e-02,  ...,  3.7335e-01,\n",
            "            2.0730e-01,  3.1077e-01],\n",
            "          ...,\n",
            "          [-1.6317e-01, -1.3827e-01,  1.9879e-01,  ...,  1.4497e-01,\n",
            "            1.2108e-01, -1.5880e-01],\n",
            "          [-1.4600e-01, -2.5065e-01, -1.7623e-03,  ...,  1.4849e-01,\n",
            "            1.6720e-01,  6.5379e-02],\n",
            "          [ 2.2907e-01,  3.3798e-01,  2.2480e-01,  ...,  3.0663e-02,\n",
            "            1.1505e-01, -1.5432e-01]],\n",
            "\n",
            "         [[ 3.9118e-01,  1.5993e-01,  9.2040e-02,  ...,  5.2869e-01,\n",
            "            1.9995e-02, -6.7331e-02],\n",
            "          [ 2.6898e-01,  3.0891e-01, -9.6071e-02,  ...,  2.7882e-01,\n",
            "           -1.4253e-01, -1.8338e-01],\n",
            "          [ 2.5793e-01, -1.8851e-01, -3.3542e-01,  ..., -2.0710e-02,\n",
            "            1.2320e-01, -3.5541e-01],\n",
            "          ...,\n",
            "          [-2.0260e-01, -1.6111e-01,  8.8562e-02,  ...,  7.3267e-02,\n",
            "            8.0812e-02, -8.8467e-02],\n",
            "          [ 2.2723e-01,  2.7439e-02,  3.5080e-01,  ...,  2.2728e-01,\n",
            "           -5.8781e-03, -6.2554e-01],\n",
            "          [-1.7132e-02,  2.5986e-01,  1.4947e-01,  ...,  5.6289e-04,\n",
            "            1.9249e-01,  2.2957e-01]]],\n",
            "\n",
            "\n",
            "        [[[ 9.6056e-02,  1.0781e-01,  8.4675e-02,  ..., -2.8706e-02,\n",
            "           -6.4084e-02,  7.7862e-03],\n",
            "          [-1.4670e-01,  1.7453e-01, -4.1924e-02,  ..., -5.2561e-02,\n",
            "           -1.0219e-01,  9.6118e-03],\n",
            "          [ 6.8625e-02,  8.7839e-04, -1.1806e-01,  ...,  2.6076e-01,\n",
            "            6.2104e-02,  4.6210e-02],\n",
            "          ...,\n",
            "          [-3.9645e-02,  9.4203e-02,  9.3229e-02,  ...,  2.3941e-02,\n",
            "           -9.2537e-02, -8.4874e-03],\n",
            "          [ 2.8898e-01,  1.4876e-01,  9.4205e-02,  ..., -1.5435e-01,\n",
            "           -2.7573e-01, -6.2458e-02],\n",
            "          [ 2.2546e-02,  2.1697e-01,  1.4427e-01,  ...,  1.7399e-01,\n",
            "           -5.9162e-02, -1.5984e-01]],\n",
            "\n",
            "         [[-3.2939e-01,  6.9963e-02, -6.6618e-02,  ..., -3.9513e-02,\n",
            "           -1.7993e-01,  1.5753e-01],\n",
            "          [ 3.1809e-01, -1.0699e-01,  5.8070e-02,  ...,  9.7677e-02,\n",
            "           -2.1441e-01, -9.2708e-03],\n",
            "          [ 4.2997e-02, -2.4650e-01,  2.6929e-01,  ...,  3.9935e-02,\n",
            "            3.0512e-02,  9.1172e-02],\n",
            "          ...,\n",
            "          [ 1.7486e-02,  6.0458e-02, -7.5462e-02,  ...,  1.1741e-01,\n",
            "            1.2560e-01, -2.0924e-01],\n",
            "          [-1.3539e-01, -2.6694e-02, -3.3096e-01,  ..., -1.3627e-02,\n",
            "           -8.4495e-02, -2.4616e-01],\n",
            "          [ 1.4331e-02, -1.1419e-01,  2.2104e-01,  ..., -1.9859e-02,\n",
            "           -2.5886e-01,  5.4439e-02]]]], grad_fn=<ViewBackward>)\n",
            "torch.Size([2, 2, 10, 512])\n"
          ],
          "name": "stdout"
        }
      ]
    }
  ]
}