{
  "nbformat": 4,
  "nbformat_minor": 0,
  "metadata": {
    "accelerator": "GPU",
    "colab": {
      "name": "2_word2vec.ipynb",
      "provenance": [],
      "collapsed_sections": []
    },
    "kernelspec": {
      "display_name": "Python 3",
      "name": "python3"
    }
  },
  "cells": [
    {
      "cell_type": "markdown",
      "metadata": {
        "id": "h3FAK0fz1kOr"
      },
      "source": [
        "##**2. Word2Vec**\r\n",
        "1. 주어진 단어들을 word2vec 모델에 들어갈 수 있는 형태로 만듭니다.\r\n",
        "2. CBOW, Skip-gram 모델을 각각 구현합니다.\r\n",
        "3. 모델을 실제로 학습해보고 결과를 확인합니다."
      ]
    },
    {
      "cell_type": "markdown",
      "metadata": {
        "id": "u9FrxTPWIsct"
      },
      "source": [
        "### **필요 패키지 import**"
      ]
    },
    {
      "cell_type": "code",
      "metadata": {
        "id": "QjroCdtwI9Rz",
        "colab": {
          "base_uri": "https://localhost:8080/"
        },
        "outputId": "157ce54e-b0ae-49cf-df78-9402c3cea627"
      },
      "source": [
        "!pip install konlpy"
      ],
      "execution_count": null,
      "outputs": [
        {
          "output_type": "stream",
          "text": [
            "Collecting konlpy\n",
            "\u001b[?25l  Downloading https://files.pythonhosted.org/packages/85/0e/f385566fec837c0b83f216b2da65db9997b35dd675e107752005b7d392b1/konlpy-0.5.2-py2.py3-none-any.whl (19.4MB)\n",
            "\u001b[K     |████████████████████████████████| 19.4MB 1.2MB/s \n",
            "\u001b[?25hRequirement already satisfied: lxml>=4.1.0 in /usr/local/lib/python3.6/dist-packages (from konlpy) (4.2.6)\n",
            "Requirement already satisfied: numpy>=1.6 in /usr/local/lib/python3.6/dist-packages (from konlpy) (1.19.5)\n",
            "Collecting beautifulsoup4==4.6.0\n",
            "\u001b[?25l  Downloading https://files.pythonhosted.org/packages/9e/d4/10f46e5cfac773e22707237bfcd51bbffeaf0a576b0a847ec7ab15bd7ace/beautifulsoup4-4.6.0-py3-none-any.whl (86kB)\n",
            "\u001b[K     |████████████████████████████████| 92kB 8.7MB/s \n",
            "\u001b[?25hCollecting colorama\n",
            "  Downloading https://files.pythonhosted.org/packages/44/98/5b86278fbbf250d239ae0ecb724f8572af1c91f4a11edf4d36a206189440/colorama-0.4.4-py2.py3-none-any.whl\n",
            "Collecting JPype1>=0.7.0\n",
            "\u001b[?25l  Downloading https://files.pythonhosted.org/packages/de/af/93f92b38ec1ff3091cd38982ed19cea2800fefb609b5801c41fc43c0781e/JPype1-1.2.1-cp36-cp36m-manylinux2010_x86_64.whl (457kB)\n",
            "\u001b[K     |████████████████████████████████| 460kB 51.9MB/s \n",
            "\u001b[?25hCollecting tweepy>=3.7.0\n",
            "  Downloading https://files.pythonhosted.org/packages/67/c3/6bed87f3b1e5ed2f34bd58bf7978e308c86e255193916be76e5a5ce5dfca/tweepy-3.10.0-py2.py3-none-any.whl\n",
            "Requirement already satisfied: typing-extensions; python_version < \"3.8\" in /usr/local/lib/python3.6/dist-packages (from JPype1>=0.7.0->konlpy) (3.7.4.3)\n",
            "Requirement already satisfied: six>=1.10.0 in /usr/local/lib/python3.6/dist-packages (from tweepy>=3.7.0->konlpy) (1.15.0)\n",
            "Requirement already satisfied: requests-oauthlib>=0.7.0 in /usr/local/lib/python3.6/dist-packages (from tweepy>=3.7.0->konlpy) (1.3.0)\n",
            "Requirement already satisfied: requests[socks]>=2.11.1 in /usr/local/lib/python3.6/dist-packages (from tweepy>=3.7.0->konlpy) (2.23.0)\n",
            "Requirement already satisfied: oauthlib>=3.0.0 in /usr/local/lib/python3.6/dist-packages (from requests-oauthlib>=0.7.0->tweepy>=3.7.0->konlpy) (3.1.0)\n",
            "Requirement already satisfied: certifi>=2017.4.17 in /usr/local/lib/python3.6/dist-packages (from requests[socks]>=2.11.1->tweepy>=3.7.0->konlpy) (2020.12.5)\n",
            "Requirement already satisfied: idna<3,>=2.5 in /usr/local/lib/python3.6/dist-packages (from requests[socks]>=2.11.1->tweepy>=3.7.0->konlpy) (2.10)\n",
            "Requirement already satisfied: urllib3!=1.25.0,!=1.25.1,<1.26,>=1.21.1 in /usr/local/lib/python3.6/dist-packages (from requests[socks]>=2.11.1->tweepy>=3.7.0->konlpy) (1.24.3)\n",
            "Requirement already satisfied: chardet<4,>=3.0.2 in /usr/local/lib/python3.6/dist-packages (from requests[socks]>=2.11.1->tweepy>=3.7.0->konlpy) (3.0.4)\n",
            "Requirement already satisfied: PySocks!=1.5.7,>=1.5.6; extra == \"socks\" in /usr/local/lib/python3.6/dist-packages (from requests[socks]>=2.11.1->tweepy>=3.7.0->konlpy) (1.7.1)\n",
            "Installing collected packages: beautifulsoup4, colorama, JPype1, tweepy, konlpy\n",
            "  Found existing installation: beautifulsoup4 4.6.3\n",
            "    Uninstalling beautifulsoup4-4.6.3:\n",
            "      Successfully uninstalled beautifulsoup4-4.6.3\n",
            "  Found existing installation: tweepy 3.6.0\n",
            "    Uninstalling tweepy-3.6.0:\n",
            "      Successfully uninstalled tweepy-3.6.0\n",
            "Successfully installed JPype1-1.2.1 beautifulsoup4-4.6.0 colorama-0.4.4 konlpy-0.5.2 tweepy-3.10.0\n"
          ],
          "name": "stdout"
        }
      ]
    },
    {
      "cell_type": "code",
      "metadata": {
        "id": "nSP7aXfJIr3i"
      },
      "source": [
        "from tqdm import tqdm\r\n",
        "from konlpy.tag import Okt\r\n",
        "from torch import nn\r\n",
        "from torch.nn import functional as F\r\n",
        "from torch.utils.data import Dataset, DataLoader\r\n",
        "from collections import defaultdict\r\n",
        "\r\n",
        "import torch\r\n",
        "import copy\r\n",
        "import numpy as np"
      ],
      "execution_count": null,
      "outputs": []
    },
    {
      "cell_type": "markdown",
      "metadata": {
        "id": "qugro74yJASr"
      },
      "source": [
        "### **데이터 전처리**"
      ]
    },
    {
      "cell_type": "markdown",
      "metadata": {
        "id": "Q36dfSRRJDtX"
      },
      "source": [
        "\r\n",
        "\r\n",
        "데이터를 확인하고 Word2Vec 형식에 맞게 전처리합니다.  \r\n",
        "학습 데이터는 1번 실습과 동일하고, 테스트를 위한 단어를 아래와 같이 가정해봅시다."
      ]
    },
    {
      "cell_type": "code",
      "metadata": {
        "id": "CLZ2f-lRJSus"
      },
      "source": [
        "train_data = [\r\n",
        "  \"정말 맛있습니다. 추천합니다.\",\r\n",
        "  \"기대했던 것보단 별로였네요.\",\r\n",
        "  \"다 좋은데 가격이 너무 비싸서 다시 가고 싶다는 생각이 안 드네요.\",\r\n",
        "  \"완전 최고입니다! 재방문 의사 있습니다.\",\r\n",
        "  \"음식도 서비스도 다 만족스러웠습니다.\",\r\n",
        "  \"위생 상태가 좀 별로였습니다. 좀 더 개선되기를 바랍니다.\",\r\n",
        "  \"맛도 좋았고 직원분들 서비스도 너무 친절했습니다.\",\r\n",
        "  \"기념일에 방문했는데 음식도 분위기도 서비스도 다 좋았습니다.\",\r\n",
        "  \"전반적으로 음식이 너무 짰습니다. 저는 별로였네요.\",\r\n",
        "  \"위생에 조금 더 신경 썼으면 좋겠습니다. 조금 불쾌했습니다.\"       \r\n",
        "]\r\n",
        "\r\n",
        "test_words = [\"음식\", \"맛\", \"서비스\", \"위생\", \"가격\"]"
      ],
      "execution_count": null,
      "outputs": []
    },
    {
      "cell_type": "markdown",
      "metadata": {
        "id": "vReElaFSLBYL"
      },
      "source": [
        "Tokenization과 vocab을 만드는 과정은 이전 실습과 유사합니다."
      ]
    },
    {
      "cell_type": "code",
      "metadata": {
        "id": "dTjlRzmWMDK_"
      },
      "source": [
        "tokenizer = Okt()"
      ],
      "execution_count": null,
      "outputs": []
    },
    {
      "cell_type": "code",
      "metadata": {
        "id": "0DTUsX672icp"
      },
      "source": [
        "def make_tokenized(data):\r\n",
        "  tokenized = []\r\n",
        "  for sent in tqdm(data):\r\n",
        "    tokens = tokenizer.morphs(sent, stem=True)\r\n",
        "    tokenized.append(tokens)\r\n",
        "\r\n",
        "  return tokenized"
      ],
      "execution_count": null,
      "outputs": []
    },
    {
      "cell_type": "code",
      "metadata": {
        "id": "C-z0z6HD2rrX",
        "colab": {
          "base_uri": "https://localhost:8080/"
        },
        "outputId": "ba94b014-2c3b-4d86-e0a9-655114400b46"
      },
      "source": [
        "train_tokenized = make_tokenized(train_data)"
      ],
      "execution_count": null,
      "outputs": [
        {
          "output_type": "stream",
          "text": [
            "100%|██████████| 10/10 [00:05<00:00,  1.75it/s]\n"
          ],
          "name": "stderr"
        }
      ]
    },
    {
      "cell_type": "code",
      "metadata": {
        "id": "51exEpI0Mc3l",
        "colab": {
          "base_uri": "https://localhost:8080/"
        },
        "outputId": "6b91d388-5d12-4f99-f8ad-22e6ecad7c74"
      },
      "source": [
        "word_count = defaultdict(int)\r\n",
        "\r\n",
        "for tokens in tqdm(train_tokenized):\r\n",
        "  for token in tokens:\r\n",
        "    word_count[token] += 1"
      ],
      "execution_count": null,
      "outputs": [
        {
          "output_type": "stream",
          "text": [
            "100%|██████████| 10/10 [00:00<00:00, 2203.24it/s]\n"
          ],
          "name": "stderr"
        }
      ]
    },
    {
      "cell_type": "code",
      "metadata": {
        "id": "gyvHAMAnMh1D",
        "colab": {
          "base_uri": "https://localhost:8080/"
        },
        "outputId": "7b7e7622-5cdf-424d-c91c-35f0b5fb8d31"
      },
      "source": [
        "word_count = sorted(word_count.items(), key=lambda x: x[1], reverse=True)\r\n",
        "print(list(word_count))\r\n",
        "len(word_count)"
      ],
      "execution_count": null,
      "outputs": [
        {
          "output_type": "stream",
          "text": [
            "[('.', 14), ('도', 7), ('이다', 4), ('좋다', 4), ('별로', 3), ('다', 3), ('이', 3), ('너무', 3), ('음식', 3), ('서비스', 3), ('하다', 2), ('방문', 2), ('위생', 2), ('좀', 2), ('더', 2), ('에', 2), ('조금', 2), ('정말', 1), ('맛있다', 1), ('추천', 1), ('기대하다', 1), ('것', 1), ('보단', 1), ('가격', 1), ('비싸다', 1), ('다시', 1), ('가다', 1), ('싶다', 1), ('생각', 1), ('안', 1), ('드네', 1), ('요', 1), ('완전', 1), ('최고', 1), ('!', 1), ('재', 1), ('의사', 1), ('있다', 1), ('만족스럽다', 1), ('상태', 1), ('가', 1), ('개선', 1), ('되다', 1), ('기르다', 1), ('바라다', 1), ('맛', 1), ('직원', 1), ('분들', 1), ('친절하다', 1), ('기념일', 1), ('분위기', 1), ('전반', 1), ('적', 1), ('으로', 1), ('짜다', 1), ('저', 1), ('는', 1), ('신경', 1), ('써다', 1), ('불쾌하다', 1)]\n"
          ],
          "name": "stdout"
        },
        {
          "output_type": "execute_result",
          "data": {
            "text/plain": [
              "60"
            ]
          },
          "metadata": {
            "tags": []
          },
          "execution_count": 9
        }
      ]
    },
    {
      "cell_type": "code",
      "metadata": {
        "id": "DaK_i3zL2vO3",
        "colab": {
          "base_uri": "https://localhost:8080/"
        },
        "outputId": "1474bff8-d7ab-4463-9d0f-0e67d74bcf5b"
      },
      "source": [
        "w2i = {}\r\n",
        "for pair in tqdm(word_count):\r\n",
        "  if pair[0] not in w2i:\r\n",
        "    w2i[pair[0]] = len(w2i)"
      ],
      "execution_count": null,
      "outputs": [
        {
          "output_type": "stream",
          "text": [
            "100%|██████████| 60/60 [00:00<00:00, 102592.03it/s]\n"
          ],
          "name": "stderr"
        }
      ]
    },
    {
      "cell_type": "code",
      "metadata": {
        "id": "LiGqiEGDL5B_",
        "colab": {
          "base_uri": "https://localhost:8080/"
        },
        "outputId": "78bb58be-0c64-4f76-be68-674f89fb763e"
      },
      "source": [
        "print(train_tokenized)\r\n",
        "print(w2i)"
      ],
      "execution_count": null,
      "outputs": [
        {
          "output_type": "stream",
          "text": [
            "[['정말', '맛있다', '.', '추천', '하다', '.'], ['기대하다', '것', '보단', '별로', '이다', '.'], ['다', '좋다', '가격', '이', '너무', '비싸다', '다시', '가다', '싶다', '생각', '이', '안', '드네', '요', '.'], ['완전', '최고', '이다', '!', '재', '방문', '의사', '있다', '.'], ['음식', '도', '서비스', '도', '다', '만족스럽다', '.'], ['위생', '상태', '가', '좀', '별로', '이다', '.', '좀', '더', '개선', '되다', '기르다', '바라다', '.'], ['맛', '도', '좋다', '직원', '분들', '서비스', '도', '너무', '친절하다', '.'], ['기념일', '에', '방문', '하다', '음식', '도', '분위기', '도', '서비스', '도', '다', '좋다', '.'], ['전반', '적', '으로', '음식', '이', '너무', '짜다', '.', '저', '는', '별로', '이다', '.'], ['위생', '에', '조금', '더', '신경', '써다', '좋다', '.', '조금', '불쾌하다', '.']]\n",
            "{'.': 0, '도': 1, '이다': 2, '좋다': 3, '별로': 4, '다': 5, '이': 6, '너무': 7, '음식': 8, '서비스': 9, '하다': 10, '방문': 11, '위생': 12, '좀': 13, '더': 14, '에': 15, '조금': 16, '정말': 17, '맛있다': 18, '추천': 19, '기대하다': 20, '것': 21, '보단': 22, '가격': 23, '비싸다': 24, '다시': 25, '가다': 26, '싶다': 27, '생각': 28, '안': 29, '드네': 30, '요': 31, '완전': 32, '최고': 33, '!': 34, '재': 35, '의사': 36, '있다': 37, '만족스럽다': 38, '상태': 39, '가': 40, '개선': 41, '되다': 42, '기르다': 43, '바라다': 44, '맛': 45, '직원': 46, '분들': 47, '친절하다': 48, '기념일': 49, '분위기': 50, '전반': 51, '적': 52, '으로': 53, '짜다': 54, '저': 55, '는': 56, '신경': 57, '써다': 58, '불쾌하다': 59}\n"
          ],
          "name": "stdout"
        }
      ]
    },
    {
      "cell_type": "markdown",
      "metadata": {
        "id": "vXA5zaPPM3Wd"
      },
      "source": [
        "실제 모델에 들어가기 위한 input을 만들기 위해 `Dataset` 클래스를 정의합니다."
      ]
    },
    {
      "cell_type": "code",
      "metadata": {
        "id": "s47ssyVt89t1"
      },
      "source": [
        "class CBOWDataset(Dataset):\r\n",
        "  def __init__(self, train_tokenized, window_size=2):\r\n",
        "    self.x = []\r\n",
        "    self.y = []\r\n",
        "\r\n",
        "    for tokens in tqdm(train_tokenized):\r\n",
        "      token_ids = [w2i[token] for token in tokens]\r\n",
        "      for i, id in enumerate(token_ids):\r\n",
        "        if i-window_size >= 0 and i+window_size < len(token_ids):\r\n",
        "          self.x.append(token_ids[i-window_size:i] + token_ids[i+1:i+window_size+1])\r\n",
        "          self.y.append(id)\r\n",
        "\r\n",
        "    self.x = torch.LongTensor(self.x)  # (전체 데이터 개수, 2 * window_size)\r\n",
        "    self.y = torch.LongTensor(self.y)  # (전체 데이터 개수)\r\n",
        "\r\n",
        "  def __len__(self):\r\n",
        "    return self.x.shape[0]\r\n",
        "\r\n",
        "  def __getitem__(self, idx):\r\n",
        "    return self.x[idx], self.y[idx]"
      ],
      "execution_count": null,
      "outputs": []
    },
    {
      "cell_type": "code",
      "metadata": {
        "id": "kvInhQ33AMJv"
      },
      "source": [
        "class SkipGramDataset(Dataset):\r\n",
        "  def __init__(self, train_tokenized, window_size=2):\r\n",
        "    self.x = []\r\n",
        "    self.y = []\r\n",
        "\r\n",
        "    for tokens in tqdm(train_tokenized):\r\n",
        "      token_ids = [w2i[token] for token in tokens]\r\n",
        "      for i, id in enumerate(token_ids):\r\n",
        "        if i-window_size >= 0 and i+window_size < len(token_ids):\r\n",
        "          self.y += (token_ids[i-window_size:i] + token_ids[i+1:i+window_size+1])\r\n",
        "          self.x += [id] * 2 * window_size\r\n",
        "\r\n",
        "    self.x = torch.LongTensor(self.x)  # (전체 데이터 개수)\r\n",
        "    self.y = torch.LongTensor(self.y)  # (전체 데이터 개수)\r\n",
        "\r\n",
        "  def __len__(self):\r\n",
        "    return self.x.shape[0]\r\n",
        "\r\n",
        "  def __getitem__(self, idx):\r\n",
        "    return self.x[idx], self.y[idx]"
      ],
      "execution_count": null,
      "outputs": []
    },
    {
      "cell_type": "markdown",
      "metadata": {
        "id": "JyAGV5IUUba0"
      },
      "source": [
        "각 모델에 맞는 `Dataset` 객체를 생성합니다."
      ]
    },
    {
      "cell_type": "code",
      "metadata": {
        "id": "5ep7Hm6oBWyy",
        "colab": {
          "base_uri": "https://localhost:8080/"
        },
        "outputId": "fbb77d30-4e5f-4f90-ada4-bc326dd46348"
      },
      "source": [
        "cbow_set = CBOWDataset(train_tokenized)\r\n",
        "skipgram_set = SkipGramDataset(train_tokenized)\r\n",
        "print(list(skipgram_set))"
      ],
      "execution_count": null,
      "outputs": [
        {
          "output_type": "stream",
          "text": [
            "100%|██████████| 10/10 [00:00<00:00, 1834.06it/s]\n",
            "100%|██████████| 10/10 [00:00<00:00, 17795.10it/s]"
          ],
          "name": "stderr"
        },
        {
          "output_type": "stream",
          "text": [
            "[(tensor(0), tensor(17)), (tensor(0), tensor(18)), (tensor(0), tensor(19)), (tensor(0), tensor(10)), (tensor(19), tensor(18)), (tensor(19), tensor(0)), (tensor(19), tensor(10)), (tensor(19), tensor(0)), (tensor(22), tensor(20)), (tensor(22), tensor(21)), (tensor(22), tensor(4)), (tensor(22), tensor(2)), (tensor(4), tensor(21)), (tensor(4), tensor(22)), (tensor(4), tensor(2)), (tensor(4), tensor(0)), (tensor(23), tensor(5)), (tensor(23), tensor(3)), (tensor(23), tensor(6)), (tensor(23), tensor(7)), (tensor(6), tensor(3)), (tensor(6), tensor(23)), (tensor(6), tensor(7)), (tensor(6), tensor(24)), (tensor(7), tensor(23)), (tensor(7), tensor(6)), (tensor(7), tensor(24)), (tensor(7), tensor(25)), (tensor(24), tensor(6)), (tensor(24), tensor(7)), (tensor(24), tensor(25)), (tensor(24), tensor(26)), (tensor(25), tensor(7)), (tensor(25), tensor(24)), (tensor(25), tensor(26)), (tensor(25), tensor(27)), (tensor(26), tensor(24)), (tensor(26), tensor(25)), (tensor(26), tensor(27)), (tensor(26), tensor(28)), (tensor(27), tensor(25)), (tensor(27), tensor(26)), (tensor(27), tensor(28)), (tensor(27), tensor(6)), (tensor(28), tensor(26)), (tensor(28), tensor(27)), (tensor(28), tensor(6)), (tensor(28), tensor(29)), (tensor(6), tensor(27)), (tensor(6), tensor(28)), (tensor(6), tensor(29)), (tensor(6), tensor(30)), (tensor(29), tensor(28)), (tensor(29), tensor(6)), (tensor(29), tensor(30)), (tensor(29), tensor(31)), (tensor(30), tensor(6)), (tensor(30), tensor(29)), (tensor(30), tensor(31)), (tensor(30), tensor(0)), (tensor(2), tensor(32)), (tensor(2), tensor(33)), (tensor(2), tensor(34)), (tensor(2), tensor(35)), (tensor(34), tensor(33)), (tensor(34), tensor(2)), (tensor(34), tensor(35)), (tensor(34), tensor(11)), (tensor(35), tensor(2)), (tensor(35), tensor(34)), (tensor(35), tensor(11)), (tensor(35), tensor(36)), (tensor(11), tensor(34)), (tensor(11), tensor(35)), (tensor(11), tensor(36)), (tensor(11), tensor(37)), (tensor(36), tensor(35)), (tensor(36), tensor(11)), (tensor(36), tensor(37)), (tensor(36), tensor(0)), (tensor(9), tensor(8)), (tensor(9), tensor(1)), (tensor(9), tensor(1)), (tensor(9), tensor(5)), (tensor(1), tensor(1)), (tensor(1), tensor(9)), (tensor(1), tensor(5)), (tensor(1), tensor(38)), (tensor(5), tensor(9)), (tensor(5), tensor(1)), (tensor(5), tensor(38)), (tensor(5), tensor(0)), (tensor(40), tensor(12)), (tensor(40), tensor(39)), (tensor(40), tensor(13)), (tensor(40), tensor(4)), (tensor(13), tensor(39)), (tensor(13), tensor(40)), (tensor(13), tensor(4)), (tensor(13), tensor(2)), (tensor(4), tensor(40)), (tensor(4), tensor(13)), (tensor(4), tensor(2)), (tensor(4), tensor(0)), (tensor(2), tensor(13)), (tensor(2), tensor(4)), (tensor(2), tensor(0)), (tensor(2), tensor(13)), (tensor(0), tensor(4)), (tensor(0), tensor(2)), (tensor(0), tensor(13)), (tensor(0), tensor(14)), (tensor(13), tensor(2)), (tensor(13), tensor(0)), (tensor(13), tensor(14)), (tensor(13), tensor(41)), (tensor(14), tensor(0)), (tensor(14), tensor(13)), (tensor(14), tensor(41)), (tensor(14), tensor(42)), (tensor(41), tensor(13)), (tensor(41), tensor(14)), (tensor(41), tensor(42)), (tensor(41), tensor(43)), (tensor(42), tensor(14)), (tensor(42), tensor(41)), (tensor(42), tensor(43)), (tensor(42), tensor(44)), (tensor(43), tensor(41)), (tensor(43), tensor(42)), (tensor(43), tensor(44)), (tensor(43), tensor(0)), (tensor(3), tensor(45)), (tensor(3), tensor(1)), (tensor(3), tensor(46)), (tensor(3), tensor(47)), (tensor(46), tensor(1)), (tensor(46), tensor(3)), (tensor(46), tensor(47)), (tensor(46), tensor(9)), (tensor(47), tensor(3)), (tensor(47), tensor(46)), (tensor(47), tensor(9)), (tensor(47), tensor(1)), (tensor(9), tensor(46)), (tensor(9), tensor(47)), (tensor(9), tensor(1)), (tensor(9), tensor(7)), (tensor(1), tensor(47)), (tensor(1), tensor(9)), (tensor(1), tensor(7)), (tensor(1), tensor(48)), (tensor(7), tensor(9)), (tensor(7), tensor(1)), (tensor(7), tensor(48)), (tensor(7), tensor(0)), (tensor(11), tensor(49)), (tensor(11), tensor(15)), (tensor(11), tensor(10)), (tensor(11), tensor(8)), (tensor(10), tensor(15)), (tensor(10), tensor(11)), (tensor(10), tensor(8)), (tensor(10), tensor(1)), (tensor(8), tensor(11)), (tensor(8), tensor(10)), (tensor(8), tensor(1)), (tensor(8), tensor(50)), (tensor(1), tensor(10)), (tensor(1), tensor(8)), (tensor(1), tensor(50)), (tensor(1), tensor(1)), (tensor(50), tensor(8)), (tensor(50), tensor(1)), (tensor(50), tensor(1)), (tensor(50), tensor(9)), (tensor(1), tensor(1)), (tensor(1), tensor(50)), (tensor(1), tensor(9)), (tensor(1), tensor(1)), (tensor(9), tensor(50)), (tensor(9), tensor(1)), (tensor(9), tensor(1)), (tensor(9), tensor(5)), (tensor(1), tensor(1)), (tensor(1), tensor(9)), (tensor(1), tensor(5)), (tensor(1), tensor(3)), (tensor(5), tensor(9)), (tensor(5), tensor(1)), (tensor(5), tensor(3)), (tensor(5), tensor(0)), (tensor(53), tensor(51)), (tensor(53), tensor(52)), (tensor(53), tensor(8)), (tensor(53), tensor(6)), (tensor(8), tensor(52)), (tensor(8), tensor(53)), (tensor(8), tensor(6)), (tensor(8), tensor(7)), (tensor(6), tensor(53)), (tensor(6), tensor(8)), (tensor(6), tensor(7)), (tensor(6), tensor(54)), (tensor(7), tensor(8)), (tensor(7), tensor(6)), (tensor(7), tensor(54)), (tensor(7), tensor(0)), (tensor(54), tensor(6)), (tensor(54), tensor(7)), (tensor(54), tensor(0)), (tensor(54), tensor(55)), (tensor(0), tensor(7)), (tensor(0), tensor(54)), (tensor(0), tensor(55)), (tensor(0), tensor(56)), (tensor(55), tensor(54)), (tensor(55), tensor(0)), (tensor(55), tensor(56)), (tensor(55), tensor(4)), (tensor(56), tensor(0)), (tensor(56), tensor(55)), (tensor(56), tensor(4)), (tensor(56), tensor(2)), (tensor(4), tensor(55)), (tensor(4), tensor(56)), (tensor(4), tensor(2)), (tensor(4), tensor(0)), (tensor(16), tensor(12)), (tensor(16), tensor(15)), (tensor(16), tensor(14)), (tensor(16), tensor(57)), (tensor(14), tensor(15)), (tensor(14), tensor(16)), (tensor(14), tensor(57)), (tensor(14), tensor(58)), (tensor(57), tensor(16)), (tensor(57), tensor(14)), (tensor(57), tensor(58)), (tensor(57), tensor(3)), (tensor(58), tensor(14)), (tensor(58), tensor(57)), (tensor(58), tensor(3)), (tensor(58), tensor(0)), (tensor(3), tensor(57)), (tensor(3), tensor(58)), (tensor(3), tensor(0)), (tensor(3), tensor(16)), (tensor(0), tensor(58)), (tensor(0), tensor(3)), (tensor(0), tensor(16)), (tensor(0), tensor(59)), (tensor(16), tensor(3)), (tensor(16), tensor(0)), (tensor(16), tensor(59)), (tensor(16), tensor(0))]\n"
          ],
          "name": "stdout"
        },
        {
          "output_type": "stream",
          "text": [
            "\n"
          ],
          "name": "stderr"
        }
      ]
    },
    {
      "cell_type": "markdown",
      "metadata": {
        "id": "1QSo73PoRyd9"
      },
      "source": [
        "### **모델 Class 구현**"
      ]
    },
    {
      "cell_type": "markdown",
      "metadata": {
        "id": "jnnk44R6R28x"
      },
      "source": [
        "차례대로 두 가지 Word2Vec 모델을 구현합니다.  \r\n",
        "\r\n",
        "\r\n",
        "*   `self.embedding`: `vocab_size` 크기의 one-hot vector를 특정 크기의 `dim` 차원으로 embedding 시키는 layer.\r\n",
        "*   `self.linear`: 변환된 embedding vector를 다시 원래 `vocab_size`로 바꾸는 layer.\r\n"
      ]
    },
    {
      "cell_type": "code",
      "metadata": {
        "id": "b_HP1ISq5CWv"
      },
      "source": [
        "class CBOW(nn.Module):\r\n",
        "  def __init__(self, vocab_size, dim):\r\n",
        "    super(CBOW, self).__init__()\r\n",
        "    self.embedding = nn.Embedding(vocab_size, dim, sparse=True)\r\n",
        "    self.linear = nn.Linear(dim, vocab_size)\r\n",
        "\r\n",
        "  # B: batch size, W: window size, d_w: word embedding size, V: vocab size\r\n",
        "  def forward(self, x):  # x: (B, 2W)\r\n",
        "    embeddings = self.embedding(x)  # (B, 2W, d_w)\r\n",
        "    embeddings = torch.sum(embeddings, dim=1)  # (B, d_w)\r\n",
        "    output = self.linear(embeddings)  # (B, V)\r\n",
        "    return output"
      ],
      "execution_count": null,
      "outputs": []
    },
    {
      "cell_type": "code",
      "metadata": {
        "id": "yQAUApww68MJ"
      },
      "source": [
        "class SkipGram(nn.Module):\r\n",
        "  def __init__(self, vocab_size, dim):\r\n",
        "    super(SkipGram, self).__init__()\r\n",
        "    self.embedding = nn.Embedding(vocab_size, dim, sparse=True)\r\n",
        "    self.linear = nn.Linear(dim, vocab_size)\r\n",
        "\r\n",
        "  # B: batch size, W: window size, d_w: word embedding size, V: vocab size\r\n",
        "  def forward(self, x): # x: (B)\r\n",
        "    embeddings = self.embedding(x)  # (B, d_w)\r\n",
        "    output = self.linear(embeddings)  # (B, V)\r\n",
        "    return output"
      ],
      "execution_count": null,
      "outputs": []
    },
    {
      "cell_type": "markdown",
      "metadata": {
        "id": "58cJalkDWYMT"
      },
      "source": [
        "두 가지 모델을 생성합니다."
      ]
    },
    {
      "cell_type": "code",
      "metadata": {
        "id": "8vWUXEi8WeM-"
      },
      "source": [
        "cbow = CBOW(vocab_size=len(w2i), dim=256)\r\n",
        "skipgram = SkipGram(vocab_size=len(w2i), dim=256)"
      ],
      "execution_count": null,
      "outputs": []
    },
    {
      "cell_type": "code",
      "metadata": {
        "colab": {
          "base_uri": "https://localhost:8080/"
        },
        "id": "MZsfx7G9BayO",
        "outputId": "d55b1207-f94f-4c11-ddea-792326cba22e"
      },
      "source": [
        "embedding = nn.Embedding(len(w2i), 256, sparse=True)\r\n",
        "embedding(torch.LongTensor([1,2,3]))"
      ],
      "execution_count": null,
      "outputs": [
        {
          "output_type": "execute_result",
          "data": {
            "text/plain": [
              "tensor([[ 8.6567e-01, -1.4645e-01, -1.7260e-01,  1.1016e+00, -2.2692e-01,\n",
              "         -2.6018e-01, -9.1777e-01,  9.7721e-01,  2.3111e+00, -6.3375e-01,\n",
              "          1.9866e+00, -5.4849e-01,  2.1429e+00, -1.7132e-01, -3.3334e-01,\n",
              "          1.0506e+00, -6.7445e-02,  7.2471e-01,  8.0551e-01,  4.9456e-01,\n",
              "         -8.9204e-01,  1.1289e-02,  1.5093e-02,  4.5914e-01,  8.0744e-01,\n",
              "          2.0440e+00,  6.6584e-01, -1.2712e+00,  2.2689e+00, -4.3072e-01,\n",
              "          8.6404e-01,  1.2937e-01, -8.6559e-01, -1.9108e+00,  3.1215e-01,\n",
              "         -1.4401e+00, -2.0910e-01,  2.6681e-01,  1.6035e+00, -8.1611e-02,\n",
              "          1.8606e-01, -7.1135e-01,  6.6594e-01,  1.2554e+00,  2.2595e-01,\n",
              "          1.2697e-01, -1.7966e-01, -4.7954e-01, -1.3816e-01, -5.9504e-01,\n",
              "         -3.5332e-01,  1.0411e+00, -2.8073e-01, -8.2438e-01,  8.1640e-01,\n",
              "          3.5476e-01,  2.6893e-01, -1.0454e-01, -1.4622e+00,  6.8922e-01,\n",
              "         -1.5252e-02, -1.2040e+00,  1.0762e-01,  5.1284e-02, -2.2886e+00,\n",
              "          5.7513e-01,  4.9375e-01,  3.9634e-01,  9.0214e-02,  2.7655e-01,\n",
              "         -1.2909e+00, -7.2402e-01,  7.4183e-01, -1.1525e-01, -3.3660e-01,\n",
              "         -1.0274e-01, -5.1807e-01, -3.6489e-01, -1.3269e+00, -2.5779e-01,\n",
              "          5.1982e-01, -1.2248e-01,  1.0623e+00,  1.0712e+00,  1.4911e+00,\n",
              "         -6.0323e-01, -5.9535e-01,  1.0816e+00, -7.1380e-01,  3.1848e-02,\n",
              "         -6.8910e-01,  8.9153e-01,  3.0015e-01,  9.3501e-01,  1.4152e+00,\n",
              "          5.2437e-02,  2.8714e-01,  1.3141e-01, -9.3243e-01, -2.4228e+00,\n",
              "          1.9212e+00, -1.0825e-01,  3.1429e-01,  1.9196e+00,  1.2284e-01,\n",
              "          5.4833e-01, -1.9968e+00, -4.8495e-01,  8.5341e-01, -1.1049e+00,\n",
              "         -1.3209e+00,  1.7258e+00,  3.9691e-01, -1.5055e+00,  1.0536e+00,\n",
              "         -6.5050e-02,  1.0011e-01, -1.4766e+00,  1.6428e-01,  9.5373e-02,\n",
              "          1.7597e+00, -7.5511e-01,  2.9668e-01,  6.2771e-01,  3.9138e-01,\n",
              "         -8.6177e-01, -4.8291e-01,  1.0973e+00, -9.2688e-01, -1.2900e-01,\n",
              "          9.2076e-02, -4.3049e-01, -2.1643e+00, -1.0960e+00, -1.2202e+00,\n",
              "         -2.5473e-03, -1.2806e+00,  1.7057e+00,  2.1669e-01,  9.0343e-01,\n",
              "         -1.3518e+00,  1.2865e+00, -4.0263e-01,  1.5592e+00, -1.0571e+00,\n",
              "         -8.0257e-01, -4.7823e-02, -1.8601e+00, -1.1432e+00, -1.2949e-01,\n",
              "          4.0061e-01,  4.4797e-02, -9.9965e-01,  2.0890e-01,  8.4977e-01,\n",
              "          1.4267e-01, -1.3216e+00, -1.0933e+00,  1.3957e-01,  8.6418e-01,\n",
              "          1.0230e+00,  5.2209e-01, -3.1108e-02, -1.4873e+00,  5.0753e-01,\n",
              "          9.2314e-02, -5.3320e-01, -6.1809e-01, -9.3514e-01, -1.0493e+00,\n",
              "          1.7126e+00, -1.4808e+00, -2.7961e-01, -1.1619e+00, -1.9510e-01,\n",
              "          3.2464e-01,  4.9178e-01, -9.2060e-02, -1.3600e-01,  3.7168e-01,\n",
              "          3.3255e-01, -1.6788e+00,  4.0843e-01, -3.4953e-01, -1.4482e-01,\n",
              "          1.3137e-01,  2.5342e-01, -2.4690e-01,  1.7563e+00,  1.5357e+00,\n",
              "         -1.7557e-01,  1.7257e+00,  1.0511e+00, -6.3350e-01,  1.3914e-01,\n",
              "         -8.5798e-01,  1.3223e+00, -6.3413e-01,  3.9005e-01,  6.0237e-01,\n",
              "         -1.5926e+00,  1.1526e+00, -9.8565e-01,  9.6788e-01,  5.5452e-01,\n",
              "          4.6750e-01,  1.8191e+00,  3.1197e-01, -5.1265e-01,  1.7653e+00,\n",
              "          6.5393e-01,  1.5044e+00, -1.0531e+00,  1.6113e+00,  1.9878e+00,\n",
              "         -2.2134e-01,  3.3973e-01,  3.0131e-01, -1.3709e-01,  2.2149e+00,\n",
              "          3.3405e-01, -1.5088e+00,  7.3421e-01,  6.7389e-01, -2.0415e-03,\n",
              "         -1.6983e+00, -3.5368e-01, -4.0980e-01,  1.8437e+00, -3.9417e-01,\n",
              "          8.0728e-01, -1.5158e-01, -1.9684e+00, -1.3639e+00, -1.3877e+00,\n",
              "          4.3300e-01, -7.0810e-01, -1.9644e+00, -1.0804e+00,  6.2148e-02,\n",
              "         -2.7009e-01,  1.0084e+00,  1.0913e+00, -1.8763e-01,  7.7849e-01,\n",
              "          1.8975e-01,  5.6044e-01,  3.7385e-01, -1.6553e+00,  1.0114e-01,\n",
              "          4.7017e-02, -1.4232e+00, -7.9453e-02,  4.3577e-01,  1.7711e+00,\n",
              "          2.5190e-01],\n",
              "        [-1.2492e+00,  1.2746e-01, -3.9493e-01,  5.5472e-01,  2.3244e-01,\n",
              "         -7.4464e-01, -1.4722e+00,  2.2772e+00, -6.1334e-02,  4.4113e-01,\n",
              "          7.4742e-01,  2.1807e+00,  4.8677e-01, -9.7761e-02,  4.1048e-01,\n",
              "         -1.7343e+00, -1.3764e+00,  6.5918e-01, -1.1527e-01, -1.7024e+00,\n",
              "          1.0759e-01, -7.9046e-01, -1.4774e-01, -1.7510e-01,  6.6107e-01,\n",
              "         -6.1225e-01, -8.5286e-01,  4.0862e-01, -2.6310e-01,  3.9690e-01,\n",
              "          1.8114e-01, -3.7136e-02,  5.4236e-01,  7.6599e-01,  9.9365e-01,\n",
              "          1.1503e+00, -1.2845e-01, -1.5884e+00,  1.0013e-01,  5.9830e-01,\n",
              "         -2.4568e-01, -2.4494e+00, -1.4707e+00, -5.7586e-01, -9.5439e-01,\n",
              "          1.6458e+00, -2.0119e-02,  3.0611e-01, -6.6073e-02, -7.8895e-01,\n",
              "          6.6213e-01,  2.0681e+00,  1.4434e+00, -4.1057e-01,  6.6172e-01,\n",
              "          2.6355e-01, -1.4885e+00, -7.6922e-01,  8.0893e-01, -2.1135e+00,\n",
              "          4.3807e-01,  6.5524e-01, -6.4783e-01,  1.0345e+00, -3.0500e+00,\n",
              "          6.2234e-01,  1.3864e+00,  6.0445e-01,  2.6216e+00,  1.4146e-01,\n",
              "          1.4907e+00, -1.6026e+00, -9.5493e-01,  6.7450e-01,  6.4243e-01,\n",
              "          7.2984e-02,  1.1035e+00,  1.9407e-01,  2.9770e+00,  1.0063e+00,\n",
              "          3.0766e+00, -1.9449e-01,  2.6817e-01, -5.9756e-01, -6.8309e-01,\n",
              "          1.2508e+00,  2.3564e+00,  2.5133e+00,  1.3520e+00,  7.1490e-02,\n",
              "         -1.3778e-01,  1.2547e+00,  1.7764e+00, -1.9224e+00,  9.6778e-01,\n",
              "         -7.8436e-01,  2.2453e-01,  4.7930e-01, -3.4328e-01, -4.5679e-01,\n",
              "         -1.3294e+00,  1.1225e+00, -1.4246e-01, -1.1123e+00, -4.7054e-01,\n",
              "          2.8244e-01, -2.2780e-02,  3.0599e-01,  4.7938e-01,  2.2133e+00,\n",
              "         -1.4428e+00, -5.9845e-01,  5.0277e-02,  2.6501e-01,  2.4490e-01,\n",
              "          4.6854e-01,  1.0082e-02,  9.3256e-01, -5.4670e-01, -7.9508e-02,\n",
              "         -2.4994e-01,  3.4193e-01,  7.7230e-01,  5.5490e-01, -1.1149e+00,\n",
              "          7.4842e-01,  1.0408e+00, -7.2358e-01, -6.7051e-01, -2.6603e-01,\n",
              "          2.0066e-01,  2.3225e+00,  9.6918e-02,  6.6583e-01, -7.4781e-01,\n",
              "          1.8555e+00, -7.0446e-01, -1.0954e+00,  9.3127e-01,  2.4055e-01,\n",
              "          1.8652e+00, -3.5241e-01,  5.8481e-02, -7.2190e-01,  3.1382e-01,\n",
              "         -2.1137e-01, -4.2153e-01,  6.5268e-01, -7.0101e-01, -9.9002e-01,\n",
              "         -3.5329e-01,  1.0022e+00, -9.3040e-01,  3.4338e-01, -2.7261e-01,\n",
              "          3.7869e-01,  6.8376e-01,  4.3251e-01,  1.0103e+00, -3.8069e-01,\n",
              "          1.9203e-01,  1.0623e+00,  3.8836e-01,  5.0609e-01,  1.8767e-01,\n",
              "         -9.5468e-01,  1.4148e+00,  5.9032e-01,  9.9291e-01, -4.0998e-01,\n",
              "          1.0224e+00,  1.5169e-01,  4.8535e-01,  1.1159e+00, -4.3426e-01,\n",
              "         -1.6401e+00,  2.1218e-01, -5.0228e-01,  1.0722e+00,  7.7531e-01,\n",
              "         -2.3480e-01,  4.6732e-01, -2.2364e+00, -6.1948e-01,  4.6813e-02,\n",
              "          4.8123e-01, -2.6854e-01,  6.0021e-02, -3.7596e-01,  2.0526e+00,\n",
              "          1.2028e+00,  1.3104e-01, -2.1641e+00, -1.4071e+00, -8.5877e-01,\n",
              "         -7.2680e-01, -9.4955e-01, -3.4540e-01, -3.6754e-01,  1.9150e+00,\n",
              "         -1.9835e-02, -7.8191e-01,  7.9321e-01, -9.9430e-01, -2.4804e-01,\n",
              "         -6.4710e-01,  2.0549e-01, -5.8783e-01,  1.6775e+00,  1.1698e+00,\n",
              "         -6.3402e-02, -7.6652e-01,  1.8607e+00,  1.9250e+00,  6.6373e-01,\n",
              "          1.0744e+00,  3.9188e-01, -9.1028e-01, -1.3101e+00, -6.7428e-01,\n",
              "          3.2888e-01,  2.0851e+00, -1.2735e+00, -1.9674e+00, -8.8215e-02,\n",
              "         -1.2542e+00, -4.8821e-01, -7.7477e-01, -6.3047e-01, -1.2575e+00,\n",
              "          9.1472e-01, -8.7642e-01, -7.1706e-01,  1.4861e+00,  8.5369e-01,\n",
              "          4.1269e-01, -7.0868e-01, -2.1644e+00,  1.0495e+00, -2.5178e+00,\n",
              "         -1.2345e-02,  1.2243e+00, -3.8589e-01,  3.7192e-01,  3.5916e-01,\n",
              "         -3.5075e-01, -2.1018e+00,  6.0173e-01, -2.0519e+00,  8.2397e-01,\n",
              "          9.7726e-01, -4.0259e-01, -1.6625e+00,  1.2299e+00,  1.0752e+00,\n",
              "          6.6411e-01],\n",
              "        [-7.6914e-01, -1.4264e-01,  3.3389e-01,  2.7728e+00, -1.8209e-01,\n",
              "          6.6435e-01,  5.2801e-01, -7.1370e-01,  4.0429e-01, -8.8740e-01,\n",
              "          4.2261e-01, -5.6652e-01, -1.3031e+00,  9.4975e-01, -9.9749e-03,\n",
              "         -2.5950e-01,  7.6616e-01,  1.8118e+00,  1.2231e+00,  5.5016e-01,\n",
              "          3.7390e-01,  4.7908e-02, -3.5913e-01, -7.1152e-01,  7.7777e-01,\n",
              "          1.0255e+00, -1.4253e+00,  1.2079e+00, -4.7051e-01,  1.0666e+00,\n",
              "          1.5162e+00,  5.1052e-01,  6.0979e-01,  1.9291e+00,  1.0139e+00,\n",
              "          1.0456e+00, -2.1447e-01,  5.7384e-02,  1.9446e-01, -4.2890e-02,\n",
              "         -1.5975e+00, -7.4367e-01,  1.1534e+00, -3.3647e-01,  6.2083e-01,\n",
              "         -3.8148e-01, -1.9216e+00,  5.1238e-02, -4.3322e-02,  1.4186e-01,\n",
              "         -2.1084e+00, -9.5282e-01,  5.0527e-01,  2.3286e+00, -1.3658e+00,\n",
              "          6.4598e-01, -1.5457e+00,  9.0293e-01,  9.8871e-01, -1.7107e+00,\n",
              "          2.8745e-01,  2.6028e+00, -1.1953e+00, -4.1803e-01,  7.3091e-01,\n",
              "         -1.8375e+00,  8.2477e-01,  5.9693e-01,  3.1043e-02, -1.4319e-01,\n",
              "         -9.0813e-01,  4.3087e-02,  2.7290e+00, -1.4868e+00, -3.2421e-01,\n",
              "          6.6685e-01,  1.8459e-01,  8.0276e-01,  1.4209e+00,  7.9964e-01,\n",
              "          9.8090e-01, -1.3651e+00, -1.1816e+00, -1.7808e+00, -1.5473e+00,\n",
              "          4.4032e-01,  7.2245e-01, -1.1935e+00, -1.3088e+00,  1.0764e+00,\n",
              "          2.0060e-01,  9.3080e-02,  1.6949e+00, -1.1318e-01, -1.9671e+00,\n",
              "          1.9806e+00,  3.3484e-01, -2.2154e-01,  1.6287e+00,  8.2660e-01,\n",
              "         -8.5972e-01,  9.4307e-01, -6.0409e-01,  7.9302e-02, -9.7153e-01,\n",
              "          8.6120e-01,  4.3032e-01,  1.1993e+00, -1.1961e-02,  8.2490e-01,\n",
              "         -1.3099e+00,  1.6700e+00,  7.2690e-02, -1.4124e+00, -3.7150e-01,\n",
              "         -4.1835e-01, -9.3424e-02,  6.4538e-01, -1.0249e+00,  8.2202e-01,\n",
              "         -1.7307e-01,  4.0304e-01, -5.9991e-01, -5.3037e-01, -2.0417e+00,\n",
              "          1.0010e+00,  3.6515e-01,  7.9909e-01,  2.7221e+00, -1.6951e+00,\n",
              "         -1.6186e+00, -2.4462e-01, -1.8446e-01,  5.8555e-01, -7.9886e-01,\n",
              "          1.7888e-01, -5.8752e-01,  2.8950e+00, -7.2548e-01, -8.9969e-01,\n",
              "          2.9775e+00,  6.3639e-01, -1.3395e+00, -1.3797e-01, -2.5286e-01,\n",
              "          5.2166e-01, -2.0619e-01, -1.6737e-01,  7.9638e-01,  8.1276e-01,\n",
              "          7.1250e-01,  1.2524e+00, -1.6792e-01,  2.0010e+00,  1.4738e+00,\n",
              "          1.7433e+00,  3.6647e-02, -2.6544e+00,  2.0184e-01,  3.7938e-01,\n",
              "          8.4513e-01,  1.1073e+00,  1.0594e+00,  4.7592e-01,  2.8767e-01,\n",
              "          2.4553e-01,  1.0839e+00, -1.9339e+00,  5.2223e-01,  5.8039e-01,\n",
              "         -1.2945e+00, -2.0609e+00, -3.7257e-01, -4.4051e-01, -1.6417e-01,\n",
              "         -1.1115e-01, -7.0647e-01,  1.2875e+00, -9.7290e-02,  1.2924e+00,\n",
              "         -1.4886e+00,  3.9155e-01, -1.3489e+00, -3.1975e-01, -1.0178e+00,\n",
              "         -1.1309e-01,  3.4248e-01, -2.5145e-01,  3.0533e+00,  1.6968e+00,\n",
              "          4.8881e-01, -1.7958e-01, -1.2304e+00, -3.2176e-02, -7.2717e-01,\n",
              "         -2.1556e-02, -9.8005e-01, -8.8411e-02, -8.8854e-01,  5.3725e-01,\n",
              "          8.3589e-01, -1.6229e-01, -1.7300e+00, -1.2458e+00, -1.2229e-01,\n",
              "         -1.7648e+00, -7.9625e-01, -7.8039e-01,  1.7795e-01,  1.6683e-01,\n",
              "          3.9436e-01, -7.7790e-01,  6.3712e-01,  3.5055e-01,  7.0807e-02,\n",
              "          3.8901e-01, -7.9026e-02, -1.3677e+00,  1.0848e+00, -6.7080e-01,\n",
              "          6.0158e-01,  9.1438e-01,  5.2391e-01, -1.7057e+00,  6.4348e-03,\n",
              "          1.5334e+00,  2.9432e-01,  8.1427e-01, -1.2516e-01,  1.2484e+00,\n",
              "         -1.0929e-01,  1.6866e+00,  3.2540e-01,  4.3482e-01, -7.2239e-01,\n",
              "          8.7501e-01, -5.0872e-02, -7.4400e-01, -3.7734e-01,  6.3353e-01,\n",
              "          8.5567e-01, -6.9089e-01,  5.0107e-01,  2.6771e-01,  7.9037e-01,\n",
              "         -2.0409e+00,  1.0627e+00,  3.5735e-01,  8.3820e-01,  1.1258e+00,\n",
              "          4.8987e-01,  4.8160e-01,  4.8176e-01,  2.9080e-01, -1.3842e-01,\n",
              "          2.0600e-01]], grad_fn=<EmbeddingBackward>)"
            ]
          },
          "metadata": {
            "tags": []
          },
          "execution_count": 17
        }
      ]
    },
    {
      "cell_type": "code",
      "metadata": {
        "colab": {
          "base_uri": "https://localhost:8080/"
        },
        "id": "9VzXMfy8Btu2",
        "outputId": "e384812b-0af2-4952-f598-ed3f6acaa010"
      },
      "source": [
        "embedding = nn.Embedding(len(w2i), 256, sparse=False)\r\n",
        "embedding(torch.LongTensor([1,2,3]))"
      ],
      "execution_count": null,
      "outputs": [
        {
          "output_type": "execute_result",
          "data": {
            "text/plain": [
              "tensor([[-2.7733e-01, -4.8784e-01, -1.3065e+00,  1.5167e-01, -8.3360e-01,\n",
              "          9.9477e-01,  1.0052e-01, -2.9109e-01, -1.1010e-01, -2.3719e+00,\n",
              "          1.9117e-01, -1.0184e+00,  4.1440e-01,  6.4197e-01, -5.4189e-01,\n",
              "          7.2439e-01,  1.8347e+00, -4.1957e-01,  2.1437e+00, -7.4768e-01,\n",
              "          1.7846e+00, -1.2650e+00,  6.4252e-01,  1.0835e+00, -1.9495e+00,\n",
              "          3.6300e-01, -1.1750e+00, -6.1529e-01, -2.8906e-01, -5.4641e-01,\n",
              "          5.3123e-01,  1.3701e-01,  4.8498e-01, -1.7590e+00,  9.2524e-01,\n",
              "          5.0298e-02, -9.2352e-01,  8.7167e-01,  7.1414e-01,  8.0263e-01,\n",
              "          1.7196e-01,  1.4646e+00, -9.5186e-01, -6.2383e-01, -1.0177e+00,\n",
              "         -8.3944e-01,  9.3505e-01, -4.7513e-01, -3.0175e-01, -3.9284e-01,\n",
              "         -3.1819e-01,  8.5353e-01,  3.6175e-01,  7.0879e-01,  1.0861e-01,\n",
              "          1.1440e+00, -3.1504e-01, -2.1141e-01, -1.3175e+00,  2.7365e-01,\n",
              "          5.7825e-01,  4.9810e-01,  3.7276e-01, -3.2029e-01, -9.2078e-01,\n",
              "          5.5937e-01, -6.2729e-02,  6.4902e-01, -1.2681e+00, -6.3473e-02,\n",
              "         -7.1592e-01, -7.1360e-02, -9.7804e-01,  1.0773e+00,  1.7005e+00,\n",
              "         -1.2903e+00, -1.6980e+00,  1.2843e+00,  2.4787e-01,  1.3176e+00,\n",
              "         -8.4068e-01,  8.1604e-01, -4.2607e-01, -1.3112e-01, -3.7053e-01,\n",
              "         -1.2114e+00, -1.2746e+00,  7.6872e-01, -1.4190e+00, -3.6300e-01,\n",
              "         -9.8088e-01,  8.4478e-02, -4.5182e-02,  2.4748e-01,  2.7366e-01,\n",
              "         -1.2736e+00,  4.2669e-01,  2.0638e+00, -7.8853e-01,  9.1563e-01,\n",
              "         -3.4425e-01,  2.5927e-01, -1.5243e+00, -4.9548e-01, -6.7329e-01,\n",
              "         -5.9567e-01, -3.4599e-01, -1.3151e+00,  1.3793e+00,  5.9272e-02,\n",
              "         -1.0402e+00,  1.1376e-01, -2.6054e+00,  6.7994e-01, -1.0426e-03,\n",
              "          8.2256e-01,  7.9986e-01,  5.7070e-01,  1.0099e+00,  6.1027e-01,\n",
              "         -1.0786e+00, -4.7571e-02, -3.1108e-02, -1.0952e+00,  1.8050e-01,\n",
              "         -3.3717e-01,  1.7265e+00, -2.4162e-01,  4.4831e-01, -2.0084e-01,\n",
              "         -5.5571e-01, -2.8733e+00, -8.8852e-01, -7.5608e-01,  7.3837e-01,\n",
              "          2.9204e-01, -3.2569e-01, -1.0765e+00,  6.8193e-01,  1.2316e+00,\n",
              "         -4.7126e-01, -8.8872e-01,  3.5235e-01,  5.1637e-01,  3.0277e-02,\n",
              "         -6.8757e-01, -1.6846e+00,  9.3136e-01,  1.3662e-01,  2.6904e-01,\n",
              "         -2.1112e+00, -7.5494e-01, -1.0476e+00, -4.4792e-01, -6.0277e-01,\n",
              "          2.0959e-01,  2.6486e-01,  5.4593e-02,  1.7545e+00, -1.9133e+00,\n",
              "          1.5175e-01,  1.0983e+00,  1.9399e+00,  3.1872e-01,  1.0296e+00,\n",
              "          1.1271e-01,  3.4862e-01,  8.9292e-01,  1.0615e-01,  4.9661e-01,\n",
              "         -1.5741e+00, -2.4101e+00,  2.5317e+00,  8.5158e-02,  1.4027e+00,\n",
              "          9.6632e-01, -1.1285e+00, -3.4415e-01,  3.3386e-02,  1.0388e+00,\n",
              "          1.9282e-01, -1.4458e+00, -4.2090e-01,  1.7149e+00, -8.2242e-01,\n",
              "         -2.8696e-01, -2.5690e-01,  1.1802e+00,  1.9506e+00,  1.2994e+00,\n",
              "          1.1657e+00, -2.8402e-02, -2.1560e-01, -7.7501e-01, -1.4319e+00,\n",
              "          3.4918e-01,  1.1002e+00,  3.9063e-01, -2.2454e+00, -1.3689e+00,\n",
              "         -3.9586e-01, -3.8464e-01, -3.6057e-01,  3.2613e+00, -6.5822e-01,\n",
              "          3.2728e-01,  1.3329e+00, -1.4962e+00, -4.9757e-01, -1.1731e+00,\n",
              "          6.2263e-01,  1.0303e+00,  1.2967e+00,  1.0449e+00, -6.2522e-01,\n",
              "         -1.1316e+00,  1.1313e+00,  4.6597e-01,  5.3917e-01, -1.4315e+00,\n",
              "         -7.9527e-02, -1.1560e+00,  1.1826e+00,  7.0416e-01, -7.2048e-02,\n",
              "          4.2527e-01, -6.3333e-01,  7.4478e-01, -1.0090e+00,  1.6456e+00,\n",
              "         -6.0186e-02,  1.0518e+00,  2.0984e-02, -1.2428e+00,  1.1046e+00,\n",
              "          5.3224e-01,  7.8731e-01,  2.1512e-01, -1.1529e+00, -2.7133e-01,\n",
              "         -7.0003e-01, -2.0159e+00,  7.2331e-01, -8.0044e-01, -4.6997e-01,\n",
              "          8.2263e-01, -1.2027e+00, -1.5902e+00,  2.2121e-01, -1.3024e+00,\n",
              "          4.7342e-01, -3.8081e-01, -2.2083e-01,  1.4972e+00,  1.4707e-01,\n",
              "         -1.7728e+00],\n",
              "        [-9.5426e-01,  5.9374e-02, -1.1000e+00, -7.5093e-01, -2.1892e-02,\n",
              "          7.8454e-01, -4.0887e-01, -7.4206e-01,  1.0504e+00,  4.6314e-01,\n",
              "          2.5199e-01,  8.2321e-01,  1.9016e+00,  1.6207e+00,  5.0465e-01,\n",
              "         -3.5792e-01,  2.1831e-01,  3.5437e-01,  8.4296e-01, -9.4565e-01,\n",
              "         -5.3360e-01, -1.1901e-01, -2.2707e-01, -1.7659e+00,  1.0711e+00,\n",
              "          7.3595e-01, -2.6163e-01, -4.6947e-01, -1.3605e+00, -3.0467e-01,\n",
              "          1.8886e-01,  3.3391e+00,  3.4817e-01, -9.6753e-01, -1.1180e+00,\n",
              "         -9.1358e-01, -7.8931e-01,  3.0310e-01, -8.0263e-01,  1.4165e+00,\n",
              "          2.8036e-01, -1.2152e-01, -9.6092e-02, -9.3796e-01,  1.5806e+00,\n",
              "         -8.1055e-01, -1.2643e+00, -1.2263e-01,  5.0009e-01,  3.9635e-01,\n",
              "          8.0049e-01, -4.4135e-01,  1.0517e+00, -2.9606e-01, -2.5180e-01,\n",
              "         -2.1799e-01, -1.6628e-01, -1.8434e+00,  4.4444e-01,  6.2493e-01,\n",
              "          1.2541e-01,  1.8188e-01,  1.5629e+00,  1.8744e+00,  4.6801e-02,\n",
              "         -2.4646e-01, -2.3709e-01, -7.0509e-01,  3.5384e-01, -3.3812e-01,\n",
              "          7.8140e-01, -6.9569e-01,  2.4571e-01, -1.4694e+00,  1.8915e-02,\n",
              "         -9.6471e-01, -5.7115e-02,  5.6765e-01,  2.3571e-01,  1.7227e+00,\n",
              "         -1.5167e+00, -1.0804e+00,  1.8520e+00,  1.1131e+00, -1.5933e+00,\n",
              "         -4.2436e-01, -2.3170e-01,  7.1677e-01, -5.4440e-02,  1.3529e+00,\n",
              "          2.7184e-01, -2.3379e+00,  1.0291e+00, -1.9776e+00, -3.4589e-01,\n",
              "          5.2298e-01, -8.5915e-01,  1.8407e+00, -1.7308e-02,  1.8678e-01,\n",
              "         -9.6473e-01, -7.3397e-01, -1.4788e+00,  3.5456e-01, -6.8170e-01,\n",
              "         -8.8100e-01, -1.3186e-01,  9.3952e-02,  9.7890e-01,  4.9890e-01,\n",
              "         -1.4036e-01,  1.0451e-02, -2.7609e-02, -2.3206e+00,  3.8993e-01,\n",
              "         -1.2136e+00,  5.1198e-01, -9.0703e-01, -1.6644e+00,  5.5532e-01,\n",
              "         -5.7130e-01, -7.7339e-01,  3.7460e-01, -1.1468e+00,  7.1751e-01,\n",
              "          1.2667e+00,  5.0019e-01, -7.8482e-01, -2.0650e-01,  8.8059e-01,\n",
              "         -7.2143e-01,  1.4497e+00, -1.1576e+00, -1.1763e+00,  5.4050e-01,\n",
              "         -1.4931e+00, -5.5528e-01,  7.2897e-01,  8.5276e-02, -1.3925e+00,\n",
              "          1.6990e-01,  6.0565e-01, -6.5996e-03,  1.0682e+00,  8.0213e-01,\n",
              "         -3.9833e-01, -1.9517e-01,  2.2954e+00, -9.2186e-01,  7.1626e-01,\n",
              "         -5.2784e-01,  1.5971e+00, -9.4199e-01, -1.2262e+00, -8.3303e-01,\n",
              "         -3.6122e-01,  8.1269e-02, -1.3186e+00, -2.1292e-01,  4.3683e-02,\n",
              "          1.6780e+00,  1.1059e+00,  8.8238e-01,  4.7388e-01,  9.2106e-01,\n",
              "         -1.7510e-01,  9.9875e-01, -5.5591e-01,  8.9866e-01,  8.2660e-01,\n",
              "         -1.6063e+00,  5.1373e-01,  2.1684e-01,  1.0966e+00, -8.3119e-01,\n",
              "         -1.0707e-01,  7.2291e-01, -6.0445e-01,  1.6216e+00,  1.6334e-01,\n",
              "          3.9798e-01,  3.4826e-01,  8.1133e-01,  1.7725e+00,  2.6366e+00,\n",
              "         -4.0414e-01,  1.4934e+00, -1.2843e-02, -3.5239e-01, -5.7276e-01,\n",
              "          3.1386e-01, -3.1149e+00, -1.0970e+00, -2.2472e+00, -1.6620e+00,\n",
              "          6.5998e-02, -1.3810e+00,  4.8798e-01, -2.2882e+00,  1.4928e-01,\n",
              "          1.5931e+00,  1.2644e+00, -1.6445e+00, -3.5950e-01,  5.7188e-01,\n",
              "         -7.0648e-01,  1.2628e+00, -3.7295e-01, -1.4266e+00, -5.3327e-02,\n",
              "         -6.7437e-01, -1.1027e+00,  1.9181e+00,  1.4404e+00,  1.4121e+00,\n",
              "         -8.9279e-01, -1.8175e+00, -5.8408e-01, -1.1655e+00, -5.6330e-01,\n",
              "         -1.9588e+00,  5.5575e-01,  4.6654e-02,  5.5589e-01,  7.7370e-01,\n",
              "          1.6547e+00,  2.2496e+00, -1.0624e+00,  4.0153e-01, -2.9574e+00,\n",
              "         -1.3830e+00, -1.1065e+00, -8.9359e-02,  5.9583e-01, -7.0777e-01,\n",
              "          9.0252e-01, -1.7343e+00, -2.1386e-02,  1.5723e+00, -7.1131e-01,\n",
              "          1.1331e+00, -8.6520e-01, -1.5173e+00, -5.1694e-01, -2.2238e-01,\n",
              "         -7.3769e-01, -3.1050e+00,  4.7653e-01,  9.0805e-02,  1.3969e+00,\n",
              "         -1.5233e+00, -1.6870e+00, -5.3172e-01, -9.4253e-01,  7.1458e-01,\n",
              "         -8.0015e-01],\n",
              "        [-1.1993e+00,  3.6107e-01, -4.2455e-01, -8.6178e-01, -2.2374e-01,\n",
              "         -1.0515e+00,  2.0722e+00, -1.6752e-01,  1.4105e+00, -7.1132e-01,\n",
              "         -1.1878e+00,  2.9657e-01, -9.3547e-01, -1.1095e-01, -7.8243e-01,\n",
              "         -5.7854e-01,  3.1938e-01,  4.5456e-01, -6.4557e-01,  8.2783e-01,\n",
              "          3.4796e-01, -1.4435e+00, -4.7471e-01,  9.2790e-01, -1.2438e-02,\n",
              "         -2.3035e-01, -1.6279e+00, -2.8101e-01, -4.6230e-01,  6.1668e-01,\n",
              "          8.3105e-01,  6.2684e-01, -5.0474e-01, -1.0528e-01, -5.9266e-01,\n",
              "         -1.3621e+00,  1.3847e+00,  6.2879e-01,  9.6475e-01, -3.1648e-01,\n",
              "          1.2101e-01,  1.2058e+00,  2.4285e-01,  3.3136e-01,  9.6592e-01,\n",
              "          1.0407e+00, -1.0407e+00,  1.9813e-01,  3.6289e-02, -1.0233e-01,\n",
              "         -2.9823e-02,  3.3351e-01,  3.0661e-02, -7.9386e-01,  6.7073e-01,\n",
              "         -3.8591e-01,  5.2175e-01, -8.9197e-01, -6.8096e-01,  2.2068e-01,\n",
              "          2.3460e-01, -1.1873e+00,  7.0823e-01,  7.6993e-01,  6.5962e-01,\n",
              "         -9.3348e-01, -3.0396e-01,  5.4461e-02,  1.7994e-01, -9.7770e-01,\n",
              "         -2.0186e-01,  1.0015e-04, -3.9642e-01, -1.0562e-01,  2.0355e+00,\n",
              "          2.3333e-01, -1.8336e-01,  1.1934e+00, -9.9971e-02,  1.4226e-01,\n",
              "         -8.4134e-01, -3.4722e-01, -1.3622e+00, -2.2724e-01, -5.3572e-01,\n",
              "         -4.9989e-01, -9.2862e-01, -1.5306e-01, -2.2462e-01, -6.1624e-01,\n",
              "         -2.8709e-02,  1.9447e+00, -1.7139e+00, -2.4821e+00,  4.0927e-01,\n",
              "          4.2938e-01,  7.0319e-01,  1.4863e-01, -8.7276e-01,  3.8724e-01,\n",
              "          2.1625e+00, -1.0932e+00, -9.3525e-01,  1.7700e-01, -4.8190e-01,\n",
              "          1.2133e+00, -7.7531e-01,  2.1349e+00,  3.7186e-01, -3.7845e-01,\n",
              "         -3.4157e-01,  1.0445e+00, -5.1527e-01,  2.1386e+00,  1.1494e+00,\n",
              "         -9.1800e-02,  1.5257e-01,  4.4746e-01,  1.3061e+00, -6.9650e-02,\n",
              "          6.8602e-01,  8.9643e-02, -9.9750e-01,  4.6529e-01,  1.1304e+00,\n",
              "         -1.1516e+00, -6.3340e-01,  3.7120e-01,  1.2678e-01, -8.7924e-03,\n",
              "         -1.6819e-01,  9.9219e-01, -1.1597e-01, -1.8081e+00,  2.1400e+00,\n",
              "          1.9237e+00,  1.7973e-02, -1.7757e+00,  1.5216e+00, -6.3980e-01,\n",
              "          5.7914e-01,  5.0914e-01, -1.8926e+00,  1.4318e+00, -4.7273e-02,\n",
              "          1.0151e-01,  5.1384e-01, -2.7840e+00,  4.6215e-01,  1.1745e+00,\n",
              "          3.1964e-01,  1.2721e+00,  6.7862e-01, -1.0016e+00,  1.0184e-01,\n",
              "          1.5310e+00,  1.8906e-01,  1.0058e+00,  8.0551e-01, -1.5514e+00,\n",
              "          5.5060e-01,  4.2350e-01,  7.4470e-01, -3.8911e-01,  2.7341e-02,\n",
              "         -4.6121e-01, -1.3674e-02, -3.1394e-01, -1.3596e-02, -1.2542e+00,\n",
              "          7.5231e-02, -1.2554e-02,  2.3349e-01, -1.7182e-01,  3.3150e-01,\n",
              "         -2.4135e-01, -1.3126e+00,  8.2443e-01,  7.1622e-02,  7.0695e-01,\n",
              "          8.9308e-01, -7.1567e-02, -4.4842e-01,  1.3721e-01,  6.0556e-01,\n",
              "         -1.6749e-01, -1.4710e+00,  6.9287e-01,  1.1614e+00,  3.0568e+00,\n",
              "         -1.1732e-01, -7.3420e-01,  3.7542e-02, -3.3666e-01, -3.7077e-01,\n",
              "          3.9033e-01,  1.1016e+00, -5.5346e-01,  1.2601e-01, -5.3872e-01,\n",
              "         -1.2269e+00, -5.7173e-01,  1.4281e+00,  4.6570e-01, -6.8264e-01,\n",
              "          6.9603e-01, -2.0672e+00,  4.9655e-01, -3.1557e-01, -1.5569e-01,\n",
              "          1.2420e+00, -1.2736e+00,  1.0756e+00, -1.5081e+00,  1.0158e+00,\n",
              "         -5.7982e-01,  6.3802e-01,  1.3915e+00,  6.3696e-01, -1.9407e+00,\n",
              "          2.1955e-01, -1.7343e-01,  7.3386e-01,  1.5749e+00,  9.1715e-01,\n",
              "          9.8113e-01, -1.9460e+00, -7.8451e-01,  8.7565e-01,  2.4905e+00,\n",
              "          5.2707e-01,  4.7601e-01, -1.7582e-01,  3.1612e-01, -9.8711e-01,\n",
              "          1.4521e+00, -9.2218e-01,  7.4287e-01, -5.8644e-01,  9.4034e-01,\n",
              "          1.6646e+00, -1.6619e+00,  1.6615e+00, -1.1885e-01,  1.8779e+00,\n",
              "          9.5858e-01,  1.0894e+00,  1.0467e+00,  8.5275e-02, -1.7410e+00,\n",
              "         -8.7339e-01, -1.4008e+00,  1.4194e+00,  1.1878e+00, -5.5615e-01,\n",
              "          8.7069e-01]], grad_fn=<EmbeddingBackward>)"
            ]
          },
          "metadata": {
            "tags": []
          },
          "execution_count": 18
        }
      ]
    },
    {
      "cell_type": "markdown",
      "metadata": {
        "id": "xxP7qdtNWil1"
      },
      "source": [
        "### **모델 학습**"
      ]
    },
    {
      "cell_type": "markdown",
      "metadata": {
        "id": "QVggZrQ4WpBS"
      },
      "source": [
        "다음과 같이 hyperparamter를 세팅하고 `DataLoader` 객체를 만듭니다."
      ]
    },
    {
      "cell_type": "code",
      "metadata": {
        "id": "ygVdz5rSBeNu"
      },
      "source": [
        "batch_size=4\r\n",
        "learning_rate = 5e-4\r\n",
        "num_epochs = 5\r\n",
        "device = torch.device('cuda') if torch.cuda.is_available() else torch.device('cpu')\r\n",
        "\r\n",
        "cbow_loader = DataLoader(cbow_set, batch_size=batch_size)\r\n",
        "skipgram_loader = DataLoader(skipgram_set, batch_size=batch_size)"
      ],
      "execution_count": null,
      "outputs": []
    },
    {
      "cell_type": "markdown",
      "metadata": {
        "id": "ekixqKB3X5C1"
      },
      "source": [
        "첫번째로 CBOW 모델 학습입니다."
      ]
    },
    {
      "cell_type": "code",
      "metadata": {
        "id": "-d95qR7oC822",
        "colab": {
          "base_uri": "https://localhost:8080/"
        },
        "outputId": "c42edaae-fc74-4c97-8340-127a90776e91"
      },
      "source": [
        "cbow.train()\r\n",
        "cbow = cbow.to(device)\r\n",
        "optim = torch.optim.SGD(cbow.parameters(), lr=learning_rate)\r\n",
        "loss_function = nn.CrossEntropyLoss()\r\n",
        "\r\n",
        "for e in range(1, num_epochs+1):\r\n",
        "  print(\"#\" * 50)\r\n",
        "  print(f\"Epoch: {e}\")\r\n",
        "  for batch in tqdm(cbow_loader):\r\n",
        "    x, y = batch\r\n",
        "    x, y = x.to(device), y.to(device) # (B, W), (B)\r\n",
        "    output = cbow(x)  # (B, V)\r\n",
        " \r\n",
        "    optim.zero_grad()\r\n",
        "    loss = loss_function(output, y)\r\n",
        "    loss.backward()\r\n",
        "    optim.step()\r\n",
        "\r\n",
        "    print(f\"Train loss: {loss.item()}\")\r\n",
        "\r\n",
        "print(\"Finished.\")"
      ],
      "execution_count": null,
      "outputs": [
        {
          "output_type": "stream",
          "text": [
            "100%|██████████| 16/16 [00:00<00:00, 82.62it/s]\n",
            "  0%|          | 0/16 [00:00<?, ?it/s]"
          ],
          "name": "stderr"
        },
        {
          "output_type": "stream",
          "text": [
            "##################################################\n",
            "Epoch: 1\n",
            "Train loss: 4.754945755004883\n",
            "Train loss: 4.290592193603516\n",
            "Train loss: 4.213982105255127\n",
            "Train loss: 4.430968284606934\n",
            "Train loss: 5.957576751708984\n",
            "Train loss: 5.598806381225586\n",
            "Train loss: 4.238408088684082\n",
            "Train loss: 4.729179382324219\n",
            "Train loss: 4.197514533996582\n",
            "Train loss: 4.699819087982178\n",
            "Train loss: 4.429537773132324\n",
            "Train loss: 5.448338985443115\n",
            "Train loss: 4.828976631164551\n",
            "Train loss: 4.073480606079102\n",
            "Train loss: 5.221699237823486\n",
            "Train loss: 4.474963665008545\n",
            "##################################################\n",
            "Epoch: 2\n"
          ],
          "name": "stdout"
        },
        {
          "output_type": "stream",
          "text": [
            "100%|██████████| 16/16 [00:00<00:00, 643.13it/s]\n",
            "100%|██████████| 16/16 [00:00<00:00, 694.50it/s]\n",
            "100%|██████████| 16/16 [00:00<00:00, 702.61it/s]\n",
            "100%|██████████| 16/16 [00:00<00:00, 660.48it/s]"
          ],
          "name": "stderr"
        },
        {
          "output_type": "stream",
          "text": [
            "Train loss: 4.576406478881836\n",
            "Train loss: 4.166545867919922\n",
            "Train loss: 4.107646465301514\n",
            "Train loss: 4.317821025848389\n",
            "Train loss: 5.800015449523926\n",
            "Train loss: 5.3189697265625\n",
            "Train loss: 4.0627875328063965\n",
            "Train loss: 4.598029136657715\n",
            "Train loss: 4.089056015014648\n",
            "Train loss: 4.522393703460693\n",
            "Train loss: 4.2632598876953125\n",
            "Train loss: 5.084076881408691\n",
            "Train loss: 4.690461158752441\n",
            "Train loss: 3.956787109375\n",
            "Train loss: 5.054161071777344\n",
            "Train loss: 4.328393936157227\n",
            "##################################################\n",
            "Epoch: 3\n",
            "Train loss: 4.402919292449951\n",
            "Train loss: 4.044163703918457\n",
            "Train loss: 4.002156734466553\n",
            "Train loss: 4.206272125244141\n",
            "Train loss: 5.644565582275391\n",
            "Train loss: 5.0439982414245605\n",
            "Train loss: 3.8924477100372314\n",
            "Train loss: 4.470180511474609\n",
            "Train loss: 3.9837160110473633\n",
            "Train loss: 4.347694396972656\n",
            "Train loss: 4.10220193862915\n",
            "Train loss: 4.729652404785156\n",
            "Train loss: 4.5533366203308105\n",
            "Train loss: 3.8451924324035645\n",
            "Train loss: 4.8904008865356445\n",
            "Train loss: 4.18770170211792\n",
            "##################################################\n",
            "Epoch: 4\n",
            "Train loss: 4.234236717224121\n",
            "Train loss: 3.9234812259674072\n",
            "Train loss: 3.897582769393921\n",
            "Train loss: 4.096311092376709\n",
            "Train loss: 5.491201877593994\n",
            "Train loss: 4.774293422698975\n",
            "Train loss: 3.727484703063965\n",
            "Train loss: 4.345456600189209\n",
            "Train loss: 3.881605863571167\n",
            "Train loss: 4.175998210906982\n",
            "Train loss: 3.946241855621338\n",
            "Train loss: 4.385956764221191\n",
            "Train loss: 4.417636871337891\n",
            "Train loss: 3.7381060123443604\n",
            "Train loss: 4.730436325073242\n",
            "Train loss: 4.0525431632995605\n",
            "##################################################\n",
            "Epoch: 5\n",
            "Train loss: 4.070210933685303\n",
            "Train loss: 3.8045425415039062\n",
            "Train loss: 3.7939891815185547\n",
            "Train loss: 3.9879398345947266\n",
            "Train loss: 5.339909553527832\n",
            "Train loss: 4.510534763336182\n",
            "Train loss: 3.568039655685425\n",
            "Train loss: 4.223711967468262\n",
            "Train loss: 3.7828662395477295\n",
            "Train loss: 4.007647514343262\n",
            "Train loss: 3.795424461364746\n",
            "Train loss: 4.054452896118164\n",
            "Train loss: 4.283405780792236\n",
            "Train loss: 3.6350631713867188\n",
            "Train loss: 4.574314117431641\n",
            "Train loss: 3.922623634338379\n",
            "Finished.\n"
          ],
          "name": "stdout"
        },
        {
          "output_type": "stream",
          "text": [
            "\n"
          ],
          "name": "stderr"
        }
      ]
    },
    {
      "cell_type": "markdown",
      "metadata": {
        "id": "FDahBf6IX4py"
      },
      "source": [
        "다음으로 Skip-gram 모델 학습입니다."
      ]
    },
    {
      "cell_type": "code",
      "metadata": {
        "id": "jJxGEusqFV5r",
        "colab": {
          "base_uri": "https://localhost:8080/"
        },
        "outputId": "68a1eef1-9b32-4bc0-fe65-3a6e6950a13b"
      },
      "source": [
        "skipgram.train()\r\n",
        "skipgram = skipgram.to(device)\r\n",
        "optim = torch.optim.SGD(skipgram.parameters(), lr=learning_rate)\r\n",
        "loss_function = nn.CrossEntropyLoss()\r\n",
        "\r\n",
        "for e in range(1, num_epochs+1):\r\n",
        "  print(\"#\" * 50)\r\n",
        "  print(f\"Epoch: {e}\")\r\n",
        "  for batch in tqdm(skipgram_loader):\r\n",
        "    x, y = batch\r\n",
        "    x, y = x.to(device), y.to(device) # (B, W), (B)\r\n",
        "    output = skipgram(x)  # (B, V)\r\n",
        "\r\n",
        "    optim.zero_grad()\r\n",
        "    loss = loss_function(output, y)\r\n",
        "    loss.backward()\r\n",
        "    optim.step()\r\n",
        "\r\n",
        "    print(f\"Train loss: {loss.item()}\")\r\n",
        "\r\n",
        "print(\"Finished.\")"
      ],
      "execution_count": null,
      "outputs": [
        {
          "output_type": "stream",
          "text": [
            "100%|██████████| 64/64 [00:00<00:00, 779.60it/s]\n",
            "100%|██████████| 64/64 [00:00<00:00, 797.03it/s]\n",
            "  0%|          | 0/64 [00:00<?, ?it/s]"
          ],
          "name": "stderr"
        },
        {
          "output_type": "stream",
          "text": [
            "##################################################\n",
            "Epoch: 1\n",
            "Train loss: 4.269641876220703\n",
            "Train loss: 4.14031982421875\n",
            "Train loss: 4.632961273193359\n",
            "Train loss: 4.0716986656188965\n",
            "Train loss: 3.882753372192383\n",
            "Train loss: 4.412576675415039\n",
            "Train loss: 4.367706775665283\n",
            "Train loss: 3.9476544857025146\n",
            "Train loss: 4.0739030838012695\n",
            "Train loss: 4.23362922668457\n",
            "Train loss: 4.2539286613464355\n",
            "Train loss: 4.201377868652344\n",
            "Train loss: 4.325809001922607\n",
            "Train loss: 4.371469974517822\n",
            "Train loss: 4.195186138153076\n",
            "Train loss: 4.898489952087402\n",
            "Train loss: 4.280550479888916\n",
            "Train loss: 4.210625648498535\n",
            "Train loss: 4.420271396636963\n",
            "Train loss: 4.4148712158203125\n",
            "Train loss: 4.293399333953857\n",
            "Train loss: 4.218382835388184\n",
            "Train loss: 4.238741397857666\n",
            "Train loss: 4.206324577331543\n",
            "Train loss: 4.291888236999512\n",
            "Train loss: 4.217133522033691\n",
            "Train loss: 4.040428161621094\n",
            "Train loss: 4.43715238571167\n",
            "Train loss: 4.300670623779297\n",
            "Train loss: 3.71821928024292\n",
            "Train loss: 4.600168228149414\n",
            "Train loss: 4.10727596282959\n",
            "Train loss: 4.543686866760254\n",
            "Train loss: 4.076204776763916\n",
            "Train loss: 4.181563854217529\n",
            "Train loss: 4.163184642791748\n",
            "Train loss: 3.533015251159668\n",
            "Train loss: 3.8139448165893555\n",
            "Train loss: 4.217362403869629\n",
            "Train loss: 4.2985734939575195\n",
            "Train loss: 4.260602951049805\n",
            "Train loss: 3.7361068725585938\n",
            "Train loss: 4.640902042388916\n",
            "Train loss: 4.145089149475098\n",
            "Train loss: 4.237729072570801\n",
            "Train loss: 4.070405960083008\n",
            "Train loss: 4.276325225830078\n",
            "Train loss: 3.90803861618042\n",
            "Train loss: 3.548140525817871\n",
            "Train loss: 4.356173992156982\n",
            "Train loss: 4.2836408615112305\n",
            "Train loss: 4.3327436447143555\n",
            "Train loss: 4.045107841491699\n",
            "Train loss: 4.059229850769043\n",
            "Train loss: 3.890627384185791\n",
            "Train loss: 4.172064781188965\n",
            "Train loss: 4.062122344970703\n",
            "Train loss: 4.199735641479492\n",
            "Train loss: 4.15983772277832\n",
            "Train loss: 4.349946022033691\n",
            "Train loss: 4.0710601806640625\n",
            "Train loss: 4.433714866638184\n",
            "Train loss: 4.3791656494140625\n",
            "Train loss: 4.482131481170654\n",
            "##################################################\n",
            "Epoch: 2\n",
            "Train loss: 4.243359565734863\n",
            "Train loss: 4.092533111572266\n",
            "Train loss: 4.605000972747803\n",
            "Train loss: 4.01958703994751\n",
            "Train loss: 3.856027603149414\n",
            "Train loss: 4.376977443695068\n",
            "Train loss: 4.330656051635742\n",
            "Train loss: 3.9215173721313477\n",
            "Train loss: 4.042821884155273\n",
            "Train loss: 4.207606315612793\n",
            "Train loss: 4.221643447875977\n",
            "Train loss: 4.1731061935424805\n",
            "Train loss: 4.296073913574219\n",
            "Train loss: 4.338981628417969\n",
            "Train loss: 4.157759666442871\n",
            "Train loss: 4.866641521453857\n",
            "Train loss: 4.251100063323975\n",
            "Train loss: 4.180859088897705\n",
            "Train loss: 4.3920183181762695\n",
            "Train loss: 4.385879039764404\n",
            "Train loss: 4.207836627960205\n",
            "Train loss: 4.133033752441406\n",
            "Train loss: 4.200456142425537\n",
            "Train loss: 4.178009986877441\n",
            "Train loss: 4.255965232849121\n",
            "Train loss: 4.164642810821533\n",
            "Train loss: 3.9978318214416504\n",
            "Train loss: 4.406930923461914\n",
            "Train loss: 4.2583136558532715\n",
            "Train loss: 3.687753677368164\n",
            "Train loss: 4.566324234008789\n",
            "Train loss: 4.074743270874023\n",
            "Train loss: 4.513140678405762\n",
            "Train loss: 4.0507731437683105\n",
            "Train loss: 4.154280662536621\n",
            "Train loss: 4.122356414794922\n",
            "Train loss: 3.4885339736938477\n",
            "Train loss: 3.770547389984131\n",
            "Train loss: 4.171200752258301\n",
            "Train loss: 4.270696640014648\n",
            "Train loss: 4.231171607971191\n",
            "Train loss: 3.7137742042541504\n",
            "Train loss: 4.5783281326293945\n",
            "Train loss: 4.092703342437744\n",
            "Train loss: 4.122476577758789\n",
            "Train loss: 3.9854516983032227\n",
            "Train loss: 4.18704080581665\n",
            "Train loss: 3.8708858489990234\n",
            "Train loss: 3.5220723152160645\n",
            "Train loss: 4.330740451812744\n",
            "Train loss: 4.245669841766357\n",
            "Train loss: 4.280472278594971\n",
            "Train loss: 4.011593818664551\n",
            "Train loss: 4.032415390014648\n",
            "Train loss: 3.85660457611084\n",
            "Train loss: 4.135139465332031\n",
            "Train loss: 4.010723114013672\n",
            "Train loss: 4.165048599243164\n",
            "Train loss: 4.122018814086914\n",
            "Train loss: 4.312016010284424\n",
            "Train loss: 4.027615547180176\n",
            "Train loss: 4.4091668128967285\n",
            "Train loss: 4.348778247833252\n",
            "Train loss: 4.428736686706543\n",
            "##################################################\n",
            "Epoch: 3\n",
            "Train loss: 4.217700004577637\n",
            "Train loss: 4.045003890991211\n",
            "Train loss: 4.577144622802734\n",
            "Train loss: 3.96838116645813\n",
            "Train loss: 3.8295516967773438\n",
            "Train loss: 4.3418402671813965\n",
            "Train loss: 4.294241428375244\n",
            "Train loss: 3.8955256938934326\n",
            "Train loss: 4.011937141418457\n",
            "Train loss: 4.1816792488098145\n",
            "Train loss: 4.189541339874268\n",
            "Train loss: 4.1449785232543945\n",
            "Train loss: 4.266781806945801\n",
            "Train loss: 4.306663513183594\n",
            "Train loss: 4.120602607727051\n",
            "Train loss: 4.835034370422363\n",
            "Train loss: 4.221824645996094\n",
            "Train loss: 4.151263236999512\n"
          ],
          "name": "stdout"
        },
        {
          "output_type": "stream",
          "text": [
            "100%|██████████| 64/64 [00:00<00:00, 646.47it/s]\n",
            "100%|██████████| 64/64 [00:00<00:00, 795.32it/s]\n",
            "  0%|          | 0/64 [00:00<?, ?it/s]"
          ],
          "name": "stderr"
        },
        {
          "output_type": "stream",
          "text": [
            "Train loss: 4.363997459411621\n",
            "Train loss: 4.357032775878906\n",
            "Train loss: 4.123373985290527\n",
            "Train loss: 4.049276351928711\n",
            "Train loss: 4.1624603271484375\n",
            "Train loss: 4.14983606338501\n",
            "Train loss: 4.220363616943359\n",
            "Train loss: 4.1130571365356445\n",
            "Train loss: 3.9556093215942383\n",
            "Train loss: 4.37733793258667\n",
            "Train loss: 4.216354846954346\n",
            "Train loss: 3.6578257083892822\n",
            "Train loss: 4.532642841339111\n",
            "Train loss: 4.042409896850586\n",
            "Train loss: 4.482714653015137\n",
            "Train loss: 4.02559757232666\n",
            "Train loss: 4.1271467208862305\n",
            "Train loss: 4.082010746002197\n",
            "Train loss: 3.4450018405914307\n",
            "Train loss: 3.7285165786743164\n",
            "Train loss: 4.125820159912109\n",
            "Train loss: 4.243056297302246\n",
            "Train loss: 4.201876163482666\n",
            "Train loss: 3.691709041595459\n",
            "Train loss: 4.517106056213379\n",
            "Train loss: 4.040648460388184\n",
            "Train loss: 4.00918436050415\n",
            "Train loss: 3.901686668395996\n",
            "Train loss: 4.099496841430664\n",
            "Train loss: 3.8340561389923096\n",
            "Train loss: 3.4962081909179688\n",
            "Train loss: 4.3055596351623535\n",
            "Train loss: 4.208200931549072\n",
            "Train loss: 4.228961944580078\n",
            "Train loss: 3.97831654548645\n",
            "Train loss: 4.006256103515625\n",
            "Train loss: 3.822840690612793\n",
            "Train loss: 4.098506927490234\n",
            "Train loss: 3.960249185562134\n",
            "Train loss: 4.13079833984375\n",
            "Train loss: 4.0847554206848145\n",
            "Train loss: 4.274388313293457\n",
            "Train loss: 3.984546184539795\n",
            "Train loss: 4.384790897369385\n",
            "Train loss: 4.319041728973389\n",
            "Train loss: 4.375815391540527\n",
            "##################################################\n",
            "Epoch: 4\n",
            "Train loss: 4.19264554977417\n",
            "Train loss: 3.99774169921875\n",
            "Train loss: 4.549393653869629\n",
            "Train loss: 3.918113946914673\n",
            "Train loss: 3.8033268451690674\n",
            "Train loss: 4.3071699142456055\n",
            "Train loss: 4.258464813232422\n",
            "Train loss: 3.8696799278259277\n",
            "Train loss: 3.9812517166137695\n",
            "Train loss: 4.155849456787109\n",
            "Train loss: 4.157624244689941\n",
            "Train loss: 4.1169962882995605\n",
            "Train loss: 4.237934112548828\n",
            "Train loss: 4.274516582489014\n",
            "Train loss: 4.083722114562988\n",
            "Train loss: 4.8036723136901855\n",
            "Train loss: 4.192724227905273\n",
            "Train loss: 4.121841907501221\n",
            "Train loss: 4.336208343505859\n",
            "Train loss: 4.328335762023926\n",
            "Train loss: 4.0401153564453125\n",
            "Train loss: 3.967228889465332\n",
            "Train loss: 4.124755382537842\n",
            "Train loss: 4.1218037605285645\n",
            "Train loss: 4.185092926025391\n",
            "Train loss: 4.062410354614258\n",
            "Train loss: 3.9137697219848633\n",
            "Train loss: 4.348358154296875\n",
            "Train loss: 4.174805641174316\n",
            "Train loss: 3.62843656539917\n",
            "Train loss: 4.499126434326172\n",
            "Train loss: 4.010278224945068\n",
            "Train loss: 4.452410697937012\n",
            "Train loss: 4.000679969787598\n",
            "Train loss: 4.100160598754883\n",
            "Train loss: 4.0421624183654785\n",
            "Train loss: 3.4024851322174072\n",
            "Train loss: 3.687922477722168\n",
            "Train loss: 4.081226348876953\n",
            "Train loss: 4.215653896331787\n",
            "Train loss: 4.172714710235596\n",
            "Train loss: 3.6699094772338867\n",
            "Train loss: 4.45732307434082\n",
            "Train loss: 3.9889371395111084\n",
            "Train loss: 3.8980159759521484\n",
            "Train loss: 3.8192198276519775\n",
            "Train loss: 4.013820171356201\n",
            "Train loss: 3.797551393508911\n",
            "Train loss: 3.470550298690796\n",
            "Train loss: 4.280630588531494\n",
            "Train loss: 4.171238899230957\n",
            "Train loss: 4.178221702575684\n",
            "Train loss: 3.9452788829803467\n",
            "Train loss: 3.9807353019714355\n",
            "Train loss: 3.7893404960632324\n",
            "Train loss: 4.062169075012207\n",
            "Train loss: 3.9107348918914795\n",
            "Train loss: 4.096990585327148\n",
            "Train loss: 4.0480475425720215\n",
            "Train loss: 4.237066745758057\n",
            "Train loss: 3.9418556690216064\n",
            "Train loss: 4.360586166381836\n",
            "Train loss: 4.289941787719727\n",
            "Train loss: 4.323382377624512\n",
            "##################################################\n",
            "Epoch: 5\n",
            "Train loss: 4.168179512023926\n",
            "Train loss: 3.950758695602417\n",
            "Train loss: 4.521750450134277\n",
            "Train loss: 3.868819236755371\n",
            "Train loss: 3.777353525161743\n",
            "Train loss: 4.272970199584961\n",
            "Train loss: 4.223327159881592\n",
            "Train loss: 3.843981981277466\n",
            "Train loss: 3.9507687091827393\n",
            "Train loss: 4.130119800567627\n",
            "Train loss: 4.1258931159973145\n",
            "Train loss: 4.089161396026611\n",
            "Train loss: 4.209529399871826\n",
            "Train loss: 4.242544651031494\n",
            "Train loss: 4.047123908996582\n",
            "Train loss: 4.772557735443115\n",
            "Train loss: 4.1638031005859375\n",
            "Train loss: 4.092597484588623\n",
            "Train loss: 4.308652877807617\n",
            "Train loss: 4.2997894287109375\n",
            "Train loss: 3.9581713676452637\n",
            "Train loss: 3.8870177268981934\n",
            "Train loss: 4.087342739105225\n",
            "Train loss: 4.093914985656738\n",
            "Train loss: 4.150160789489746\n",
            "Train loss: 4.012735366821289\n",
            "Train loss: 3.8723223209381104\n",
            "Train loss: 4.319975852966309\n",
            "Train loss: 4.133676052093506\n",
            "Train loss: 3.599587917327881\n",
            "Train loss: 4.4657769203186035\n",
            "Train loss: 3.9783523082733154\n",
            "Train loss: 4.422231674194336\n",
            "Train loss: 3.9760234355926514\n",
            "Train loss: 4.073322772979736\n",
            "Train loss: 4.002827167510986\n"
          ],
          "name": "stdout"
        },
        {
          "output_type": "stream",
          "text": [
            "\r100%|██████████| 64/64 [00:00<00:00, 764.87it/s]"
          ],
          "name": "stderr"
        },
        {
          "output_type": "stream",
          "text": [
            "Train loss: 3.361055850982666\n",
            "Train loss: 3.6488373279571533\n",
            "Train loss: 4.037426471710205\n",
            "Train loss: 4.188492774963379\n",
            "Train loss: 4.1436872482299805\n",
            "Train loss: 3.6483726501464844\n",
            "Train loss: 4.399072647094727\n",
            "Train loss: 3.937584400177002\n",
            "Train loss: 3.7891464233398438\n",
            "Train loss: 3.7381653785705566\n",
            "Train loss: 3.9301445484161377\n",
            "Train loss: 3.761371612548828\n",
            "Train loss: 3.4451000690460205\n",
            "Train loss: 4.255953311920166\n",
            "Train loss: 4.134788990020752\n",
            "Train loss: 4.1282639503479\n",
            "Train loss: 3.9124855995178223\n",
            "Train loss: 3.955836057662964\n",
            "Train loss: 3.7561070919036865\n",
            "Train loss: 4.0261311531066895\n",
            "Train loss: 3.8622121810913086\n",
            "Train loss: 4.063629150390625\n",
            "Train loss: 4.011898040771484\n",
            "Train loss: 4.2000555992126465\n",
            "Train loss: 3.899550676345825\n",
            "Train loss: 4.336552619934082\n",
            "Train loss: 4.261462211608887\n",
            "Train loss: 4.271452903747559\n",
            "Finished.\n"
          ],
          "name": "stdout"
        },
        {
          "output_type": "stream",
          "text": [
            "\n"
          ],
          "name": "stderr"
        }
      ]
    },
    {
      "cell_type": "markdown",
      "metadata": {
        "id": "Pi0sbHV6dEOR"
      },
      "source": [
        "### **테스트**"
      ]
    },
    {
      "cell_type": "markdown",
      "metadata": {
        "id": "WGarLWxXeJvz"
      },
      "source": [
        "학습된 각 모델을 이용하여 test 단어들의 word embedding을 확인합니다."
      ]
    },
    {
      "cell_type": "code",
      "metadata": {
        "id": "4A1wrl-L_RjF",
        "colab": {
          "base_uri": "https://localhost:8080/"
        },
        "outputId": "e261bf4c-df16-45d9-a0c6-3993a37f52d9"
      },
      "source": [
        "for word in test_words:\r\n",
        "  input_id = torch.LongTensor([w2i[word]]).to(device)\r\n",
        "  emb = cbow.embedding(input_id)\r\n",
        "\r\n",
        "  print(f\"Word: {word}\")\r\n",
        "  print(emb.squeeze(0))"
      ],
      "execution_count": null,
      "outputs": [
        {
          "output_type": "stream",
          "text": [
            "Word: 음식\n",
            "tensor([-8.7940e-01, -7.3004e-01,  1.0023e+00, -3.8496e-01,  4.3666e-03,\n",
            "        -7.1984e-02, -5.5287e-02,  8.9894e-01, -1.0305e+00, -1.1356e+00,\n",
            "         5.6411e-01,  1.3044e-01, -3.7066e-01,  7.2932e-01, -3.1032e-01,\n",
            "         1.0960e+00, -1.7473e-01,  1.0919e+00,  1.8430e-02, -6.2172e-01,\n",
            "        -7.6097e-01, -9.7185e-01, -8.5380e-01, -9.0724e-01,  4.8650e-01,\n",
            "         5.7786e-01,  1.1306e+00, -5.4112e-01, -1.3561e+00,  4.0185e-01,\n",
            "         1.3755e+00, -1.2558e+00,  9.3634e-01,  3.9461e-01, -6.8009e-02,\n",
            "         9.9459e-01,  3.5928e-01, -2.6833e+00,  4.2685e-01, -3.6337e-01,\n",
            "        -1.0154e+00, -2.0316e-01, -8.4114e-01,  8.7546e-01,  2.8669e-01,\n",
            "        -3.2736e-01, -4.3495e-01, -1.5923e+00,  1.3950e+00,  5.3030e-02,\n",
            "         2.0568e+00,  5.0999e-01,  3.8126e-01, -1.7067e-01, -4.0084e-01,\n",
            "         1.1872e+00,  7.2028e-01,  6.4824e-01,  4.5702e-01, -1.0367e+00,\n",
            "        -4.7624e-01,  1.6377e+00,  5.3392e-01,  1.4296e-01,  3.6640e-01,\n",
            "        -6.4731e-01,  5.1232e-01,  1.1209e+00,  1.2047e+00, -1.1801e+00,\n",
            "        -1.2903e+00, -3.4833e-01,  3.7610e-01, -8.6866e-01,  2.9221e-02,\n",
            "        -2.0853e-01,  3.7240e-01, -6.9181e-01, -5.3575e-01, -1.4752e+00,\n",
            "        -8.6327e-01, -3.1329e-02, -3.3917e-01,  4.8166e-02,  7.3615e-01,\n",
            "        -1.5719e-01,  1.5438e+00,  4.1054e-01, -7.7323e-01,  6.4605e-01,\n",
            "        -5.8946e-01,  1.2034e+00, -1.5119e+00, -1.5140e+00, -1.3499e+00,\n",
            "         9.5724e-01,  5.8302e-01, -3.9369e-01, -2.4022e-01, -8.4935e-01,\n",
            "         3.3812e-02,  1.0439e+00,  1.0832e+00, -1.0739e-01, -1.1268e+00,\n",
            "         1.0607e+00, -1.2558e+00, -5.1862e-01, -1.6461e-01, -5.0256e-01,\n",
            "         6.8399e-01, -1.3477e+00,  8.0981e-01, -2.2072e-01, -1.1223e-01,\n",
            "         2.0159e-01, -1.8652e+00,  6.6118e-01,  2.2987e-01,  2.2435e+00,\n",
            "         1.1794e-01,  2.2456e-01, -2.6483e-01,  8.0891e-01,  4.9783e-02,\n",
            "         1.1182e+00, -2.1045e-01,  1.7825e+00,  5.8753e-01,  8.4474e-01,\n",
            "        -5.1963e-01,  1.1105e+00,  7.5351e-01, -1.3692e+00,  7.6575e-01,\n",
            "        -3.8174e-01,  8.2026e-01, -4.2951e-01,  3.3825e-01,  2.3688e-01,\n",
            "         1.6980e+00,  1.5075e-03,  4.9851e-01,  3.1989e-01, -6.9904e-01,\n",
            "         2.6124e+00, -5.6953e-01, -1.4741e-01,  8.5620e-01,  6.6741e-01,\n",
            "         6.1424e-01, -5.4185e-01, -1.6670e-01,  1.3750e-01, -9.7184e-01,\n",
            "         1.1841e+00, -3.2152e-01, -5.8877e-01, -1.2760e+00,  1.1893e+00,\n",
            "        -9.6832e-01,  1.0094e+00, -4.3632e-01, -5.5288e-01, -5.8095e-01,\n",
            "        -1.6087e+00, -1.2560e+00,  7.1918e-01,  3.1893e-01, -1.5201e+00,\n",
            "        -3.3407e-01,  2.4975e-01,  6.9034e-01,  1.9741e+00,  1.5232e+00,\n",
            "        -4.3277e-01, -3.0250e-01,  1.0750e+00,  3.8352e+00, -1.1315e+00,\n",
            "         1.4248e+00, -1.3761e-01,  5.9910e-01,  1.3971e-01, -7.0330e-01,\n",
            "        -7.4407e-02, -1.8632e+00, -5.0056e-01,  3.1626e-01,  1.7757e+00,\n",
            "        -3.2027e-01,  2.6058e-01,  7.3237e-01, -5.5003e-01,  3.5883e-01,\n",
            "         4.2316e-01,  5.8741e-01,  1.5484e+00, -2.5589e+00, -1.8457e+00,\n",
            "         6.2379e-01, -4.0054e-01, -1.7042e+00,  2.7197e-01,  1.1165e+00,\n",
            "        -2.5920e-02,  6.7261e-01, -5.9939e-01, -2.2717e-01, -1.3358e+00,\n",
            "        -1.7221e+00, -9.1191e-01, -1.1483e-01,  1.5175e-01, -7.9499e-01,\n",
            "         7.2148e-01,  4.1282e-01, -1.0069e-01, -3.5979e-01,  4.6345e-01,\n",
            "         3.5594e-01, -1.3611e+00,  2.6020e+00, -6.5727e-01, -3.2690e-01,\n",
            "         1.8608e+00, -3.5833e-01, -9.2315e-01,  1.7505e+00,  7.7015e-01,\n",
            "        -7.8579e-02,  9.7236e-01,  1.6127e+00,  2.9576e-01,  3.7771e-01,\n",
            "         1.3921e+00,  6.2273e-01, -2.0124e-01, -1.8133e-01,  7.9758e-01,\n",
            "        -5.8719e-01,  3.9269e-01,  1.0217e+00, -1.1571e+00, -1.2394e+00,\n",
            "        -3.0855e+00, -8.3075e-02, -1.7458e-01, -9.2819e-01,  7.6281e-01,\n",
            "         1.7934e-01, -7.5055e-01, -4.1488e-01,  3.5402e-01, -3.7564e-01,\n",
            "         1.8912e+00], device='cuda:0', grad_fn=<SqueezeBackward1>)\n",
            "Word: 맛\n",
            "tensor([-9.0189e-01, -1.1478e+00,  4.3505e-01,  1.8271e+00, -2.6515e-01,\n",
            "        -8.5896e-01,  6.5284e-01,  6.6742e-01,  1.1550e+00, -1.0705e+00,\n",
            "         3.6184e-01,  6.2236e-01, -5.7796e-01, -4.1657e-01,  9.5843e-01,\n",
            "         1.4949e+00, -1.3290e-01, -4.8579e-03, -5.3501e-01,  7.3585e-01,\n",
            "         9.6495e-01, -1.6737e+00, -1.0110e-01, -3.8851e-01, -4.0854e-02,\n",
            "        -7.8545e-01, -8.3572e-01,  7.3723e-02, -2.8188e-01,  1.9442e+00,\n",
            "         1.2953e+00, -8.7753e-01, -7.1765e-01,  7.9781e-01, -9.4812e-01,\n",
            "         7.4450e-01,  8.0581e-01, -3.6784e-01,  2.0943e-01,  1.3033e+00,\n",
            "         7.8265e-01,  2.2704e+00, -4.7046e-01,  2.9541e-01,  9.5461e-01,\n",
            "         6.4105e-01, -8.3385e-01,  1.1503e+00, -2.5914e-02,  9.5434e-01,\n",
            "         3.5795e-01, -1.5610e+00,  1.3466e-01,  4.0983e-01, -4.8652e-01,\n",
            "        -4.1187e-01, -5.2033e-01, -7.5999e-01, -7.6013e-01, -9.4358e-01,\n",
            "        -4.2348e-03, -3.0820e-03,  9.5721e-01,  1.3015e+00, -1.2618e-01,\n",
            "         4.6691e-01,  1.2898e-01,  1.1131e-01,  8.9727e-02,  4.2705e-01,\n",
            "         3.7909e-01, -3.6294e-01,  4.7359e-01,  5.9895e-01, -3.3777e-01,\n",
            "         7.1678e-01,  1.0337e-01,  1.9141e+00, -1.0170e+00, -5.3575e-01,\n",
            "        -8.2601e-01, -1.0146e-01, -4.5585e-01,  8.7640e-01,  1.1296e+00,\n",
            "        -7.3416e-01,  4.8821e-02, -9.4580e-01,  1.0621e+00,  1.1216e+00,\n",
            "         9.9242e-02,  1.7421e+00,  8.4512e-01,  1.4563e-01,  1.5217e+00,\n",
            "        -1.1307e-01,  5.6979e-01, -1.5692e+00, -6.6823e-01,  4.4944e-01,\n",
            "         4.7860e-01, -1.5428e+00,  5.9811e-01,  7.2384e-01, -9.9493e-01,\n",
            "         1.0060e+00,  1.5564e+00, -2.3283e-01,  2.4347e+00,  2.0956e+00,\n",
            "         1.7444e+00, -1.0352e+00,  7.9395e-01,  2.2827e-01,  9.8705e-01,\n",
            "         2.1566e-01,  1.6450e-01, -3.5638e-01,  7.3928e-01,  9.0727e-01,\n",
            "        -3.2832e-01, -6.8391e-01,  7.8976e-02,  4.7631e-02, -1.2361e-01,\n",
            "        -2.5745e-02, -9.1539e-01,  3.1395e-01,  1.7375e+00,  1.7072e+00,\n",
            "         7.8521e-01,  5.3290e-01,  1.3662e+00,  2.4159e+00,  1.1445e+00,\n",
            "        -1.7524e-01, -9.1219e-01, -4.4112e-01,  1.6570e+00, -1.3465e+00,\n",
            "         4.6025e-01,  9.3367e-01, -1.5399e-01, -1.3661e+00, -2.3792e-01,\n",
            "         1.3380e+00,  2.9011e-02, -9.8439e-01,  1.0115e+00,  1.3506e-01,\n",
            "        -9.7946e-01,  9.4770e-01, -4.1244e-01, -4.6701e-01,  1.0677e+00,\n",
            "        -1.0559e-01,  1.3542e+00, -6.9414e-02,  3.6515e-01, -1.0535e-02,\n",
            "         2.7437e+00,  1.5304e-01,  3.3316e+00, -1.4408e+00, -1.4301e+00,\n",
            "        -4.1280e-01,  6.9755e-02,  2.9778e-02,  1.9615e-01, -2.8353e-01,\n",
            "        -4.1914e-01,  8.5225e-01,  7.0068e-01, -1.0844e+00,  1.4539e+00,\n",
            "         1.3234e-01,  2.1381e-01, -6.7467e-03, -4.2636e-01,  7.2527e-02,\n",
            "        -2.6564e-01,  1.9162e+00,  7.8765e-01,  1.7906e-01, -4.0092e-01,\n",
            "         2.1079e+00, -1.9263e-01, -1.7786e+00, -1.6976e+00,  1.9632e-01,\n",
            "         2.1532e-01, -1.1633e+00,  1.1426e+00,  6.7663e-01,  8.5349e-01,\n",
            "         7.9132e-01, -1.2802e-01,  7.3109e-02, -2.4866e+00,  7.0081e-01,\n",
            "        -1.1634e+00,  8.6177e-01,  2.2677e+00, -6.0432e-01,  2.0879e+00,\n",
            "         5.5161e-01, -7.3129e-01,  6.7105e-01,  3.8981e-01, -6.7118e-01,\n",
            "        -4.2474e-01,  7.7097e-01, -1.7874e-01,  2.6437e-01, -1.4899e+00,\n",
            "         1.2488e-01, -3.5049e-01,  9.0337e-01, -3.5602e-01,  1.8846e-01,\n",
            "        -3.4904e-01, -5.6837e-01, -1.3355e-01, -4.3978e-01,  2.2378e-01,\n",
            "        -1.2079e+00,  9.2568e-02,  5.9168e-01,  5.4123e-01,  3.1744e-01,\n",
            "        -7.9107e-01,  9.1039e-01,  2.5090e-02,  1.2605e+00,  2.4463e-01,\n",
            "         1.9853e-01, -3.4600e-01, -4.3763e-01,  2.6500e+00,  1.7199e+00,\n",
            "        -9.8813e-01,  6.4536e-01, -3.2886e-02, -1.4780e-01,  5.0985e-01,\n",
            "        -2.6219e-01,  6.5257e-01, -1.5648e+00,  6.5992e-01, -1.0246e+00,\n",
            "        -7.9919e-01, -1.3959e-01, -1.1988e+00, -1.2962e+00,  1.2097e-01,\n",
            "        -8.6391e-01], device='cuda:0', grad_fn=<SqueezeBackward1>)\n",
            "Word: 서비스\n",
            "tensor([ 0.7401, -1.0146, -0.7418,  0.0349,  1.0733, -0.0471, -0.6416,  1.1794,\n",
            "         0.3233,  1.7719, -0.9066,  0.9373,  1.9718, -0.7952, -0.6736,  0.6496,\n",
            "        -0.4147,  0.6361, -0.0313, -1.2069, -0.5149, -1.2664, -1.3672, -0.7719,\n",
            "        -1.3279, -0.7666,  0.7106, -1.5106,  0.6074, -1.2543, -1.1789, -0.2750,\n",
            "         1.1221, -1.3864, -1.0239, -0.7201,  1.1851,  0.6592,  0.3303, -0.0636,\n",
            "         1.9099,  0.4050,  1.3611, -0.7674,  1.6962,  0.1692,  0.3633, -1.9421,\n",
            "         0.3525, -1.2982,  0.4409, -0.6223, -1.0212, -0.6911,  0.1321,  3.0606,\n",
            "         0.4392, -0.5153, -0.2595, -1.5049, -0.5621,  0.9760,  1.0316,  0.8676,\n",
            "        -0.5527,  1.0860,  0.4504, -0.4414, -1.0372,  0.5696,  0.9155, -1.0781,\n",
            "         0.9768,  0.3352, -1.3255, -1.6951, -0.0081, -0.2402,  2.0059,  0.6576,\n",
            "        -2.4071, -0.1855,  0.4764,  0.5005,  0.2425, -0.6483, -0.4047, -0.8254,\n",
            "         1.4079,  1.6034, -0.3476, -2.4420, -0.9359, -1.5689, -1.2898,  0.0122,\n",
            "         0.4710,  0.8971, -1.3381, -0.2711,  1.0068,  0.2878, -1.6723,  1.4739,\n",
            "        -1.8316,  0.8211,  1.9832, -1.4524, -0.2713,  0.8287, -1.6872, -0.8481,\n",
            "        -0.9059,  0.1668, -0.9871, -0.3499, -0.4862,  1.1596,  0.6755,  1.0541,\n",
            "         0.1631,  1.3057, -0.0479, -0.7491,  1.2028,  0.0589,  2.1349,  0.6744,\n",
            "        -0.4826, -0.6802, -1.0352,  1.0277,  0.0601, -0.4218, -2.1218, -0.5983,\n",
            "        -0.2794, -1.3301,  0.0279,  1.8208, -0.6431,  1.4496,  0.1849,  0.7338,\n",
            "        -1.4954,  0.5699, -0.8693, -1.0070,  0.4689,  1.3470,  0.7168, -0.7185,\n",
            "         0.2970, -2.5468,  0.9240,  1.5906,  1.3441, -2.2914,  0.2247,  0.3667,\n",
            "        -0.1433,  0.3557, -0.5730,  2.2576,  0.2412,  0.7266,  0.1467, -0.7417,\n",
            "        -1.3453,  0.6018, -1.1931, -0.3091,  0.2208, -0.3924, -0.5532, -1.5311,\n",
            "         0.3574, -3.0070, -0.0044, -0.8716, -0.2379,  0.8560,  0.5415, -2.7629,\n",
            "        -0.5937, -1.3457,  0.8440,  1.0457, -0.9149, -0.9889, -1.1516,  0.4862,\n",
            "        -1.8663, -0.0695, -1.2265, -0.4367, -0.9407,  0.8641, -1.2909, -0.2528,\n",
            "         1.2291,  1.7193,  1.6654, -0.9334, -0.0509, -0.1060,  1.5971, -0.7117,\n",
            "         2.5396,  0.5457, -0.5550,  1.1881, -0.7385,  1.1625, -0.0848, -0.2323,\n",
            "         0.0050, -1.2888, -0.3319, -1.3539, -0.4859, -0.8881, -0.5466, -0.6074,\n",
            "        -1.1187, -1.2032, -0.2389,  0.4724, -0.3171, -1.1059, -1.0272, -0.0692,\n",
            "         0.5789,  0.9922,  0.0106, -0.1416,  0.5500, -1.8122,  0.7319,  2.5017,\n",
            "        -0.1944,  1.1415,  0.1734, -0.3839, -1.1095,  1.8765, -0.3035,  0.0765,\n",
            "         1.4215,  0.3402,  1.0883, -0.3610,  0.7835,  0.9113,  1.6278, -1.4290],\n",
            "       device='cuda:0', grad_fn=<SqueezeBackward1>)\n",
            "Word: 위생\n",
            "tensor([-0.4970, -1.5412,  2.5814,  0.6860, -1.3993,  0.5588, -1.4309,  0.4889,\n",
            "         0.0885, -1.3827, -1.1568, -0.5563, -1.0008,  0.5183, -0.4227,  1.2319,\n",
            "         1.2273,  0.7808, -1.6128, -2.3489, -0.4214, -0.2971,  0.3933, -0.0725,\n",
            "         0.4096, -0.1375, -0.8335, -1.0930,  0.9183,  1.3620, -0.9760,  0.0642,\n",
            "         0.4824,  0.2862, -0.4921,  1.6096,  0.8968,  1.4403, -0.8000,  0.6638,\n",
            "         1.6569,  1.9767,  0.7087, -0.7177,  0.5755, -0.8320,  0.3494,  0.1869,\n",
            "         0.1047,  0.6562,  1.6096,  2.2177, -1.0344, -1.0604, -0.9646,  0.6006,\n",
            "        -1.2696, -0.7734, -0.3312, -0.7420, -0.2561,  0.3189,  0.3882, -0.9405,\n",
            "        -1.6229, -1.4392, -0.8807,  0.7256, -0.5876,  0.3086, -1.3022, -1.1693,\n",
            "        -1.9880, -0.8103, -1.3587,  0.4936,  1.3404, -0.5421,  0.9140,  0.7060,\n",
            "         0.7801,  0.0366, -0.8562, -0.7661,  0.1886,  0.5694, -0.3298, -1.5331,\n",
            "        -0.6344, -0.9551,  0.4748,  1.0686,  0.4660,  0.1810, -0.3698,  1.1808,\n",
            "         0.6125,  0.0803,  0.4896,  0.2812, -1.5372,  0.9994,  0.7764,  0.4247,\n",
            "         0.3341,  0.1865, -0.6116,  0.9541, -1.1547, -0.4277,  0.6223, -0.5388,\n",
            "         0.5656, -1.0361, -0.6948, -0.4036,  0.4810, -0.0481, -0.1962,  0.2512,\n",
            "        -0.0958,  0.2447, -0.0800,  1.0944, -0.3957,  1.3242,  1.6302,  0.3726,\n",
            "        -0.5605,  0.7443, -1.7080, -0.5689, -0.9427, -2.3026, -0.3962,  2.3294,\n",
            "        -0.4847,  0.2043, -1.5366,  1.6845,  1.3279, -0.0613,  0.2554,  1.3619,\n",
            "        -0.6367, -0.2425,  1.4865,  0.5217,  0.0054,  0.5216,  0.3747, -0.2225,\n",
            "         0.3455, -1.4286, -0.6879, -0.4211, -0.2888,  0.9761,  0.3988,  0.4124,\n",
            "         1.1453,  1.3410, -1.0946, -0.5063,  0.1290, -1.2152,  0.3512,  0.4684,\n",
            "         1.0265, -1.2840,  0.0609,  1.2525,  0.8149, -0.0968, -0.4180,  0.3245,\n",
            "        -0.1096, -0.5403,  0.1061,  1.5635,  0.8185, -0.4232, -1.0887, -0.2510,\n",
            "         0.0885,  0.5577, -1.0271,  1.5850,  0.5090,  1.3230, -0.6803,  0.4291,\n",
            "         0.9909,  0.8262,  0.3460,  1.7020,  0.1875,  0.3434, -1.2464, -0.1216,\n",
            "        -1.6414, -0.1342, -0.8313, -0.2547, -1.2885,  0.0660,  1.5837,  0.8611,\n",
            "         1.5193,  0.4655, -0.6453, -0.6364, -2.0940, -0.7582, -0.6980, -2.6408,\n",
            "        -0.6379,  0.5027, -0.7235,  1.6039,  0.0032, -0.7323, -0.3854, -0.1879,\n",
            "         1.4613, -1.3721,  0.5360,  1.0253,  0.0286,  0.4297, -2.1666,  0.4520,\n",
            "         0.4233,  1.0732,  0.5170,  1.2222,  0.6873, -0.0119, -0.6499,  1.1426,\n",
            "         0.5333, -0.2111, -0.7204,  0.1716,  0.5099, -1.7469, -0.7987,  1.3560,\n",
            "         0.1847, -0.0476, -0.8102,  0.6357, -0.0071,  0.2113, -1.9794, -0.8554],\n",
            "       device='cuda:0', grad_fn=<SqueezeBackward1>)\n",
            "Word: 가격\n",
            "tensor([-1.3757e+00, -7.5766e-01,  3.7786e-01,  1.5777e+00, -3.4137e-01,\n",
            "        -1.6304e+00,  1.2946e-01, -1.3632e+00,  7.6888e-01, -8.9001e-02,\n",
            "        -1.0923e+00, -7.0925e-02,  1.0863e+00, -5.5562e-01, -7.0233e-01,\n",
            "        -1.3638e+00,  1.3081e+00,  6.7544e-01,  4.2513e-01,  4.1164e-01,\n",
            "         1.5775e+00, -2.6708e-01,  5.2442e-01,  6.6771e-02, -1.5557e-01,\n",
            "        -1.0221e+00,  2.1354e-01, -3.6005e-02,  1.4325e+00, -1.5688e+00,\n",
            "        -5.6209e-01,  1.0301e-01, -5.0417e-01, -1.7811e+00, -9.8859e-01,\n",
            "         7.3648e-01,  1.6930e+00, -1.4788e+00,  1.7169e+00, -1.6117e-01,\n",
            "        -4.1673e-01,  1.2184e-01,  1.0004e+00,  1.1767e+00,  7.7789e-01,\n",
            "         6.6906e-01, -1.4742e+00,  4.1147e-01, -1.2271e+00,  3.3270e-01,\n",
            "         2.1818e+00,  2.0470e+00,  1.3179e+00, -4.3269e-01,  7.7727e-01,\n",
            "        -1.8675e-01, -1.0969e+00, -7.9261e-01, -7.4080e-01, -2.0224e+00,\n",
            "         9.0366e-01,  2.9717e-01,  9.0993e-01,  1.3713e-01,  1.2910e-02,\n",
            "        -5.9541e-01,  8.9983e-01,  2.6820e-01, -2.3844e-01,  1.6594e+00,\n",
            "        -3.2565e-01,  1.3980e+00,  3.1564e-01, -1.4704e-01, -1.1311e+00,\n",
            "        -7.4031e-01,  4.4331e-01,  8.5243e-01, -1.0993e+00, -1.3945e-01,\n",
            "        -2.1848e+00,  8.2867e-01,  1.3571e+00, -6.2643e-01, -9.7076e-01,\n",
            "        -6.4489e-01, -2.7324e-01, -3.1766e+00, -2.9018e-01, -8.8272e-01,\n",
            "        -2.5466e-01,  6.4015e-01, -9.3699e-03, -6.0595e-01,  8.7691e-01,\n",
            "        -7.3739e-01, -9.5991e-01,  4.8099e-01,  2.7032e-01,  1.3463e+00,\n",
            "         9.9656e-01, -1.6504e-01, -7.5103e-01, -1.9063e+00, -1.6801e+00,\n",
            "         1.3050e+00, -2.1630e+00, -4.8892e-01, -2.3361e-01,  2.5420e+00,\n",
            "        -3.7726e-01,  1.3294e+00,  2.5275e-03,  1.7079e+00,  4.2319e-01,\n",
            "        -1.5453e+00,  5.1163e-01,  9.0188e-02, -7.5866e-01,  1.2130e+00,\n",
            "        -1.1305e+00, -5.3395e-01, -1.0790e+00, -1.7821e+00, -3.6428e-01,\n",
            "         1.1944e+00,  1.0556e+00, -6.9208e-01,  1.3829e+00, -4.2602e-01,\n",
            "         7.9420e-01, -2.0494e-01, -4.8164e-01, -5.4815e-01, -1.2550e-01,\n",
            "        -1.3599e+00, -2.6180e-01,  1.9766e-02, -1.3096e+00, -2.2968e+00,\n",
            "         6.8500e-01, -5.6904e-01,  1.1244e-01,  3.9223e-01,  1.9047e-01,\n",
            "         1.3087e+00,  1.2135e+00,  1.8944e-01, -1.2454e+00, -8.6871e-01,\n",
            "         2.3288e-01, -4.4019e-01,  2.7520e+00,  1.2762e+00, -5.6234e-01,\n",
            "        -6.0208e-01,  1.0370e+00, -9.7311e-03, -6.4921e-01, -1.9547e+00,\n",
            "        -1.3298e+00,  2.8232e-01,  1.8246e-01,  4.6447e-01,  7.4761e-01,\n",
            "        -9.7713e-02, -1.4078e+00,  1.4404e+00, -1.7979e-01, -2.0209e+00,\n",
            "        -1.9482e-01,  2.3170e-01, -8.6544e-01, -5.1777e-01, -1.5462e+00,\n",
            "         8.5040e-01,  2.6789e-01, -1.6302e+00,  1.1280e+00,  2.8708e+00,\n",
            "         1.8336e-01,  2.3634e-01,  4.1641e-01, -3.9441e-01,  9.5019e-02,\n",
            "        -3.6609e-01,  1.4605e+00, -4.0090e-01, -2.4254e+00, -5.2327e-02,\n",
            "        -2.0256e-01, -1.7395e+00, -1.9240e+00,  1.4421e+00,  1.5028e+00,\n",
            "         1.3706e+00, -1.6659e+00,  3.0985e-01,  5.7189e-01,  9.1285e-01,\n",
            "         9.7242e-01,  1.6058e-01, -8.8636e-01,  3.0098e-01,  1.3709e+00,\n",
            "        -3.7818e+00, -3.5087e-01,  8.4527e-01, -1.8053e+00, -1.5444e+00,\n",
            "        -7.3607e-01,  9.4403e-01, -6.6429e-01, -7.3794e-02, -7.1207e-01,\n",
            "        -1.6183e-01,  4.1596e-02, -5.7471e-01,  5.1136e-01,  2.6218e-02,\n",
            "         6.2198e-01, -2.9846e-01,  6.6161e-01, -9.1392e-01,  1.0102e+00,\n",
            "         7.0610e-01,  9.4646e-01,  8.7630e-02,  3.1235e-01,  1.0002e+00,\n",
            "        -1.4356e+00, -5.8663e-01,  1.3576e+00,  4.8282e-01, -3.2860e-01,\n",
            "         8.8785e-01,  1.1632e+00, -8.6362e-01,  1.5785e+00,  6.7411e-01,\n",
            "        -1.4133e-01,  1.6271e+00, -7.3988e-01,  9.1394e-01,  7.0534e-02,\n",
            "        -3.8291e-01, -1.5773e+00, -3.4012e-01,  4.8393e-01,  4.6353e-01,\n",
            "         6.6274e-01,  3.0563e-01, -2.9413e+00,  8.4685e-01,  3.3229e-01,\n",
            "         5.5461e-01], device='cuda:0', grad_fn=<SqueezeBackward1>)\n"
          ],
          "name": "stdout"
        }
      ]
    },
    {
      "cell_type": "code",
      "metadata": {
        "id": "_l5cPRZZe-R4",
        "colab": {
          "base_uri": "https://localhost:8080/"
        },
        "outputId": "35bea33d-825f-4312-cbd0-74f9fd55a109"
      },
      "source": [
        "for word in test_words:\r\n",
        "\r\n",
        "  input_id = torch.LongTensor([w2i[word]]).to(device)\r\n",
        "  emb = skipgram.embedding(input_id)\r\n",
        "\r\n",
        "  print(f\"Word: {word}\")\r\n",
        "  print(emb.squeeze(0))"
      ],
      "execution_count": null,
      "outputs": [
        {
          "output_type": "stream",
          "text": [
            "Word: 음식\n",
            "tensor([-0.4028,  0.1612,  0.3360, -1.0856,  2.3051,  0.7446, -0.4309, -0.8757,\n",
            "         0.9802, -0.8527, -0.8463, -0.6561, -0.1993, -0.0058,  2.3992,  0.4526,\n",
            "        -0.9500, -0.5230, -0.7011, -1.0525, -1.9706,  1.6420,  1.7454, -1.2930,\n",
            "         0.2302,  0.7838, -1.4744,  0.4100, -0.4302, -1.3660,  0.1505,  0.5202,\n",
            "         1.3057, -0.3662,  1.2751, -0.7210, -1.2883, -0.7870,  0.2205, -0.7886,\n",
            "         0.4784,  1.8578,  1.3035,  0.0659, -1.9863, -1.0185,  0.1364, -0.2422,\n",
            "        -0.8939, -0.5392, -0.1992, -1.8788,  0.1251,  0.3758,  1.0502, -1.0988,\n",
            "        -1.0099,  0.2536,  0.3273, -1.2719, -0.0048,  0.0693, -2.5666,  0.7108,\n",
            "        -0.4248,  0.0345, -1.4300, -0.0691,  1.0977, -0.2731, -0.9515, -0.8822,\n",
            "         0.1936, -0.7494,  2.3647,  0.7400, -0.3946,  0.4903, -1.1521,  0.1030,\n",
            "         0.0621,  0.2775,  0.3751,  0.9269, -1.8535, -1.9377, -0.1461, -1.4735,\n",
            "        -0.3034, -1.6798, -0.6237, -0.4715, -1.4069,  0.1719, -1.6662,  0.0228,\n",
            "        -1.8699, -0.8817,  0.6585,  0.9883, -1.4432,  0.3940,  0.0092, -0.4192,\n",
            "         0.7441,  2.0678, -1.1762, -0.7500,  1.2285, -0.2372,  0.4995, -0.4883,\n",
            "         0.9564,  0.4662,  0.7179,  0.9030, -0.4121,  0.8791,  1.4601, -0.8514,\n",
            "        -0.5340,  0.2366,  0.1217, -0.3183, -0.5221, -0.2138,  0.8752, -1.0135,\n",
            "        -0.8423,  1.6618,  1.2329, -0.0291,  0.3607, -0.1054, -0.0829,  0.9924,\n",
            "         0.2745,  0.7390, -0.6626,  0.8419,  0.7369, -0.0489,  0.5964,  0.6212,\n",
            "         1.3178,  0.1708, -0.3849,  0.6735, -0.2025,  0.4706,  0.8694,  0.1978,\n",
            "         0.1541,  0.5127,  0.1607,  2.2268, -0.8604,  1.9057,  1.4513,  0.3235,\n",
            "         0.9371,  1.6931,  0.8549, -0.5778,  0.8266, -0.8491,  0.3374,  0.2903,\n",
            "        -0.6317,  0.8553,  0.1459, -0.3615, -0.7086, -0.2512,  0.6897, -0.0401,\n",
            "         0.0344,  1.2878,  0.2195, -0.3092,  1.2667,  0.1267, -1.2842, -1.7519,\n",
            "         0.9843,  0.1525,  0.3096,  1.1521, -1.6170, -1.6884,  0.1197,  2.1937,\n",
            "        -0.2122, -0.3313,  0.1260,  0.6720, -0.6819, -0.0588,  0.2759, -1.0095,\n",
            "        -0.3370, -0.1943,  0.3998,  1.1667,  0.0927,  1.7804, -0.8990,  0.6818,\n",
            "         0.3185, -0.0363,  1.3811, -0.3780, -0.6343, -1.1202,  1.2669, -1.2758,\n",
            "        -0.5290, -1.4579, -0.4556, -0.8339,  0.0937, -0.6139, -0.8455,  0.0778,\n",
            "        -0.7652,  0.3162,  2.2980, -1.0607,  0.4863, -0.8614, -0.4474, -0.0377,\n",
            "         0.5155, -0.9590,  0.0900, -1.1328, -0.4003,  0.3439, -0.2544, -1.7531,\n",
            "        -2.9106,  0.0239, -0.3809,  0.6640,  0.9349, -0.7213,  0.0818,  0.3984,\n",
            "        -0.5422, -0.6633,  0.1810, -2.0955, -1.4174,  1.1262,  1.7162,  1.1006],\n",
            "       device='cuda:0', grad_fn=<SqueezeBackward1>)\n",
            "Word: 맛\n",
            "tensor([-0.0493, -0.7985,  1.2609, -1.5749,  0.6211,  0.6829, -0.0794, -1.6432,\n",
            "        -0.2594,  0.0167, -0.1264, -0.4969,  0.7701,  1.1785, -1.2537, -0.6206,\n",
            "        -0.1108,  0.3120, -0.9256, -1.2874,  1.1887, -1.1412, -0.5670, -1.0853,\n",
            "         2.3250, -1.3779, -0.1947,  0.3095,  0.6160, -1.3900,  0.1593,  0.8575,\n",
            "        -2.4120, -0.4120, -1.5748,  0.3417,  0.2622,  0.4295, -1.2582,  1.2412,\n",
            "        -0.5869, -1.0869,  0.3979,  0.2079,  1.2682, -1.8328, -0.3201,  0.6856,\n",
            "         0.1430, -0.4027,  0.3183,  0.8320, -1.9267,  0.6705,  0.5986,  0.3993,\n",
            "        -1.3091, -0.0144,  1.6671,  1.7774,  0.2896, -0.1917,  0.2558,  0.3866,\n",
            "         3.1393, -0.1541,  1.0105, -0.3204, -0.6072,  1.7380, -0.3289,  0.7731,\n",
            "         1.0675, -0.9110, -0.0344,  0.4138, -2.6437,  2.5587,  1.0080, -0.2909,\n",
            "         0.1900,  0.6893, -0.3580,  0.6630, -0.4607,  2.7331,  0.4841, -0.5582,\n",
            "         0.0548, -1.8705, -0.4110,  0.2640,  0.1109,  0.4676, -0.6038,  1.4145,\n",
            "         0.3446,  2.2102,  0.6240,  0.3388, -1.0118,  0.7648,  0.2535,  0.6933,\n",
            "         0.3821, -0.6663, -0.2188, -0.4947,  2.6311,  0.4891, -1.1703,  0.0135,\n",
            "         2.0676, -0.3454, -0.5161, -1.2988,  1.2402,  0.3849,  0.1093,  0.4157,\n",
            "         0.8235,  1.6207, -1.4998, -0.8463, -1.2161, -0.7491,  1.5889, -0.1721,\n",
            "         0.4417, -0.3277,  0.0800,  1.2470, -1.6263, -0.5392, -0.1255,  0.0265,\n",
            "        -0.5391,  1.0638, -2.2606, -1.3247,  0.1689,  2.0625,  0.1712,  0.5529,\n",
            "         0.2561, -0.8828,  2.3341, -0.7640, -0.3162, -1.1045, -1.0917, -1.2337,\n",
            "        -0.6118,  0.7042, -1.2903,  1.3385,  0.3400, -0.5925,  2.0789, -1.5787,\n",
            "        -1.8102, -0.6338,  0.2383,  2.8630,  0.0495, -1.8696,  1.1364,  2.3821,\n",
            "         0.2131, -0.8491,  0.6990, -0.2091,  0.2650,  0.1402, -1.1943, -0.1400,\n",
            "         0.2958, -0.2090,  1.4229, -1.2020, -0.2092,  1.6937,  0.3921, -0.3108,\n",
            "        -0.9435,  0.0949,  0.3711,  0.1890,  1.7028,  0.1231,  0.4291, -2.0802,\n",
            "         0.9539,  0.9917, -0.2017,  1.2660,  0.8621,  0.8299,  0.5473, -1.6883,\n",
            "         1.9680,  1.0389, -0.4537, -0.3078,  1.4428, -0.4552,  0.3035,  0.2569,\n",
            "         0.0075, -0.0782,  2.6650,  0.7462, -1.4970,  0.2443, -1.5938, -0.9596,\n",
            "        -1.2156,  0.4011, -1.8082, -0.8492, -0.2633,  0.1868,  0.2975,  0.0962,\n",
            "         0.7802, -1.6380, -0.4282, -0.6312, -0.8956,  0.7057,  1.2042,  0.5259,\n",
            "         0.9995,  1.3194, -0.4792, -0.0965, -2.0310, -0.2658, -0.6775,  0.4801,\n",
            "         0.8685,  0.6599, -0.2543, -0.4987,  0.1087,  1.3031, -0.4961, -1.1883,\n",
            "         0.0883,  1.4423, -0.6972, -0.0076, -1.1872, -1.0678,  1.2189,  0.7168],\n",
            "       device='cuda:0', grad_fn=<SqueezeBackward1>)\n",
            "Word: 서비스\n",
            "tensor([-0.4204, -0.4094, -1.2010,  1.9739,  0.6914,  0.3158, -1.1084, -0.0080,\n",
            "         1.3433, -0.2406,  1.5176,  0.1836, -1.1515,  0.0833, -0.2302,  0.4145,\n",
            "         1.3629, -0.4379,  0.1524, -1.1953,  1.0217,  1.5365, -0.6595, -1.3771,\n",
            "        -0.0277, -1.1237, -0.2883, -2.0437,  1.0367, -2.5132, -0.5756,  1.1101,\n",
            "         0.1554,  0.4300, -0.0886, -0.2082, -0.1206, -0.4682,  1.0785,  0.2492,\n",
            "        -0.6096, -0.2169,  1.5452, -2.5904, -0.9557,  1.6106, -0.3179,  0.1422,\n",
            "        -2.5867,  1.4386,  0.5264,  0.0808,  1.0917,  0.1339,  0.1848, -1.8914,\n",
            "        -1.6895,  1.2894,  0.5799, -0.1425,  0.8594,  0.7359, -0.7455, -0.8240,\n",
            "         0.5666, -0.0263, -0.2500, -1.2800,  0.4395, -1.0738,  1.2135, -0.6636,\n",
            "         1.2489, -0.6480,  0.3269,  0.2818,  0.8835, -0.9585, -0.1235,  0.9119,\n",
            "         1.0939,  1.0068,  1.9399, -0.0045,  0.0737, -1.1620, -0.4855,  0.7427,\n",
            "        -0.1496, -1.4323,  0.4944,  1.4687, -1.1192, -1.3070,  1.5071, -0.6090,\n",
            "        -0.3439, -1.1427,  1.1711,  0.6479, -0.2892,  0.0298,  0.2513,  0.4277,\n",
            "         1.3897, -0.2280,  1.3969,  0.6262, -2.2816, -0.4044, -1.1076, -0.8418,\n",
            "         0.9137, -0.9477,  0.0392,  0.9805,  0.2630,  0.2444,  0.5973, -1.6396,\n",
            "        -0.9824,  0.8202, -0.5260, -0.2403,  0.0876, -0.1058, -2.1295,  0.7363,\n",
            "         0.8072,  0.3703, -0.2711, -0.9436,  1.1448, -1.1698,  1.9069, -0.2544,\n",
            "        -2.6599,  1.9356,  0.2597, -0.5833,  0.1829,  0.0268,  1.3507, -0.3284,\n",
            "         0.0577, -1.1264, -1.7499, -1.1893,  1.1059, -1.5726, -0.5586,  0.3694,\n",
            "         0.5577, -0.0621, -0.7264, -0.3385,  0.4151, -0.6194,  0.3906,  1.6258,\n",
            "        -1.0204,  0.0590,  1.3289,  0.6825, -0.6003,  1.0022, -0.3459,  0.0297,\n",
            "         0.0140,  0.0579,  0.4304,  1.2956, -0.9627,  0.4554, -1.5848, -0.1826,\n",
            "        -0.3618,  0.3243, -1.6117,  0.4593,  0.3670,  0.4884,  0.0060, -0.1745,\n",
            "         0.6709,  1.5195, -0.3777,  1.4156, -0.7806, -0.3438,  0.2663, -0.6524,\n",
            "         0.5795,  1.8201,  0.3720, -0.2771, -0.8659, -0.8333, -0.7550, -1.8475,\n",
            "        -1.0331, -0.1650,  0.6208,  0.3678, -1.4737, -0.7056, -0.7409,  0.0684,\n",
            "        -0.3644,  0.3097, -2.3163,  0.7542,  0.4952, -1.1487,  0.3434,  0.4582,\n",
            "         0.6299, -1.4186,  0.6980,  0.8846,  0.2213,  0.4825,  0.8749,  0.3395,\n",
            "         0.1983,  1.8453,  1.1390, -0.7211, -0.4153,  0.0443,  1.1909,  0.8033,\n",
            "        -0.1897,  0.5591, -0.5728, -0.3203,  0.8293, -0.5554,  1.3521,  0.0708,\n",
            "        -0.1026, -1.5774, -0.2259,  0.1026, -0.0557,  0.3623, -0.7583,  0.2807,\n",
            "        -0.0058, -0.3715,  0.4480, -1.2268, -0.2012,  0.4753,  0.5917, -0.3983],\n",
            "       device='cuda:0', grad_fn=<SqueezeBackward1>)\n",
            "Word: 위생\n",
            "tensor([ 0.3322,  0.2549, -0.1498,  0.9156,  0.5564,  1.3704, -0.0551,  0.8211,\n",
            "        -0.7627,  0.6920,  1.5259,  0.1467,  0.0807,  0.5879,  0.6696, -0.1036,\n",
            "         0.3500,  1.2102, -1.3664, -0.6121,  0.3223, -0.7120, -0.5870,  0.7854,\n",
            "         0.9951, -2.1193,  0.5886, -1.6683,  0.8177,  0.8424,  0.1540,  2.7236,\n",
            "         0.6035,  2.8195,  0.1087, -0.1496,  1.2565, -0.6397,  0.3062,  0.2662,\n",
            "         1.4953, -1.5189,  0.9717,  0.4501,  1.5532,  0.1941,  1.0025,  0.9112,\n",
            "        -0.7849, -0.1928,  0.7621, -0.4128, -0.2523,  0.5480, -0.2733, -0.3111,\n",
            "         0.4526,  0.7523, -0.6011,  0.0871,  0.4449, -0.0311,  0.4168,  0.3297,\n",
            "         2.2336,  1.5255,  0.6795, -0.6193, -0.5237, -0.9894, -0.2171, -0.0760,\n",
            "         0.0107,  0.9612,  0.6292,  0.3134, -2.0829,  0.1964, -1.1167,  0.0348,\n",
            "        -0.9533,  1.5649,  0.4004,  0.8479, -0.8720, -0.8700, -0.9064,  0.5023,\n",
            "         0.4368, -2.2511,  0.0661,  0.2664,  0.1770,  0.3271, -0.8693, -2.1966,\n",
            "         1.0567, -0.1491, -0.5784,  0.3254, -0.7945,  0.5907,  0.0767,  1.1095,\n",
            "         1.7104,  1.4767,  0.5579,  0.6215, -0.3637,  0.0838, -0.8583,  0.9932,\n",
            "        -0.4983,  0.6367,  0.0597,  0.4283,  0.7330,  0.5171,  1.9580, -0.9760,\n",
            "         1.5020, -1.9854,  0.7790, -1.1118, -0.4127, -1.3684, -0.2356,  0.3689,\n",
            "        -0.8591,  0.2515,  0.6408,  0.5325,  0.7839, -0.0623, -0.9298,  0.6659,\n",
            "         0.0099,  0.4545,  0.7153,  0.7471, -1.9430, -1.5775, -0.0873, -0.3901,\n",
            "        -1.0590,  0.1887, -0.5872,  0.9825, -0.7605,  0.6126, -0.0087,  0.1991,\n",
            "         1.9569,  0.0958,  0.0509,  0.4045, -0.6065,  1.1575, -0.1550,  1.3023,\n",
            "        -0.5768,  0.2879, -0.1473, -0.4462, -1.6284,  1.7411, -1.1383,  1.8147,\n",
            "         0.4444, -0.8585, -0.8080, -1.4917,  0.3825, -1.7107, -0.9644,  1.2454,\n",
            "         0.6496,  0.5054,  0.1834,  0.2421, -0.2731, -0.7775, -0.3710,  0.3980,\n",
            "        -1.3980,  1.1140, -1.3326,  0.5201, -1.2828,  1.6886,  0.7192, -2.3114,\n",
            "        -0.2307,  2.0140, -0.9165,  0.5735,  0.4094, -0.9140,  0.1762,  0.2617,\n",
            "         0.4331,  0.4799,  1.0945,  0.8390,  0.2562,  0.4828, -0.2898, -0.6164,\n",
            "        -0.1831,  0.8930,  0.1325, -0.5108, -0.1974, -3.1544,  0.1736, -1.5455,\n",
            "        -1.6895, -0.5010,  0.8393, -0.6037,  0.6978,  1.2618, -0.0600,  1.1525,\n",
            "        -0.6595,  0.1475, -0.2488, -1.4149, -1.4060,  0.1734,  0.9129, -0.7847,\n",
            "        -0.3938, -0.8082, -0.7039,  0.3220, -1.5314,  1.3813, -0.3155, -1.4401,\n",
            "         1.1178,  0.0555, -1.5716, -0.4119, -1.9474, -0.2103, -1.1276, -1.1210,\n",
            "         1.2012,  1.0183,  0.1129, -0.8872, -0.3483,  0.7496, -1.4423,  0.5456],\n",
            "       device='cuda:0', grad_fn=<SqueezeBackward1>)\n",
            "Word: 가격\n",
            "tensor([ 1.8598e+00,  1.3516e+00,  2.4453e-01,  8.9002e-01, -2.1063e-01,\n",
            "        -7.6490e-01,  1.8539e+00, -5.2959e-01, -2.1312e+00,  3.5117e-01,\n",
            "         2.0599e-01,  6.9355e-01,  2.8585e-01,  1.1701e+00, -1.4030e-01,\n",
            "        -1.4845e+00,  3.9425e-02,  6.5359e-01, -1.2725e+00, -1.1534e-01,\n",
            "         2.6159e-01,  1.3206e+00, -1.2106e+00, -3.5990e-01, -8.0278e-01,\n",
            "        -1.1302e+00,  1.2592e+00, -8.4754e-01,  1.2913e+00,  6.3043e-01,\n",
            "        -1.5352e+00,  1.0441e+00, -2.2636e+00, -5.5095e-01, -1.0026e+00,\n",
            "         1.2588e-01, -2.2582e-01,  5.0796e-01,  1.8233e-01, -1.8100e+00,\n",
            "         3.4459e-01, -9.0568e-02,  5.2809e-01,  1.0103e+00,  1.5430e+00,\n",
            "         1.4452e+00, -5.5339e-02,  3.9798e-01, -4.3788e-01, -4.2731e-01,\n",
            "         1.6944e+00, -7.6672e-02,  6.3881e-03,  7.3100e-01,  1.2077e+00,\n",
            "         1.9528e+00, -3.8076e-01,  3.8593e-01, -1.4957e+00, -1.3848e+00,\n",
            "        -1.4199e-01, -2.0822e-01,  4.2207e-01,  3.4191e-02, -7.5914e-01,\n",
            "         1.7652e-01,  1.3486e+00, -6.3755e-02, -1.9862e+00, -8.7264e-01,\n",
            "         1.4015e+00, -9.2953e-01,  1.6687e+00,  1.2158e+00, -2.3736e+00,\n",
            "         2.1364e+00, -1.0530e+00, -1.1144e+00,  1.9546e+00, -3.4230e-01,\n",
            "         5.5173e-01,  2.4515e-01, -7.1715e-01,  1.6558e+00, -9.8493e-01,\n",
            "         1.2075e+00,  1.1783e+00,  7.0652e-01,  5.8122e-02,  2.7941e-01,\n",
            "        -3.0588e-02,  5.9809e-01,  5.2143e-01, -2.8500e-01, -1.7919e+00,\n",
            "         1.7563e+00, -4.5860e-01,  1.5469e+00, -4.4164e-01,  1.2821e+00,\n",
            "        -1.2858e+00,  1.4401e+00,  1.9559e-01,  7.3827e-01,  4.1042e-01,\n",
            "        -1.8508e+00,  1.5245e-01,  1.1986e-01, -8.5771e-01, -8.8348e-01,\n",
            "         8.8167e-01, -3.3127e-01, -3.3841e-01,  5.1136e-01, -1.2211e+00,\n",
            "        -1.5544e+00,  1.1903e+00,  7.9647e-01,  8.9388e-01, -5.6355e-01,\n",
            "        -1.3285e+00, -5.5146e-01, -7.6297e-01,  3.9046e-01, -1.6926e+00,\n",
            "        -2.7171e-01,  7.5054e-01,  4.0814e-01, -8.0693e-01,  4.1123e-01,\n",
            "         1.9776e-01,  5.2947e-02,  2.8470e+00, -7.0956e-02, -4.9891e-01,\n",
            "         3.6485e-01, -7.0853e-01,  1.3893e-01,  6.7304e-01, -2.8409e+00,\n",
            "        -5.3057e-01, -1.2201e+00,  1.8073e-01, -6.1894e-01, -9.0120e-01,\n",
            "         4.3507e-01, -1.1579e+00, -4.3236e-02,  1.1504e-01,  1.2050e-01,\n",
            "         6.3426e-01, -3.5473e-01,  3.8542e-01,  1.5670e+00, -1.5688e-01,\n",
            "         1.1509e-01, -3.1085e-02, -4.9615e-01,  7.5326e-01,  1.0770e+00,\n",
            "         1.5228e+00, -1.2392e+00, -1.6070e-01,  9.9578e-01,  4.1951e-01,\n",
            "         4.4025e-01, -5.7131e-01, -1.6455e+00, -2.1732e-02,  3.4173e-01,\n",
            "        -3.3384e-01,  1.0816e+00, -5.5461e-01, -9.7971e-01, -5.8070e-01,\n",
            "        -3.9644e-01, -4.3971e-01,  4.0868e-01, -8.4087e-01, -1.0895e+00,\n",
            "        -8.2623e-01,  1.3706e+00,  1.5437e+00,  5.9023e-01,  1.4978e+00,\n",
            "        -2.0879e-01, -3.3457e+00,  1.3428e+00,  1.9635e-01,  1.4134e+00,\n",
            "        -2.4233e-01, -1.4549e+00,  1.3630e+00,  1.5823e+00,  1.6508e+00,\n",
            "        -5.6792e-01, -1.1996e-01,  1.0877e+00,  9.3465e-01, -8.9940e-02,\n",
            "        -5.8890e-01,  4.0862e-01, -1.0775e+00,  2.0914e-01, -2.7754e-01,\n",
            "         4.2824e-01,  5.1944e-01, -8.2778e-01,  5.0194e-01,  6.4474e-01,\n",
            "         5.4715e-02, -1.0910e+00,  8.4688e-01, -1.1621e+00, -1.5005e-01,\n",
            "         1.1111e+00, -2.1846e+00,  3.8024e-01,  2.4991e+00, -1.1590e+00,\n",
            "         1.0101e+00,  3.3772e-01, -1.2158e+00,  1.7335e+00, -1.7328e+00,\n",
            "         4.9435e-02, -8.7790e-01,  1.9485e+00,  1.3542e+00,  1.9149e+00,\n",
            "         5.9185e-01,  9.2492e-01, -5.6948e-01, -4.4543e-01, -6.2509e-01,\n",
            "         8.8173e-01, -1.3764e+00,  3.1300e-02,  8.8676e-01,  1.6577e+00,\n",
            "        -2.2213e-01, -3.2928e-02, -6.0202e-01, -2.0114e-03,  3.2744e-02,\n",
            "        -1.9987e-01, -9.6209e-02, -1.3428e+00, -8.1619e-01,  1.1384e+00,\n",
            "        -4.8597e-01, -6.9671e-01, -4.2519e-01, -1.1620e-01, -3.4623e-01,\n",
            "        -1.2536e+00], device='cuda:0', grad_fn=<SqueezeBackward1>)\n"
          ],
          "name": "stdout"
        }
      ]
    }
  ]
}