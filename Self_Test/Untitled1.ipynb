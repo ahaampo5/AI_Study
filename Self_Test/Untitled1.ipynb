{
 "cells": [
  {
   "cell_type": "code",
   "execution_count": 1,
   "id": "monetary-breath",
   "metadata": {
    "scrolled": true
   },
   "outputs": [
    {
     "name": "stdout",
     "output_type": "stream",
     "text": [
      "Pytorch version : 1.7.1\n",
      "device : [cuda:0]\n"
     ]
    }
   ],
   "source": [
    "import numpy as np\n",
    "import torch\n",
    "import torch.nn as nn\n",
    "import torch.optim as optim\n",
    "import torch.nn.functional as F\n",
    "from torch.utils.data import DataLoader\n",
    "import matplotlib.pyplot as plt\n",
    "%matplotlib inline\n",
    "%config InlineBackend.figure_format='retina'\n",
    "print('Pytorch version :', torch.__version__)\n",
    "device = torch.device('cuda:0' if torch.cuda.is_available() else 'cpu')\n",
    "print(f'device : [{device}]')"
   ]
  },
  {
   "cell_type": "code",
   "execution_count": 27,
   "id": "desperate-indian",
   "metadata": {},
   "outputs": [],
   "source": [
    "class RNN(nn.Module):\n",
    "    def __init__(self,x_dim=28,h_dim=256,y_dim=10,n_layer=1 ):\n",
    "        super(RNN,self).__init__()\n",
    "        self.x_dim = x_dim\n",
    "        self.h_dim = h_dim\n",
    "        self.y_dim = y_dim\n",
    "        self.n_layer = n_layer\n",
    "        \n",
    "        self.rnn = nn.RNN(\n",
    "        input_size=self.x_dim,hidden_size=self.h_dim,num_layers=self.n_layer,batch_first=True)\n",
    "        self.init_param()\n",
    "    \n",
    "    def forward(self,input):\n",
    "        x = input\n",
    "        h_0 = torch.zeros(self.n_layer,x.size(0),self.h_dim).to(device)\n",
    "        c_0 = torch.zeros(self.n_layer,x.size(0),self.h_dim).to(device)\n",
    "        rnn_out, (h_n,c_n) = self.rnn(x,(h_0,c_0))\n",
    "        out = self.lin(rnn_out[:,-1,:]).view(-1,self.y_dim)\n",
    "        return out\n",
    "    \n",
    "    def init_param(self):\n",
    "        for name, param in self.named_parameters():\n",
    "            if 'weight' in name:\n",
    "                nn.init.kaiming_normal_(param.data)\n",
    "            elif 'bias' in name:\n",
    "                nn.init.zeros_(param.data)"
   ]
  },
  {
   "cell_type": "code",
   "execution_count": 28,
   "id": "packed-bosnia",
   "metadata": {},
   "outputs": [],
   "source": [
    "a = RNN(x_dim=28,h_dim=256,y_dim=10,n_layer=1)"
   ]
  },
  {
   "cell_type": "code",
   "execution_count": 29,
   "id": "imported-baking",
   "metadata": {
    "scrolled": true
   },
   "outputs": [
    {
     "data": {
      "text/plain": [
       "[RNN(\n",
       "   (rnn): RNN(28, 256, batch_first=True)\n",
       " ),\n",
       " RNN(28, 256, batch_first=True)]"
      ]
     },
     "execution_count": 29,
     "metadata": {},
     "output_type": "execute_result"
    }
   ],
   "source": [
    "list(a.modules())"
   ]
  },
  {
   "cell_type": "code",
   "execution_count": 30,
   "id": "embedded-classroom",
   "metadata": {},
   "outputs": [
    {
     "name": "stdout",
     "output_type": "stream",
     "text": [
      "rnn.weight_ih_l0\n",
      "torch.Size([256, 28])\n",
      "rnn.weight_hh_l0\n",
      "torch.Size([256, 256])\n",
      "rnn.bias_ih_l0\n",
      "torch.Size([256])\n",
      "rnn.bias_hh_l0\n",
      "torch.Size([256])\n"
     ]
    }
   ],
   "source": [
    "for name,param in a.named_parameters():\n",
    "    print(name)\n",
    "    print(param.size())\n",
    "    \n",
    "    "
   ]
  },
  {
   "cell_type": "code",
   "execution_count": null,
   "id": "loose-keyboard",
   "metadata": {},
   "outputs": [],
   "source": []
  }
 ],
 "metadata": {
  "kernelspec": {
   "display_name": "Python 3",
   "language": "python",
   "name": "python3"
  },
  "language_info": {
   "codemirror_mode": {
    "name": "ipython",
    "version": 3
   },
   "file_extension": ".py",
   "mimetype": "text/x-python",
   "name": "python",
   "nbconvert_exporter": "python",
   "pygments_lexer": "ipython3",
   "version": "3.8.5"
  }
 },
 "nbformat": 4,
 "nbformat_minor": 5
}
