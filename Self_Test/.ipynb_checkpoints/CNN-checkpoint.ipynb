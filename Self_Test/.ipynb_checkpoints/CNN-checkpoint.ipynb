{
 "cells": [
  {
   "cell_type": "code",
   "execution_count": 1,
   "id": "agricultural-matrix",
   "metadata": {
    "scrolled": true
   },
   "outputs": [
    {
     "name": "stdout",
     "output_type": "stream",
     "text": [
      "pytorch version : 1.7.1\n",
      "device : cuda:0\n"
     ]
    }
   ],
   "source": [
    "import numpy as np\n",
    "import torch\n",
    "import torch.nn as nn\n",
    "import torch.optim as optim\n",
    "import torch.nn.functional as F\n",
    "import matplotlib.pyplot as plt\n",
    "from torch.utils.data import DataLoader\n",
    "%matplotlib inline\n",
    "%config InlineBackend.figure_format = 'retina'\n",
    "print('pytorch version :',torch.__version__)\n",
    "device = torch.device('cuda:0' if torch.cuda.is_available() else 'cpu')\n",
    "print('device :', device)"
   ]
  },
  {
   "cell_type": "markdown",
   "id": "acknowledged-agreement",
   "metadata": {},
   "source": [
    "- 1. Dataset 구성"
   ]
  },
  {
   "cell_type": "code",
   "execution_count": 2,
   "id": "pointed-america",
   "metadata": {},
   "outputs": [
    {
     "data": {
      "text/plain": [
       "torch.Size([60000, 28, 28])"
      ]
     },
     "execution_count": 2,
     "metadata": {},
     "output_type": "execute_result"
    }
   ],
   "source": [
    "from torchvision import datasets, transforms\n",
    "train_dataset = datasets.MNIST(root='./data',train=True, transform=transforms.ToTensor(),download=True)\n",
    "test_dataset = datasets.MNIST(root='./data',train=False, transform=transforms.ToTensor(),download=True)\n",
    "train_dataset.data.size()"
   ]
  },
  {
   "cell_type": "markdown",
   "id": "induced-improvement",
   "metadata": {},
   "source": [
    "- 2. Data iterator 구성"
   ]
  },
  {
   "cell_type": "code",
   "execution_count": 3,
   "id": "imperial-appliance",
   "metadata": {},
   "outputs": [],
   "source": [
    "BATCH_SIZE = 256\n",
    "train_iter = DataLoader(train_dataset,batch_size=BATCH_SIZE,shuffle=True,num_workers=1)\n",
    "test_iter = DataLoader(test_dataset,batch_size=BATCH_SIZE,shuffle=True,num_workers=1)"
   ]
  },
  {
   "cell_type": "markdown",
   "id": "corrected-million",
   "metadata": {},
   "source": [
    "- 3. Model 구성"
   ]
  },
  {
   "cell_type": "code",
   "execution_count": 4,
   "id": "adult-scholarship",
   "metadata": {},
   "outputs": [],
   "source": [
    "class CNN(nn.Module):\n",
    "    def __init__(self,x_dim=[1,28,28],c_dims=[32,64],k_size=3,h_dims=[1024,128],y_dim=10,USE_BATCHNORM=False):\n",
    "        super(CNN,self).__init__()\n",
    "        self.x_dim = x_dim\n",
    "        self.c_dims = c_dims\n",
    "        self.h_dims = h_dims\n",
    "        self.y_dim = y_dim\n",
    "        self.k_size = k_size\n",
    "        self.USE_BATCHNORM = USE_BATCHNORM\n",
    "        self.layers = []\n",
    "        \n",
    "        pre_cdim = self.x_dim[0]\n",
    "        for cdim in self.c_dims:\n",
    "            conv = nn.Conv2d(pre_cdim,cdim,kernel_size=self.k_size,stride=(1,1),padding=(self.k_size//2))\n",
    "            self.layers.append(conv)\n",
    "            if self.USE_BATCHNORM:\n",
    "                self.layers.append(nn.BatchNorm2d(cdim))\n",
    "            self.layers.append(nn.ReLU(True))\n",
    "            self.layers.append(nn.MaxPool2d(kernel_size=(2,2),stride=(2,2)))\n",
    "            self.layers.append(nn.Dropout2d(p=0.5))\n",
    "            pre_cdim = cdim\n",
    "\n",
    "        self.layers.append(nn.Flatten())\n",
    "        \n",
    "        pre_hdim = pre_cdim*(x_dim[1]//(2**len(self.c_dims)))*(x_dim[2]//(2**len(self.c_dims)))\n",
    "        for hdim in self.h_dims:\n",
    "            lin = nn.Linear(pre_hdim,hdim)\n",
    "            self.layers.append(lin)\n",
    "            self.layers.append(nn.ReLU(True))\n",
    "            pre_hdim = hdim\n",
    "        self.layers.append(nn.Linear(hdim,self.y_dim))\n",
    "        self.net = nn.Sequential()\n",
    "        for l_idx, layer in enumerate(self.layers):\n",
    "            layer_name = f\"{type(layer).__name__.lower()}_{l_idx:02d}\"\n",
    "            self.net.add_module(layer_name,layer)\n",
    "        self.init_param()\n",
    "                         \n",
    "        \n",
    "    def forward(self,input):\n",
    "        x = input\n",
    "        return self.net(x)\n",
    "    \n",
    "    def init_param(self):\n",
    "        for m in self.modules():\n",
    "            if isinstance(m, nn.Conv2d):\n",
    "                nn.init.kaiming_normal_(m.weight)\n",
    "                nn.init.zeros_(m.bias)\n",
    "            elif isinstance(m, nn.Linear):\n",
    "                nn.init.kaiming_normal_(m.weight)\n",
    "                nn.init.zeros_(m.bias)\n",
    "            elif isinstance(m, nn.BatchNorm2d):\n",
    "                nn.init.constant_(m.weight,1)\n",
    "                nn.init.constant_(m.bias,0)\n",
    "        "
   ]
  },
  {
   "cell_type": "code",
   "execution_count": 33,
   "id": "outside-carnival",
   "metadata": {},
   "outputs": [],
   "source": [
    "model = CNN(x_dim=[1,28,28],c_dims=[32,64],k_size=3,h_dims=[1024,128],y_dim=10,USE_BATCHNORM=False).to(device)\n",
    "loss = nn.CrossEntropyLoss()\n",
    "optimizer = optim.Adam(model.parameters(),lr=1e-3)"
   ]
  },
  {
   "cell_type": "markdown",
   "id": "tamil-syndrome",
   "metadata": {},
   "source": [
    "- Model check"
   ]
  },
  {
   "cell_type": "code",
   "execution_count": 34,
   "id": "tribal-protection",
   "metadata": {},
   "outputs": [
    {
     "name": "stdout",
     "output_type": "stream",
     "text": [
      "x_numpy [[[[5.544e-01 2.536e-01 5.824e-01 7.607e-01 6.020e-01 8.233e-02\n",
      "    5.607e-01 9.397e-02 1.620e-01 1.924e-01 4.553e-01 2.509e-01\n",
      "    9.322e-01 1.373e-01 6.722e-01 4.228e-01 3.756e-01 9.857e-01\n",
      "    6.108e-01 4.752e-01 5.674e-01 7.143e-01 5.994e-01 5.991e-01\n",
      "    8.771e-01 4.668e-01 9.535e-02 1.673e-01]\n",
      "   [7.075e-01 4.287e-01 5.457e-01 9.497e-01 1.135e-01 8.960e-01\n",
      "    8.771e-01 3.338e-01 8.677e-02 5.914e-01 7.312e-01 8.424e-01\n",
      "    5.416e-02 2.140e-01 6.976e-01 3.345e-01 7.449e-01 2.072e-01\n",
      "    3.869e-01 7.138e-01 1.127e-01 3.135e-02 7.502e-01 5.718e-01\n",
      "    8.703e-01 9.259e-01 4.977e-01 7.526e-01]\n",
      "   [3.282e-01 7.927e-01 5.778e-01 6.275e-01 3.420e-01 2.347e-01\n",
      "    1.527e-01 7.217e-01 3.565e-01 9.452e-01 3.734e-01 3.941e-01\n",
      "    3.147e-01 7.090e-01 5.256e-01 4.128e-01 1.890e-02 6.396e-01\n",
      "    1.118e-01 7.407e-01 7.558e-01 5.561e-01 3.710e-01 3.155e-01\n",
      "    6.194e-01 4.799e-01 1.688e-01 5.169e-01]\n",
      "   [1.653e-02 6.887e-01 3.940e-01 7.191e-01 8.389e-01 3.727e-01\n",
      "    8.607e-01 8.848e-01 1.397e-01 1.631e-01 2.538e-01 8.566e-01\n",
      "    3.698e-01 2.541e-01 7.900e-01 6.801e-01 4.528e-01 2.809e-02\n",
      "    2.674e-01 6.002e-01 4.255e-01 5.078e-01 9.746e-01 2.513e-02\n",
      "    8.753e-01 7.134e-01 3.422e-01 2.485e-01]\n",
      "   [9.711e-01 6.443e-01 4.089e-01 9.568e-01 8.979e-01 2.709e-01\n",
      "    9.885e-01 6.474e-01 1.788e-01 8.590e-01 7.347e-01 7.959e-01\n",
      "    2.483e-01 7.081e-01 7.569e-01 3.883e-01 6.334e-02 6.695e-01\n",
      "    5.685e-01 1.810e-01 3.058e-02 7.361e-01 8.421e-01 4.306e-01\n",
      "    9.836e-01 1.927e-02 5.203e-01 1.023e-01]\n",
      "   [4.734e-01 5.051e-01 5.355e-01 2.130e-01 3.567e-01 5.247e-01\n",
      "    7.584e-01 2.474e-01 7.137e-01 8.983e-01 8.455e-01 6.138e-01\n",
      "    5.277e-01 4.820e-01 9.058e-02 9.265e-01 1.834e-01 3.377e-01\n",
      "    3.925e-01 4.465e-01 8.830e-01 8.366e-01 2.020e-01 1.584e-01\n",
      "    7.837e-02 9.726e-01 9.639e-01 6.601e-01]\n",
      "   [5.047e-01 7.486e-01 9.246e-02 1.128e-01 1.469e-01 6.958e-01\n",
      "    1.770e-01 9.728e-01 2.461e-01 7.040e-02 8.008e-01 7.164e-01\n",
      "    9.501e-01 5.153e-01 2.462e-01 6.486e-01 9.702e-01 3.644e-01\n",
      "    4.233e-01 4.340e-01 6.987e-01 3.895e-01 3.349e-01 5.236e-01\n",
      "    9.862e-01 4.208e-01 6.663e-01 8.062e-01]\n",
      "   [1.961e-01 4.671e-01 2.454e-01 2.197e-01 8.406e-01 6.389e-01\n",
      "    8.254e-01 5.764e-01 8.626e-01 5.982e-01 2.514e-01 2.313e-01\n",
      "    5.843e-01 4.737e-03 6.622e-02 1.551e-01 6.185e-01 4.594e-01\n",
      "    5.254e-01 1.384e-01 9.809e-01 9.822e-01 7.885e-01 5.952e-01\n",
      "    8.510e-01 7.730e-01 4.966e-01 4.510e-01]\n",
      "   [8.657e-01 8.543e-01 3.437e-01 5.006e-01 1.550e-01 7.437e-01\n",
      "    9.412e-01 2.808e-01 6.177e-02 1.410e-01 4.968e-01 6.289e-03\n",
      "    4.966e-01 3.488e-01 8.325e-01 6.005e-01 1.660e-01 7.926e-01\n",
      "    6.238e-01 3.660e-01 3.648e-01 8.401e-01 9.500e-02 9.549e-01\n",
      "    6.394e-02 4.828e-01 5.757e-01 4.346e-01]\n",
      "   [1.474e-01 3.505e-02 5.041e-01 4.741e-01 2.515e-02 3.982e-01\n",
      "    4.918e-01 2.921e-01 9.946e-01 7.629e-01 6.908e-01 7.103e-01\n",
      "    5.839e-01 7.805e-04 5.481e-01 2.128e-01 2.723e-01 9.893e-01\n",
      "    3.636e-01 2.638e-02 9.149e-01 4.126e-01 6.358e-01 3.694e-01\n",
      "    9.058e-01 2.022e-01 5.015e-01 3.052e-01]\n",
      "   [6.199e-01 3.930e-01 9.083e-01 8.842e-01 7.887e-01 7.973e-01\n",
      "    8.840e-01 1.374e-01 7.000e-01 9.269e-01 7.403e-01 8.286e-01\n",
      "    4.864e-01 8.219e-01 7.913e-01 6.170e-01 6.986e-01 7.180e-01\n",
      "    4.853e-01 1.290e-01 2.624e-01 1.658e-01 3.401e-01 6.503e-01\n",
      "    6.434e-01 6.019e-01 6.667e-01 8.526e-01]\n",
      "   [9.321e-01 2.779e-01 9.859e-01 6.220e-01 4.450e-01 8.417e-01\n",
      "    2.423e-01 1.066e-01 8.199e-01 2.605e-01 5.962e-02 5.643e-01\n",
      "    5.474e-01 7.052e-02 6.388e-01 8.984e-01 6.413e-01 8.169e-01\n",
      "    9.773e-02 7.830e-01 8.957e-01 3.825e-01 5.848e-01 3.660e-01\n",
      "    3.668e-01 3.712e-01 3.433e-01 5.044e-01]\n",
      "   [1.865e-01 4.389e-01 7.708e-01 3.017e-01 2.332e-01 1.043e-01\n",
      "    7.092e-01 5.413e-01 3.856e-01 3.724e-01 9.861e-01 4.119e-01\n",
      "    8.297e-01 2.629e-01 1.768e-02 6.988e-01 6.892e-01 9.742e-02\n",
      "    7.189e-01 8.217e-01 1.343e-01 1.274e-01 1.027e-01 2.926e-01\n",
      "    1.867e-01 3.768e-01 2.787e-01 1.336e-01]\n",
      "   [4.828e-01 4.684e-01 7.194e-01 2.981e-01 2.152e-03 5.703e-02\n",
      "    5.556e-01 7.027e-01 1.799e-01 3.519e-01 3.683e-01 5.387e-01\n",
      "    4.158e-02 7.599e-01 2.476e-01 8.374e-02 4.866e-01 1.881e-01\n",
      "    2.023e-01 4.212e-01 6.620e-02 7.926e-01 2.424e-01 1.707e-01\n",
      "    6.103e-01 1.978e-01 5.208e-01 7.488e-01]\n",
      "   [6.530e-01 9.883e-01 3.502e-01 2.961e-01 5.657e-01 5.493e-01\n",
      "    7.288e-01 1.787e-02 9.009e-01 9.503e-01 4.998e-01 6.392e-01\n",
      "    5.647e-01 3.300e-01 6.504e-01 3.016e-01 7.677e-01 6.804e-01\n",
      "    2.644e-01 7.711e-01 3.686e-01 9.912e-01 4.688e-01 8.158e-01\n",
      "    5.935e-01 3.343e-01 8.297e-01 9.471e-01]\n",
      "   [6.378e-01 7.586e-02 6.854e-01 4.168e-01 7.514e-01 2.215e-01\n",
      "    9.899e-01 8.206e-01 9.109e-01 7.630e-01 8.654e-01 9.564e-01\n",
      "    7.371e-01 9.372e-02 1.947e-01 5.257e-02 6.747e-01 1.219e-01\n",
      "    9.712e-01 2.662e-01 9.566e-01 1.052e-01 5.433e-01 8.455e-01\n",
      "    7.674e-01 5.277e-01 4.731e-01 2.886e-01]\n",
      "   [7.823e-01 8.197e-01 2.254e-01 9.048e-01 4.497e-01 1.189e-01\n",
      "    6.374e-01 4.334e-01 6.075e-01 1.560e-01 2.072e-01 2.075e-01\n",
      "    7.400e-01 7.720e-01 7.848e-01 8.102e-01 6.531e-01 7.133e-01\n",
      "    9.991e-01 1.221e-02 2.682e-01 9.291e-01 6.173e-01 2.359e-01\n",
      "    2.603e-01 3.280e-01 3.979e-01 4.506e-01]\n",
      "   [1.759e-01 3.203e-01 6.625e-02 9.553e-01 7.170e-01 4.874e-01\n",
      "    4.079e-01 4.995e-01 6.662e-01 9.305e-01 7.061e-01 9.428e-01\n",
      "    4.533e-01 8.255e-01 2.809e-01 3.884e-01 3.350e-01 6.870e-01\n",
      "    5.767e-01 7.707e-01 5.059e-01 1.084e-01 1.228e-01 8.699e-01\n",
      "    7.002e-01 3.884e-01 8.553e-01 6.728e-01]\n",
      "   [4.116e-01 6.988e-01 5.912e-01 7.781e-01 9.012e-01 5.753e-01\n",
      "    6.730e-01 1.375e-01 6.177e-01 7.103e-01 6.223e-01 2.281e-01\n",
      "    8.485e-01 4.870e-04 1.238e-01 6.871e-02 3.933e-01 6.062e-01\n",
      "    6.539e-01 8.967e-01 9.671e-01 9.113e-01 6.928e-01 5.496e-01\n",
      "    7.601e-01 1.877e-01 4.516e-01 2.176e-01]\n",
      "   [3.558e-01 5.567e-01 9.946e-01 6.740e-02 5.113e-01 1.290e-01\n",
      "    4.883e-01 7.049e-01 7.586e-01 9.217e-01 5.002e-01 4.242e-01\n",
      "    8.377e-01 7.301e-02 2.983e-01 7.567e-01 6.957e-01 7.526e-01\n",
      "    8.977e-01 9.271e-01 7.116e-01 6.867e-01 3.928e-01 3.942e-01\n",
      "    8.080e-01 6.504e-01 6.227e-01 5.824e-02]\n",
      "   [9.344e-01 7.219e-01 2.891e-01 3.050e-01 3.699e-01 8.132e-01\n",
      "    4.707e-01 1.444e-01 3.473e-01 9.067e-01 3.006e-01 4.666e-01\n",
      "    2.781e-01 1.712e-01 8.802e-01 3.120e-02 5.990e-02 9.916e-01\n",
      "    3.051e-01 4.740e-02 3.436e-01 8.784e-01 9.315e-01 5.506e-01\n",
      "    7.902e-01 2.451e-02 5.659e-01 9.351e-01]\n",
      "   [6.442e-01 4.065e-01 5.384e-01 3.584e-01 2.790e-01 7.056e-01\n",
      "    1.390e-01 9.861e-01 4.684e-01 9.975e-01 2.734e-01 9.100e-01\n",
      "    3.886e-01 2.029e-01 6.498e-01 7.268e-01 8.489e-01 6.724e-01\n",
      "    9.755e-01 5.981e-01 2.771e-01 6.291e-01 3.177e-01 6.127e-01\n",
      "    2.353e-01 9.994e-01 7.545e-01 9.436e-01]\n",
      "   [6.016e-01 3.687e-01 1.473e-01 7.770e-01 1.343e-01 1.384e-01\n",
      "    4.576e-01 2.612e-01 1.610e-01 8.838e-01 7.448e-01 7.176e-01\n",
      "    5.483e-01 5.154e-01 4.823e-01 1.128e-01 2.865e-01 8.465e-01\n",
      "    6.403e-01 2.228e-01 4.585e-01 2.423e-01 6.202e-02 7.999e-01\n",
      "    7.987e-01 3.769e-01 1.970e-01 9.470e-01]\n",
      "   [1.072e-01 1.931e-01 9.904e-01 7.567e-01 8.719e-02 9.626e-01\n",
      "    3.132e-02 6.940e-01 5.957e-01 4.520e-01 3.235e-01 5.054e-02\n",
      "    8.720e-01 5.403e-01 5.622e-01 1.773e-01 8.982e-02 5.966e-01\n",
      "    1.000e-01 1.766e-01 7.477e-01 5.435e-01 5.369e-02 5.278e-01\n",
      "    8.857e-02 6.278e-01 2.745e-01 3.873e-02]\n",
      "   [6.381e-01 1.102e-01 8.713e-01 6.508e-01 2.279e-01 5.208e-01\n",
      "    2.017e-01 1.696e-01 4.429e-04 4.819e-01 8.521e-01 3.747e-01\n",
      "    1.621e-02 2.055e-01 1.407e-01 2.250e-01 1.352e-01 5.169e-01\n",
      "    1.667e-02 3.593e-01 9.886e-01 6.632e-01 9.268e-01 4.659e-01\n",
      "    6.057e-01 3.927e-02 3.081e-01 8.164e-01]\n",
      "   [2.901e-01 2.581e-01 8.925e-01 1.055e-01 3.060e-01 7.988e-01\n",
      "    8.907e-01 8.719e-01 7.337e-01 3.819e-01 7.577e-01 9.418e-01\n",
      "    2.489e-01 9.085e-01 2.580e-01 4.215e-01 7.816e-01 4.433e-02\n",
      "    1.649e-01 3.691e-01 2.951e-01 6.532e-01 8.191e-01 2.663e-02\n",
      "    6.535e-01 9.159e-01 5.429e-01 3.785e-01]\n",
      "   [4.970e-01 6.518e-01 5.308e-01 6.606e-01 7.660e-01 4.173e-02\n",
      "    6.043e-01 4.580e-01 5.945e-01 5.275e-01 4.984e-01 2.216e-01\n",
      "    4.654e-02 1.774e-01 8.787e-01 5.665e-02 6.386e-02 2.618e-01\n",
      "    9.874e-01 5.700e-01 8.690e-03 1.575e-01 9.172e-01 5.417e-01\n",
      "    5.094e-01 6.435e-01 1.587e-01 1.025e-01]\n",
      "   [6.230e-01 4.653e-01 1.389e-01 3.463e-01 5.164e-01 9.535e-01\n",
      "    2.766e-01 3.132e-01 7.263e-01 6.637e-01 5.090e-01 1.042e-01\n",
      "    9.474e-01 7.178e-01 5.253e-01 9.749e-01 2.861e-01 3.765e-01\n",
      "    1.331e-01 1.003e-01 3.020e-01 6.691e-01 9.166e-01 2.806e-01\n",
      "    7.698e-01 8.881e-01 9.957e-01 9.357e-01]]]]\n",
      "x_torch tensor([[[[5.5440e-01, 2.5356e-01, 5.8237e-01, 7.6068e-01, 6.0204e-01,\n",
      "           8.2331e-02, 5.6070e-01, 9.3973e-02, 1.6197e-01, 1.9236e-01,\n",
      "           4.5525e-01, 2.5086e-01, 9.3220e-01, 1.3731e-01, 6.7218e-01,\n",
      "           4.2281e-01, 3.7557e-01, 9.8574e-01, 6.1082e-01, 4.7523e-01,\n",
      "           5.6739e-01, 7.1434e-01, 5.9940e-01, 5.9914e-01, 8.7705e-01,\n",
      "           4.6685e-01, 9.5349e-02, 1.6726e-01],\n",
      "          [7.0755e-01, 4.2870e-01, 5.4567e-01, 9.4972e-01, 1.1347e-01,\n",
      "           8.9600e-01, 8.7709e-01, 3.3381e-01, 8.6774e-02, 5.9135e-01,\n",
      "           7.3117e-01, 8.4245e-01, 5.4160e-02, 2.1401e-01, 6.9761e-01,\n",
      "           3.3452e-01, 7.4487e-01, 2.0721e-01, 3.8688e-01, 7.1376e-01,\n",
      "           1.1265e-01, 3.1347e-02, 7.5021e-01, 5.7177e-01, 8.7026e-01,\n",
      "           9.2594e-01, 4.9772e-01, 7.5262e-01],\n",
      "          [3.2821e-01, 7.9266e-01, 5.7780e-01, 6.2753e-01, 3.4204e-01,\n",
      "           2.3475e-01, 1.5274e-01, 7.2168e-01, 3.5647e-01, 9.4517e-01,\n",
      "           3.7336e-01, 3.9410e-01, 3.1468e-01, 7.0903e-01, 5.2564e-01,\n",
      "           4.1279e-01, 1.8898e-02, 6.3961e-01, 1.1181e-01, 7.4070e-01,\n",
      "           7.5581e-01, 5.5607e-01, 3.7101e-01, 3.1553e-01, 6.1937e-01,\n",
      "           4.7993e-01, 1.6884e-01, 5.1687e-01],\n",
      "          [1.6532e-02, 6.8870e-01, 3.9395e-01, 7.1913e-01, 8.3886e-01,\n",
      "           3.7273e-01, 8.6068e-01, 8.8476e-01, 1.3968e-01, 1.6309e-01,\n",
      "           2.5377e-01, 8.5662e-01, 3.6983e-01, 2.5409e-01, 7.8998e-01,\n",
      "           6.8013e-01, 4.5279e-01, 2.8086e-02, 2.6741e-01, 6.0022e-01,\n",
      "           4.2549e-01, 5.0778e-01, 9.7464e-01, 2.5127e-02, 8.7528e-01,\n",
      "           7.1340e-01, 3.4223e-01, 2.4848e-01],\n",
      "          [9.7112e-01, 6.4425e-01, 4.0892e-01, 9.5683e-01, 8.9791e-01,\n",
      "           2.7086e-01, 9.8847e-01, 6.4742e-01, 1.7878e-01, 8.5900e-01,\n",
      "           7.3469e-01, 7.9594e-01, 2.4832e-01, 7.0808e-01, 7.5688e-01,\n",
      "           3.8834e-01, 6.3343e-02, 6.6954e-01, 5.6851e-01, 1.8097e-01,\n",
      "           3.0585e-02, 7.3612e-01, 8.4210e-01, 4.3058e-01, 9.8365e-01,\n",
      "           1.9273e-02, 5.2028e-01, 1.0230e-01],\n",
      "          [4.7335e-01, 5.0513e-01, 5.3551e-01, 2.1303e-01, 3.5668e-01,\n",
      "           5.2473e-01, 7.5843e-01, 2.4740e-01, 7.1373e-01, 8.9831e-01,\n",
      "           8.4547e-01, 6.1382e-01, 5.2772e-01, 4.8199e-01, 9.0581e-02,\n",
      "           9.2648e-01, 1.8342e-01, 3.3773e-01, 3.9251e-01, 4.4647e-01,\n",
      "           8.8304e-01, 8.3661e-01, 2.0197e-01, 1.5843e-01, 7.8371e-02,\n",
      "           9.7260e-01, 9.6395e-01, 6.6008e-01],\n",
      "          [5.0471e-01, 7.4861e-01, 9.2462e-02, 1.1281e-01, 1.4694e-01,\n",
      "           6.9585e-01, 1.7698e-01, 9.7285e-01, 2.4609e-01, 7.0399e-02,\n",
      "           8.0077e-01, 7.1643e-01, 9.5008e-01, 5.1534e-01, 2.4619e-01,\n",
      "           6.4863e-01, 9.7021e-01, 3.6438e-01, 4.2330e-01, 4.3397e-01,\n",
      "           6.9873e-01, 3.8950e-01, 3.3491e-01, 5.2356e-01, 9.8620e-01,\n",
      "           4.2077e-01, 6.6630e-01, 8.0624e-01],\n",
      "          [1.9610e-01, 4.6707e-01, 2.4544e-01, 2.1968e-01, 8.4063e-01,\n",
      "           6.3887e-01, 8.2540e-01, 5.7640e-01, 8.6259e-01, 5.9822e-01,\n",
      "           2.5143e-01, 2.3126e-01, 5.8430e-01, 4.7366e-03, 6.6223e-02,\n",
      "           1.5506e-01, 6.1846e-01, 4.5936e-01, 5.2541e-01, 1.3844e-01,\n",
      "           9.8093e-01, 9.8225e-01, 7.8847e-01, 5.9523e-01, 8.5096e-01,\n",
      "           7.7302e-01, 4.9658e-01, 4.5105e-01],\n",
      "          [8.6573e-01, 8.5435e-01, 3.4367e-01, 5.0060e-01, 1.5503e-01,\n",
      "           7.4373e-01, 9.4123e-01, 2.8078e-01, 6.1772e-02, 1.4095e-01,\n",
      "           4.9682e-01, 6.2885e-03, 4.9660e-01, 3.4882e-01, 8.3252e-01,\n",
      "           6.0049e-01, 1.6596e-01, 7.9258e-01, 6.2380e-01, 3.6605e-01,\n",
      "           3.6484e-01, 8.4008e-01, 9.5004e-02, 9.5487e-01, 6.3941e-02,\n",
      "           4.8280e-01, 5.7566e-01, 4.3457e-01],\n",
      "          [1.4738e-01, 3.5048e-02, 5.0405e-01, 4.7411e-01, 2.5150e-02,\n",
      "           3.9819e-01, 4.9181e-01, 2.9207e-01, 9.9464e-01, 7.6295e-01,\n",
      "           6.9078e-01, 7.1032e-01, 5.8388e-01, 7.8051e-04, 5.4811e-01,\n",
      "           2.1275e-01, 2.7231e-01, 9.8927e-01, 3.6361e-01, 2.6378e-02,\n",
      "           9.1494e-01, 4.1264e-01, 6.3584e-01, 3.6943e-01, 9.0584e-01,\n",
      "           2.0216e-01, 5.0147e-01, 3.0515e-01],\n",
      "          [6.1987e-01, 3.9303e-01, 9.0826e-01, 8.8417e-01, 7.8869e-01,\n",
      "           7.9731e-01, 8.8405e-01, 1.3740e-01, 7.0003e-01, 9.2690e-01,\n",
      "           7.4028e-01, 8.2855e-01, 4.8637e-01, 8.2190e-01, 7.9130e-01,\n",
      "           6.1697e-01, 6.9860e-01, 7.1803e-01, 4.8532e-01, 1.2898e-01,\n",
      "           2.6235e-01, 1.6579e-01, 3.4012e-01, 6.5028e-01, 6.4341e-01,\n",
      "           6.0187e-01, 6.6675e-01, 8.5258e-01],\n",
      "          [9.3214e-01, 2.7785e-01, 9.8592e-01, 6.2196e-01, 4.4499e-01,\n",
      "           8.4172e-01, 2.4234e-01, 1.0657e-01, 8.1992e-01, 2.6052e-01,\n",
      "           5.9619e-02, 5.6431e-01, 5.4741e-01, 7.0524e-02, 6.3878e-01,\n",
      "           8.9838e-01, 6.4125e-01, 8.1686e-01, 9.7734e-02, 7.8302e-01,\n",
      "           8.9567e-01, 3.8255e-01, 5.8477e-01, 3.6603e-01, 3.6681e-01,\n",
      "           3.7122e-01, 3.4327e-01, 5.0442e-01],\n",
      "          [1.8649e-01, 4.3891e-01, 7.7084e-01, 3.0166e-01, 2.3323e-01,\n",
      "           1.0427e-01, 7.0925e-01, 5.4135e-01, 3.8558e-01, 3.7235e-01,\n",
      "           9.8606e-01, 4.1191e-01, 8.2973e-01, 2.6288e-01, 1.7685e-02,\n",
      "           6.9881e-01, 6.8919e-01, 9.7418e-02, 7.1887e-01, 8.2173e-01,\n",
      "           1.3435e-01, 1.2743e-01, 1.0275e-01, 2.9261e-01, 1.8672e-01,\n",
      "           3.7684e-01, 2.7874e-01, 1.3355e-01],\n",
      "          [4.8280e-01, 4.6836e-01, 7.1940e-01, 2.9810e-01, 2.1522e-03,\n",
      "           5.7026e-02, 5.5557e-01, 7.0274e-01, 1.7995e-01, 3.5188e-01,\n",
      "           3.6835e-01, 5.3869e-01, 4.1585e-02, 7.5985e-01, 2.4758e-01,\n",
      "           8.3741e-02, 4.8657e-01, 1.8812e-01, 2.0229e-01, 4.2123e-01,\n",
      "           6.6205e-02, 7.9261e-01, 2.4238e-01, 1.7065e-01, 6.1031e-01,\n",
      "           1.9777e-01, 5.2082e-01, 7.4876e-01],\n",
      "          [6.5299e-01, 9.8831e-01, 3.5016e-01, 2.9613e-01, 5.6569e-01,\n",
      "           5.4929e-01, 7.2877e-01, 1.7870e-02, 9.0088e-01, 9.5032e-01,\n",
      "           4.9977e-01, 6.3920e-01, 5.6466e-01, 3.3001e-01, 6.5039e-01,\n",
      "           3.0155e-01, 7.6766e-01, 6.8037e-01, 2.6439e-01, 7.7114e-01,\n",
      "           3.6860e-01, 9.9122e-01, 4.6877e-01, 8.1576e-01, 5.9352e-01,\n",
      "           3.3426e-01, 8.2967e-01, 9.4707e-01],\n",
      "          [6.3782e-01, 7.5861e-02, 6.8536e-01, 4.1678e-01, 7.5141e-01,\n",
      "           2.2153e-01, 9.8986e-01, 8.2056e-01, 9.1094e-01, 7.6301e-01,\n",
      "           8.6536e-01, 9.5638e-01, 7.3705e-01, 9.3722e-02, 1.9473e-01,\n",
      "           5.2566e-02, 6.7473e-01, 1.2193e-01, 9.7116e-01, 2.6623e-01,\n",
      "           9.5657e-01, 1.0519e-01, 5.4335e-01, 8.4545e-01, 7.6737e-01,\n",
      "           5.2773e-01, 4.7310e-01, 2.8858e-01],\n",
      "          [7.8226e-01, 8.1967e-01, 2.2544e-01, 9.0482e-01, 4.4968e-01,\n",
      "           1.1889e-01, 6.3743e-01, 4.3339e-01, 6.0747e-01, 1.5601e-01,\n",
      "           2.0717e-01, 2.0746e-01, 7.3999e-01, 7.7203e-01, 7.8475e-01,\n",
      "           8.1022e-01, 6.5307e-01, 7.1332e-01, 9.9906e-01, 1.2208e-02,\n",
      "           2.6821e-01, 9.2911e-01, 6.1732e-01, 2.3593e-01, 2.6032e-01,\n",
      "           3.2795e-01, 3.9790e-01, 4.5056e-01],\n",
      "          [1.7586e-01, 3.2031e-01, 6.6252e-02, 9.5530e-01, 7.1700e-01,\n",
      "           4.8738e-01, 4.0795e-01, 4.9950e-01, 6.6616e-01, 9.3046e-01,\n",
      "           7.0610e-01, 9.4280e-01, 4.5325e-01, 8.2546e-01, 2.8087e-01,\n",
      "           3.8840e-01, 3.3499e-01, 6.8704e-01, 5.7666e-01, 7.7075e-01,\n",
      "           5.0593e-01, 1.0836e-01, 1.2282e-01, 8.6990e-01, 7.0016e-01,\n",
      "           3.8839e-01, 8.5530e-01, 6.7276e-01],\n",
      "          [4.1157e-01, 6.9880e-01, 5.9116e-01, 7.7809e-01, 9.0115e-01,\n",
      "           5.7526e-01, 6.7300e-01, 1.3753e-01, 6.1774e-01, 7.1025e-01,\n",
      "           6.2234e-01, 2.2806e-01, 8.4847e-01, 4.8703e-04, 1.2376e-01,\n",
      "           6.8709e-02, 3.9332e-01, 6.0624e-01, 6.5386e-01, 8.9667e-01,\n",
      "           9.6713e-01, 9.1126e-01, 6.9281e-01, 5.4956e-01, 7.6005e-01,\n",
      "           1.8775e-01, 4.5157e-01, 2.1761e-01],\n",
      "          [3.5585e-01, 5.5665e-01, 9.9465e-01, 6.7401e-02, 5.1132e-01,\n",
      "           1.2895e-01, 4.8833e-01, 7.0488e-01, 7.5860e-01, 9.2167e-01,\n",
      "           5.0021e-01, 4.2425e-01, 8.3766e-01, 7.3014e-02, 2.9830e-01,\n",
      "           7.5674e-01, 6.9567e-01, 7.5258e-01, 8.9775e-01, 9.2715e-01,\n",
      "           7.1156e-01, 6.8669e-01, 3.9281e-01, 3.9420e-01, 8.0801e-01,\n",
      "           6.5038e-01, 6.2266e-01, 5.8237e-02],\n",
      "          [9.3436e-01, 7.2186e-01, 2.8905e-01, 3.0495e-01, 3.6995e-01,\n",
      "           8.1316e-01, 4.7071e-01, 1.4439e-01, 3.4735e-01, 9.0669e-01,\n",
      "           3.0057e-01, 4.6664e-01, 2.7809e-01, 1.7118e-01, 8.8023e-01,\n",
      "           3.1202e-02, 5.9897e-02, 9.9161e-01, 3.0514e-01, 4.7403e-02,\n",
      "           3.4356e-01, 8.7843e-01, 9.3148e-01, 5.5055e-01, 7.9018e-01,\n",
      "           2.4507e-02, 5.6590e-01, 9.3507e-01],\n",
      "          [6.4417e-01, 4.0654e-01, 5.3844e-01, 3.5840e-01, 2.7899e-01,\n",
      "           7.0563e-01, 1.3900e-01, 9.8610e-01, 4.6836e-01, 9.9753e-01,\n",
      "           2.7344e-01, 9.1004e-01, 3.8862e-01, 2.0290e-01, 6.4977e-01,\n",
      "           7.2679e-01, 8.4893e-01, 6.7242e-01, 9.7551e-01, 5.9810e-01,\n",
      "           2.7709e-01, 6.2906e-01, 3.1767e-01, 6.1268e-01, 2.3529e-01,\n",
      "           9.9942e-01, 7.5452e-01, 9.4356e-01],\n",
      "          [6.0164e-01, 3.6868e-01, 1.4727e-01, 7.7699e-01, 1.3430e-01,\n",
      "           1.3842e-01, 4.5764e-01, 2.6119e-01, 1.6098e-01, 8.8383e-01,\n",
      "           7.4479e-01, 7.1762e-01, 5.4827e-01, 5.1535e-01, 4.8234e-01,\n",
      "           1.1280e-01, 2.8646e-01, 8.4654e-01, 6.4031e-01, 2.2281e-01,\n",
      "           4.5853e-01, 2.4230e-01, 6.2015e-02, 7.9995e-01, 7.9865e-01,\n",
      "           3.7693e-01, 1.9698e-01, 9.4702e-01],\n",
      "          [1.0720e-01, 1.9306e-01, 9.9041e-01, 7.5668e-01, 8.7194e-02,\n",
      "           9.6258e-01, 3.1319e-02, 6.9397e-01, 5.9574e-01, 4.5202e-01,\n",
      "           3.2346e-01, 5.0539e-02, 8.7203e-01, 5.4032e-01, 5.6216e-01,\n",
      "           1.7730e-01, 8.9823e-02, 5.9665e-01, 1.0000e-01, 1.7656e-01,\n",
      "           7.4772e-01, 5.4347e-01, 5.3688e-02, 5.2779e-01, 8.8566e-02,\n",
      "           6.2782e-01, 2.7451e-01, 3.8728e-02],\n",
      "          [6.3809e-01, 1.1018e-01, 8.7130e-01, 6.5076e-01, 2.2787e-01,\n",
      "           5.2079e-01, 2.0173e-01, 1.6958e-01, 4.4295e-04, 4.8191e-01,\n",
      "           8.5211e-01, 3.7470e-01, 1.6211e-02, 2.0547e-01, 1.4071e-01,\n",
      "           2.2499e-01, 1.3521e-01, 5.1694e-01, 1.6668e-02, 3.5934e-01,\n",
      "           9.8861e-01, 6.6324e-01, 9.2678e-01, 4.6587e-01, 6.0565e-01,\n",
      "           3.9274e-02, 3.0810e-01, 8.1642e-01],\n",
      "          [2.9010e-01, 2.5807e-01, 8.9251e-01, 1.0553e-01, 3.0598e-01,\n",
      "           7.9880e-01, 8.9068e-01, 8.7190e-01, 7.3371e-01, 3.8191e-01,\n",
      "           7.5769e-01, 9.4177e-01, 2.4887e-01, 9.0847e-01, 2.5798e-01,\n",
      "           4.2146e-01, 7.8161e-01, 4.4333e-02, 1.6493e-01, 3.6909e-01,\n",
      "           2.9512e-01, 6.5316e-01, 8.1911e-01, 2.6632e-02, 6.5350e-01,\n",
      "           9.1592e-01, 5.4288e-01, 3.7849e-01],\n",
      "          [4.9703e-01, 6.5183e-01, 5.3084e-01, 6.6065e-01, 7.6597e-01,\n",
      "           4.1728e-02, 6.0433e-01, 4.5803e-01, 5.9447e-01, 5.2748e-01,\n",
      "           4.9842e-01, 2.2160e-01, 4.6544e-02, 1.7740e-01, 8.7865e-01,\n",
      "           5.6651e-02, 6.3863e-02, 2.6182e-01, 9.8740e-01, 5.7004e-01,\n",
      "           8.6904e-03, 1.5753e-01, 9.1724e-01, 5.4174e-01, 5.0938e-01,\n",
      "           6.4349e-01, 1.5869e-01, 1.0254e-01],\n",
      "          [6.2302e-01, 4.6528e-01, 1.3891e-01, 3.4634e-01, 5.1639e-01,\n",
      "           9.5349e-01, 2.7658e-01, 3.1323e-01, 7.2633e-01, 6.6372e-01,\n",
      "           5.0897e-01, 1.0420e-01, 9.4737e-01, 7.1780e-01, 5.2528e-01,\n",
      "           9.7492e-01, 2.8613e-01, 3.7648e-01, 1.3311e-01, 1.0026e-01,\n",
      "           3.0200e-01, 6.6910e-01, 9.1656e-01, 2.8057e-01, 7.6978e-01,\n",
      "           8.8807e-01, 9.9568e-01, 9.3566e-01]]]], device='cuda:0')\n",
      "tensor([[ 2.2816,  0.5770,  0.2195, -2.2064, -0.3897,  0.3333, -0.6470, -1.2654,\n",
      "         -3.3548,  1.6854]], device='cuda:0', grad_fn=<AddmmBackward>)\n",
      "[[ 2.282  0.577  0.219 -2.206 -0.39   0.333 -0.647 -1.265 -3.355  1.685]]\n"
     ]
    }
   ],
   "source": [
    "x_numpy = np.random.rand(1,1,28,28)\n",
    "x_torch = torch.from_numpy(x_numpy).float().to(device)\n",
    "y_torch = model.forward(x_torch)\n",
    "y_numpy = y_torch.detach().cpu().numpy()\n",
    "print('x_numpy',x_numpy)\n",
    "print('x_torch',x_torch)\n",
    "print(y_torch)\n",
    "print(y_numpy)"
   ]
  },
  {
   "cell_type": "markdown",
   "id": "exclusive-cinema",
   "metadata": {},
   "source": [
    "- parameter check"
   ]
  },
  {
   "cell_type": "code",
   "execution_count": 36,
   "id": "broken-bristol",
   "metadata": {},
   "outputs": [
    {
     "name": "stdout",
     "output_type": "stream",
     "text": [
      "num : [0], name: [net.conv2d_00.weight], param : [[-0.155  0.039  0.031 -0.751  0.232]], shape: [(32, 1, 3, 3)]\n",
      "num : [1], name: [net.conv2d_00.bias], param : [[0. 0. 0. 0. 0.]], shape: [(32,)]\n",
      "num : [2], name: [net.conv2d_04.weight], param : [[-0.036  0.085  0.035  0.048 -0.075]], shape: [(64, 32, 3, 3)]\n",
      "num : [3], name: [net.conv2d_04.bias], param : [[0. 0. 0. 0. 0.]], shape: [(64,)]\n",
      "num : [4], name: [net.linear_09.weight], param : [[ 0.001  0.02  -0.031 -0.    -0.004]], shape: [(1024, 3136)]\n",
      "num : [5], name: [net.linear_09.bias], param : [[0. 0. 0. 0. 0.]], shape: [(1024,)]\n",
      "num : [6], name: [net.linear_11.weight], param : [[-0.048 -0.059  0.03   0.071  0.057]], shape: [(128, 1024)]\n",
      "num : [7], name: [net.linear_11.bias], param : [[0. 0. 0. 0. 0.]], shape: [(128,)]\n",
      "num : [8], name: [net.linear_13.weight], param : [[-0.021 -0.063 -0.008  0.245  0.044]], shape: [(10, 128)]\n",
      "num : [9], name: [net.linear_13.bias], param : [[0. 0. 0. 0. 0.]], shape: [(10,)]\n",
      "3,363,594\n"
     ]
    }
   ],
   "source": [
    "np.set_printoptions(precision=3)\n",
    "model.init_param()\n",
    "total_param = 0\n",
    "for i,(name,param) in enumerate(model.named_parameters()):\n",
    "    if param.requires_grad:\n",
    "        param_numpy = param.detach().cpu().numpy()\n",
    "        print(f'num : [{i}], name: [{name}], param : [{param_numpy.reshape(-1)[:5]}], shape: [{param_numpy.shape}]')\n",
    "        total_param += len(param_numpy.reshape(-1))\n",
    "print(f'{total_param:,d}')"
   ]
  },
  {
   "cell_type": "code",
   "execution_count": 57,
   "id": "effective-encoding",
   "metadata": {},
   "outputs": [],
   "source": [
    "def func_eval(model,data_iter,device):\n",
    "    model.eval()\n",
    "    with torch.no_grad():\n",
    "        crr_num = 0\n",
    "        total_num = 0\n",
    "        for i , (batch_in, batch_label) in enumerate(data_iter):\n",
    "            x = batch_in.view(-1,1,28,28).to(device)\n",
    "            y_pred = model.forward(x)\n",
    "            _, y_ = torch.max(y_pred,-1)\n",
    "            crr_num = (y_ == batch_label.to(device)).sum().item()\n",
    "            total_num = batch_in.size(0)\n",
    "        acc = crr_num/total_num\n",
    "    return acc"
   ]
  },
  {
   "cell_type": "markdown",
   "id": "pressed-twenty",
   "metadata": {},
   "source": [
    "- test eval function"
   ]
  },
  {
   "cell_type": "code",
   "execution_count": 58,
   "id": "compatible-colon",
   "metadata": {},
   "outputs": [
    {
     "data": {
      "text/plain": [
       "0.0625"
      ]
     },
     "execution_count": 58,
     "metadata": {},
     "output_type": "execute_result"
    }
   ],
   "source": [
    "func_eval(model,train_iter,device)"
   ]
  },
  {
   "cell_type": "markdown",
   "id": "modern-firmware",
   "metadata": {},
   "source": [
    "- train"
   ]
  },
  {
   "cell_type": "code",
   "execution_count": 60,
   "id": "immune-anthony",
   "metadata": {
    "scrolled": true
   },
   "outputs": [
    {
     "name": "stdout",
     "output_type": "stream",
     "text": [
      "Start training\n",
      "epoch : [0], train_acc : [0.9895833333333334], test_acc = [1.0]\n",
      "epoch : [1], train_acc : [0.9895833333333334], test_acc = [0.9375]\n",
      "epoch : [2], train_acc : [0.9895833333333334], test_acc = [1.0]\n",
      "epoch : [3], train_acc : [1.0], test_acc = [1.0]\n",
      "epoch : [4], train_acc : [0.9895833333333334], test_acc = [1.0]\n",
      "epoch : [5], train_acc : [1.0], test_acc = [1.0]\n",
      "epoch : [6], train_acc : [1.0], test_acc = [1.0]\n",
      "epoch : [7], train_acc : [1.0], test_acc = [1.0]\n",
      "epoch : [8], train_acc : [1.0], test_acc = [1.0]\n",
      "epoch : [9], train_acc : [1.0], test_acc = [1.0]\n"
     ]
    }
   ],
   "source": [
    "print('Start training')\n",
    "EPOCHS = 10\n",
    "total_loss, print_num = 0,1\n",
    "for i in range(EPOCHS):\n",
    "    for batch_in, batch_label in train_iter:\n",
    "        x = batch_in.view(-1,1,28,28).to(device)\n",
    "        y_pred = model.forward(x)\n",
    "        loss_out = loss(y_pred,batch_label.to(device))\n",
    "        optimizer.zero_grad()\n",
    "        loss_out.backward()\n",
    "        optimizer.step()\n",
    "    if i % print_num == 0:\n",
    "        train_eval = func_eval(model,train_iter,device)\n",
    "        test_eval = func_eval(model,test_iter,device)\n",
    "        print(f'epoch : [{i}], train_acc : [{train_eval}], test_acc = [{test_eval}]')"
   ]
  },
  {
   "cell_type": "markdown",
   "id": "nominated-criterion",
   "metadata": {},
   "source": [
    "- vizualization"
   ]
  },
  {
   "cell_type": "code",
   "execution_count": 81,
   "id": "functioning-victory",
   "metadata": {},
   "outputs": [
    {
     "name": "stdout",
     "output_type": "stream",
     "text": [
      "tensor([6, 2, 0, 5, 1, 7, 7, 7, 5, 4, 3, 5, 3, 3, 9, 1, 7, 9, 3, 6, 3, 3, 1, 8,\n",
      "        6], device='cuda:0')\n"
     ]
    },
    {
     "data": {
      "image/png": "[encoded data removed]",
      "text/plain": [
       "<Figure size 864x864 with 25 Axes>"
      ]
     },
     "metadata": {
      "image/png": {
       "height": 682,
       "width": 681
      },
      "needs_background": "light"
     },
     "output_type": "display_data"
    }
   ],
   "source": [
    "choice_num = 25\n",
    "test_dataset.__dict__\n",
    "choice = np.random.choice(len(test_dataset.targets),choice_num,replace=False)\n",
    "data_dataset = test_dataset.data[choice].float()\n",
    "label_dataset = test_dataset.targets[choice]\n",
    "with torch.no_grad():\n",
    "    model.eval()\n",
    "    x = data_dataset.view(-1,1,28,28)\n",
    "    y_pred = model.forward(x.to(device))\n",
    "_, y_ = torch.max(y_pred,-1)\n",
    "print(y_)\n",
    "plt.figure(figsize=(12,12))\n",
    "for i in range(25):\n",
    "    plt.subplot(5,5,i+1)\n",
    "    plt.imshow(data_dataset[i],cmap='gray')\n",
    "    plt.axis('off')\n",
    "    plt.title(f'label:{label_dataset[i]},pred:{y_[i]}')\n",
    "plt.show()"
   ]
  }
 ],
 "metadata": {
  "kernelspec": {
   "display_name": "Python 3",
   "language": "python",
   "name": "python3"
  },
  "language_info": {
   "codemirror_mode": {
    "name": "ipython",
    "version": 3
   },
   "file_extension": ".py",
   "mimetype": "text/x-python",
   "name": "python",
   "nbconvert_exporter": "python",
   "pygments_lexer": "ipython3",
   "version": "3.8.5"
  }
 },
 "nbformat": 4,
 "nbformat_minor": 5
}
