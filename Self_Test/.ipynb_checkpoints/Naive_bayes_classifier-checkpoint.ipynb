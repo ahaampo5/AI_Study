{
 "cells": [
  {
   "cell_type": "code",
   "execution_count": 1,
   "id": "continent-spyware",
   "metadata": {
    "scrolled": true
   },
   "outputs": [
    {
     "name": "stdout",
     "output_type": "stream",
     "text": [
      "Pytorch version : 1.7.1\n",
      "device : [cuda:0]\n"
     ]
    }
   ],
   "source": [
    "import numpy as np\n",
    "import torch\n",
    "import torch.nn as nn\n",
    "import torch.optim as optim\n",
    "import torch.nn.functional as F\n",
    "from torch.utils.data import DataLoader\n",
    "import matplotlib.pyplot as plt\n",
    "%matplotlib inline\n",
    "%config InlineBackend.figure_format='retina'\n",
    "print('Pytorch version :', torch.__version__)\n",
    "device = torch.device('cuda:0' if torch.cuda.is_available() else 'cpu')\n",
    "print(f'device : [{device}]')"
   ]
  },
  {
   "cell_type": "code",
   "execution_count": 9,
   "id": "previous-calibration",
   "metadata": {},
   "outputs": [],
   "source": [
    "from torchvision import datasets, transforms\n",
    "train_data = datasets.MNIST(root='./data',train=True,transform=transforms.ToTensor(),download=False)\n",
    "test_data = datasets.MNIST(root='./data',train=False,transform=transforms.ToTensor(),download=False)"
   ]
  },
  {
   "cell_type": "code",
   "execution_count": 10,
   "id": "plastic-collapse",
   "metadata": {},
   "outputs": [],
   "source": [
    "BATCH_SIZE = 256\n",
    "train_iter = DataLoader(train_data,shuffle=True,batch_size=BATCH_SIZE,num_workers=1)\n",
    "test_iter = DataLoader(test_data,shuffle=True,batch_size=BATCH_SIZE,num_workers=1)"
   ]
  },
  {
   "cell_type": "code",
   "execution_count": 15,
   "id": "objective-rapid",
   "metadata": {},
   "outputs": [
    {
     "data": {
      "text/plain": [
       "<torch.utils.data.dataloader.DataLoader at 0x1f71104a490>"
      ]
     },
     "execution_count": 15,
     "metadata": {},
     "output_type": "execute_result"
    }
   ],
   "source": [
    "train_iter"
   ]
  },
  {
   "cell_type": "code",
   "execution_count": 50,
   "id": "spare-wages",
   "metadata": {},
   "outputs": [],
   "source": [
    "x_dim = 28\n",
    "h_dim = 256\n",
    "y_dim = 10\n",
    "n_layer = 3\n",
    "        \n",
    "lin_xh_f = nn.Linear(x_dim,h_dim)\n",
    "lin_hh_f = nn.Linear(h_dim,h_dim)\n",
    "        \n",
    "lin_xh_in1 = nn.Linear(x_dim,h_dim)\n",
    "lin_hh_in1 = nn.Linear(h_dim,h_dim)\n",
    "lin_xh_in2 = nn.Linear(x_dim,h_dim)\n",
    "lin_hh_in2 = nn.Linear(h_dim,h_dim)\n",
    "        \n",
    "lin_xh_out = nn.Linear(x_dim,h_dim)\n",
    "lin_hh_out = nn.Linear(h_dim,h_dim)     \n",
    "# result\n",
    "lin_out = nn.Linear(h_dim,y_dim)\n",
    "\n",
    "h_0 = torch.zeros(h_dim)\n",
    "c_0 = torch.zeros(h_dim)\n",
    "\n",
    "loss = nn.CrossEntropyLoss()\n",
    "# optimizer = nn.optim(,lr=1e-3)"
   ]
  },
  {
   "cell_type": "code",
   "execution_count": 47,
   "id": "signed-gossip",
   "metadata": {},
   "outputs": [],
   "source": [
    "h_n = h_0\n",
    "c_n = c_0\n",
    "batch_1 = next(iter(train_iter))\n",
    "batch_in = batch_1[0].view(-1,28,28)\n",
    "batch_out = batch_1[1]"
   ]
  },
  {
   "cell_type": "code",
   "execution_count": 54,
   "id": "laughing-trustee",
   "metadata": {
    "scrolled": false
   },
   "outputs": [
    {
     "name": "stdout",
     "output_type": "stream",
     "text": [
      "torch.Size([256, 28, 10])\n"
     ]
    }
   ],
   "source": [
    "# forget\n",
    "a = lin_xh_f(batch_1[0])\n",
    "b = lin_hh_f(h_0)\n",
    "forget_out = F.sigmoid(a+b)\n",
    "# input\n",
    "d = lin_xh_in1(batch_in)\n",
    "e = lin_hh_in1(h_n)\n",
    "f = lin_xh_in2(batch_in)\n",
    "g = lin_hh_in2(h_n)\n",
    "input_out = F.sigmoid(d+e)*F.tanh(f+g)\n",
    "\n",
    "# output\n",
    "h = lin_xh_out(batch_1[0])\n",
    "i = lin_hh_out(h_n)\n",
    "output_out = F.sigmoid(h+i)\n",
    "# combine\n",
    "c_n = c_n*forget_out + input_out\n",
    "h_n = F.tanh(c_n)*output_out\n",
    "# result\n",
    "output = lin_out(h_n)[:,-1,:]\n",
    "\n",
    "# 256,1,28,28  \n",
    "\n",
    "print(output.size())"
   ]
  },
  {
   "cell_type": "code",
   "execution_count": 21,
   "id": "soviet-dominant",
   "metadata": {},
   "outputs": [
    {
     "name": "stdout",
     "output_type": "stream",
     "text": [
      "tensor([-0.7501, -0.3321,  1.1901], grad_fn=<AddBackward0>) tensor([-1.3128, -0.7010,  2.3911], grad_fn=<AddBackward0>)\n"
     ]
    },
    {
     "data": {
      "text/plain": [
       "tensor([0.9848, 0.2328, 2.8457], grad_fn=<MulBackward0>)"
      ]
     },
     "execution_count": 21,
     "metadata": {},
     "output_type": "execute_result"
    }
   ],
   "source": [
    "a = nn.Linear(2,3)\n",
    "aa = a(torch.Tensor([1,2]))\n",
    "bb = a(torch.Tensor([2,3]))\n",
    "print(aa,bb)\n",
    "aa*(bb)"
   ]
  }
 ],
 "metadata": {
  "kernelspec": {
   "display_name": "Python 3",
   "language": "python",
   "name": "python3"
  },
  "language_info": {
   "codemirror_mode": {
    "name": "ipython",
    "version": 3
   },
   "file_extension": ".py",
   "mimetype": "text/x-python",
   "name": "python",
   "nbconvert_exporter": "python",
   "pygments_lexer": "ipython3",
   "version": "3.8.5"
  }
 },
 "nbformat": 4,
 "nbformat_minor": 5
}
