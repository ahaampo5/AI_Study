{
 "cells": [
  {
   "cell_type": "code",
   "execution_count": 1,
   "id": "final-excellence",
   "metadata": {},
   "outputs": [
    {
     "name": "stdout",
     "output_type": "stream",
     "text": [
      "Pytorch version : 1.7.1\n",
      "device : [cuda:0]\n"
     ]
    }
   ],
   "source": [
    "import numpy as np\n",
    "import torch\n",
    "import torch.nn as nn\n",
    "import torch.optim as optim\n",
    "import torch.nn.functional as F\n",
    "from torch.utils.data import DataLoader\n",
    "import matplotlib.pyplot as plt\n",
    "%matplotlib inline\n",
    "%config InlineBackend.figure_format='retina'\n",
    "print('Pytorch version :', torch.__version__)\n",
    "device = torch.device('cuda:0' if torch.cuda.is_available() else 'cpu')\n",
    "print(f'device : [{device}]')"
   ]
  },
  {
   "cell_type": "code",
   "execution_count": 2,
   "id": "isolated-december",
   "metadata": {},
   "outputs": [],
   "source": [
    "from torchvision import datasets, transforms\n",
    "train_data = datasets.MNIST(root='./data',train=True,transform=transforms.ToTensor(),download=False)\n",
    "test_data = datasets.MNIST(root='./data',train=False,transform=transforms.ToTensor(),download=False)"
   ]
  },
  {
   "cell_type": "code",
   "execution_count": 3,
   "id": "blond-scholarship",
   "metadata": {},
   "outputs": [],
   "source": [
    "BATCH_SIZE = 256\n",
    "train_iter = DataLoader(train_data,shuffle=True,batch_size=BATCH_SIZE,num_workers=1)\n",
    "test_iter = DataLoader(test_data,shuffle=True,batch_size=BATCH_SIZE,num_workers=1)"
   ]
  },
  {
   "cell_type": "code",
   "execution_count": 4,
   "id": "configured-office",
   "metadata": {},
   "outputs": [],
   "source": [
    "class LSTM(nn.Module):\n",
    "    def __init__(self,x_dim=28,h_dim=256,y_dim=10 ):\n",
    "        super(LSTM,self).__init__()\n",
    "        self.x_dim = x_dim\n",
    "        self.h_dim = h_dim\n",
    "        self.y_dim = y_dim\n",
    "        # forget gate\n",
    "        self.lin_xh_f = nn.Linear(self.x_dim,self.h_dim)\n",
    "        self.conv = nn.Conv1d(in_channel=1,out_channels=1,kernel_size=3,padding=1)\n",
    "        self.lin_hh_f = nn.Linear(self.h_dim,self.h_dim)\n",
    "        # input gate\n",
    "        self.lin_xh_in1 = nn.Linear(self.x_dim,self.h_dim)\n",
    "        self.lin_hh_in1 = nn.Linear(self.h_dim,self.h_dim)\n",
    "        self.lin_xh_in2 = nn.Linear(self.x_dim,self.h_dim)\n",
    "        self.lin_hh_in2 = nn.Linear(self.h_dim,self.h_dim)\n",
    "        # output gate\n",
    "        self.lin_xh_out = nn.Linear(self.x_dim,self.h_dim)\n",
    "        self.lin_hh_out = nn.Linear(self.h_dim,self.h_dim)        \n",
    "        \n",
    "        self.lin_out = nn.Linear(self.h_dim,self.y_dim)\n",
    "        \n",
    "        self.init_param()\n",
    "    \n",
    "    def forward(self,x):\n",
    "        h_0 = torch.zeros(self.h_dim).to(device)\n",
    "        c_0 = torch.zeros(self.h_dim).to(device)\n",
    "        h_n = h_0\n",
    "        c_n = c_0\n",
    "        for i in range(self.x_dim):\n",
    "            # forget\n",
    "            input = x[:,i,:]\n",
    "            a = self.lin_xh_f(input)\n",
    "            b = self.lin_hh_f(h_n)\n",
    "            forget_out = F.sigmoid(a+b)\n",
    "\n",
    "            # input\n",
    "            d = self.lin_xh_in1(input)\n",
    "            e = self.lin_hh_in1(h_n)\n",
    "            f = self.lin_xh_in2(input)\n",
    "            g = self.lin_hh_in2(h_n)\n",
    "            input_out = F.sigmoid(d+e)*F.tanh(f+g)\n",
    "\n",
    "            # output\n",
    "            h = self.lin_xh_out(input)\n",
    "            i = self.lin_hh_out(h_n)\n",
    "            output_out = F.sigmoid(h+i)\n",
    "            \n",
    "            # combine\n",
    "            c_n = c_n*forget_out + input_out\n",
    "            h_n = F.tanh(c_n)*output_out\n",
    "        # result\n",
    "        output = self.lin_out(h_n)\n",
    "        return output\n",
    "    \n",
    "    def init_param(self):\n",
    "        for name, param in self.named_modules():\n",
    "            if 'lin' in name:\n",
    "                nn.init.kaiming_normal_(param.weight)\n",
    "                nn.init.zeros_(param.bias)"
   ]
  },
  {
   "cell_type": "code",
   "execution_count": 5,
   "id": "dress-extraction",
   "metadata": {},
   "outputs": [],
   "source": [
    "model = LSTM(x_dim=28,h_dim=256,y_dim=10,n_layer=3).to(device)\n",
    "optimizer = optim.Adam(model.parameters(),lr=1e-3)\n",
    "loss = nn.CrossEntropyLoss()"
   ]
  },
  {
   "cell_type": "code",
   "execution_count": 6,
   "id": "published-princeton",
   "metadata": {
    "scrolled": true
   },
   "outputs": [
    {
     "name": "stdout",
     "output_type": "stream",
     "text": [
      "name: [lin_xh_f.weight],param: [tensor([0.1677], device='cuda:0', grad_fn=<SliceBackward>)],shape: [torch.Size([256, 28])]\n",
      "name: [lin_xh_f.bias],param: [tensor([0.], device='cuda:0', grad_fn=<SliceBackward>)],shape: [torch.Size([256])]\n",
      "name: [lin_hh_f.weight],param: [tensor([-0.0782], device='cuda:0', grad_fn=<SliceBackward>)],shape: [torch.Size([256, 256])]\n",
      "name: [lin_hh_f.bias],param: [tensor([0.], device='cuda:0', grad_fn=<SliceBackward>)],shape: [torch.Size([256])]\n",
      "name: [lin_xh_in1.weight],param: [tensor([-0.0873], device='cuda:0', grad_fn=<SliceBackward>)],shape: [torch.Size([256, 28])]\n",
      "name: [lin_xh_in1.bias],param: [tensor([0.], device='cuda:0', grad_fn=<SliceBackward>)],shape: [torch.Size([256])]\n",
      "name: [lin_hh_in1.weight],param: [tensor([0.0400], device='cuda:0', grad_fn=<SliceBackward>)],shape: [torch.Size([256, 256])]\n",
      "name: [lin_hh_in1.bias],param: [tensor([0.], device='cuda:0', grad_fn=<SliceBackward>)],shape: [torch.Size([256])]\n",
      "name: [lin_xh_in2.weight],param: [tensor([0.0856], device='cuda:0', grad_fn=<SliceBackward>)],shape: [torch.Size([256, 28])]\n",
      "name: [lin_xh_in2.bias],param: [tensor([0.], device='cuda:0', grad_fn=<SliceBackward>)],shape: [torch.Size([256])]\n",
      "name: [lin_hh_in2.weight],param: [tensor([-0.0392], device='cuda:0', grad_fn=<SliceBackward>)],shape: [torch.Size([256, 256])]\n",
      "name: [lin_hh_in2.bias],param: [tensor([0.], device='cuda:0', grad_fn=<SliceBackward>)],shape: [torch.Size([256])]\n",
      "name: [lin_xh_out.weight],param: [tensor([0.4067], device='cuda:0', grad_fn=<SliceBackward>)],shape: [torch.Size([256, 28])]\n",
      "name: [lin_xh_out.bias],param: [tensor([0.], device='cuda:0', grad_fn=<SliceBackward>)],shape: [torch.Size([256])]\n",
      "name: [lin_hh_out.weight],param: [tensor([-0.0837], device='cuda:0', grad_fn=<SliceBackward>)],shape: [torch.Size([256, 256])]\n",
      "name: [lin_hh_out.bias],param: [tensor([0.], device='cuda:0', grad_fn=<SliceBackward>)],shape: [torch.Size([256])]\n",
      "name: [lin_out.weight],param: [tensor([0.0331], device='cuda:0', grad_fn=<SliceBackward>)],shape: [torch.Size([10, 256])]\n",
      "name: [lin_out.bias],param: [tensor([0.], device='cuda:0', grad_fn=<SliceBackward>)],shape: [torch.Size([10])]\n",
      "total = 295,434\n"
     ]
    }
   ],
   "source": [
    "count = 0\n",
    "for name, param in model.named_parameters():\n",
    "    number = param.view(-1).size(0)\n",
    "    print(f'name: [{name}],param: [{param.view(-1)[:1]}],shape: [{param.shape}]')\n",
    "    count += number\n",
    "print(f'total = {count:,d}')"
   ]
  },
  {
   "cell_type": "code",
   "execution_count": 37,
   "id": "closed-pharmacology",
   "metadata": {},
   "outputs": [
    {
     "data": {
      "text/plain": [
       "tensor([[ 0.4942, -0.3823, -0.0638,  0.2566,  0.8910, -0.0693, -0.1671, -0.1555,\n",
       "         -0.0944, -0.0112]], device='cuda:0', grad_fn=<AddmmBackward>)"
      ]
     },
     "execution_count": 37,
     "metadata": {},
     "output_type": "execute_result"
    }
   ],
   "source": [
    "x = torch.rand(1,28,28).to(device)\n",
    "y = model.forward(x)\n",
    "y"
   ]
  },
  {
   "cell_type": "code",
   "execution_count": 46,
   "id": "latter-admission",
   "metadata": {},
   "outputs": [],
   "source": [
    "def func_eval(model,data_iter,device):\n",
    "    model.eval()\n",
    "    total_num, count_num = 0,0\n",
    "    for batch_in, batch_label in data_iter:\n",
    "        input = batch_in.view(-1,28,28).to(device)\n",
    "        y_pred = model.forward(input)\n",
    "        _, y_ = torch.max(y_pred,dim=-1)\n",
    "        count_num += (y_ == batch_label.to(device)).sum().item()\n",
    "        total_num += batch_in.size(0)\n",
    "    model.train()\n",
    "    return count_num / total_num"
   ]
  },
  {
   "cell_type": "code",
   "execution_count": 50,
   "id": "statistical-model",
   "metadata": {},
   "outputs": [
    {
     "data": {
      "text/plain": [
       "0.06955"
      ]
     },
     "execution_count": 50,
     "metadata": {},
     "output_type": "execute_result"
    }
   ],
   "source": [
    "func_eval(model,train_iter,device)"
   ]
  },
  {
   "cell_type": "code",
   "execution_count": 53,
   "id": "dying-antenna",
   "metadata": {},
   "outputs": [
    {
     "name": "stdout",
     "output_type": "stream",
     "text": [
      "train start\n",
      "0 0.9695333333333334 0.9656 tensor(0.1285, device='cuda:0')\n",
      "1 0.9811 0.9745 tensor(0.1452, device='cuda:0')\n",
      "2 0.987 0.9793 tensor(0.0491, device='cuda:0')\n",
      "3 0.9873 0.9788 tensor(0.0620, device='cuda:0')\n",
      "4 0.9926666666666667 0.9817 tensor(0.0064, device='cuda:0')\n",
      "5 0.9915166666666667 0.9803 tensor(0.0632, device='cuda:0')\n",
      "6 0.9960666666666667 0.9869 tensor(0.1019, device='cuda:0')\n",
      "7 0.9957666666666667 0.9846 tensor(0.0650, device='cuda:0')\n",
      "8 0.99695 0.9862 tensor(0.0051, device='cuda:0')\n",
      "9 0.9950666666666667 0.9851 tensor(0.0021, device='cuda:0')\n"
     ]
    }
   ],
   "source": [
    "print('train start')\n",
    "EPOCHS = 10\n",
    "model.train()\n",
    "model.init_param()\n",
    "print_num = 1\n",
    "for i in range(EPOCHS):\n",
    "    for batch_in, batch_label in train_iter:\n",
    "        input = batch_in.view(-1,28,28).to(device)\n",
    "        y_pred = model.forward(input)\n",
    "        loss_out = loss(y_pred,batch_label.to(device))\n",
    "        optimizer.zero_grad()\n",
    "        loss_out.backward()\n",
    "        optimizer.step()\n",
    "    if (i%print_num) == 0:\n",
    "        train_eval = func_eval(model,train_iter,device)\n",
    "        test_eval = func_eval(model,test_iter,device)\n",
    "        print(i, train_eval, test_eval, loss_out.data)"
   ]
  },
  {
   "cell_type": "code",
   "execution_count": 76,
   "id": "assured-discovery",
   "metadata": {},
   "outputs": [
    {
     "name": "stdout",
     "output_type": "stream",
     "text": [
      "tensor([3, 6, 1, 8, 2, 0, 5, 1, 8, 3, 5, 7, 9, 8, 2, 2, 8, 2, 3, 6, 3, 7, 0, 4,\n",
      "        4], device='cuda:0') tensor([3, 6, 1, 8, 2, 0, 5, 1, 8, 3, 5, 7, 9, 8, 2, 2, 8, 2, 3, 6, 3, 7, 0, 4,\n",
      "        4])\n"
     ]
    },
    {
     "data": {
      "image/png": "[encoded data removed]",
      "text/plain": [
       "<Figure size 720x720 with 25 Axes>"
      ]
     },
     "metadata": {
      "image/png": {
       "height": 573,
       "width": 569
      },
      "needs_background": "light"
     },
     "output_type": "display_data"
    }
   ],
   "source": [
    "choice_num = 25\n",
    "indices = np.random.choice(len(test_data),choice_num,replace=False)\n",
    "test_x = test_data.data[indices]\n",
    "test_y = test_data.targets[indices]\n",
    "with torch.no_grad():\n",
    "    model.eval()\n",
    "    y_pred = model.forward(test_x.view(-1,28,28).type(torch.float).to(device)/255.)\n",
    "y_pred = y_pred.argmax(axis=1)\n",
    "print(y_pred, test_y)\n",
    "plt.figure(figsize=(10,10))\n",
    "for idx in range(choice_num):\n",
    "    plt.subplot(5,5,idx+1)\n",
    "    plt.imshow(test_x[idx],cmap='gray')\n",
    "    plt.axis('off')\n",
    "    plt.title(f'{test_y[idx]},{y_pred[idx]}')\n",
    "plt.show()"
   ]
  },
  {
   "cell_type": "code",
   "execution_count": null,
   "id": "herbal-office",
   "metadata": {},
   "outputs": [],
   "source": []
  }
 ],
 "metadata": {
  "kernelspec": {
   "display_name": "Python 3",
   "language": "python",
   "name": "python3"
  },
  "language_info": {
   "codemirror_mode": {
    "name": "ipython",
    "version": 3
   },
   "file_extension": ".py",
   "mimetype": "text/x-python",
   "name": "python",
   "nbconvert_exporter": "python",
   "pygments_lexer": "ipython3",
   "version": "3.8.5"
  }
 },
 "nbformat": 4,
 "nbformat_minor": 5
}
