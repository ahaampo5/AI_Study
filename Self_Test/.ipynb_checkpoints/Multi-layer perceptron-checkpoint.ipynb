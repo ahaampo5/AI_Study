{
 "cells": [
  {
   "cell_type": "code",
   "execution_count": 29,
   "id": "enclosed-portugal",
   "metadata": {
    "scrolled": true
   },
   "outputs": [
    {
     "name": "stdout",
     "output_type": "stream",
     "text": [
      "pytorch verison : [1.7.1]\n",
      "device : [cuda:0]\n"
     ]
    }
   ],
   "source": [
    "import numpy as np\n",
    "import torch\n",
    "import torch.nn as nn\n",
    "import torch.optim as optim\n",
    "import torch.nn.functional as F\n",
    "import matplotlib.pyplot as plt\n",
    "from torch.utils.data import DataLoader\n",
    "import sys\n",
    "%matplotlib inline\n",
    "%config InlineBackend.figure_format = 'retina'\n",
    "print(f'pytorch verison : [{torch.__version__}]')\n",
    "device = torch.device('cuda:0' if torch.cuda.is_available() else 'cpu')\n",
    "print(f'device : [{device}]')"
   ]
  },
  {
   "cell_type": "markdown",
   "id": "decimal-mirror",
   "metadata": {},
   "source": [
    "- Dataset"
   ]
  },
  {
   "cell_type": "code",
   "execution_count": 10,
   "id": "decimal-cornwall",
   "metadata": {},
   "outputs": [],
   "source": [
    "from torchvision import datasets, transforms\n",
    "\n",
    "train_dataset = datasets.MNIST(root='./data',train=True,transform=transforms.ToTensor(),download=True)\n",
    "test_dataset = datasets.MNIST(root='./data',train=False,transform=transforms.ToTensor(),download=True)\n"
   ]
  },
  {
   "cell_type": "markdown",
   "id": "equal-tourism",
   "metadata": {},
   "source": [
    "- Dataloader"
   ]
  },
  {
   "cell_type": "code",
   "execution_count": 11,
   "id": "average-oklahoma",
   "metadata": {},
   "outputs": [],
   "source": [
    "BATCH_SIZE = 256\n",
    "train_iter = DataLoader(train_dataset,batch_size=BATCH_SIZE,shuffle=True,num_workers=1)\n",
    "test_iter = DataLoader(test_dataset,batch_size=BATCH_SIZE,shuffle=True,num_workers=1)"
   ]
  },
  {
   "cell_type": "markdown",
   "id": "consistent-evidence",
   "metadata": {},
   "source": [
    "- Model"
   ]
  },
  {
   "cell_type": "code",
   "execution_count": 12,
   "id": "naughty-exclusive",
   "metadata": {},
   "outputs": [],
   "source": [
    "class MLP(nn.Module):\n",
    "    def __init__(self,x_dim,h_dim,y_dim):\n",
    "        super(MLP,self).__init__()\n",
    "        self.x_dim = x_dim\n",
    "        self.h_dim = h_dim\n",
    "        self.y_dim = y_dim\n",
    "        self.lin_1 = nn.Linear(x_dim,h_dim)\n",
    "        self.lin_2 = nn.Linear(h_dim,y_dim)\n",
    "        self.init_param()\n",
    "        \n",
    "    def init_param(self):\n",
    "        nn.init.kaiming_normal_(self.lin_1.weight)\n",
    "        nn.init.zeros_(self.lin_1.bias)\n",
    "        nn.init.kaiming_normal_(self.lin_2.weight)\n",
    "        nn.init.zeros_(self.lin_2.bias)\n",
    "    \n",
    "    def forward(self,input):\n",
    "        x = input\n",
    "        x = self.lin_2(F.relu(self.lin_1(x)))\n",
    "        return x"
   ]
  },
  {
   "cell_type": "code",
   "execution_count": 13,
   "id": "administrative-holmes",
   "metadata": {},
   "outputs": [],
   "source": [
    "model = MLP(x_dim = 784, h_dim = 256, y_dim = 10).to(device)\n",
    "loss = nn.CrossEntropyLoss()\n",
    "optimizer = optim.Adam(model.parameters(),lr=1e-3)"
   ]
  },
  {
   "cell_type": "markdown",
   "id": "printable-television",
   "metadata": {},
   "source": [
    "- Model check"
   ]
  },
  {
   "cell_type": "code",
   "execution_count": 14,
   "id": "beginning-possession",
   "metadata": {
    "scrolled": true
   },
   "outputs": [
    {
     "name": "stdout",
     "output_type": "stream",
     "text": [
      "[[0.93934835 0.42380191 0.37279378 ... 0.09343396 0.71585539 0.158444  ]\n",
      " [0.54466176 0.42881495 0.3480309  ... 0.65504214 0.346456   0.72441092]\n",
      " [0.12706608 0.30864329 0.71500783 ... 0.93698833 0.78461784 0.69430805]\n",
      " [0.80978384 0.93191994 0.46966292 ... 0.45360111 0.62238785 0.23597419]\n",
      " [0.72059641 0.15025119 0.33700726 ... 0.25914022 0.83726817 0.84621369]]\n",
      "tensor([[0.9393, 0.4238, 0.3728,  ..., 0.0934, 0.7159, 0.1584],\n",
      "        [0.5447, 0.4288, 0.3480,  ..., 0.6550, 0.3465, 0.7244],\n",
      "        [0.1271, 0.3086, 0.7150,  ..., 0.9370, 0.7846, 0.6943],\n",
      "        [0.8098, 0.9319, 0.4697,  ..., 0.4536, 0.6224, 0.2360],\n",
      "        [0.7206, 0.1503, 0.3370,  ..., 0.2591, 0.8373, 0.8462]],\n",
      "       device='cuda:0')\n",
      "tensor([[-1.2001, -0.6604, -0.2960,  0.3904,  0.2685, -0.0822,  0.4601,  1.3125,\n",
      "          0.1451,  0.1743],\n",
      "        [-1.1080, -0.2340,  0.2783,  0.3219,  0.2825, -0.1706,  0.6149,  0.1882,\n",
      "         -0.0351, -0.1393],\n",
      "        [-1.0385, -0.3152,  0.6435, -0.3420,  0.6537, -0.2978,  0.3316,  1.2791,\n",
      "         -0.0650,  0.1330],\n",
      "        [-0.4254, -0.6567,  0.6903,  0.0724,  0.4956,  0.0209,  0.1471,  0.8121,\n",
      "         -0.1258,  1.3377],\n",
      "        [-1.0699, -0.3190,  0.1423, -0.0640,  0.7086,  0.2763, -0.3414,  0.8476,\n",
      "         -0.2328, -0.0186]], device='cuda:0', grad_fn=<SliceBackward>)\n",
      "[[-1.2001169  -0.6603711  -0.29600704  0.39035368  0.26850873 -0.08216152\n",
      "   0.46014148  1.3124621   0.14512163  0.17426044]\n",
      " [-1.1079571  -0.2339578   0.27828667  0.32193428  0.2824997  -0.17063561\n",
      "   0.6149185   0.18816622 -0.03507222 -0.13929296]\n",
      " [-1.0384632  -0.31516978  0.64345145 -0.34197512  0.65374553 -0.29783306\n",
      "   0.3316481   1.2790849  -0.06497395  0.13301522]\n",
      " [-0.42538482 -0.6567036   0.69033015  0.07242782  0.49559417  0.02086419\n",
      "   0.14708026  0.81211954 -0.12580344  1.337667  ]\n",
      " [-1.0698986  -0.31898052  0.14229119 -0.06399029  0.7086128   0.2763361\n",
      "  -0.34139115  0.8475989  -0.23276302 -0.01864678]]\n"
     ]
    }
   ],
   "source": [
    "x_numpy = np.random.rand(10,28*28)\n",
    "x_torch = torch.from_numpy(x_numpy).float().to(device)\n",
    "y_torch = model.forward(x_torch)\n",
    "y_numpy = y_torch.detach().cpu().numpy()\n",
    "print(x_numpy[:5])\n",
    "print(x_torch[:5])\n",
    "print(y_torch[:5])\n",
    "print(y_numpy[:5])"
   ]
  },
  {
   "cell_type": "markdown",
   "id": "regulation-parade",
   "metadata": {},
   "source": [
    "- Parameters check"
   ]
  },
  {
   "cell_type": "code",
   "execution_count": 15,
   "id": "spread-floor",
   "metadata": {
    "scrolled": true
   },
   "outputs": [
    {
     "name": "stdout",
     "output_type": "stream",
     "text": [
      "[0], name : [lin_1.weight], parameters : [tensor([-0.0352, -0.0397], device='cuda:0', grad_fn=<SliceBackward>)]\n",
      "[1], name : [lin_1.bias], parameters : [tensor([0., 0.], device='cuda:0', grad_fn=<SliceBackward>)]\n",
      "[2], name : [lin_2.weight], parameters : [tensor([-0.0223,  0.0396], device='cuda:0', grad_fn=<SliceBackward>)]\n",
      "[3], name : [lin_2.bias], parameters : [tensor([0., 0.], device='cuda:0', grad_fn=<SliceBackward>)]\n",
      "parameters : [203,530]\n"
     ]
    }
   ],
   "source": [
    "total_param = 0\n",
    "for i, (name,param) in enumerate(model.named_parameters()):\n",
    "    param_numpy = param.detach().cpu().numpy()\n",
    "    total_param += param_numpy.size\n",
    "    print(f'[{i}], name : [{name}], parameters : [{param.reshape(-1)[:2]}]')\n",
    "print(f'parameters : [{total_param:,d}]')"
   ]
  },
  {
   "cell_type": "markdown",
   "id": "stable-opposition",
   "metadata": {},
   "source": [
    "- test function"
   ]
  },
  {
   "cell_type": "code",
   "execution_count": 23,
   "id": "medical-junction",
   "metadata": {},
   "outputs": [],
   "source": [
    "def func_eval(model,data_iter,device):\n",
    "    with torch.no_grad():\n",
    "        model.eval()\n",
    "        corr_n = 0\n",
    "        total_n = 0\n",
    "        for batch_in, batch_label in data_iter:\n",
    "            x = batch_in.view(-1,28*28).to(device)\n",
    "            y_pred = model.forward(x)\n",
    "            label = batch_label.to(device)\n",
    "            _, y_ = torch.max(y_pred.data,1)\n",
    "            n = (label == y_).sum().item()\n",
    "            corr_n += n\n",
    "            total_n += batch_in.size(0)\n",
    "        acc = corr_n/total_n\n",
    "        model.train()\n",
    "    return acc"
   ]
  },
  {
   "cell_type": "markdown",
   "id": "endangered-tucson",
   "metadata": {},
   "source": [
    "- train"
   ]
  },
  {
   "cell_type": "code",
   "execution_count": 28,
   "id": "human-parent",
   "metadata": {
    "scrolled": true
   },
   "outputs": [
    {
     "name": "stdout",
     "output_type": "stream",
     "text": [
      "start training\n",
      "epoch : 0, train : 0.9512, test : 0.9468\n",
      "epoch : 1, train : 0.9660666666666666, test : 0.9601\n",
      "epoch : 2, train : 0.9734666666666667, test : 0.9664\n",
      "epoch : 3, train : 0.9802833333333333, test : 0.9721\n",
      "epoch : 4, train : 0.9847666666666667, test : 0.974\n",
      "epoch : 5, train : 0.9884, test : 0.9769\n",
      "epoch : 6, train : 0.9903833333333333, test : 0.9788\n",
      "epoch : 7, train : 0.99205, test : 0.9789\n",
      "epoch : 8, train : 0.9942333333333333, test : 0.9789\n",
      "epoch : 9, train : 0.9960166666666667, test : 0.9783\n"
     ]
    }
   ],
   "source": [
    "print('start training')\n",
    "EPOCHS = 10\n",
    "model.init_param()\n",
    "model.train()\n",
    "print_num = 1\n",
    "for i in range(EPOCHS):\n",
    "    for batch_in, batch_label in train_iter:\n",
    "        x = batch_in.view(-1,28*28).to(device)\n",
    "        y_pred = model.forward(x)\n",
    "        batch_label = batch_label.to(device)\n",
    "        optimizer.zero_grad()\n",
    "        loss_ = loss(y_pred, batch_label)\n",
    "        loss_.backward()\n",
    "        optimizer.step()\n",
    "    if (i % print_num == 0):\n",
    "        train_eval = func_eval(model,train_iter,device)\n",
    "        test_eval = func_eval(model,test_iter,device)\n",
    "        print(f'epoch : {i}, train : {train_eval}, test : {test_eval}')\n"
   ]
  },
  {
   "cell_type": "markdown",
   "id": "racial-climate",
   "metadata": {},
   "source": [
    "- Vizualization"
   ]
  },
  {
   "cell_type": "code",
   "execution_count": 33,
   "id": "measured-motion",
   "metadata": {
    "scrolled": true
   },
   "outputs": [
    {
     "data": {
      "text/plain": [
       "10000"
      ]
     },
     "execution_count": 33,
     "metadata": {},
     "output_type": "execute_result"
    }
   ],
   "source": [
    "len(test_dataset.targets)"
   ]
  },
  {
   "cell_type": "code",
   "execution_count": 36,
   "id": "stylish-billion",
   "metadata": {},
   "outputs": [
    {
     "data": {
      "text/plain": [
       "torch.Size([10000, 28, 28])"
      ]
     },
     "execution_count": 36,
     "metadata": {},
     "output_type": "execute_result"
    }
   ],
   "source": [
    "test_dataset.data.size()"
   ]
  },
  {
   "cell_type": "code",
   "execution_count": 40,
   "id": "crude-wesley",
   "metadata": {},
   "outputs": [
    {
     "data": {
      "image/png": "[encoded data removed]",
      "text/plain": [
       "<Figure size 720x720 with 25 Axes>"
      ]
     },
     "metadata": {
      "image/png": {
       "height": 573,
       "width": 569
      },
      "needs_background": "light"
     },
     "output_type": "display_data"
    },
    {
     "name": "stdout",
     "output_type": "stream",
     "text": [
      "Done\n"
     ]
    }
   ],
   "source": [
    "n_sample = 25\n",
    "sample_indices = np.random.choice(len(test_dataset.targets), n_sample, replace=False)\n",
    "test_x = test_dataset.data[sample_indices]\n",
    "test_y = test_dataset.targets[sample_indices]\n",
    "with torch.no_grad():\n",
    "    y_pred = model.forward(test_x.view(-1,28*28).type(torch.float).to(device))\n",
    "y_pred = y_pred.argmax(axis=1)\n",
    "plt.figure(figsize=(10,10))\n",
    "for idx in range(n_sample):\n",
    "    plt.subplot(5, 5, idx+1)\n",
    "    plt.imshow(test_x[idx], cmap='gray')\n",
    "    plt.axis('off')\n",
    "    plt.title(f'Pred:{y_pred[idx]}, Label:{test_y[idx]}')\n",
    "plt.show()\n",
    "print('Done')"
   ]
  },
  {
   "cell_type": "code",
   "execution_count": null,
   "id": "japanese-governor",
   "metadata": {},
   "outputs": [],
   "source": [
    "n_sample = 25\n",
    "sample_indices = np.random.choice(len(mnist_test.targets), n_sample, replace=False)\n",
    "test_x = mnist_test.data[sample_indices]\n",
    "test_y = mnist_test.targets[sample_indices]\n",
    "with torch.no_grad():\n",
    "    y_pred = M.forward(test_x.view(-1, 28*28).type(torch.float).to(device)/255.)\n",
    "y_pred = y_pred.argmax(axis=1)\n",
    "plt.figure(figsize=(10,10))\n",
    "for idx in range(n_sample):\n",
    "    plt.subplot(5, 5, idx+1)\n",
    "    plt.imshow(test_x[idx], cmap='gray')\n",
    "    plt.axis('off')\n",
    "    plt.title(\"Pred:%d, Label:%d\"%(y_pred[idx],test_y[idx]))\n",
    "plt.show()    \n",
    "print (\"Done\")"
   ]
  }
 ],
 "metadata": {
  "kernelspec": {
   "display_name": "Python 3",
   "language": "python",
   "name": "python3"
  },
  "language_info": {
   "codemirror_mode": {
    "name": "ipython",
    "version": 3
   },
   "file_extension": ".py",
   "mimetype": "text/x-python",
   "name": "python",
   "nbconvert_exporter": "python",
   "pygments_lexer": "ipython3",
   "version": "3.8.5"
  }
 },
 "nbformat": 4,
 "nbformat_minor": 5
}
