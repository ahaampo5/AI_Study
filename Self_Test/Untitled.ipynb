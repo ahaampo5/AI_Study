{
 "cells": [
  {
   "cell_type": "code",
   "execution_count": null,
   "id": "persistent-florence",
   "metadata": {},
   "outputs": [],
   "source": [
    "import numpy as np\n",
    "import torch\n",
    "import torch.nn as nn\n",
    "import torch.optim as optim\n",
    "import torch.nn.functional as F\n",
    "from torch.utils.data import DataLoader\n",
    "import matplotlib.pyplot as plt\n",
    "%matplotlib inline\n",
    "%config InlineBackend.figure_format='retina'\n",
    "print('Pytorch version :', torch.__version__)\n",
    "device = torch.device('cuda:0' if torch.cuda.is_available() else 'cpu')\n",
    "print(f'device : [{device}]')"
   ]
  },
  {
   "cell_type": "code",
   "execution_count": null,
   "id": "boxed-greece",
   "metadata": {},
   "outputs": [],
   "source": [
    "class RNN(nn.Module):\n",
    "    def __init__(self,x_dim=28,h_dim=256,y_dim=10,n_layer=3 ):\n",
    "        super(RNN,self).__init__()\n",
    "        self.x_dim = x_dim\n",
    "        self.h_dim = h_dim\n",
    "        self.y_dim = y_dim\n",
    "        self.n_layer = n_layer\n",
    "        \n",
    "        self.rnn = nn.RNN(\n",
    "        input_size=self.x_dim,hidden_size=self.h_dim,num_layers=self.n_layer,batch_first=True)\n",
    "        self.lin = nn.Linear(self.h_dim,self.y_dim)\n",
    "        self.init_param()\n",
    "    \n",
    "    def forward(self,input):\n",
    "        x = input\n",
    "        h_0 = torch.zeros(self.n_layer,x.size(0),self.h_dim).to(device)\n",
    "        c_0 = torch.zeros(self.n_layer,x.size(0),self.h_dim).to(device)\n",
    "        rnn_out, (h_n,c_n) = self.rnn(x,(h_0,c_0))\n",
    "        out = self.lin(rnn_out[:,-1,:]).view(-1,self.y_dim)\n",
    "        return out\n",
    "    \n",
    "    def init_param(self):\n",
    "        for name, param in self.named_parameters():\n",
    "            if 'weight' in name:\n",
    "                nn.init.kaiming_normal_(param.data)\n",
    "            elif 'bias' in name:\n",
    "                nn.init.zeros_(param.data)"
   ]
  },
  {
   "cell_type": "code",
   "execution_count": null,
   "id": "dress-specialist",
   "metadata": {},
   "outputs": [],
   "source": [
    "a = RNN(x_dim=28,h_dim=256,y_dim=10,n_layer=3)"
   ]
  }
 ],
 "metadata": {
  "kernelspec": {
   "display_name": "Python 3",
   "language": "python",
   "name": "python3"
  }
 },
 "nbformat": 4,
 "nbformat_minor": 5
}
