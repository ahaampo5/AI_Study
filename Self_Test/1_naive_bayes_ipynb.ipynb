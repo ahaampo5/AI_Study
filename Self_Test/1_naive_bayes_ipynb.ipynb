{
  "nbformat": 4,
  "nbformat_minor": 0,
  "metadata": {
    "colab": {
      "name": "Untitled0.ipynb",
      "provenance": []
    },
    "kernelspec": {
      "name": "python3",
      "display_name": "Python 3"
    }
  },
  "cells": [
    {
      "cell_type": "code",
      "metadata": {
        "colab": {
          "base_uri": "https://localhost:8080/"
        },
        "id": "fDgLOc_JnefG",
        "outputId": "d42ba036-9052-47d4-f9cb-458f2b4d0bd9"
      },
      "source": [
        "!pip install konlpy"
      ],
      "execution_count": 1,
      "outputs": [
        {
          "output_type": "stream",
          "text": [
            "Collecting konlpy\n",
            "\u001b[?25l  Downloading https://files.pythonhosted.org/packages/85/0e/f385566fec837c0b83f216b2da65db9997b35dd675e107752005b7d392b1/konlpy-0.5.2-py2.py3-none-any.whl (19.4MB)\n",
            "\u001b[K     |████████████████████████████████| 19.4MB 1.4MB/s \n",
            "\u001b[?25hRequirement already satisfied: lxml>=4.1.0 in /usr/local/lib/python3.6/dist-packages (from konlpy) (4.2.6)\n",
            "Collecting JPype1>=0.7.0\n",
            "\u001b[?25l  Downloading https://files.pythonhosted.org/packages/de/af/93f92b38ec1ff3091cd38982ed19cea2800fefb609b5801c41fc43c0781e/JPype1-1.2.1-cp36-cp36m-manylinux2010_x86_64.whl (457kB)\n",
            "\u001b[K     |████████████████████████████████| 460kB 38.0MB/s \n",
            "\u001b[?25hCollecting beautifulsoup4==4.6.0\n",
            "\u001b[?25l  Downloading https://files.pythonhosted.org/packages/9e/d4/10f46e5cfac773e22707237bfcd51bbffeaf0a576b0a847ec7ab15bd7ace/beautifulsoup4-4.6.0-py3-none-any.whl (86kB)\n",
            "\u001b[K     |████████████████████████████████| 92kB 8.7MB/s \n",
            "\u001b[?25hCollecting tweepy>=3.7.0\n",
            "  Downloading https://files.pythonhosted.org/packages/67/c3/6bed87f3b1e5ed2f34bd58bf7978e308c86e255193916be76e5a5ce5dfca/tweepy-3.10.0-py2.py3-none-any.whl\n",
            "Requirement already satisfied: numpy>=1.6 in /usr/local/lib/python3.6/dist-packages (from konlpy) (1.19.5)\n",
            "Collecting colorama\n",
            "  Downloading https://files.pythonhosted.org/packages/44/98/5b86278fbbf250d239ae0ecb724f8572af1c91f4a11edf4d36a206189440/colorama-0.4.4-py2.py3-none-any.whl\n",
            "Requirement already satisfied: typing-extensions; python_version < \"3.8\" in /usr/local/lib/python3.6/dist-packages (from JPype1>=0.7.0->konlpy) (3.7.4.3)\n",
            "Requirement already satisfied: six>=1.10.0 in /usr/local/lib/python3.6/dist-packages (from tweepy>=3.7.0->konlpy) (1.15.0)\n",
            "Requirement already satisfied: requests[socks]>=2.11.1 in /usr/local/lib/python3.6/dist-packages (from tweepy>=3.7.0->konlpy) (2.23.0)\n",
            "Requirement already satisfied: requests-oauthlib>=0.7.0 in /usr/local/lib/python3.6/dist-packages (from tweepy>=3.7.0->konlpy) (1.3.0)\n",
            "Requirement already satisfied: chardet<4,>=3.0.2 in /usr/local/lib/python3.6/dist-packages (from requests[socks]>=2.11.1->tweepy>=3.7.0->konlpy) (3.0.4)\n",
            "Requirement already satisfied: urllib3!=1.25.0,!=1.25.1,<1.26,>=1.21.1 in /usr/local/lib/python3.6/dist-packages (from requests[socks]>=2.11.1->tweepy>=3.7.0->konlpy) (1.24.3)\n",
            "Requirement already satisfied: idna<3,>=2.5 in /usr/local/lib/python3.6/dist-packages (from requests[socks]>=2.11.1->tweepy>=3.7.0->konlpy) (2.10)\n",
            "Requirement already satisfied: certifi>=2017.4.17 in /usr/local/lib/python3.6/dist-packages (from requests[socks]>=2.11.1->tweepy>=3.7.0->konlpy) (2020.12.5)\n",
            "Requirement already satisfied: PySocks!=1.5.7,>=1.5.6; extra == \"socks\" in /usr/local/lib/python3.6/dist-packages (from requests[socks]>=2.11.1->tweepy>=3.7.0->konlpy) (1.7.1)\n",
            "Requirement already satisfied: oauthlib>=3.0.0 in /usr/local/lib/python3.6/dist-packages (from requests-oauthlib>=0.7.0->tweepy>=3.7.0->konlpy) (3.1.0)\n",
            "Installing collected packages: JPype1, beautifulsoup4, tweepy, colorama, konlpy\n",
            "  Found existing installation: beautifulsoup4 4.6.3\n",
            "    Uninstalling beautifulsoup4-4.6.3:\n",
            "      Successfully uninstalled beautifulsoup4-4.6.3\n",
            "  Found existing installation: tweepy 3.6.0\n",
            "    Uninstalling tweepy-3.6.0:\n",
            "      Successfully uninstalled tweepy-3.6.0\n",
            "Successfully installed JPype1-1.2.1 beautifulsoup4-4.6.0 colorama-0.4.4 konlpy-0.5.2 tweepy-3.10.0\n"
          ],
          "name": "stdout"
        }
      ]
    },
    {
      "cell_type": "code",
      "metadata": {
        "id": "8kzuFwSsnhV6"
      },
      "source": [
        "from tqdm import tqdm\r\n",
        "from konlpy import tag\r\n",
        "from collections import defaultdict, Counter\r\n",
        "import math"
      ],
      "execution_count": 16,
      "outputs": []
    },
    {
      "cell_type": "markdown",
      "metadata": {
        "id": "lZapR-7BnvAC"
      },
      "source": [
        "데이터를 가져와서 token화 + vocab만들기"
      ]
    },
    {
      "cell_type": "code",
      "metadata": {
        "id": "RvqnXeH7nr2T"
      },
      "source": [
        "train_data = [\r\n",
        "  \"정말 맛있습니다. 추천합니다.\",\r\n",
        "  \"기대했던 것보단 별로였네요.\",\r\n",
        "  \"다 좋은데 가격이 너무 비싸서 다시 가고 싶다는 생각이 안 드네요.\",\r\n",
        "  \"완전 최고입니다! 재방문 의사 있습니다.\",\r\n",
        "  \"음식도 서비스도 다 만족스러웠습니다.\",\r\n",
        "  \"위생 상태가 좀 별로였습니다. 좀 더 개선되기를 바랍니다.\",\r\n",
        "  \"맛도 좋았고 직원분들 서비스도 너무 친절했습니다.\",\r\n",
        "  \"기념일에 방문했는데 음식도 분위기도 서비스도 다 좋았습니다.\",\r\n",
        "  \"전반적으로 음식이 너무 짰습니다. 저는 별로였네요.\",\r\n",
        "  \"위생에 조금 더 신경 썼으면 좋겠습니다. 조금 불쾌했습니다.\"\r\n",
        "]\r\n",
        "train_labels = [1, 0, 0, 1, 1, 0, 1, 1, 0, 0]\r\n",
        "\r\n",
        "test_data = [\r\n",
        "  \"정말 좋았습니다. 또 가고 싶네요.\",\r\n",
        "  \"별로였습니다. 되도록 가지 마세요.\",\r\n",
        "  \"다른 분들께도 추천드릴 수 있을 만큼 만족했습니다.\",\r\n",
        "  \"서비스가 좀 더 개선되었으면 좋겠습니다. 기분이 좀 나빴습니다.\"\r\n",
        "]"
      ],
      "execution_count": 3,
      "outputs": []
    },
    {
      "cell_type": "code",
      "metadata": {
        "id": "ctNwPL9UnuZy"
      },
      "source": [
        "tokenizer = tag.Okt()"
      ],
      "execution_count": 6,
      "outputs": []
    },
    {
      "cell_type": "code",
      "metadata": {
        "id": "pPDgDc5en7Gb"
      },
      "source": [
        "def tokenization(data):\r\n",
        "  data_tokenized = []\r\n",
        "  for i in data:\r\n",
        "    tokens = tokenizer.morphs(i)\r\n",
        "    data_tokenized.append(tokens)\r\n",
        "  return data_tokenized"
      ],
      "execution_count": 8,
      "outputs": []
    },
    {
      "cell_type": "code",
      "metadata": {
        "id": "pxMrLndxoolo"
      },
      "source": [
        "train_token = tokenization(train_data)\r\n",
        "test_token = tokenization(test_data)"
      ],
      "execution_count": 10,
      "outputs": []
    },
    {
      "cell_type": "code",
      "metadata": {
        "id": "hLMqQs9woaL4"
      },
      "source": [
        "word_count = defaultdict()\r\n",
        "for i in train_token:\r\n",
        "  for j in i:\r\n",
        "    if j in word_count:\r\n",
        "      word_count[j] += 1\r\n",
        "    else:\r\n",
        "      word_count[j] = 1\r\n",
        "word_count"
      ],
      "execution_count": null,
      "outputs": []
    },
    {
      "cell_type": "code",
      "metadata": {
        "id": "WQKbrlI7on1o"
      },
      "source": [
        "w2i = defaultdict()\r\n",
        "for i in word_count:\r\n",
        "  if i not in w2i:\r\n",
        "    w2i[i] = len(w2i)\r\n",
        "w2i"
      ],
      "execution_count": null,
      "outputs": []
    },
    {
      "cell_type": "code",
      "metadata": {
        "colab": {
          "base_uri": "https://localhost:8080/"
        },
        "id": "EWiPb88WonZA",
        "outputId": "13cde475-b7cc-484f-a79e-33c9b3e9d754"
      },
      "source": [
        "len(w2i)"
      ],
      "execution_count": 15,
      "outputs": [
        {
          "output_type": "execute_result",
          "data": {
            "text/plain": [
              "66"
            ]
          },
          "metadata": {
            "tags": []
          },
          "execution_count": 15
        }
      ]
    },
    {
      "cell_type": "code",
      "metadata": {
        "id": "JjQj34K1rxun"
      },
      "source": [
        "class NBC():\r\n",
        "  def __init__(self,w2i,train_token,test_token,train_labels,k=0.1):\r\n",
        "    self.prior_list = defaultdict()\r\n",
        "    self.likelihood_list = defaultdict()\r\n",
        "    self.train_token = train_token\r\n",
        "    self.test_token = test_token\r\n",
        "    self.train_labels = train_labels\r\n",
        "    self.k = k\r\n",
        "    self.w2i = w2i\r\n",
        "\r\n",
        "  def train(self):\r\n",
        "    self.priors()\r\n",
        "    self.likelihoods()\r\n",
        "  def reference(self):\r\n",
        "    result = []\r\n",
        "    for tokens in test_token:\r\n",
        "      prob_0,prob_1 = 0,0\r\n",
        "      for token in tokens:\r\n",
        "        if token in self.likelihood_list:\r\n",
        "          prob_0 += math.log(self.likelihood_list[token][0])\r\n",
        "          prob_1 += math.log(self.likelihood_list[token][1])\r\n",
        "      prob_0 += math.log(self.prior_list[0])\r\n",
        "      prob_1 += math.log(self.prior_list[1])\r\n",
        "      result.append(0 if prob_0 > prob_1 else 1)\r\n",
        "    return result\r\n",
        "\r\n",
        "  def priors(self):\r\n",
        "    for i in train_labels:\r\n",
        "      if i in self.prior_list:\r\n",
        "        self.prior_list[i] += 1\r\n",
        "      else:\r\n",
        "        self.prior_list[i] = 1\r\n",
        "    for j in range(len(self.prior_list)):\r\n",
        "      self.prior_list[i] /= len(train_labels)\r\n",
        "\r\n",
        "  def likelihoods(self):\r\n",
        "    count_0,count_1 = 0,0\r\n",
        "    for i, tokens in enumerate(self.train_token):\r\n",
        "      if train_labels[i] == 0:\r\n",
        "        count_0 += len(tokens)\r\n",
        "      else:\r\n",
        "        count_1 += len(tokens)\r\n",
        "      for token in tokens:\r\n",
        "        if token in self.likelihood_list:\r\n",
        "          self.likelihood_list[token][train_labels[i]] += 1\r\n",
        "        else:\r\n",
        "          self.likelihood_list[token] ={0:0,1:0}\r\n",
        "          self.likelihood_list[token][train_labels[i]] += 1\r\n",
        "    for j in self.likelihood_list:\r\n",
        "      self.likelihood_list[j][0] = (self.likelihood_list[j][0]+self.k)/ (count_0+len(self.w2i)*self.k)\r\n",
        "      self.likelihood_list[j][1] = (self.likelihood_list[j][1]+self.k)/ (count_1+len(self.w2i)*self.k)\r\n"
      ],
      "execution_count": 83,
      "outputs": []
    },
    {
      "cell_type": "code",
      "metadata": {
        "id": "wV3ZFj1bw-lA"
      },
      "source": [
        "nbc = NBC(w2i,train_token,test_token,train_labels,k=0.1)"
      ],
      "execution_count": 84,
      "outputs": []
    },
    {
      "cell_type": "code",
      "metadata": {
        "id": "Uxey7uFHxESQ"
      },
      "source": [
        "nbc.train()"
      ],
      "execution_count": 85,
      "outputs": []
    },
    {
      "cell_type": "code",
      "metadata": {
        "colab": {
          "base_uri": "https://localhost:8080/"
        },
        "id": "0Thhn0L2xLgx",
        "outputId": "1e24c040-59a1-406e-9076-d562e996d9e1"
      },
      "source": [
        "nbc.likelihood_list"
      ],
      "execution_count": 86,
      "outputs": [
        {
          "output_type": "execute_result",
          "data": {
            "text/plain": [
              "defaultdict(None,\n",
              "            {'!': {0: 0.0015243902439024393, 1: 0.02131782945736434},\n",
              "             '.': {0: 0.12347560975609756, 1: 0.11821705426356588},\n",
              "             '가': {0: 0.016768292682926834, 1: 0.001937984496124031},\n",
              "             '가격': {0: 0.016768292682926834, 1: 0.001937984496124031},\n",
              "             '가고': {0: 0.016768292682926834, 1: 0.001937984496124031},\n",
              "             '개선': {0: 0.016768292682926834, 1: 0.001937984496124031},\n",
              "             '것': {0: 0.016768292682926834, 1: 0.001937984496124031},\n",
              "             '기념일': {0: 0.0015243902439024393, 1: 0.02131782945736434},\n",
              "             '기대했던': {0: 0.016768292682926834, 1: 0.001937984496124031},\n",
              "             '기를': {0: 0.016768292682926834, 1: 0.001937984496124031},\n",
              "             '너무': {0: 0.03201219512195122, 1: 0.02131782945736434},\n",
              "             '는': {0: 0.016768292682926834, 1: 0.001937984496124031},\n",
              "             '다': {0: 0.016768292682926834, 1: 0.040697674418604654},\n",
              "             '다시': {0: 0.016768292682926834, 1: 0.001937984496124031},\n",
              "             '더': {0: 0.03201219512195122, 1: 0.001937984496124031},\n",
              "             '도': {0: 0.0015243902439024393, 1: 0.1375968992248062},\n",
              "             '되': {0: 0.016768292682926834, 1: 0.001937984496124031},\n",
              "             '드네': {0: 0.016768292682926834, 1: 0.001937984496124031},\n",
              "             '만족스러웠습니다': {0: 0.0015243902439024393, 1: 0.02131782945736434},\n",
              "             '맛': {0: 0.0015243902439024393, 1: 0.02131782945736434},\n",
              "             '맛있습니다': {0: 0.0015243902439024393, 1: 0.02131782945736434},\n",
              "             '바랍니다': {0: 0.016768292682926834, 1: 0.001937984496124031},\n",
              "             '방문': {0: 0.0015243902439024393, 1: 0.040697674418604654},\n",
              "             '별로': {0: 0.04725609756097562, 1: 0.001937984496124031},\n",
              "             '보단': {0: 0.016768292682926834, 1: 0.001937984496124031},\n",
              "             '분들': {0: 0.0015243902439024393, 1: 0.02131782945736434},\n",
              "             '분위기': {0: 0.0015243902439024393, 1: 0.02131782945736434},\n",
              "             '불쾌했습니다': {0: 0.016768292682926834, 1: 0.001937984496124031},\n",
              "             '비싸서': {0: 0.016768292682926834, 1: 0.001937984496124031},\n",
              "             '상태': {0: 0.016768292682926834, 1: 0.001937984496124031},\n",
              "             '생각': {0: 0.016768292682926834, 1: 0.001937984496124031},\n",
              "             '서비스': {0: 0.0015243902439024393, 1: 0.060077519379844964},\n",
              "             '신경': {0: 0.016768292682926834, 1: 0.001937984496124031},\n",
              "             '싶다는': {0: 0.016768292682926834, 1: 0.001937984496124031},\n",
              "             '썼으면': {0: 0.016768292682926834, 1: 0.001937984496124031},\n",
              "             '안': {0: 0.016768292682926834, 1: 0.001937984496124031},\n",
              "             '에': {0: 0.016768292682926834, 1: 0.02131782945736434},\n",
              "             '였네요': {0: 0.03201219512195122, 1: 0.001937984496124031},\n",
              "             '였습니다': {0: 0.016768292682926834, 1: 0.001937984496124031},\n",
              "             '완전': {0: 0.0015243902439024393, 1: 0.02131782945736434},\n",
              "             '요': {0: 0.016768292682926834, 1: 0.001937984496124031},\n",
              "             '위생': {0: 0.03201219512195122, 1: 0.001937984496124031},\n",
              "             '으로': {0: 0.016768292682926834, 1: 0.001937984496124031},\n",
              "             '음식': {0: 0.016768292682926834, 1: 0.040697674418604654},\n",
              "             '의사': {0: 0.0015243902439024393, 1: 0.02131782945736434},\n",
              "             '이': {0: 0.04725609756097562, 1: 0.001937984496124031},\n",
              "             '입니다': {0: 0.0015243902439024393, 1: 0.02131782945736434},\n",
              "             '있습니다': {0: 0.0015243902439024393, 1: 0.02131782945736434},\n",
              "             '재': {0: 0.0015243902439024393, 1: 0.02131782945736434},\n",
              "             '저': {0: 0.016768292682926834, 1: 0.001937984496124031},\n",
              "             '적': {0: 0.016768292682926834, 1: 0.001937984496124031},\n",
              "             '전반': {0: 0.016768292682926834, 1: 0.001937984496124031},\n",
              "             '정말': {0: 0.0015243902439024393, 1: 0.02131782945736434},\n",
              "             '조금': {0: 0.03201219512195122, 1: 0.001937984496124031},\n",
              "             '좀': {0: 0.03201219512195122, 1: 0.001937984496124031},\n",
              "             '좋겠습니다': {0: 0.016768292682926834, 1: 0.001937984496124031},\n",
              "             '좋았고': {0: 0.0015243902439024393, 1: 0.02131782945736434},\n",
              "             '좋았습니다': {0: 0.0015243902439024393, 1: 0.02131782945736434},\n",
              "             '좋은데': {0: 0.016768292682926834, 1: 0.001937984496124031},\n",
              "             '직원': {0: 0.0015243902439024393, 1: 0.02131782945736434},\n",
              "             '짰습니다': {0: 0.016768292682926834, 1: 0.001937984496124031},\n",
              "             '최고': {0: 0.0015243902439024393, 1: 0.02131782945736434},\n",
              "             '추천': {0: 0.0015243902439024393, 1: 0.02131782945736434},\n",
              "             '친절했습니다': {0: 0.0015243902439024393, 1: 0.02131782945736434},\n",
              "             '합니다': {0: 0.0015243902439024393, 1: 0.02131782945736434},\n",
              "             '했는데': {0: 0.0015243902439024393, 1: 0.02131782945736434}})"
            ]
          },
          "metadata": {
            "tags": []
          },
          "execution_count": 86
        }
      ]
    },
    {
      "cell_type": "code",
      "metadata": {
        "colab": {
          "base_uri": "https://localhost:8080/"
        },
        "id": "-Awt_IiCyiEy",
        "outputId": "1c70747e-3661-4885-fa6d-3c821ba8a062"
      },
      "source": [
        "nbc.reference()"
      ],
      "execution_count": 87,
      "outputs": [
        {
          "output_type": "execute_result",
          "data": {
            "text/plain": [
              "[1, 0, 1, 0]"
            ]
          },
          "metadata": {
            "tags": []
          },
          "execution_count": 87
        }
      ]
    },
    {
      "cell_type": "code",
      "metadata": {
        "id": "g1Fo0NR91U-m"
      },
      "source": [
        ""
      ],
      "execution_count": null,
      "outputs": []
    }
  ]
}