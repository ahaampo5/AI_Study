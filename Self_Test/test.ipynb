{
 "cells": [
  {
   "cell_type": "code",
   "execution_count": 1,
   "id": "negative-alaska",
   "metadata": {
    "scrolled": true
   },
   "outputs": [
    {
     "name": "stdout",
     "output_type": "stream",
     "text": [
      "Pytorch version : 1.7.1\n",
      "device : [cuda:0]\n"
     ]
    }
   ],
   "source": [
    "import numpy as np\n",
    "import torch\n",
    "import torch.nn as nn\n",
    "import torch.optim as optim\n",
    "import torch.nn.functional as F\n",
    "from torch.utils.data import DataLoader\n",
    "import matplotlib.pyplot as plt\n",
    "%matplotlib inline\n",
    "%config InlineBackend.figure_format='retina'\n",
    "print('Pytorch version :', torch.__version__)\n",
    "device = torch.device('cuda:0' if torch.cuda.is_available() else 'cpu')\n",
    "print(f'device : [{device}]')"
   ]
  },
  {
   "cell_type": "code",
   "execution_count": 57,
   "id": "dated-bulletin",
   "metadata": {},
   "outputs": [],
   "source": [
    "from torchvision import datasets, transforms\n",
    "train_data = datasets.MNIST(root='./data',train=True,transform=transforms.ToTensor(),download=False)\n",
    "test_data = datasets.MNIST(root='./data',train=False,transform=transforms.ToTensor(),download=False)"
   ]
  },
  {
   "cell_type": "code",
   "execution_count": 58,
   "id": "found-evening",
   "metadata": {},
   "outputs": [],
   "source": [
    "BATCH_SIZE = 256\n",
    "train_iter = DataLoader(train_data,shuffle=True,batch_size=BATCH_SIZE,num_workers=1,drop_last=True)\n",
    "test_iter = DataLoader(test_data,shuffle=True,batch_size=BATCH_SIZE,num_workers=1,drop_last=True)"
   ]
  },
  {
   "cell_type": "code",
   "execution_count": 15,
   "id": "imported-receiver",
   "metadata": {},
   "outputs": [
    {
     "data": {
      "text/plain": [
       "<torch.utils.data.dataloader.DataLoader at 0x1f71104a490>"
      ]
     },
     "execution_count": 15,
     "metadata": {},
     "output_type": "execute_result"
    }
   ],
   "source": [
    "train_iter"
   ]
  },
  {
   "cell_type": "code",
   "execution_count": 78,
   "id": "oriented-heart",
   "metadata": {},
   "outputs": [],
   "source": [
    "x_dim = 28\n",
    "h_dim = 256\n",
    "y_dim = 10\n",
    "n_layer = 3\n",
    "        \n",
    "lin_xh_f = nn.Linear(x_dim,h_dim)\n",
    "lin_hh_f = nn.Linear(h_dim,h_dim)\n",
    "        \n",
    "lin_xh_in1 = nn.Linear(x_dim,h_dim)\n",
    "lin_hh_in1 = nn.Linear(h_dim,h_dim)\n",
    "lin_xh_in2 = nn.Linear(x_dim,h_dim)\n",
    "lin_hh_in2 = nn.Linear(h_dim,h_dim)\n",
    "        \n",
    "lin_xh_out = nn.Linear(x_dim,h_dim)\n",
    "lin_hh_out = nn.Linear(h_dim,h_dim)     \n",
    "# result\n",
    "lin_out = nn.Linear(h_dim,y_dim)\n",
    "\n",
    "h_0 = torch.zeros(h_dim)\n",
    "c_0 = torch.zeros(h_dim)\n",
    "\n",
    "loss = nn.CrossEntropyLoss()\n",
    "optimizer1 = optim.Adam(lin_xh_f.parameters(),lr=1e-3)\n",
    "optimizer2 = optim.Adam(lin_hh_f.parameters(),lr=1e-3)\n",
    "optimizer3 = optim.Adam(lin_xh_in1.parameters(),lr=1e-3)\n",
    "optimizer4 = optim.Adam(lin_hh_in1.parameters(),lr=1e-3)\n",
    "optimizer5 = optim.Adam(lin_xh_in2.parameters(),lr=1e-3)\n",
    "optimizer6 = optim.Adam(lin_hh_in2.parameters(),lr=1e-3)\n",
    "optimizer7 = optim.Adam(lin_xh_out.parameters(),lr=1e-3)\n",
    "optimizer8 = optim.Adam(lin_hh_out.parameters(),lr=1e-3)\n",
    "optimizer9 = optim.Adam(lin_out.parameters(),lr=1e-3)"
   ]
  },
  {
   "cell_type": "code",
   "execution_count": null,
   "id": "collaborative-jurisdiction",
   "metadata": {},
   "outputs": [],
   "source": [
    "class LSTM(nn.Module):\n",
    "    def __init__(x_dim=28,h_dim=256,y_dim=10):\n",
    "        super(LSTM,self).__init__()\n",
    "        self.x_dim = x_dim\n",
    "        self.h_dim = h_dim\n",
    "        self.y_dim = y_dim\n",
    "        sefl.lin_xh_f\n",
    "        self.lin_xh_f = nn.Linear(x_dim,h_dim)\n",
    "        lsef.lin_hh_f = nn.Linear(h_dim,h_dim)\n",
    "        \n",
    "        self.lin_xh_in1 = nn.Linear(x_dim,h_dim)\n",
    "        self.lin_hh_in1 = nn.Linear(h_dim,h_dim)\n",
    "        self.lin_xh_in2 = nn.Linear(x_dim,h_dim)\n",
    "        self.lin_hh_in2 = nn.Linear(h_dim,h_dim)\n",
    "        \n",
    "        self.lin_xh_out = nn.Linear(x_dim,h_dim)\n",
    "        self.lin_hh_out = nn.Linear(h_dim,h_dim)     \n",
    "        # result\n",
    "        self.lin_out = nn.Linear(h_dim,y_dim)\n",
    "        \n",
    "    def forward(self,x):\n",
    "        h_0 = torch.zeros(h_dim)\n",
    "        c_0 = torch.zeros(h_dim)\n",
    "        h_n = h_0\n",
    "        c_n = c_0\n",
    "        for i in range(x_dim):\n",
    "            # forget\n",
    "            batch_in = batch_in_origin[:,i,:]\n",
    "            a = lin_xh_f(batch_in)\n",
    "            b = lin_hh_f(h_n)\n",
    "            forget_out = F.sigmoid(a+b)\n",
    "\n",
    "            # input\n",
    "            d = lin_xh_in1(batch_in)\n",
    "            e = lin_hh_in1(h_n)\n",
    "            f = lin_xh_in2(batch_in)\n",
    "            g = lin_hh_in2(h_n)\n",
    "            input_out = F.sigmoid(d+e)*F.tanh(f+g)\n",
    "\n",
    "            # output\n",
    "            h = lin_xh_out(batch_in)\n",
    "            i = lin_hh_out(h_n)\n",
    "            output_out = F.sigmoid(h+i)\n",
    "\n",
    "            # combine\n",
    "            c_n = c_n*forget_out + input_out\n",
    "            h_n = F.tanh(c_n)*output_out\n",
    "        # result\n",
    "        print(h_n.size())\n",
    "        output = lin_out(h_n)\n",
    "\n",
    "        "
   ]
  },
  {
   "cell_type": "code",
   "execution_count": 88,
   "id": "motivated-shuttle",
   "metadata": {},
   "outputs": [
    {
     "data": {
      "text/plain": [
       "torch.Size([256, 28])"
      ]
     },
     "execution_count": 88,
     "metadata": {},
     "output_type": "execute_result"
    }
   ],
   "source": [
    "h_n = h_0\n",
    "c_n = c_0\n",
    "batch_1 = next(iter(train_iter))\n",
    "batch_in_origin = batch_1[0].view(-1,28,28)\n",
    "batch_out = batch_1[1]\n",
    "batch_in.size()"
   ]
  },
  {
   "cell_type": "code",
   "execution_count": 94,
   "id": "annoying-station",
   "metadata": {
    "scrolled": false
   },
   "outputs": [
    {
     "name": "stdout",
     "output_type": "stream",
     "text": [
      "torch.Size([256, 256])\n",
      "tensor([[-0.0447, -0.0301,  0.0796,  ..., -0.0058, -0.0331,  0.0246],\n",
      "        [-0.0428, -0.0083,  0.0739,  ..., -0.0039, -0.0388, -0.0030],\n",
      "        [-0.0420, -0.0259,  0.0726,  ..., -0.0075, -0.0282,  0.0146],\n",
      "        ...,\n",
      "        [-0.0292, -0.0314,  0.0743,  ..., -0.0112, -0.0287, -0.0017],\n",
      "        [-0.0410, -0.0249,  0.0776,  ..., -0.0076, -0.0284,  0.0078],\n",
      "        [-0.0419, -0.0307,  0.0785,  ..., -0.0054, -0.0285,  0.0145]],\n",
      "       grad_fn=<AddmmBackward>)\n",
      "tensor(2.3025, grad_fn=<NllLossBackward>)\n"
     ]
    }
   ],
   "source": [
    "    \n",
    "for i in range(x_dim):\n",
    "    # forget\n",
    "    batch_in = batch_in_origin[:,i,:]\n",
    "    a = lin_xh_f(batch_in)\n",
    "    b = lin_hh_f(h_n)\n",
    "    forget_out = F.sigmoid(a+b)\n",
    "\n",
    "    # input\n",
    "    d = lin_xh_in1(batch_in)\n",
    "    e = lin_hh_in1(h_n)\n",
    "    f = lin_xh_in2(batch_in)\n",
    "    g = lin_hh_in2(h_n)\n",
    "    input_out = F.sigmoid(d+e)*F.tanh(f+g)\n",
    "\n",
    "    # output\n",
    "    h = lin_xh_out(batch_in)\n",
    "    i = lin_hh_out(h_n)\n",
    "    output_out = F.sigmoid(h+i)\n",
    "\n",
    "    # combine\n",
    "    c_n = c_n*forget_out + input_out\n",
    "    h_n = F.tanh(c_n)*output_out\n",
    "# result\n",
    "print(h_n.size())\n",
    "output = lin_out(h_n)\n",
    "\n",
    "# 256,1,28,28  \n",
    "print(output)\n",
    "loss_out = loss(output,batch_out)\n",
    "print(loss_out)"
   ]
  },
  {
   "cell_type": "code",
   "execution_count": 21,
   "id": "wanted-interface",
   "metadata": {},
   "outputs": [
    {
     "name": "stdout",
     "output_type": "stream",
     "text": [
      "tensor([-0.7501, -0.3321,  1.1901], grad_fn=<AddBackward0>) tensor([-1.3128, -0.7010,  2.3911], grad_fn=<AddBackward0>)\n"
     ]
    },
    {
     "data": {
      "text/plain": [
       "tensor([0.9848, 0.2328, 2.8457], grad_fn=<MulBackward0>)"
      ]
     },
     "execution_count": 21,
     "metadata": {},
     "output_type": "execute_result"
    }
   ],
   "source": [
    "a = nn.Linear(2,3)\n",
    "aa = a(torch.Tensor([1,2]))\n",
    "bb = a(torch.Tensor([2,3]))\n",
    "print(aa,bb)\n",
    "aa*(bb)"
   ]
  }
 ],
 "metadata": {
  "kernelspec": {
   "display_name": "Python 3",
   "language": "python",
   "name": "python3"
  },
  "language_info": {
   "codemirror_mode": {
    "name": "ipython",
    "version": 3
   },
   "file_extension": ".py",
   "mimetype": "text/x-python",
   "name": "python",
   "nbconvert_exporter": "python",
   "pygments_lexer": "ipython3",
   "version": "3.8.5"
  }
 },
 "nbformat": 4,
 "nbformat_minor": 5
}
