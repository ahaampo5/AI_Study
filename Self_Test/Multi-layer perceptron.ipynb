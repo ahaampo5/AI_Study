{
 "cells": [
  {
   "cell_type": "code",
   "execution_count": 1,
   "id": "enclosed-portugal",
   "metadata": {
    "scrolled": true
   },
   "outputs": [
    {
     "name": "stdout",
     "output_type": "stream",
     "text": [
      "pytorch verison : [1.7.1]\n",
      "device : [cuda:0]\n"
     ]
    }
   ],
   "source": [
    "import numpy as np\n",
    "import torch\n",
    "import torch.nn as nn\n",
    "import torch.optim as optim\n",
    "import torch.nn.functional as F\n",
    "import matplotlib.pyplot as plt\n",
    "from torch.utils.data import DataLoader\n",
    "import sys\n",
    "%matplotlib inline\n",
    "%config InlineBackend.figure_format = 'retina'\n",
    "print(f'pytorch verison : [{torch.__version__}]')\n",
    "device = torch.device('cuda:0' if torch.cuda.is_available() else 'cpu')\n",
    "print(f'device : [{device}]')"
   ]
  },
  {
   "cell_type": "markdown",
   "id": "decimal-mirror",
   "metadata": {},
   "source": [
    "- Dataset"
   ]
  },
  {
   "cell_type": "code",
   "execution_count": 2,
   "id": "decimal-cornwall",
   "metadata": {},
   "outputs": [],
   "source": [
    "from torchvision import datasets, transforms\n",
    "\n",
    "train_dataset = datasets.MNIST(root='./data',train=True,transform=transforms.ToTensor(),download=True)\n",
    "test_dataset = datasets.MNIST(root='./data',train=False,transform=transforms.ToTensor(),download=True)\n"
   ]
  },
  {
   "cell_type": "markdown",
   "id": "equal-tourism",
   "metadata": {},
   "source": [
    "- Dataloader"
   ]
  },
  {
   "cell_type": "code",
   "execution_count": 3,
   "id": "average-oklahoma",
   "metadata": {},
   "outputs": [],
   "source": [
    "BATCH_SIZE = 256\n",
    "train_iter = DataLoader(train_dataset,batch_size=BATCH_SIZE,shuffle=True,num_workers=1)\n",
    "test_iter = DataLoader(test_dataset,batch_size=BATCH_SIZE,shuffle=True,num_workers=1)"
   ]
  },
  {
   "cell_type": "markdown",
   "id": "consistent-evidence",
   "metadata": {},
   "source": [
    "- Model"
   ]
  },
  {
   "cell_type": "code",
   "execution_count": 4,
   "id": "naughty-exclusive",
   "metadata": {},
   "outputs": [],
   "source": [
    "class MLP(nn.Module):\n",
    "    def __init__(self,x_dim,h_dim,y_dim):\n",
    "        super(MLP,self).__init__()\n",
    "        self.x_dim = x_dim\n",
    "        self.h_dim = h_dim\n",
    "        self.y_dim = y_dim\n",
    "        self.lin_1 = nn.Linear(x_dim,h_dim)\n",
    "        self.lin_2 = nn.Linear(h_dim,y_dim)\n",
    "        self.init_param()\n",
    "        \n",
    "    def init_param(self):\n",
    "        nn.init.kaiming_normal_(self.lin_1.weight)\n",
    "        nn.init.zeros_(self.lin_1.bias)\n",
    "        nn.init.kaiming_normal_(self.lin_2.weight)\n",
    "        nn.init.zeros_(self.lin_2.bias)\n",
    "    \n",
    "    def forward(self,input):\n",
    "        x = input\n",
    "        x = self.lin_2(F.relu(self.lin_1(x)))\n",
    "        return x"
   ]
  },
  {
   "cell_type": "code",
   "execution_count": 5,
   "id": "administrative-holmes",
   "metadata": {},
   "outputs": [],
   "source": [
    "model = MLP(x_dim = 784, h_dim = 256, y_dim = 10).to(device)\n",
    "loss = nn.CrossEntropyLoss()\n",
    "optimizer = optim.Adam(model.parameters(),lr=1e-3)"
   ]
  },
  {
   "cell_type": "markdown",
   "id": "printable-television",
   "metadata": {},
   "source": [
    "- Model check"
   ]
  },
  {
   "cell_type": "code",
   "execution_count": 6,
   "id": "beginning-possession",
   "metadata": {
    "scrolled": true
   },
   "outputs": [
    {
     "name": "stdout",
     "output_type": "stream",
     "text": [
      "[[2.09822185e-01 2.29431938e-01 5.64319481e-01 ... 1.29506622e-01\n",
      "  9.45328982e-01 6.81141090e-01]\n",
      " [2.76034812e-01 8.42832964e-01 9.42733239e-02 ... 6.24224651e-02\n",
      "  6.55234586e-04 5.64705840e-01]\n",
      " [5.57022200e-01 7.87504554e-01 2.02977379e-01 ... 6.70308143e-01\n",
      "  8.90050486e-01 8.96027140e-01]\n",
      " [1.99074471e-01 4.88631039e-01 3.20708759e-01 ... 3.36177864e-01\n",
      "  2.63486204e-01 1.07261606e-01]\n",
      " [7.17011331e-01 4.99610141e-01 6.60495356e-01 ... 9.01675260e-01\n",
      "  6.13409988e-01 7.61126289e-01]]\n",
      "tensor([[2.0982e-01, 2.2943e-01, 5.6432e-01,  ..., 1.2951e-01, 9.4533e-01,\n",
      "         6.8114e-01],\n",
      "        [2.7603e-01, 8.4283e-01, 9.4273e-02,  ..., 6.2422e-02, 6.5523e-04,\n",
      "         5.6471e-01],\n",
      "        [5.5702e-01, 7.8750e-01, 2.0298e-01,  ..., 6.7031e-01, 8.9005e-01,\n",
      "         8.9603e-01],\n",
      "        [1.9907e-01, 4.8863e-01, 3.2071e-01,  ..., 3.3618e-01, 2.6349e-01,\n",
      "         1.0726e-01],\n",
      "        [7.1701e-01, 4.9961e-01, 6.6050e-01,  ..., 9.0168e-01, 6.1341e-01,\n",
      "         7.6113e-01]], device='cuda:0')\n",
      "tensor([[ 0.1484,  0.8541, -0.8530,  1.4704,  0.7095,  0.3799, -0.8614,  0.9636,\n",
      "         -1.2427, -1.9128],\n",
      "        [-0.9091,  0.7776, -0.4271,  1.2956,  0.5413,  0.3020, -0.2761,  0.7276,\n",
      "         -0.1438, -1.7474],\n",
      "        [-0.7857,  1.4649, -0.2644,  0.6108,  0.2389,  0.5514, -0.3770,  0.5297,\n",
      "          0.0411, -1.9853],\n",
      "        [-0.5795,  1.4376, -0.0548,  0.2831,  0.7633,  1.3395, -0.9904,  0.9018,\n",
      "         -0.5379, -1.6640],\n",
      "        [-0.3186,  1.7971, -0.8260,  0.5029,  0.0690,  0.8972, -0.2356,  1.4672,\n",
      "         -0.1305, -2.5792]], device='cuda:0', grad_fn=<SliceBackward>)\n",
      "[[ 0.14840588  0.8541388  -0.8529941   1.4704299   0.7095316   0.37989715\n",
      "  -0.86140877  0.96355534 -1.2427394  -1.9128379 ]\n",
      " [-0.9091004   0.77760017 -0.42710283  1.2955523   0.54128593  0.30203986\n",
      "  -0.27606714  0.7275872  -0.1437932  -1.7474263 ]\n",
      " [-0.7857437   1.4649446  -0.2644415   0.6108238   0.23894471  0.55137444\n",
      "  -0.37699485  0.5296669   0.0410597  -1.9852514 ]\n",
      " [-0.57945377  1.4375684  -0.05483967  0.28310293  0.7632681   1.3395092\n",
      "  -0.9904414   0.9018099  -0.5378889  -1.6640251 ]\n",
      " [-0.31859016  1.7970521  -0.8259699   0.5028524   0.06899777  0.89720327\n",
      "  -0.23559731  1.4671634  -0.1305367  -2.5792484 ]]\n"
     ]
    }
   ],
   "source": [
    "x_numpy = np.random.rand(10,28*28)\n",
    "x_torch = torch.from_numpy(x_numpy).float().to(device)\n",
    "y_torch = model.forward(x_torch)\n",
    "y_numpy = y_torch.detach().cpu().numpy()\n",
    "print(x_numpy[:5])\n",
    "print(x_torch[:5])\n",
    "print(y_torch[:5])\n",
    "print(y_numpy[:5])"
   ]
  },
  {
   "cell_type": "markdown",
   "id": "regulation-parade",
   "metadata": {},
   "source": [
    "- Parameters check"
   ]
  },
  {
   "cell_type": "code",
   "execution_count": 8,
   "id": "spread-floor",
   "metadata": {
    "scrolled": true
   },
   "outputs": [
    {
     "name": "stdout",
     "output_type": "stream",
     "text": [
      "[0], name : [lin_1.weight], parameters : [tensor([-0.0495,  0.0432], device='cuda:0', grad_fn=<SliceBackward>)]\n",
      "[1], name : [lin_1.bias], parameters : [tensor([0., 0.], device='cuda:0', grad_fn=<SliceBackward>)]\n",
      "[2], name : [lin_2.weight], parameters : [tensor([0.1496, 0.1271], device='cuda:0', grad_fn=<SliceBackward>)]\n",
      "[3], name : [lin_2.bias], parameters : [tensor([0., 0.], device='cuda:0', grad_fn=<SliceBackward>)]\n",
      "parameters : [203,530]\n"
     ]
    }
   ],
   "source": [
    "total_param = 0\n",
    "for i, (name,param) in enumerate(model.named_parameters()):\n",
    "    param_numpy = param.detach().cpu().numpy()\n",
    "    total_param += param_numpy.size\n",
    "    print(f'[{i}], name : [{name}], parameters : [{param.reshape(-1)[:2]}]')\n",
    "print(f'parameters : [{total_param:,d}]')"
   ]
  },
  {
   "cell_type": "markdown",
   "id": "stable-opposition",
   "metadata": {},
   "source": [
    "- test function"
   ]
  },
  {
   "cell_type": "code",
   "execution_count": null,
   "id": "medical-junction",
   "metadata": {},
   "outputs": [],
   "source": []
  }
 ],
 "metadata": {
  "kernelspec": {
   "display_name": "Python 3",
   "language": "python",
   "name": "python3"
  },
  "language_info": {
   "codemirror_mode": {
    "name": "ipython",
    "version": 3
   },
   "file_extension": ".py",
   "mimetype": "text/x-python",
   "name": "python",
   "nbconvert_exporter": "python",
   "pygments_lexer": "ipython3",
   "version": "3.8.5"
  }
 },
 "nbformat": 4,
 "nbformat_minor": 5
}
