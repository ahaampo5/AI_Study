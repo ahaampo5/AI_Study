{
 "cells": [
  {
   "cell_type": "markdown",
   "id": "female-evidence",
   "metadata": {},
   "source": [
    "# Numpy"
   ]
  },
  {
   "cell_type": "code",
   "execution_count": 27,
   "id": "brilliant-underwear",
   "metadata": {},
   "outputs": [],
   "source": [
    "import numpy as np\n",
    "import torch"
   ]
  },
  {
   "cell_type": "code",
   "execution_count": 28,
   "id": "consistent-bowling",
   "metadata": {
    "scrolled": true
   },
   "outputs": [],
   "source": [
    "nd1 = np.random.uniform(0,1,(3,4))\n",
    "nd2 = np.arange(12).reshape(3,4)\n",
    "nd3 = np.arange(24).reshape(2,3,4)"
   ]
  },
  {
   "cell_type": "markdown",
   "id": "given-vietnamese",
   "metadata": {},
   "source": [
    "- 기본연산 :   \n",
    "dot product, broadcast, \n",
    "ndarray가 가진 정보 : dtype, shape, values, size(data개수), nbytes\n",
    "reshape - 데이터를 가진 matrix를 모양변환, 특별한 의미 없이 모양바꾸는 함수 (-1,4)"
   ]
  },
  {
   "cell_type": "markdown",
   "id": "unsigned-serum",
   "metadata": {},
   "source": [
    "- 초기화 : np.arange(10),np.zeros(shape= , dtype) # np.ones, np.empty\n",
    "np.ones_like(`ndarray`) # zeros, empty\n",
    "np.identity(`n`)<br>\n",
    "np.eye(`row`,`column`,`start_point`)"
   ]
  },
  {
   "cell_type": "markdown",
   "id": "residential-tourist",
   "metadata": {},
   "source": [
    "- np.diag(`ndarray`) # 대각선만"
   ]
  },
  {
   "cell_type": "markdown",
   "id": "suitable-association",
   "metadata": {},
   "source": [
    "- 분포<br>\n",
    "np.random.uniform(`모수`) # normal, exponential, "
   ]
  },
  {
   "cell_type": "markdown",
   "id": "italic-beaver",
   "metadata": {},
   "source": [
    "- 통계학 연산 : sum, mean, std, median, var,  + 추가항 : axis <br>\n",
    "연산, 함수 쓸거있으면 다있으니 검색해라"
   ]
  },
  {
   "cell_type": "markdown",
   "id": "weird-meditation",
   "metadata": {},
   "source": [
    "- 붙이기 : + 추가 axis  \n",
    "np.vstack((a,b))  \n",
    "np.hstack((a,b))  \n",
    "np.concatenate((a,b))"
   ]
  },
  {
   "cell_type": "markdown",
   "id": "forced-riding",
   "metadata": {},
   "source": [
    "- 축 추가 :\n",
    "nd1 = nd1[np.newaxis,:]"
   ]
  },
  {
   "cell_type": "markdown",
   "id": "maritime-willow",
   "metadata": {},
   "source": [
    "- 비교 연산 : broadcasting과 비슷한 개념  \n",
    "np.any, np.all, np.logical_and, # or, not"
   ]
  },
  {
   "cell_type": "markdown",
   "id": "determined-trader",
   "metadata": {},
   "source": [
    "- np.where 두가지방법  \n",
    "np.where(a > 0,3,2) # 1번째 방법 참이면 3, 거짓이면 2 출력 - 기준을 잡아 원하는 수로 출력가능  \n",
    "np.where(`조건`) # index값 반환"
   ]
  },
  {
   "cell_type": "markdown",
   "id": "round-convertible",
   "metadata": {},
   "source": [
    "- np.argmin() # argmax, argsort - index 반환"
   ]
  },
  {
   "cell_type": "markdown",
   "id": "soviet-breach",
   "metadata": {},
   "source": [
    "- boolean index : bool array를 참조하여 True의 index값만 뽑는다.\n",
    "- fancy index : index array를 참조하여 값을 뽑는다. # 여러 index array사용가능 = .take\n"
   ]
  },
  {
   "cell_type": "markdown",
   "id": "varying-michael",
   "metadata": {},
   "source": [
    "- 저장 : np.savetet(`name`,`array`,delimiter=',') # scv로\n",
    "np.save(`name`,`array`) # pickle로\n",
    "불러오기 : np.load(`name`) # scv로부터"
   ]
  }
 ],
 "metadata": {
  "kernelspec": {
   "display_name": "Python 3",
   "language": "python",
   "name": "python3"
  },
  "language_info": {
   "codemirror_mode": {
    "name": "ipython",
    "version": 3
   },
   "file_extension": ".py",
   "mimetype": "text/x-python",
   "name": "python",
   "nbconvert_exporter": "python",
   "pygments_lexer": "ipython3",
   "version": "3.8.5"
  }
 },
 "nbformat": 4,
 "nbformat_minor": 5
}
