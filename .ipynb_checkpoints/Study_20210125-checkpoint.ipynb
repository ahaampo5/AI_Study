{
 "cells": [
  {
   "cell_type": "markdown",
   "id": "liberal-lithuania",
   "metadata": {},
   "source": [
    "# **학업 일지**"
   ]
  },
  {
   "cell_type": "markdown",
   "id": "standard-federal",
   "metadata": {},
   "source": [
    "#### 오늘의 한마디  "
   ]
  },
  {
   "cell_type": "markdown",
   "id": "ongoing-banner",
   "metadata": {},
   "source": [
    "> **선형대수의 이해를 바탕으로 numpy의 선형대수 연산을 이해하고 연습하자**"
   ]
  },
  {
   "cell_type": "markdown",
   "id": "prospective-thomas",
   "metadata": {},
   "source": [
    "## 1. 강의 정리"
   ]
  },
  {
   "cell_type": "markdown",
   "id": "focal-quantum",
   "metadata": {},
   "source": [
    "#### *Numpy 연습을 통한 벡터와 행렬의 기본개념 숙지*"
   ]
  },
  {
   "cell_type": "markdown",
   "id": "sunset-chaos",
   "metadata": {},
   "source": [
    "### 1.1 Numpy와 선형대수와의 연관성 공부"
   ]
  },
  {
   "cell_type": "markdown",
   "id": "sacred-birth",
   "metadata": {},
   "source": [
    "#### 1.1.1 Numpy 객체의 특징  \n",
    "- 효율적인 데이터 처리를 위하여 C언어를 통한 데이터 관리를 채택했다.  \n",
    "Array가 만들어지는 순간 메모리를 데이터 타입에 맞추어 객체를 생성하므로 데이터 타입에 대한 명시는 필수적이다."
   ]
  },
  {
   "cell_type": "code",
   "execution_count": 72,
   "id": "received-maldives",
   "metadata": {},
   "outputs": [],
   "source": [
    "import numpy as np\n",
    "np_array = np.array([1,2,3,4,5], dtype=float)"
   ]
  },
  {
   "cell_type": "markdown",
   "id": "phantom-moore",
   "metadata": {},
   "source": [
    "- c와 numpy는 아래 그림과 같이 데이터타입이 compatible하기 때문에 실제로 통합가능하다."
   ]
  },
  {
   "cell_type": "markdown",
   "id": "cellular-practice",
   "metadata": {},
   "source": [
    "<img src=\"./img/c_numpy_datatype.png\" alt=\"c_numpy_datatype\" style=\"width: 900px;\"/>"
   ]
  },
  {
   "cell_type": "markdown",
   "id": "experimental-attribute",
   "metadata": {},
   "source": [
    "#### 1.1.2 Numpy의 다양한 함수 및 유의사항"
   ]
  },
  {
   "cell_type": "markdown",
   "id": "periodic-contemporary",
   "metadata": {},
   "source": [
    "- 기본 데이터와  \n",
    "`transpose 된 열벡터를 반환하지 않는다.`"
   ]
  },
  {
   "cell_type": "code",
   "execution_count": 73,
   "id": "overall-theater",
   "metadata": {},
   "outputs": [
    {
     "name": "stdout",
     "output_type": "stream",
     "text": [
      "[1. 2. 3. 4.] [1. 2. 3. 4.]\n"
     ]
    }
   ],
   "source": [
    "import numpy as np\n",
    "a = [1,2,3,4]\n",
    "test_array = np.array(a,float)\n",
    "transpose = test_array.T\n",
    "print(transpose, test_array)"
   ]
  },
  {
   "cell_type": "code",
   "execution_count": 74,
   "id": "corrected-barrel",
   "metadata": {
    "scrolled": true
   },
   "outputs": [
    {
     "name": "stdout",
     "output_type": "stream",
     "text": [
      "1\n",
      "4\n",
      "32\n"
     ]
    }
   ],
   "source": [
    "print(test_array.ndim) # demension of array\n",
    "print(test_array.size) # number of data\n",
    "print(test_array.nbytes) # total bytes of array : float64 * <4 data>"
   ]
  },
  {
   "cell_type": "code",
   "execution_count": 75,
   "id": "given-assurance",
   "metadata": {
    "scrolled": true
   },
   "outputs": [
    {
     "name": "stdout",
     "output_type": "stream",
     "text": [
      "[[[ 1.  2.  3.  4.]\n",
      "  [ 5.  6.  7.  8.]]\n",
      "\n",
      " [[ 9. 10. 11. 12.]\n",
      "  [13. 14. 15. 16.]]]\n",
      "[ 1.  2.  3.  4.  5.  6.  7.  8.  9. 10. 11. 12. 13. 14. 15. 16.]\n"
     ]
    }
   ],
   "source": [
    "# check order of flatten function\n",
    "test_matrix = np.array([[[1,2,3,4],[5,6,7,8]],[[9,10,11,12],[13,14,15,16]]], dtype=np.float64)\n",
    "flatten_matrix = test_matrix.flatten()\n",
    "print(test_matrix)\n",
    "print(flatten_matrix)"
   ]
  },
  {
   "cell_type": "markdown",
   "id": "handed-ranch",
   "metadata": {},
   "source": [
    "- Initializing function"
   ]
  },
  {
   "cell_type": "code",
   "execution_count": 76,
   "id": "macro-subsection",
   "metadata": {
    "scrolled": false
   },
   "outputs": [
    {
     "name": "stdout",
     "output_type": "stream",
     "text": [
      "[1.  1.5 2.  2.5 3.  3.5 4.  4.5 5.  5.5 6.  6.5 7.  7.5 8.  8.5 9.  9.5]\n",
      "[[0. 0. 0. 0. 0.]\n",
      " [0. 0. 0. 0. 0.]]\n",
      "[[0. 0. 0. 0. 0.]\n",
      " [0. 0. 0. 0. 0.]]\n",
      "[[1. 1. 1. 1. 1.]\n",
      " [1. 1. 1. 1. 1.]]\n"
     ]
    }
   ],
   "source": [
    "print(np.arange(1,10,0.5, dtype=np.float64))\n",
    "print(np.zeros((2,5),float))\n",
    "print(np.empty((2,5),float))\n",
    "print(np.ones((2,5),float))"
   ]
  },
  {
   "cell_type": "markdown",
   "id": "latin-market",
   "metadata": {},
   "source": [
    "- Rank of vector and axis, "
   ]
  },
  {
   "cell_type": "code",
   "execution_count": 77,
   "id": "measured-certificate",
   "metadata": {},
   "outputs": [
    {
     "data": {
      "text/plain": [
       "array([[1, 2, 3],\n",
       "       [2, 3, 4]])"
      ]
     },
     "execution_count": 77,
     "metadata": {},
     "output_type": "execute_result"
    }
   ],
   "source": [
    "a = np.array([[1,2,3]])\n",
    "b = np.array([[2,3,4]])\n",
    "np.concatenate((a,b), axis=0)"
   ]
  },
  {
   "cell_type": "code",
   "execution_count": 78,
   "id": "sealed-attraction",
   "metadata": {},
   "outputs": [
    {
     "data": {
      "text/plain": [
       "array([[5, 6]])"
      ]
     },
     "execution_count": 78,
     "metadata": {},
     "output_type": "execute_result"
    }
   ],
   "source": [
    "# add axis\n",
    "b = np.array([5,6])\n",
    "b[np.newaxis, :]"
   ]
  },
  {
   "cell_type": "markdown",
   "id": "harmful-printer",
   "metadata": {},
   "source": [
    "- broadcasting"
   ]
  },
  {
   "cell_type": "code",
   "execution_count": 79,
   "id": "satisfactory-inflation",
   "metadata": {},
   "outputs": [
    {
     "data": {
      "text/plain": [
       "array([[1, 2, 3, 4],\n",
       "       [2, 3, 4, 5],\n",
       "       [3, 4, 5, 6]])"
      ]
     },
     "execution_count": 79,
     "metadata": {},
     "output_type": "execute_result"
    }
   ],
   "source": [
    "a = np.array([[1,2,3,4]])\n",
    "b = np.array([[0],[1],[2]])\n",
    "a + b"
   ]
  },
  {
   "cell_type": "code",
   "execution_count": 80,
   "id": "closing-split",
   "metadata": {},
   "outputs": [
    {
     "data": {
      "text/plain": [
       "array([False, False, False, False, False, False,  True,  True,  True,\n",
       "        True])"
      ]
     },
     "execution_count": 80,
     "metadata": {},
     "output_type": "execute_result"
    }
   ],
   "source": [
    "a = np.arange(10)\n",
    "a>5"
   ]
  },
  {
   "cell_type": "code",
   "execution_count": 81,
   "id": "labeled-twist",
   "metadata": {},
   "outputs": [
    {
     "data": {
      "text/plain": [
       "True"
      ]
     },
     "execution_count": 81,
     "metadata": {},
     "output_type": "execute_result"
    }
   ],
   "source": [
    "np.any(a>5) # all : boolen array에서 any, all attribute로도 사용가능"
   ]
  },
  {
   "cell_type": "code",
   "execution_count": 82,
   "id": "judicial-bridges",
   "metadata": {},
   "outputs": [
    {
     "data": {
      "text/plain": [
       "array([False,  True, False])"
      ]
     },
     "execution_count": 82,
     "metadata": {},
     "output_type": "execute_result"
    }
   ],
   "source": [
    "test_a = np.array([1,2,3])\n",
    "test_b = np.array([2,1,3])\n",
    "test_a > test_b"
   ]
  },
  {
   "cell_type": "code",
   "execution_count": 83,
   "id": "recovered-dover",
   "metadata": {
    "scrolled": true
   },
   "outputs": [
    {
     "data": {
      "text/plain": [
       "array([False,  True, False])"
      ]
     },
     "execution_count": 83,
     "metadata": {},
     "output_type": "execute_result"
    }
   ],
   "source": [
    "np.logical_and(test_a > 1, test_b < 2) # or, not"
   ]
  },
  {
   "cell_type": "code",
   "execution_count": 84,
   "id": "contrary-talent",
   "metadata": {
    "scrolled": true
   },
   "outputs": [
    {
     "data": {
      "text/plain": [
       "(array([False,  True, False]), array([False, False,  True]))"
      ]
     },
     "execution_count": 84,
     "metadata": {},
     "output_type": "execute_result"
    }
   ],
   "source": [
    "a = np.array([1, np.NaN, np.Inf], float)\n",
    "np.isnan(a), np.isinf(a)"
   ]
  },
  {
   "cell_type": "code",
   "execution_count": 85,
   "id": "generic-burlington",
   "metadata": {},
   "outputs": [
    {
     "data": {
      "text/plain": [
       "((array([2, 3], dtype=int64),), array([2, 3], dtype=int64))"
      ]
     },
     "execution_count": 85,
     "metadata": {},
     "output_type": "execute_result"
    }
   ],
   "source": [
    "a = np.array([1,2,3,4])\n",
    "np.where(a>2), np.where(a>2)[0] # tuple 형태 조심"
   ]
  },
  {
   "cell_type": "code",
   "execution_count": 66,
   "id": "faced-butler",
   "metadata": {},
   "outputs": [
    {
     "data": {
      "text/plain": [
       "array([4, 4, 3, 3])"
      ]
     },
     "execution_count": 66,
     "metadata": {},
     "output_type": "execute_result"
    }
   ],
   "source": [
    "np.where(a>2, 3, 4)"
   ]
  },
  {
   "cell_type": "markdown",
   "id": "popular-instrumentation",
   "metadata": {},
   "source": [
    "- Fancy index"
   ]
  },
  {
   "cell_type": "code",
   "execution_count": 87,
   "id": "collected-charger",
   "metadata": {},
   "outputs": [
    {
     "data": {
      "text/plain": [
       "(array([2., 4., 2., 6.]), array([2., 4., 2., 6.]))"
      ]
     },
     "execution_count": 87,
     "metadata": {},
     "output_type": "execute_result"
    }
   ],
   "source": [
    "a = np.array([2,4,6,8], float)\n",
    "b = np.array([0,1,0,2], int)\n",
    "a[b], a.take(b)"
   ]
  },
  {
   "cell_type": "code",
   "execution_count": 88,
   "id": "trying-numbers",
   "metadata": {},
   "outputs": [
    {
     "data": {
      "text/plain": [
       "array([ 1.,  4., 16., 16.,  4.])"
      ]
     },
     "execution_count": 88,
     "metadata": {},
     "output_type": "execute_result"
    }
   ],
   "source": [
    "a = np.array([[1,4],[9,16]], float)\n",
    "b = np.array([0,0,1,1,0], int)\n",
    "c = np.array([0,1,1,1,1], int)\n",
    "a[b,c]"
   ]
  },
  {
   "cell_type": "markdown",
   "id": "awful-detection",
   "metadata": {},
   "source": [
    "#### 1.1.3 행렬과 연관있는 함수"
   ]
  },
  {
   "cell_type": "code",
   "execution_count": 39,
   "id": "adjustable-metabolism",
   "metadata": {},
   "outputs": [
    {
     "data": {
      "text/plain": [
       "array([[1., 0., 0.],\n",
       "       [0., 1., 0.],\n",
       "       [0., 0., 1.]])"
      ]
     },
     "execution_count": 39,
     "metadata": {},
     "output_type": "execute_result"
    }
   ],
   "source": [
    "np.identity(n=3,dtype=float) # identity matrix"
   ]
  },
  {
   "cell_type": "code",
   "execution_count": 40,
   "id": "immune-think",
   "metadata": {},
   "outputs": [
    {
     "data": {
      "text/plain": [
       "array([[0., 0., 1., 0., 0.],\n",
       "       [0., 0., 0., 1., 0.],\n",
       "       [0., 0., 0., 0., 1.]])"
      ]
     },
     "execution_count": 40,
     "metadata": {},
     "output_type": "execute_result"
    }
   ],
   "source": [
    "np.eye(3,5,k=2) # diagonal feature : k is start point of 1."
   ]
  },
  {
   "cell_type": "code",
   "execution_count": 41,
   "id": "administrative-disposal",
   "metadata": {
    "scrolled": false
   },
   "outputs": [
    {
     "name": "stdout",
     "output_type": "stream",
     "text": [
      "[[0 1 2]\n",
      " [3 4 5]\n",
      " [6 7 8]]\n",
      "[0 4 8]\n",
      "[1 5]\n"
     ]
    }
   ],
   "source": [
    "array1 = np.arange(9).reshape((3,3))\n",
    "print(array1)\n",
    "print(np.diag(array1)) # array of diagonal data\n",
    "print(np.diag(array1,k=1))"
   ]
  },
  {
   "cell_type": "markdown",
   "id": "irish-reason",
   "metadata": {},
   "source": [
    "- Element_wise operations\n",
    "+, -, * (Hadamard product), / \n",
    "\n",
    "- Dot product  \n",
    "<array> @ <array>\n",
    "<array>.dot(<other array>)\n",
    "    \n",
    "- Transpose\n",
    "<array>.T"
   ]
  },
  {
   "cell_type": "markdown",
   "id": "julian-mileage",
   "metadata": {},
   "source": [
    "- L1, L2 - norm"
   ]
  },
  {
   "cell_type": "code",
   "execution_count": 105,
   "id": "transparent-cambodia",
   "metadata": {},
   "outputs": [
    {
     "name": "stdout",
     "output_type": "stream",
     "text": [
      "L1-norm distance =  7\n",
      "L2-norm distance =  4.58257569495584\n"
     ]
    }
   ],
   "source": [
    "a = np.array([1,5,3])\n",
    "b = np.array([2,3,7])\n",
    "print('L1-norm distance = ', np.sum(np.abs(a-b)))\n",
    "print('L2-norm distance = ', np.sqrt(np.sum((a-b)*(a-b))))"
   ]
  },
  {
   "cell_type": "markdown",
   "id": "polyphonic-white",
   "metadata": {},
   "source": [
    "- Inverse matrix, pseudo-inverse matrix(Moore-Penrose matrix)"
   ]
  },
  {
   "cell_type": "code",
   "execution_count": 107,
   "id": "thorough-partnership",
   "metadata": {
    "scrolled": true
   },
   "outputs": [
    {
     "data": {
      "text/plain": [
       "array([[ 0.21276596,  0.0212766 , -0.31914894],\n",
       "       [-0.29787234,  0.17021277,  0.44680851],\n",
       "       [ 0.06382979,  0.10638298,  0.40425532]])"
      ]
     },
     "execution_count": 107,
     "metadata": {},
     "output_type": "execute_result"
    }
   ],
   "source": [
    "X = np.array([[1,-2,3],[7,5,0],[-2,-1,2]])\n",
    "np.linalg.inv(X)"
   ]
  },
  {
   "cell_type": "code",
   "execution_count": 108,
   "id": "attempted-johns",
   "metadata": {},
   "outputs": [
    {
     "data": {
      "text/plain": [
       "array([[ 5.00000000e-01,  1.11022302e-16, -5.00000000e-01],\n",
       "       [ 8.33333333e-01, -3.33333333e-01, -1.66666667e-01]])"
      ]
     },
     "execution_count": 108,
     "metadata": {},
     "output_type": "execute_result"
    }
   ],
   "source": [
    "X = np.array([[0,1],[1,-1],[-2,1]]) # n <= m인 경우 무수히 많은 해중 하나를 고를 수 있다.\n",
    "np.linalg.pinv(X)"
   ]
  },
  {
   "cell_type": "code",
   "execution_count": 110,
   "id": "desirable-tumor",
   "metadata": {},
   "outputs": [
    {
     "data": {
      "text/plain": [
       "array([[-0.02247191,  0.2247191 ],\n",
       "       [ 0.29213483,  0.07865169],\n",
       "       [ 0.12359551, -0.23595506]])"
      ]
     },
     "execution_count": 110,
     "metadata": {},
     "output_type": "execute_result"
    }
   ],
   "source": [
    "X2 = np.array([[0,3,1],[2,1,-2]]) # n >= m인 경우 선형 회귀분석에 사용할 수 있다.\n",
    "np.linalg.pinv(X2)"
   ]
  },
  {
   "cell_type": "markdown",
   "id": "universal-thriller",
   "metadata": {},
   "source": [
    "#### 1.1.4 통계와 연관있는 함수"
   ]
  },
  {
   "cell_type": "code",
   "execution_count": 38,
   "id": "subsequent-walnut",
   "metadata": {
    "scrolled": true
   },
   "outputs": [
    {
     "data": {
      "text/plain": [
       "array([[0.38136018, 0.49430517, 0.75004363, 0.55968578, 0.30935858],\n",
       "       [0.62028107, 0.43043212, 0.07042576, 0.65312194, 0.1463746 ]])"
      ]
     },
     "execution_count": 38,
     "metadata": {},
     "output_type": "execute_result"
    }
   ],
   "source": [
    "np.random.uniform(0,1,10).reshape(2,5) # uniform distribution"
   ]
  },
  {
   "cell_type": "code",
   "execution_count": 42,
   "id": "informative-washer",
   "metadata": {},
   "outputs": [
    {
     "data": {
      "text/plain": [
       "array([[-0.60700352, -1.61824076, -0.63078288, -2.50820422,  0.56561227],\n",
       "       [ 0.29673482, -0.99866315, -1.10885601, -0.35309313,  2.50787495]])"
      ]
     },
     "execution_count": 42,
     "metadata": {},
     "output_type": "execute_result"
    }
   ],
   "source": [
    "np.random.normal(0,1,10).reshape(2,5) # normal distribution"
   ]
  },
  {
   "cell_type": "code",
   "execution_count": 43,
   "id": "coated-gentleman",
   "metadata": {},
   "outputs": [
    {
     "data": {
      "text/plain": [
       "55"
      ]
     },
     "execution_count": 43,
     "metadata": {},
     "output_type": "execute_result"
    }
   ],
   "source": [
    "test_array = np.arange(1,11)\n",
    "np.sum(test_array)"
   ]
  },
  {
   "cell_type": "code",
   "execution_count": 44,
   "id": "modified-square",
   "metadata": {},
   "outputs": [
    {
     "data": {
      "text/plain": [
       "5.5"
      ]
     },
     "execution_count": 44,
     "metadata": {},
     "output_type": "execute_result"
    }
   ],
   "source": [
    "np.mean(test_array)"
   ]
  },
  {
   "cell_type": "code",
   "execution_count": 45,
   "id": "genetic-overall",
   "metadata": {},
   "outputs": [
    {
     "data": {
      "text/plain": [
       "2.8722813232690143"
      ]
     },
     "execution_count": 45,
     "metadata": {},
     "output_type": "execute_result"
    }
   ],
   "source": [
    "np.std(test_array)"
   ]
  },
  {
   "cell_type": "code",
   "execution_count": 46,
   "id": "chief-reading",
   "metadata": {},
   "outputs": [
    {
     "data": {
      "text/plain": [
       "8.25"
      ]
     },
     "execution_count": 46,
     "metadata": {},
     "output_type": "execute_result"
    }
   ],
   "source": [
    "np.var(test_array)"
   ]
  },
  {
   "cell_type": "markdown",
   "id": "wireless-phenomenon",
   "metadata": {},
   "source": [
    "- 수학 연산자  \n",
    "exponential : exp, log, log10, log2, power, sqrt  \n",
    "trigonometric : sin, cos, tan, acsin, arccos, atctan\n",
    "hyperbolic : sinh, cosh, tanh, acsinh, arccosh, atctanh"
   ]
  },
  {
   "cell_type": "markdown",
   "id": "gentle-bridges",
   "metadata": {},
   "source": [
    "#### 1.1.5 axis가 적용되는 함수"
   ]
  },
  {
   "cell_type": "markdown",
   "id": "explicit-metallic",
   "metadata": {},
   "source": [
    "일반적으로 구역을 결정하는 경우에 사용된다.\n",
    "- <array>.sum(axis=0) 외에 예시 sum, std, mean, var\n",
    "- np.argmax(a, axis=0) : argmin, argsort, "
   ]
  },
  {
   "cell_type": "markdown",
   "id": "popular-gates",
   "metadata": {},
   "source": [
    "## 2. 피어 세션 정리"
   ]
  },
  {
   "cell_type": "markdown",
   "id": "requested-preliminary",
   "metadata": {},
   "source": [
    "#### 2.1 스터디"
   ]
  },
  {
   "cell_type": "markdown",
   "id": "opponent-samba",
   "metadata": {},
   "source": [
    "- 2.1.1 파이썬의 실행 에러와 곧 마주할 에러에 대한 설명을 했다. (발표: 배새봄)  \n",
    " - 다양한 에러를 숙지하고 있어야 하며 특히 파일 관리 파트에 들어가면서 겪게 될 OS에러에 대한 설명이 추가되었다.`\n",
    "\n",
    "- 2.1.2 웹 크롤링 (발표: 안동주)  \n",
    " - 웹크롤링에 대한 request모듈과 html을 해석하여 크롤링한 실제 프로그램을 짜왔으며 그에 대한 리뷰를 발표했다. \n",
    " - 실제 프로그램이 데이터를 가져오는 것을 보는 것만으로도 큰 도움이 되었다."
   ]
  },
  {
   "cell_type": "markdown",
   "id": "numeric-leeds",
   "metadata": {},
   "source": [
    "#### 2.2 원하는 진로를 잡고 논문 공부"
   ]
  },
  {
   "cell_type": "markdown",
   "id": "parliamentary-clock",
   "metadata": {},
   "source": [
    "- Deep Learning : Yann LeCnn, Yoshua Bengio & Geoffrey Hinton\n",
    "딥러닝에 대한 전반적인 이해를 돕고 AI 논문에 대한 언어 장벽을 없애기 위해 필요하며 발표 예정"
   ]
  },
  {
   "cell_type": "markdown",
   "id": "gentle-latitude",
   "metadata": {},
   "source": [
    "## 3. 진행중인 공부 및 신규 공부 목록"
   ]
  },
  {
   "cell_type": "markdown",
   "id": "african-maria",
   "metadata": {},
   "source": [
    "- 진행중인 공부  \n",
    "\n",
    "    - Jupyter Notebook 심화 공부  \n",
    "    - Vim 에디터 심화 커스터마이징  \n",
    "    - Deep learning 논문 읽고 정리하기\n",
    "    - AI 기본 수학 : Mathematics for Machine learning - Marc Peter Deisenroth\n",
    "    - 파이썬 파일관리를 기본으로 해서 프로젝트 하나 진행해보기\n",
    "    - 웹 클로링 및 데이터 처리 연습 익숙해지기"
   ]
  },
  {
   "cell_type": "markdown",
   "id": "loving-digest",
   "metadata": {},
   "source": [
    "- 신규 공부 목록  \n",
    " \n",
    "    - MYsql에 대한 개발환경 설정과 기본 명령어 배우기"
   ]
  },
  {
   "cell_type": "markdown",
   "id": "amazing-seminar",
   "metadata": {},
   "source": [
    "- 완료한 공부  "
   ]
  },
  {
   "cell_type": "markdown",
   "id": "working-camcorder",
   "metadata": {},
   "source": [
    "## 4. 감사한 일"
   ]
  },
  {
   "cell_type": "markdown",
   "id": "large-period",
   "metadata": {},
   "source": [
    "- 수학에 대한 문제는 물어보는 것만으로도 큰 도움이 되는데 잘 답변까지 해주신 문영기 조교님에게 감사합니다.\n",
    "- 웹 크롤링을 통하여 데이터를 다루는 기본기에 대해서 구체적으로 보여준 안동주님에게 감사합니다.\n",
    "- 더 밝은 마음가짐으로 피어세션에 참여하는 우리 팀 모두에게 감사합니다."
   ]
  }
 ],
 "metadata": {
  "kernelspec": {
   "display_name": "Python 3",
   "language": "python",
   "name": "python3"
  },
  "language_info": {
   "codemirror_mode": {
    "name": "ipython",
    "version": 3
   },
   "file_extension": ".py",
   "mimetype": "text/x-python",
   "name": "python",
   "nbconvert_exporter": "python",
   "pygments_lexer": "ipython3",
   "version": "3.8.5"
  }
 },
 "nbformat": 4,
 "nbformat_minor": 5
}
