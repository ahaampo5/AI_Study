{
 "cells": [
  {
   "cell_type": "markdown",
   "id": "ongoing-victor",
   "metadata": {},
   "source": [
    "# Pandas"
   ]
  },
  {
   "cell_type": "code",
   "execution_count": 1,
   "id": "sudden-madness",
   "metadata": {},
   "outputs": [],
   "source": [
    "import pandas as pd\n",
    "import numpy as np"
   ]
  },
  {
   "cell_type": "markdown",
   "id": "numerical-spray",
   "metadata": {},
   "source": [
    "- 데이터 로딩"
   ]
  },
  {
   "cell_type": "markdown",
   "id": "beginning-jacob",
   "metadata": {},
   "source": [
    "df_data = pd.read_csv(`url`,sep= , header = None) # sep=`정규식 표현`"
   ]
  },
  {
   "cell_type": "markdown",
   "id": "orange-sodium",
   "metadata": {},
   "source": [
    "- 데이터 형식 확인"
   ]
  },
  {
   "cell_type": "markdown",
   "id": "external-effectiveness",
   "metadata": {},
   "source": [
    "df_data.head()"
   ]
  },
  {
   "cell_type": "markdown",
   "id": "minus-jacket",
   "metadata": {},
   "source": [
    "- feature 확인"
   ]
  },
  {
   "cell_type": "markdown",
   "id": "appropriate-discovery",
   "metadata": {},
   "source": [
    "df_data.columns # 리스트로 반환"
   ]
  },
  {
   "cell_type": "markdown",
   "id": "passive-storm",
   "metadata": {},
   "source": [
    "- value 확인"
   ]
  },
  {
   "cell_type": "markdown",
   "id": "modified-workshop",
   "metadata": {},
   "source": [
    "df_data.values # 넘파이 데이터로 반환"
   ]
  },
  {
   "cell_type": "markdown",
   "id": "spectacular-mother",
   "metadata": {},
   "source": [
    "### Series 객체"
   ]
  },
  {
   "cell_type": "markdown",
   "id": "moved-heating",
   "metadata": {},
   "source": [
    "Series 객체가 가진 값 : index, values, name, index.name \n",
    "\n",
    "            # index 객체, ndarray 객체, "
   ]
  },
  {
   "cell_type": "markdown",
   "id": "alone-freight",
   "metadata": {},
   "source": [
    "index를 기준으로 연산"
   ]
  },
  {
   "cell_type": "markdown",
   "id": "optical-savings",
   "metadata": {},
   "source": [
    ".astype : 타입 변경"
   ]
  },
  {
   "cell_type": "markdown",
   "id": "reliable-share",
   "metadata": {},
   "source": [
    "pd.Series()  # data= , index= , dtype= , name= , "
   ]
  },
  {
   "cell_type": "markdown",
   "id": "corrected-contest",
   "metadata": {},
   "source": [
    "### DataFrame 객체"
   ]
  },
  {
   "cell_type": "markdown",
   "id": "integrated-orange",
   "metadata": {},
   "source": [
    "- Basic"
   ]
  },
  {
   "cell_type": "code",
   "execution_count": 3,
   "id": "adopted-snake",
   "metadata": {},
   "outputs": [],
   "source": [
    "df = pd.DataFrame() # data= , index= , columns= , dtype= , (key:list)"
   ]
  },
  {
   "cell_type": "markdown",
   "id": "white-courage",
   "metadata": {},
   "source": [
    "DataFrame이 가진 정보  \n",
    "df.`column_name`, df[`column_name`] : series가져오기\n"
   ]
  },
  {
   "cell_type": "markdown",
   "id": "dirty-trail",
   "metadata": {},
   "source": [
    "- index로 dataframe 잘라오기"
   ]
  },
  {
   "cell_type": "markdown",
   "id": "eight-happiness",
   "metadata": {},
   "source": [
    "df.loc[:`index_name`]\n"
   ]
  },
  {
   "cell_type": "markdown",
   "id": "employed-notice",
   "metadata": {},
   "source": [
    "- 새로운 컬럼 만들기"
   ]
  },
  {
   "cell_type": "markdown",
   "id": "disciplinary-manitoba",
   "metadata": {},
   "source": [
    "df.`new_column` = "
   ]
  },
  {
   "cell_type": "code",
   "execution_count": null,
   "id": "associate-industry",
   "metadata": {},
   "outputs": [],
   "source": []
  }
 ],
 "metadata": {
  "kernelspec": {
   "display_name": "Python 3",
   "language": "python",
   "name": "python3"
  },
  "language_info": {
   "codemirror_mode": {
    "name": "ipython",
    "version": 3
   },
   "file_extension": ".py",
   "mimetype": "text/x-python",
   "name": "python",
   "nbconvert_exporter": "python",
   "pygments_lexer": "ipython3",
   "version": "3.8.5"
  }
 },
 "nbformat": 4,
 "nbformat_minor": 5
}
