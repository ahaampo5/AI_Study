{
 "cells": [
  {
   "cell_type": "markdown",
   "id": "ready-examination",
   "metadata": {},
   "source": [
    "# 수학"
   ]
  },
  {
   "cell_type": "markdown",
   "id": "genuine-millennium",
   "metadata": {},
   "source": [
    "## 기본수학"
   ]
  },
  {
   "cell_type": "markdown",
   "id": "protective-honor",
   "metadata": {},
   "source": [
    "### 손으로 표현하는 수식을 모두 표현가능하다."
   ]
  },
  {
   "cell_type": "markdown",
   "id": "comparative-tokyo",
   "metadata": {},
   "source": [
    "- 미분 가능"
   ]
  },
  {
   "cell_type": "code",
   "execution_count": 6,
   "id": "mineral-brand",
   "metadata": {},
   "outputs": [],
   "source": [
    "import sympy as sym\n",
    "from sympy.abc import x, y\n",
    "\n",
    "a = sym.diff(sym.poly(x**2 +2*x + 3),x)"
   ]
  },
  {
   "cell_type": "code",
   "execution_count": null,
   "id": "mobile-batman",
   "metadata": {},
   "outputs": [],
   "source": [
    "- 값 대입"
   ]
  },
  {
   "cell_type": "code",
   "execution_count": 7,
   "id": "olympic-voltage",
   "metadata": {},
   "outputs": [
    {
     "data": {
      "text/latex": [
       "$\\displaystyle 6$"
      ],
      "text/plain": [
       "6"
      ]
     },
     "execution_count": 7,
     "metadata": {},
     "output_type": "execute_result"
    }
   ],
   "source": [
    "a.subs(x, 2)"
   ]
  },
  {
   "cell_type": "markdown",
   "id": "stretch-acoustic",
   "metadata": {},
   "source": [
    "## 선형대"
   ]
  },
  {
   "cell_type": "code",
   "execution_count": null,
   "id": "endless-stock",
   "metadata": {},
   "outputs": [],
   "source": []
  },
  {
   "cell_type": "markdown",
   "id": "fatal-radar",
   "metadata": {},
   "source": [
    "## 확률과 변수"
   ]
  },
  {
   "cell_type": "markdown",
   "id": "arctic-original",
   "metadata": {},
   "source": [
    "확률분포 : 확률 분포(probability distribution)는 확률 변수가 특정한 값을 가질 확률을 나타내는 함수\n",
    "확률변수 : 특정 확률이 나올 '결과'를 수치적으로 표현한 것 ex: 이산형, 연속형, 두가지만 있는것이 아니다.\n",
    "확률질량함수 :\n",
    "확률밀도함수 :\n",
    "결합분포 : 실제 데이터의 분포 - 데이터의 분포모양을 보고 어떻게 적절하게 설정하느냐에 따라 바뀐다.\n",
    "주변확률분포 : marginal distribution , 한가지의 분포만 보여준다. (결합분포를 한 변수에 대해 summation or 적분)\n",
    "조건부확률분포 : y의 상황이 주어질 때의 x의 분포 - 통계적 모델링 할 때 사용가능\n",
    "확률분포 - 데이터를 해석하는데 필수적이다."
   ]
  },
  {
   "cell_type": "markdown",
   "id": "abstract-basketball",
   "metadata": {},
   "source": [
    "- deep learning에서의 활용\n",
    "  - 조건부확률 P(y|x) : x가 주어질 때의 y가 될 확률 \n",
    "    - 회귀문제에서 확률밀도함수로 해석(E[y|x]), L2-norm 을 최소화 하는 함수와 조건부 기댓값이 일치한다.\n",
    "    - 분류에서 softmax, "
   ]
  },
  {
   "cell_type": "markdown",
   "id": "funky-interview",
   "metadata": {},
   "source": [
    "![](./img/statistic.png)"
   ]
  },
  {
   "cell_type": "markdown",
   "id": "abandoned-reunion",
   "metadata": {},
   "source": [
    "몬테카를로 샘플링 : 데이터를 이용하여 기대값을 계산 (샘플링방법을 알고있다 가정)\n",
    "![](./img/monte.png)"
   ]
  },
  {
   "cell_type": "code",
   "execution_count": 4,
   "id": "silent-textbook",
   "metadata": {},
   "outputs": [
    {
     "name": "stdout",
     "output_type": "stream",
     "text": [
      "(1.5033098900343724, 0.028538241276400034)\n"
     ]
    }
   ],
   "source": [
    "import numpy as np\n",
    "\n",
    "def mc_int(fun, low, high, sample_size=100, repeat=10):\n",
    "    int_len = np.abs(high - low)\n",
    "    stat = []\n",
    "    for _ in range(repeat):\n",
    "        x = np.random.uniform(low=low, high=high, size=sample_size)\n",
    "        fun_x = fun(x) # 실제로는 가정한 확률 함수를 적용한다.\n",
    "        int_val = int_len * np.mean(fun_x)\n",
    "        stat.append(int_val)\n",
    "    return np.mean(stat), np.std(stat)\n",
    "\n",
    "def f_x(x):\n",
    "    return np.exp(-x**2)\n",
    "\n",
    "print(mc_int(f_x, low=-1, high=1, sample_size=100,repeat=10))"
   ]
  }
 ],
 "metadata": {
  "kernelspec": {
   "display_name": "Python 3",
   "language": "python",
   "name": "python3"
  },
  "language_info": {
   "codemirror_mode": {
    "name": "ipython",
    "version": 3
   },
   "file_extension": ".py",
   "mimetype": "text/x-python",
   "name": "python",
   "nbconvert_exporter": "python",
   "pygments_lexer": "ipython3",
   "version": "3.8.5"
  }
 },
 "nbformat": 4,
 "nbformat_minor": 5
}
