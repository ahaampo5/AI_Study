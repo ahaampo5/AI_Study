{
 "cells": [
  {
   "cell_type": "markdown",
   "id": "twelve-closing",
   "metadata": {},
   "source": [
    "# **학업 일지**"
   ]
  },
  {
   "cell_type": "markdown",
   "id": "coordinate-convert",
   "metadata": {},
   "source": [
    "#### 오늘의 한마디  "
   ]
  },
  {
   "cell_type": "markdown",
   "id": "beautiful-springfield",
   "metadata": {},
   "source": [
    "> **Segmentation과 GAN 모델을 구현하는 것 연습해보자.**"
   ]
  },
  {
   "cell_type": "code",
   "execution_count": 10,
   "id": "sixth-newark",
   "metadata": {},
   "outputs": [
    {
     "name": "stdout",
     "output_type": "stream",
     "text": [
      "abc\n"
     ]
    }
   ],
   "source": []
  },
  {
   "cell_type": "markdown",
   "id": "gross-giving",
   "metadata": {},
   "source": [
    "## 1. Recture Summary"
   ]
  },
  {
   "cell_type": "markdown",
   "id": "adopted-feedback",
   "metadata": {},
   "source": [
    "### 1.1 Computer Vision"
   ]
  },
  {
   "cell_type": "markdown",
   "id": "personalized-consumer",
   "metadata": {},
   "source": [
    "#### 1.1.1 multi-model learning\n",
    "- Use not only vision but also audio and other sense(social, Depth, unimodal(text), force)\n",
    "- Different representations between modalities\n",
    "- Unbalance between heterogeneous feature spaces - 1:N matching\n",
    "- Biased to one modality\n",
    "- Matching, Translating, Referencing"
   ]
  },
  {
   "cell_type": "markdown",
   "id": "freelance-answer",
   "metadata": {},
   "source": [
    "### 1.2 Pruning for network compression"
   ]
  },
  {
   "cell_type": "code",
   "execution_count": 1,
   "id": "charitable-infrared",
   "metadata": {},
   "outputs": [],
   "source": [
    "import numpy as np\n",
    "from numpy.ma import array, masked_array, masked_values, masked_outside"
   ]
  },
  {
   "cell_type": "code",
   "execution_count": 11,
   "id": "blond-monitor",
   "metadata": {},
   "outputs": [
    {
     "name": "stdout",
     "output_type": "stream",
     "text": [
      "[0.1   0.325 0.55  0.775 1.   ]\n"
     ]
    },
    {
     "data": {
      "text/plain": [
       "masked_array(data=[--, 0.325, 0.55, 0.775, --],\n",
       "             mask=[ True, False, False, False,  True],\n",
       "       fill_value=1e+20)"
      ]
     },
     "execution_count": 11,
     "metadata": {},
     "output_type": "execute_result"
    }
   ],
   "source": [
    "vec1 = np.round(np.linspace(0.1, 1, 5), 3)\n",
    "print(vec1)\n",
    "array(vec1, mask = [0,0,0,1,0])\n",
    "masked_outside(vec1, 0.2, 0.9)"
   ]
  },
  {
   "cell_type": "code",
   "execution_count": 9,
   "id": "waiting-advantage",
   "metadata": {},
   "outputs": [
    {
     "data": {
      "text/plain": [
       "masked"
      ]
     },
     "execution_count": 9,
     "metadata": {},
     "output_type": "execute_result"
    }
   ],
   "source": [
    "vec2 = [0, 1, 2, 3, 4, -9999]\n",
    "masked_values(vec2, -9999)"
   ]
  },
  {
   "cell_type": "markdown",
   "id": "impossible-ireland",
   "metadata": {},
   "source": [
    "#### 1.2.1 소프트웨어\n",
    "- Pros : inference speed, Regularization brings generalization\n",
    "- Cons : information loss, granularity affects the efficiency of hardware accelerator design"
   ]
  },
  {
   "cell_type": "markdown",
   "id": "shaped-immune",
   "metadata": {},
   "source": [
    "#### 1.2.2 AI\n",
    "- 완벽한 추상화가 불가능하다.\n",
    "- 무엇이 원인인지 파악하기 어렵다.\n",
    "- 모델링에서 데이터 처리가 가장 중요한 요소"
   ]
  },
  {
   "cell_type": "markdown",
   "id": "plain-heaven",
   "metadata": {},
   "source": [
    "#### 1.2.3 On device intelligence\n",
    "- lightweight device가 필요하다.\n",
    "- Photo refocusing\n"
   ]
  },
  {
   "cell_type": "markdown",
   "id": "religious-suspect",
   "metadata": {},
   "source": [
    "### 1.3 제약 조건 하에서의 의사결정"
   ]
  },
  {
   "cell_type": "markdown",
   "id": "simplified-sequence",
   "metadata": {},
   "source": [
    "#### 1.3.1 Problem\n",
    "- 이상과 현실의 차이가 문제\n",
    "- Decision\n",
    "- Algorighm\n",
    "- Computation as deduction : 여태까지 있던 이론(Library)을 바탕으로 중간의 갭을 채우는 것이 새로운 이론(Library)\n",
    "- ML은 모든 가능성을 보지 못하기에 \n",
    "- Decision problem, Optimization problem"
   ]
  },
  {
   "cell_type": "code",
   "execution_count": null,
   "id": "induced-annotation",
   "metadata": {},
   "outputs": [],
   "source": []
  },
  {
   "cell_type": "markdown",
   "id": "middle-mississippi",
   "metadata": {},
   "source": [
    "## 2. Peer session summary"
   ]
  },
  {
   "cell_type": "markdown",
   "id": "adolescent-melbourne",
   "metadata": {},
   "source": [
    "#### 2.1 Study"
   ]
  },
  {
   "cell_type": "markdown",
   "id": "amber-boring",
   "metadata": {},
   "source": [
    "- Object detection에 대한 발표(발표: 이주남)\n",
    "- CNN visualization에 대한 발표(발표: 안동주)"
   ]
  },
  {
   "cell_type": "markdown",
   "id": "neutral-messenger",
   "metadata": {},
   "source": [
    "#### 2.2 원하는 진로를 잡고 논문 공부"
   ]
  },
  {
   "cell_type": "markdown",
   "id": "secret-queensland",
   "metadata": {},
   "source": [
    "- 새로운 논문 선택 gpt-1 읽기"
   ]
  },
  {
   "cell_type": "markdown",
   "id": "closed-negative",
   "metadata": {},
   "source": [
    "## 3. 진행중인 공부 및 신규 공부 목록"
   ]
  },
  {
   "cell_type": "markdown",
   "id": "knowing-feature",
   "metadata": {},
   "source": [
    "- 진행중인 공부  \n",
    "\n",
    "    - AI 기본 수학 : Mathematics for Machine learning - Marc Peter Deisenroth 5과 공부\n",
    "    - 웹 크롤링 및 데이터 처리 연습 익숙해지기\n",
    "    - Pytorch로 시작하는 딥러닝, Pytorch tutorial 공부  \n",
    "    - pytorch 데이터셋 설정  "
   ]
  },
  {
   "cell_type": "markdown",
   "id": "extra-walnut",
   "metadata": {},
   "source": [
    "- New study list  \n",
    " - Sequential data pre processing"
   ]
  },
  {
   "cell_type": "markdown",
   "id": "military-technique",
   "metadata": {},
   "source": [
    "- 완료한 공부  "
   ]
  },
  {
   "cell_type": "markdown",
   "id": "organizational-small",
   "metadata": {},
   "source": [
    "## 4. 감사한 일"
   ]
  },
  {
   "cell_type": "markdown",
   "id": "simplified-english",
   "metadata": {},
   "source": [
    "- 팀원에게 필요하다고 생각한 부분을 공유해준 김상현 팀원에게 감사합니다."
   ]
  }
 ],
 "metadata": {
  "kernelspec": {
   "display_name": "Python 3",
   "language": "python",
   "name": "python3"
  },
  "language_info": {
   "codemirror_mode": {
    "name": "ipython",
    "version": 3
   },
   "file_extension": ".py",
   "mimetype": "text/x-python",
   "name": "python",
   "nbconvert_exporter": "python",
   "pygments_lexer": "ipython3",
   "version": "3.8.5"
  }
 },
 "nbformat": 4,
 "nbformat_minor": 5
}
