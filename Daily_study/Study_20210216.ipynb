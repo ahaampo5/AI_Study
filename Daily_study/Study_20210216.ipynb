{
 "cells": [
  {
   "cell_type": "markdown",
   "id": "impossible-advantage",
   "metadata": {},
   "source": [
    "# **학업 일지**"
   ]
  },
  {
   "cell_type": "markdown",
   "id": "bottom-space",
   "metadata": {},
   "source": [
    "#### 오늘의 한마디  "
   ]
  },
  {
   "cell_type": "markdown",
   "id": "american-feedback",
   "metadata": {},
   "source": [
    "> **RNN을 통해 NLP모델링의 다양한 구현을 해보자.**"
   ]
  },
  {
   "cell_type": "markdown",
   "id": "finished-theorem",
   "metadata": {},
   "source": [
    "## 1. 강의 정리"
   ]
  },
  {
   "cell_type": "markdown",
   "id": "tamil-oklahoma",
   "metadata": {},
   "source": [
    "### 1.1 RNN"
   ]
  },
  {
   "cell_type": "markdown",
   "id": "metallic-magic",
   "metadata": {},
   "source": [
    "#### 1.1.1 RNN의 이해"
   ]
  },
  {
   "cell_type": "markdown",
   "id": "rubber-allen",
   "metadata": {},
   "source": [
    "- h와 x를 concatenate시킬 수도 있네?? - 결국 어떤 의미를 가지는 vector를 가지는지가 중요"
   ]
  },
  {
   "cell_type": "markdown",
   "id": "changed-version",
   "metadata": {},
   "source": [
    "#### 1.1.2 모델의 타입\n",
    "- one to on : 가장 일반적인 input이 들어오고 output이 나가는 형식\n",
    "- one to many : 이미지 캡션 - 단일 입력으로 설명을 타입스텝으로 생성 (입력단의 빈 타입스텝 부분에는 제로벡터를 넣어준다.)\n",
    "- many to one : 감정분석 - 타임스텝이 들어오면 하나의 출력을 내는 모델\n",
    "- many to many1 : encoding decoding\n",
    "- many to many2 : 단어별로 문장성분 측정하는 모델, 실시간성이 요구 (pytorch의 기본 RNN, LSTM, GRU)"
   ]
  },
  {
   "cell_type": "markdown",
   "id": "bibliographic-appointment",
   "metadata": {},
   "source": [
    "#### 1.1.3 character-level language model"
   ]
  },
  {
   "cell_type": "markdown",
   "id": "printable-portuguese",
   "metadata": {},
   "source": [
    "- 다음 나올 단어를 예측하는 시스템\n",
    " - 1. 사전구축\n",
    " - 2. 추론"
   ]
  },
  {
   "cell_type": "markdown",
   "id": "boxed-harmony",
   "metadata": {},
   "source": [
    "### 1.1.4 RNN에서의 Inference"
   ]
  },
  {
   "cell_type": "markdown",
   "id": "specialized-headline",
   "metadata": {},
   "source": [
    "- 하나의 input에 대해 출력이 나오면 그 출력에 대해 다시 입력하는식으로 반복작업을 할 수 있다."
   ]
  },
  {
   "cell_type": "markdown",
   "id": "interpreted-rachel",
   "metadata": {},
   "source": [
    "### 1.1.5 RNN의 Backpropagation"
   ]
  },
  {
   "cell_type": "markdown",
   "id": "wireless-abraham",
   "metadata": {},
   "source": [
    "- 모든 학습데이터를 한번에 학습시킬 수 없으므로 truncation을 통해 잘라서 학습하게 된다."
   ]
  },
  {
   "cell_type": "markdown",
   "id": "equivalent-authority",
   "metadata": {},
   "source": [
    "## 2. LSTM & GRU"
   ]
  },
  {
   "cell_type": "markdown",
   "id": "closing-flour",
   "metadata": {},
   "source": [
    "### 2.1. LSTM"
   ]
  },
  {
   "cell_type": "markdown",
   "id": "minute-diary",
   "metadata": {},
   "source": [
    "- 단어마다의 유사도를 딥러닝을 이용하여 vector로 표현한다.\n",
    "- 주변의 단어들을 통해 단어의 의미를 학습할 수 있다. -> 확률분포를 예측할 수 있다.\n",
    "- input/ output 쌍을 만들어준다.\n",
    "- embedding matrix : onehot vector에 해당하는 요소만 뽑아오는 것으로 해석가능  \n",
    "총 단어 개수만큼의 low vector와의 내적값이 마지막 출력으로 나온다.\n",
    "- 의미 관계가 linear하게 학습이 된다."
   ]
  },
  {
   "cell_type": "markdown",
   "id": "initial-horizontal",
   "metadata": {},
   "source": [
    "- Continuous Bag of words  "
   ]
  },
  {
   "cell_type": "markdown",
   "id": "freelance-morocco",
   "metadata": {},
   "source": [
    "### 2.2 GRU"
   ]
  },
  {
   "cell_type": "markdown",
   "id": "immediate-trigger",
   "metadata": {},
   "source": [
    "- 기계 번역: 다른언어간의 같은 의미에 대해 알기 쉽다.\n",
    "- 감정 분석: 각 단어의 긍정 부정을 용이하게 파악\n",
    "- image captioning : 이미지를 자연어 형태로 학습"
   ]
  },
  {
   "cell_type": "markdown",
   "id": "primary-guard",
   "metadata": {},
   "source": [
    "## 2. 피어 세션 정리"
   ]
  },
  {
   "cell_type": "markdown",
   "id": "boring-fashion",
   "metadata": {},
   "source": [
    "#### 2.1 스터디"
   ]
  },
  {
   "cell_type": "markdown",
   "id": "speaking-kruger",
   "metadata": {},
   "source": [
    "- 2.1.1 word2vector embedding 발표(발표: 이주남)\n",
    "\n",
    "- 2.1.2 GloVe word2vector,  (발표: 김준철)\n"
   ]
  },
  {
   "cell_type": "markdown",
   "id": "formed-adult",
   "metadata": {},
   "source": [
    "#### 2.2 원하는 진로를 잡고 논문 공부"
   ]
  },
  {
   "cell_type": "markdown",
   "id": "approved-wonder",
   "metadata": {},
   "source": [
    "- Deep learning "
   ]
  },
  {
   "cell_type": "markdown",
   "id": "prerequisite-mattress",
   "metadata": {},
   "source": [
    "- 새로운 논문 선택 gpt-2 읽기"
   ]
  },
  {
   "cell_type": "markdown",
   "id": "prompt-finding",
   "metadata": {},
   "source": [
    "## 3. 진행중인 공부 및 신규 공부 목록"
   ]
  },
  {
   "cell_type": "markdown",
   "id": "seven-violation",
   "metadata": {},
   "source": [
    "- 진행중인 공부  \n",
    "\n",
    "    - Deep learning 논문 읽고 정리하기\n",
    "    - AI 기본 수학 : Mathematics for Machine learning - Marc Peter Deisenroth 3과 공부\n",
    "    - 웹 크롤링 및 데이터 처리 연습 익숙해지기\n",
    "    - Pytorch로 시작하는 딥러닝, Pytorch tutorial 공부  \n",
    "    - pytorch 데이터셋 설정"
   ]
  },
  {
   "cell_type": "markdown",
   "id": "broad-payroll",
   "metadata": {},
   "source": [
    "- 신규 공부 목록  \n"
   ]
  },
  {
   "cell_type": "markdown",
   "id": "boxed-particular",
   "metadata": {},
   "source": [
    "- 완료한 공부  \n",
    " - pandas, numpy 공부"
   ]
  },
  {
   "cell_type": "markdown",
   "id": "british-monkey",
   "metadata": {},
   "source": [
    "## 4. 감사한 일"
   ]
  },
  {
   "cell_type": "markdown",
   "id": "functional-bridges",
   "metadata": {},
   "source": [
    "- 논문 발표를 위한 큰 틀을 잡아주시고 더 나아지도록 포인트를 집어주신 문영기 조교님에게 감사합니다."
   ]
  }
 ],
 "metadata": {
  "kernelspec": {
   "display_name": "Python 3",
   "language": "python",
   "name": "python3"
  },
  "language_info": {
   "codemirror_mode": {
    "name": "ipython",
    "version": 3
   },
   "file_extension": ".py",
   "mimetype": "text/x-python",
   "name": "python",
   "nbconvert_exporter": "python",
   "pygments_lexer": "ipython3",
   "version": "3.8.5"
  }
 },
 "nbformat": 4,
 "nbformat_minor": 5
}
