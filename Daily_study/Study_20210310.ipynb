{
 "cells": [
  {
   "cell_type": "markdown",
   "id": "twelve-closing",
   "metadata": {},
   "source": [
    "# **학업 일지**"
   ]
  },
  {
   "cell_type": "markdown",
   "id": "coordinate-convert",
   "metadata": {},
   "source": [
    "#### 오늘의 한마디  "
   ]
  },
  {
   "cell_type": "markdown",
   "id": "beautiful-springfield",
   "metadata": {},
   "source": [
    "> **CV에 대한 용어 정리를 하고 모델의 특징들에 대해 이해하기**"
   ]
  },
  {
   "cell_type": "markdown",
   "id": "gross-giving",
   "metadata": {},
   "source": [
    "## 1. Recture Summary"
   ]
  },
  {
   "cell_type": "markdown",
   "id": "adopted-feedback",
   "metadata": {},
   "source": [
    "### 1.1 Object detection"
   ]
  },
  {
   "cell_type": "markdown",
   "id": "personalized-consumer",
   "metadata": {},
   "source": [
    "#### 1.1.1 Object detection"
   ]
  },
  {
   "cell_type": "markdown",
   "id": "fuzzy-government",
   "metadata": {},
   "source": [
    "- Semantic segmentation(just class detaction), Instance segmentation(object detaction), Panoptic segmentation(object detaction)\n",
    "- Bounding box\n",
    " - (class, xmin, ymin, xmax, ymax) detection"
   ]
  },
  {
   "cell_type": "markdown",
   "id": "curious-belfast",
   "metadata": {},
   "source": [
    "#### 1.1.2 Two stage detector"
   ]
  },
  {
   "cell_type": "markdown",
   "id": "northern-produce",
   "metadata": {},
   "source": [
    "- Selective search\n",
    " - Over-segmentation, Iteratively merging similar regions, Extracting candidate boxes from all remaining segmentations\n",
    "- R-CNN\n",
    " - Input image, Extract region preoposals, Compute CNN features, Classify regions\n",
    "- Fast R-CNN\n",
    " - Conv.feature map from the original image\n",
    "- Faster R-CNN : End to end structure\n",
    " - IoU : Intersection over Union\n",
    " - Anchor boxes : 학습데이터의 bounding box와 비교하여 0.7이상이면 선택\n",
    " - RPN(Region Proposal Network)\n",
    " - NMS(Non-Maximum Suppression : filtering and screaming\n",
    "![img.png](img/R-CNN.png)"
   ]
  },
  {
   "cell_type": "markdown",
   "id": "private-guinea",
   "metadata": {},
   "source": [
    "#### 1.1.3 Single stage ditector\n",
    "- low accracy but high speed\n",
    "- YOLO(you only look once)\n",
    " - bounding boxes + confidence, Class probability\n",
    " - \n",
    "- SSD(Single Shot MultiBox Detector)\n",
    " - 다양한 클래스 출력가능"
   ]
  },
  {
   "cell_type": "markdown",
   "id": "union-block",
   "metadata": {},
   "source": [
    "#### 1.1.4 Two stage detector vs. single stage detector\n",
    "- Focal loss\n",
    " - class imbablace problem : problem of single detector\n",
    " - solution = Focal loss : improved cross entropy loss\n",
    "- RetinaNet\n",
    " - ResNet + feature pyramid net -> class subnet + box subnet\n"
   ]
  },
  {
   "cell_type": "markdown",
   "id": "appointed-sterling",
   "metadata": {},
   "source": [
    "#### 1.1.5 Transformer structure\n",
    "- DETR\n",
    " - backbone - encoder - decoder - prediction heads\n",
    "- Further reading\n",
    " - finding center point"
   ]
  },
  {
   "cell_type": "markdown",
   "id": "freelance-answer",
   "metadata": {},
   "source": [
    "### 1.2 CNN visualization"
   ]
  },
  {
   "cell_type": "markdown",
   "id": "impossible-ireland",
   "metadata": {},
   "source": [
    "#### 1.2.1 Visualizing CNN\n",
    "- Analysis of model behavior"
   ]
  },
  {
   "cell_type": "markdown",
   "id": "shaped-immune",
   "metadata": {},
   "source": [
    "#### 1.2.2 Analysis of model behavior\n",
    "- Embedding feature analysis\n",
    " - NN (nearest neighbors) : clustering\n",
    " - Dimensionality reduction\n",
    "  - t-SNE\n",
    "- Activation investigation - Mid,High layer\n",
    "- Maximally activating patches - Mid layer\n",
    "- Class visualization\n",
    " - Gradient ascent"
   ]
  },
  {
   "cell_type": "markdown",
   "id": "plain-heaven",
   "metadata": {},
   "source": [
    "#### 1.2.3 Model decision explanation\n",
    "- Occlusion map\n",
    " - 가려주었을때의 확률을 계산\n",
    "- via Backpropagation\n",
    " - grad의 절댓값을 구한다.\n",
    "- Rectified unit(backward pass)\n",
    " - Forward Pass, Saliency Map, Deconvolution, Guided backpropagation\n",
    "- Class activation mapping(CAM) - most popular\n",
    "- Grad-CAM\n",
    "- SCOUTER"
   ]
  },
  {
   "cell_type": "markdown",
   "id": "loved-software",
   "metadata": {},
   "source": [
    "### 1.3 AutoGrad\n",
    "#### 1.3.1 Exercise\n",
    "- y.backward(gradients,retain_graph=True) # gradient accumulate"
   ]
  },
  {
   "cell_type": "markdown",
   "id": "middle-mississippi",
   "metadata": {},
   "source": [
    "## 2. Peer session summary"
   ]
  },
  {
   "cell_type": "markdown",
   "id": "adolescent-melbourne",
   "metadata": {},
   "source": [
    "#### 2.1 Study"
   ]
  },
  {
   "cell_type": "markdown",
   "id": "amber-boring",
   "metadata": {},
   "source": [
    "- Deep layer에 대한 고찰(발표: 김상현)\n",
    "- Data Augmentation에 대한 심화개념에 대한 발표(발표: 안동주)"
   ]
  },
  {
   "cell_type": "markdown",
   "id": "neutral-messenger",
   "metadata": {},
   "source": [
    "#### 2.2 원하는 진로를 잡고 논문 공부"
   ]
  },
  {
   "cell_type": "markdown",
   "id": "secret-queensland",
   "metadata": {},
   "source": [
    "- 새로운 논문 선택 gpt-1 읽기"
   ]
  },
  {
   "cell_type": "markdown",
   "id": "closed-negative",
   "metadata": {},
   "source": [
    "## 3. 진행중인 공부 및 신규 공부 목록"
   ]
  },
  {
   "cell_type": "markdown",
   "id": "knowing-feature",
   "metadata": {},
   "source": [
    "- 진행중인 공부  \n",
    "\n",
    "    - AI 기본 수학 : Mathematics for Machine learning - Marc Peter Deisenroth 5과 공부\n",
    "    - 웹 크롤링 및 데이터 처리 연습 익숙해지기\n",
    "    - Pytorch로 시작하는 딥러닝, Pytorch tutorial 공부  \n",
    "    - pytorch 데이터셋 설정  "
   ]
  },
  {
   "cell_type": "markdown",
   "id": "extra-walnut",
   "metadata": {},
   "source": [
    "- New study list  \n",
    " - Sequential data pre processing"
   ]
  },
  {
   "cell_type": "markdown",
   "id": "military-technique",
   "metadata": {},
   "source": [
    "- 완료한 공부  "
   ]
  },
  {
   "cell_type": "markdown",
   "id": "organizational-small",
   "metadata": {},
   "source": [
    "## 4. 감사한 일"
   ]
  },
  {
   "cell_type": "markdown",
   "id": "simplified-english",
   "metadata": {},
   "source": [
    "- 2주동안 준비해서 좋은 논문 발표를 보여준 이주남 팀원에게 감사합니다."
   ]
  }
 ],
 "metadata": {
  "kernelspec": {
   "display_name": "Python 3",
   "language": "python",
   "name": "python3"
  },
  "language_info": {
   "codemirror_mode": {
    "name": "ipython",
    "version": 3
   },
   "file_extension": ".py",
   "mimetype": "text/x-python",
   "name": "python",
   "nbconvert_exporter": "python",
   "pygments_lexer": "ipython3",
   "version": "3.8.5"
  }
 },
 "nbformat": 4,
 "nbformat_minor": 5
}
