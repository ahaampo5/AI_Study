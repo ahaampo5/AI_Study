{
 "cells": [
  {
   "cell_type": "markdown",
   "id": "twelve-closing",
   "metadata": {},
   "source": [
    "# **Daily Report**"
   ]
  },
  {
   "cell_type": "markdown",
   "id": "coordinate-convert",
   "metadata": {},
   "source": [
    "#### 오늘의 한마디  "
   ]
  },
  {
   "cell_type": "markdown",
   "id": "beautiful-springfield",
   "metadata": {},
   "source": [
    "> **Object Detection은 특이하게 오버피팅이라기보다는 학습 자체를 어려워하는 지점이 생긴다.**"
   ]
  },
  {
   "cell_type": "markdown",
   "id": "gross-giving",
   "metadata": {},
   "source": [
    "## 1. Competition Summary"
   ]
  },
  {
   "cell_type": "markdown",
   "id": "adopted-feedback",
   "metadata": {},
   "source": [
    "### 1.1 알게 된 사실"
   ]
  },
  {
   "cell_type": "markdown",
   "id": "minor-quick",
   "metadata": {},
   "source": [
    "#### 1.1.1 2-stage Model\n",
    "- R-CNN\n",
    "- Fast-R-CNN\n",
    "- Faster-R-CNN\n",
    "- Cascade-R-CNN\n",
    "- Hybrid-"
   ]
  },
  {
   "cell_type": "markdown",
   "id": "rotary-idaho",
   "metadata": {},
   "source": [
    "#### 1.1.2 다양한 데이터셋\n",
    "- Cityscapes test : 도시의 거리뷰 5000 high quanlity, 20000 weak quality\n",
    "- PASCAL VOC 2012 test : 일반적인 사진\n",
    "- PASCAL Context : 일반 사진 train 10103, test 9637\n",
    "- ADE20K : 일반 사진 train 25574, 2000 val\n",
    "- S3DIS : 3D semantic segmentation \n",
    "- ScanNET : 3D segmentation \n",
    "- COCO : semantic segmentation, object detection and image captioning 164k images\n",
    "- CamVid : video database"
   ]
  },
  {
   "cell_type": "markdown",
   "id": "british-march",
   "metadata": {},
   "source": [
    "### 1.2 Applying Filter Methods in Python for Feature Selection"
   ]
  },
  {
   "cell_type": "markdown",
   "id": "interesting-enterprise",
   "metadata": {},
   "source": [
    "#### 1.2.1 모르는 모듈\n",
    "- gc\n",
    "- sklearn"
   ]
  },
  {
   "cell_type": "markdown",
   "id": "unlikely-mills",
   "metadata": {},
   "source": [
    "#### 1.2.2 Modeling 구상\n",
    "- 2개의 12월 데이터로 현재 12월을 예측하는 모델\n",
    " - 개인을 기준으로 모델링\n",
    " - 대다수의 특징을 기준으로 모델링\n",
    "- 작년 1~11월의 데이터를 기준으로 올해 예측관련성 찾는 모델\n",
    "- 비슷한 특징을 가지는 사람만 모아서 학습 할 수 있겠다.\n",
    " - word to vector , "
   ]
  },
  {
   "cell_type": "markdown",
   "id": "middle-mississippi",
   "metadata": {},
   "source": [
    "## 2. Peer session summary"
   ]
  },
  {
   "cell_type": "markdown",
   "id": "adolescent-melbourne",
   "metadata": {},
   "source": [
    "#### 2.1 Study"
   ]
  },
  {
   "cell_type": "markdown",
   "id": "amber-boring",
   "metadata": {},
   "source": [
    "- 데이터와 모델에 대한 이야기를 나누었고 내일까지 데이터 분석과 모델 검색을 한 후에 다시 만나기로 했다."
   ]
  },
  {
   "cell_type": "markdown",
   "id": "closed-negative",
   "metadata": {},
   "source": [
    "## 3. 진행중인 공부 및 신규 공부 목록"
   ]
  },
  {
   "cell_type": "markdown",
   "id": "knowing-feature",
   "metadata": {},
   "source": [
    "- 진행중인 공부  \n",
    "\n",
    "    - AI 기본 수학 : Mathematics for Machine learning - Marc Peter Deisenroth 7과 공부\n",
    "    - 웹 크롤링 및 데이터 처리 연습 익숙해지기\n",
    "    - Pytorch로 시작하는 딥러닝, Pytorch tutorial 공부  "
   ]
  },
  {
   "cell_type": "markdown",
   "id": "extra-walnut",
   "metadata": {},
   "source": [
    "- New study list  \n"
   ]
  },
  {
   "cell_type": "markdown",
   "id": "military-technique",
   "metadata": {},
   "source": [
    "- 완료한 공부  "
   ]
  },
  {
   "cell_type": "markdown",
   "id": "organizational-small",
   "metadata": {},
   "source": [
    "## 4. 감사한 일"
   ]
  },
  {
   "cell_type": "markdown",
   "id": "simplified-english",
   "metadata": {},
   "source": [
    "- 매번 실수하고 "
   ]
  }
 ],
 "metadata": {
  "kernelspec": {
   "display_name": "Python 3",
   "language": "python",
   "name": "python3"
  },
  "language_info": {
   "codemirror_mode": {
    "name": "ipython",
    "version": 3
   },
   "file_extension": ".py",
   "mimetype": "text/x-python",
   "name": "python",
   "nbconvert_exporter": "python",
   "pygments_lexer": "ipython3",
   "version": "3.8.8"
  }
 },
 "nbformat": 4,
 "nbformat_minor": 5
}
