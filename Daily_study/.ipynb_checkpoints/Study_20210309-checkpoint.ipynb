{
 "cells": [
  {
   "cell_type": "markdown",
   "id": "twelve-closing",
   "metadata": {},
   "source": [
    "# **학업 일지**"
   ]
  },
  {
   "cell_type": "markdown",
   "id": "coordinate-convert",
   "metadata": {},
   "source": [
    "#### 오늘의 한마디  "
   ]
  },
  {
   "cell_type": "markdown",
   "id": "beautiful-springfield",
   "metadata": {},
   "source": [
    "> **정점을 임베딩벡터로 바꿔주어 머신러닝을 사용할 수 있게 만든다.**"
   ]
  },
  {
   "cell_type": "markdown",
   "id": "gross-giving",
   "metadata": {},
   "source": [
    "## 1. Recture Summary"
   ]
  },
  {
   "cell_type": "markdown",
   "id": "adopted-feedback",
   "metadata": {},
   "source": [
    "### 1.1 Computer Vision"
   ]
  },
  {
   "cell_type": "markdown",
   "id": "personalized-consumer",
   "metadata": {},
   "source": [
    "#### 1.1.1 Deep layers"
   ]
  },
  {
   "cell_type": "markdown",
   "id": "fuzzy-government",
   "metadata": {},
   "source": [
    "- Deep layers\n",
    " - Pros : 더 복잡한 표현 가능, 더 큰 receptive field 가능\n",
    " - Cons : Gradient vanishing / exploding, Computationally complex, Degradation problem\n",
    " "
   ]
  },
  {
   "cell_type": "markdown",
   "id": "curious-belfast",
   "metadata": {},
   "source": [
    "#### 1.1.2 GoogLeNet"
   ]
  },
  {
   "cell_type": "markdown",
   "id": "northern-produce",
   "metadata": {},
   "source": [
    "- Inception module\n",
    " - 1x1, 3x3, 5x5 convolution - especially 1x1 : degrade computational complex\n",
    "- contructure \n",
    " - Stem entwork(vanilla convolution networks) - Stacdked inception modules - Auxiliary classifiers\n",
    "- Auxiliary classifier"
   ]
  },
  {
   "cell_type": "markdown",
   "id": "private-guinea",
   "metadata": {},
   "source": [
    "#### 1.1.3 ResNet\n",
    "- Privious Deep-layer problems\n",
    " - Degradation problem : accuracy gets saturated\n",
    "- Hypothesis of ResNet\n",
    " - Plain layer is hard to learn good H(x) directly\n",
    " - Solution : Resicual block + Shortcut connection\n",
    " - He initialization : fit in ResNet"
   ]
  },
  {
   "cell_type": "markdown",
   "id": "union-block",
   "metadata": {},
   "source": [
    "#### 1.1.4 Beyond ResNets\n",
    "- DenseNet \n",
    " - Dense blocks : \n",
    "- SENet\n",
    " - Possible to Attention\n",
    "  - Squeeze : transfrom from HxWxC to 1x1xC\n",
    "  - Excitation : FC layer\n",
    "- EfficientNet\n",
    " - baseline :\n",
    " - width scaling\n",
    " - depth scaling\n",
    " - resolution scaling\n",
    " - compound scaling\n",
    "- Deformable convolution\n",
    " - conv + offset field"
   ]
  },
  {
   "cell_type": "markdown",
   "id": "freelance-answer",
   "metadata": {},
   "source": [
    "### 1.2 Semantic Segmentation"
   ]
  },
  {
   "cell_type": "markdown",
   "id": "impossible-ireland",
   "metadata": {},
   "source": [
    "#### 1.2.1 Uses\n",
    "- Medical images\n",
    "- Autonomous driving\n",
    "- Computational photography"
   ]
  },
  {
   "cell_type": "markdown",
   "id": "plain-heaven",
   "metadata": {},
   "source": [
    "#### 1.2.2 Architacture\n",
    "- Fully convolutional networks(FCN)\n",
    " - VGG without FC : bit receptive field\n",
    " - Solution to low resolution\n",
    "  - Transposed convolution\n",
    "   - block pixel problem\n",
    "  - Upsampling convolution\n",
    "   - NN-resize convolution\n",
    "   - Bilinear-resize convolution\n",
    "   - Use previous layer\n",
    "- U-Net\n",
    " - even feature size\n",
    "- DeepLab\n",
    " - Conditional Random Fields (CRFs)\n",
    " - Dilated convolution\n",
    " - Depthwise convolution\n",
    "  - convolution for each channel : reduce computational complex and \n",
    "- DeepLab v3+\n",
    "![img.png](./img/deeplabv3.png)"
   ]
  },
  {
   "cell_type": "markdown",
   "id": "middle-mississippi",
   "metadata": {},
   "source": [
    "## 2. Peer session summary"
   ]
  },
  {
   "cell_type": "markdown",
   "id": "adolescent-melbourne",
   "metadata": {},
   "source": [
    "#### 2.1 Study"
   ]
  },
  {
   "cell_type": "markdown",
   "id": "amber-boring",
   "metadata": {},
   "source": [
    "- Computer Vision에 대한 개요와 VGG, AlexNet의 코드 비교(발표: 배새봄)\n",
    "- Data Augmentation에 대한 심화개념에 대한 발표(발표: 안동주)"
   ]
  },
  {
   "cell_type": "markdown",
   "id": "neutral-messenger",
   "metadata": {},
   "source": [
    "#### 2.2 원하는 진로를 잡고 논문 공부"
   ]
  },
  {
   "cell_type": "markdown",
   "id": "secret-queensland",
   "metadata": {},
   "source": [
    "- 새로운 논문 선택 gpt-1 읽기"
   ]
  },
  {
   "cell_type": "markdown",
   "id": "closed-negative",
   "metadata": {},
   "source": [
    "## 3. 진행중인 공부 및 신규 공부 목록"
   ]
  },
  {
   "cell_type": "markdown",
   "id": "knowing-feature",
   "metadata": {},
   "source": [
    "- 진행중인 공부  \n",
    "\n",
    "    - AI 기본 수학 : Mathematics for Machine learning - Marc Peter Deisenroth 5과 공부\n",
    "    - 웹 크롤링 및 데이터 처리 연습 익숙해지기\n",
    "    - Pytorch로 시작하는 딥러닝, Pytorch tutorial 공부  \n",
    "    - pytorch 데이터셋 설정  "
   ]
  },
  {
   "cell_type": "markdown",
   "id": "extra-walnut",
   "metadata": {},
   "source": [
    "- New study list  \n",
    " - Sequential data pre processing"
   ]
  },
  {
   "cell_type": "markdown",
   "id": "military-technique",
   "metadata": {},
   "source": [
    "- 완료한 공부  "
   ]
  },
  {
   "cell_type": "markdown",
   "id": "organizational-small",
   "metadata": {},
   "source": [
    "## 4. 감사한 일"
   ]
  },
  {
   "cell_type": "markdown",
   "id": "simplified-english",
   "metadata": {},
   "source": [
    "- 2주동안 준비해서 좋은 논문 발표를 보여준 이주남 팀원에게 감사합니다."
   ]
  }
 ],
 "metadata": {
  "kernelspec": {
   "display_name": "Python 3",
   "language": "python",
   "name": "python3"
  },
  "language_info": {
   "codemirror_mode": {
    "name": "ipython",
    "version": 3
   },
   "file_extension": ".py",
   "mimetype": "text/x-python",
   "name": "python",
   "nbconvert_exporter": "python",
   "pygments_lexer": "ipython3",
   "version": "3.8.5"
  }
 },
 "nbformat": 4,
 "nbformat_minor": 5
}
