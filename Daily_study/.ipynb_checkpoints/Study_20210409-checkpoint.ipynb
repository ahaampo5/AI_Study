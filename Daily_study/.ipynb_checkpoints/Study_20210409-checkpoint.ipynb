{
 "cells": [
  {
   "cell_type": "markdown",
   "id": "twelve-closing",
   "metadata": {},
   "source": [
    "# **학업 일지**"
   ]
  },
  {
   "cell_type": "markdown",
   "id": "coordinate-convert",
   "metadata": {},
   "source": [
    "#### 오늘의 한마디  "
   ]
  },
  {
   "cell_type": "markdown",
   "id": "beautiful-springfield",
   "metadata": {},
   "source": [
    "> **모델의 전체 구성을 재사용 가능하도록 가장 효율적이게 작성해보자.**"
   ]
  },
  {
   "cell_type": "markdown",
   "id": "gross-giving",
   "metadata": {},
   "source": [
    "## 1. Competition Summary"
   ]
  },
  {
   "cell_type": "markdown",
   "id": "adopted-feedback",
   "metadata": {},
   "source": [
    "### 1.1 Data Processing"
   ]
  },
  {
   "cell_type": "markdown",
   "id": "minor-quick",
   "metadata": {},
   "source": [
    "#### 1.1.1 데이터\n",
    "- 데이터의 종류 : 이미지 데이터\n",
    "- 데이터의 특성확인(EDA) - 시각화의 중요성 (numpy, pandas, matplotlib 익숙해져야한다.)\n",
    "- Dataset, Dataloader를 활용하여 학습에 필요한 데이터구조 구축\n"
   ]
  },
  {
   "cell_type": "markdown",
   "id": "pediatric-skirt",
   "metadata": {},
   "source": [
    "#### 1.1.2 모델\n",
    "- timm 모듈의 활용도가 중요하다. 다양한 모델을 테스트해보고 모델에 따른 learning rate와 데이터 처리가 필요하다.\n",
    "- 다양한 모델을 가져오고 자유롭게 변형하며 진행해야한다."
   ]
  },
  {
   "cell_type": "markdown",
   "id": "middle-mississippi",
   "metadata": {},
   "source": [
    "## 2. Peer session summary"
   ]
  },
  {
   "cell_type": "markdown",
   "id": "adolescent-melbourne",
   "metadata": {},
   "source": [
    "#### 2.1 Study"
   ]
  },
  {
   "cell_type": "markdown",
   "id": "amber-boring",
   "metadata": {},
   "source": [
    "- 여태 피어세션중에 가장 질 좋은 대화를 나누었다.\n",
    "- Validation set의 중요성과 코드를 직접 짜는 중요성을 나누었고 다양한 아이디어를 확인하고 토론해보았습니다."
   ]
  },
  {
   "cell_type": "markdown",
   "id": "closed-negative",
   "metadata": {},
   "source": [
    "## 3. 진행중인 공부 및 신규 공부 목록"
   ]
  },
  {
   "cell_type": "markdown",
   "id": "knowing-feature",
   "metadata": {},
   "source": [
    "- 진행중인 공부  \n",
    "\n",
    "    - AI 기본 수학 : Mathematics for Machine learning - Marc Peter Deisenroth 7과 공부\n",
    "    - 웹 크롤링 및 데이터 처리 연습 익숙해지기\n",
    "    - Pytorch로 시작하는 딥러닝, Pytorch tutorial 공부  "
   ]
  },
  {
   "cell_type": "markdown",
   "id": "extra-walnut",
   "metadata": {},
   "source": [
    "- New study list  \n"
   ]
  },
  {
   "cell_type": "markdown",
   "id": "military-technique",
   "metadata": {},
   "source": [
    "- 완료한 공부  "
   ]
  },
  {
   "cell_type": "markdown",
   "id": "organizational-small",
   "metadata": {},
   "source": [
    "## 4. 감사한 일"
   ]
  },
  {
   "cell_type": "markdown",
   "id": "simplified-english",
   "metadata": {},
   "source": [
    "- 오늘 즐거운 피어세션을 보내게 해준 이주영, 김기민, 김효진 피어에게 감사합니다."
   ]
  }
 ],
 "metadata": {
  "kernelspec": {
   "display_name": "Python 3",
   "language": "python",
   "name": "python3"
  },
  "language_info": {
   "codemirror_mode": {
    "name": "ipython",
    "version": 3
   },
   "file_extension": ".py",
   "mimetype": "text/x-python",
   "name": "python",
   "nbconvert_exporter": "python",
   "pygments_lexer": "ipython3",
   "version": "3.8.5"
  }
 },
 "nbformat": 4,
 "nbformat_minor": 5
}
