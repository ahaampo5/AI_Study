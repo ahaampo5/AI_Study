{
 "cells": [
  {
   "cell_type": "markdown",
   "id": "twelve-closing",
   "metadata": {},
   "source": [
    "# **학업 일지**"
   ]
  },
  {
   "cell_type": "markdown",
   "id": "coordinate-convert",
   "metadata": {},
   "source": [
    "#### 오늘의 한마디  "
   ]
  },
  {
   "cell_type": "markdown",
   "id": "beautiful-springfield",
   "metadata": {},
   "source": [
    "> **Full stack Engineer가 되기 위한 발걸음**"
   ]
  },
  {
   "cell_type": "markdown",
   "id": "gross-giving",
   "metadata": {},
   "source": [
    "## 1. 강의 정리"
   ]
  },
  {
   "cell_type": "markdown",
   "id": "adopted-feedback",
   "metadata": {},
   "source": [
    "### 1.1 캐글 "
   ]
  },
  {
   "cell_type": "markdown",
   "id": "personalized-consumer",
   "metadata": {},
   "source": [
    "#### 1.1.1 캐글의 대회 구조"
   ]
  },
  {
   "cell_type": "markdown",
   "id": "coupled-underground",
   "metadata": {},
   "source": [
    "- 대회 개최 목적\n",
    " - Featured : 상업적 목적의 예측 대회\n",
    " - Research : 연구 목적의 대회\n",
    " - Getting started & Playground : 놀이터\n",
    " - Analytics : 데이터 분석 목적의 대회, 데이터 탐색과 이를 시각화한 노트북을 제출하는 대회\n",
    "\n",
    "- 대회 제출 방식\n",
    " - General Competition : 리소스 제약 없음\n",
    " - Code Competition : 리소스 제약이 있다."
   ]
  },
  {
   "cell_type": "markdown",
   "id": "simple-beast",
   "metadata": {},
   "source": [
    "#### 1.1.2 파이프라인 구축"
   ]
  },
  {
   "cell_type": "markdown",
   "id": "handed-philosophy",
   "metadata": {},
   "source": [
    "![img.png](./img/kaggle.png)"
   ]
  },
  {
   "cell_type": "markdown",
   "id": "interested-national",
   "metadata": {},
   "source": [
    "#### 1.1.2 우승하기 위해 필요한 것\n",
    "\n",
    "- 검증 전략(Validation Strategy) : training set과 test set 사이의 데이터를 평가를 줄이는 일\n",
    "- Training set 나누기\n",
    " - 80:20으로 나눈다.\n",
    " - 이상적인 경우 Training set의 정확도 0.95, Validation set의 정확도 0.95, Public set 0.95\n",
    " - k-fold 검증 전략 구축하기 , 최근에는 Stratified k-fold를 쓴다.\n",
    "- local CV와 Public LB가 함께 올라가는 방법을 선택\n",
    "- 앙상블 : 여러 모델의 예측 결과를 섞어서 예측 성능을 향상시킴\n",
    " - 정형 데이터 : LightGBM, XGBoost, Neural Networks\n",
    " - 이미지 데이터 : resnet, efficientnet, resnext\n",
    " - 텍스트 데이터 : LSTM, BERT, GPT2, RoBert"
   ]
  },
  {
   "cell_type": "markdown",
   "id": "major-person",
   "metadata": {},
   "source": [
    "- "
   ]
  },
  {
   "cell_type": "markdown",
   "id": "freelance-answer",
   "metadata": {},
   "source": [
    "### 1.2 Full stack ML engineer"
   ]
  },
  {
   "cell_type": "markdown",
   "id": "wired-victory",
   "metadata": {},
   "source": [
    "#### 1.2.1 Full stack ML engineer 란?"
   ]
  },
  {
   "cell_type": "markdown",
   "id": "divided-marker",
   "metadata": {},
   "source": [
    "- ML engineer\n",
    " - ML을 이해하고, 연구하고, Product를 만드는 Engineer\n",
    "- Full stack Engineer\n",
    " - Client / Server software를 개발할 수 있는 사람 (Front-end / API Server, DB)\n",
    "  - Figma, Ps, React, Vue.js / spring, django, rails, MySQL, Redis, elasticsearch\n",
    "- 시간만 있다면 모든 Product를 만들 수 있는 사람\n",
    "- 결론 : Research paper, ML Software, ML Service\n",
    "![img.png](./img/Fullstack.png)"
   ]
  },
  {
   "cell_type": "markdown",
   "id": "nervous-gravity",
   "metadata": {},
   "source": [
    "#### 1.2.2 Pros, cons of Full stack ML engineer\n",
    "- Pros : 재미있다. 모든 회의가 성장의 밑거름, \n",
    "- Cons : 총 투자비용이 적으면 애매한 포지션에 머무를 수 있다."
   ]
  },
  {
   "cell_type": "markdown",
   "id": "minimal-breach",
   "metadata": {},
   "source": [
    "#### 1.2.3 ML Product, ML Team, ML Engineer"
   ]
  },
  {
   "cell_type": "markdown",
   "id": "stock-talent",
   "metadata": {},
   "source": [
    "- Front-End : react.js, angular, \n",
    "- Back-End : django, flask, spring\n",
    "- Machine Learning : Pytorch, TensorFlow\n",
    "- Database : MySQL, MariaDB, redis, amazon DynamoDB\n",
    "- Ops : github, Docker, "
   ]
  },
  {
   "cell_type": "markdown",
   "id": "middle-mississippi",
   "metadata": {},
   "source": [
    "## 2. 피어 세션 정리"
   ]
  },
  {
   "cell_type": "markdown",
   "id": "adolescent-melbourne",
   "metadata": {},
   "source": [
    "#### 2.1 스터디"
   ]
  },
  {
   "cell_type": "markdown",
   "id": "amber-boring",
   "metadata": {},
   "source": [
    "- 개인적으로 필요한 책을 공부하였다. \n"
   ]
  },
  {
   "cell_type": "markdown",
   "id": "neutral-messenger",
   "metadata": {},
   "source": [
    "#### 2.2 원하는 진로를 잡고 논문 공부"
   ]
  },
  {
   "cell_type": "markdown",
   "id": "secret-queensland",
   "metadata": {},
   "source": [
    "- 새로운 논문 선택 gpt-1 읽기"
   ]
  },
  {
   "cell_type": "markdown",
   "id": "closed-negative",
   "metadata": {},
   "source": [
    "## 3. 진행중인 공부 및 신규 공부 목록"
   ]
  },
  {
   "cell_type": "markdown",
   "id": "knowing-feature",
   "metadata": {},
   "source": [
    "- 진행중인 공부  \n",
    "\n",
    "    - AI 기본 수학 : Mathematics for Machine learning - Marc Peter Deisenroth 5과 공부\n",
    "    - 웹 크롤링 및 데이터 처리 연습 익숙해지기\n",
    "    - Pytorch로 시작하는 딥러닝, Pytorch tutorial 공부  \n",
    "    - pytorch 데이터셋 설정"
   ]
  },
  {
   "cell_type": "markdown",
   "id": "extra-walnut",
   "metadata": {},
   "source": [
    "- 신규 공부 목록  \n",
    " - html, c 언어 읽을 수 있도록 공부"
   ]
  },
  {
   "cell_type": "markdown",
   "id": "military-technique",
   "metadata": {},
   "source": [
    "- 완료한 공부  "
   ]
  },
  {
   "cell_type": "markdown",
   "id": "organizational-small",
   "metadata": {},
   "source": [
    "## 4. 감사한 일"
   ]
  },
  {
   "cell_type": "markdown",
   "id": "simplified-english",
   "metadata": {},
   "source": [
    "- 팀원끼리 코딩테스트 실력을 성장할수 있도록 팀플을 제안해주신 배새봄님에게 감사합니다."
   ]
  }
 ],
 "metadata": {
  "kernelspec": {
   "display_name": "Python 3",
   "language": "python",
   "name": "python3"
  },
  "language_info": {
   "codemirror_mode": {
    "name": "ipython",
    "version": 3
   },
   "file_extension": ".py",
   "mimetype": "text/x-python",
   "name": "python",
   "nbconvert_exporter": "python",
   "pygments_lexer": "ipython3",
   "version": "3.8.5"
  }
 },
 "nbformat": 4,
 "nbformat_minor": 5
}
