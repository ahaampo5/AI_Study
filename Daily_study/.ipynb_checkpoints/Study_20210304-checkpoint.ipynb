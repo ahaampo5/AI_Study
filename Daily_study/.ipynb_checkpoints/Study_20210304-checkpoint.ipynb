{
 "cells": [
  {
   "cell_type": "markdown",
   "id": "twelve-closing",
   "metadata": {},
   "source": [
    "# **학업 일지**"
   ]
  },
  {
   "cell_type": "markdown",
   "id": "coordinate-convert",
   "metadata": {},
   "source": [
    "#### 오늘의 한마디  "
   ]
  },
  {
   "cell_type": "markdown",
   "id": "beautiful-springfield",
   "metadata": {},
   "source": [
    "> **실제 업무를 상정하고 공부하고 연습하자.**"
   ]
  },
  {
   "cell_type": "markdown",
   "id": "gross-giving",
   "metadata": {},
   "source": [
    "## 1. 강의 정리"
   ]
  },
  {
   "cell_type": "markdown",
   "id": "adopted-feedback",
   "metadata": {},
   "source": [
    "### 1.1 언어 모델링(Language Modeling)"
   ]
  },
  {
   "cell_type": "markdown",
   "id": "personalized-consumer",
   "metadata": {},
   "source": [
    "#### 1.1.1 언어 모델링"
   ]
  },
  {
   "cell_type": "markdown",
   "id": "minute-portuguese",
   "metadata": {},
   "source": [
    "- 확률적으로 표현 가능\n",
    "단어 예측\n",
    "- ELMo : 양방향 언어 모델링\n",
    " - SQuAD : 질의응답\n",
    " - SNLI : 두문장사이의 모순\n",
    " - SRL : 의미역 레이블링\n",
    " - Coref : 대명사가 지칭하는 것을 맞추기\n",
    " - NER : 문단안의 단어가 사람,기관,장소 맞추기\n",
    " - SST-5 : 문장 분류\n",
    "- BERT : 양방향 \n",
    " - Pre-train, Fine-tuning 구조\n",
    " - QQP : cora 질문이 유사한지 평가\n",
    " - QNLI : 질문이 모순이 있는지 설명하는건지\n",
    " - SST-2 : 뉘앙스가 긍정, 부정\n",
    " - CoLA : 부자연스러운지\n",
    " - STS-B, MRPC : 문장이 유사한지 아닌지\n",
    " - RTE : 추론"
   ]
  },
  {
   "cell_type": "markdown",
   "id": "simple-beast",
   "metadata": {},
   "source": [
    "#### 1.1.2 GLUE"
   ]
  },
  {
   "cell_type": "markdown",
   "id": "handed-philosophy",
   "metadata": {},
   "source": [
    "- BERT 이후 언어모델 평가도구로 자리잡혔다.\n",
    "<img src='img/GLUE.png' width='500px' height='500px'></img>"
   ]
  },
  {
   "cell_type": "markdown",
   "id": "ignored-photography",
   "metadata": {},
   "source": [
    "#### 1.1.3 KLUE"
   ]
  },
  {
   "cell_type": "markdown",
   "id": "weird-center",
   "metadata": {},
   "source": [
    "<img src='img/KLUE.png' width='500px' height='500px'>"
   ]
  },
  {
   "cell_type": "markdown",
   "id": "interested-national",
   "metadata": {},
   "source": [
    "#### 1.1.2 개선된 모델"
   ]
  },
  {
   "cell_type": "markdown",
   "id": "major-person",
   "metadata": {},
   "source": [
    "- BART : 자연어 생성 - decoder가 생성"
   ]
  },
  {
   "cell_type": "markdown",
   "id": "freelance-answer",
   "metadata": {},
   "source": [
    "### 1.2 내가 만든 AI 모델이 합법인가 불법인가"
   ]
  },
  {
   "cell_type": "markdown",
   "id": "wired-victory",
   "metadata": {},
   "source": [
    "#### 1.2.1 저작권"
   ]
  },
  {
   "cell_type": "markdown",
   "id": "nervous-gravity",
   "metadata": {},
   "source": [
    "#### 1.2.2 합법적으로 데이터 사용하기\n",
    "- 저작재산권 독점적/비독점적 이용허락\n",
    "- 저작재산권 전부/일부에 대한 양도\n",
    "- 라이센스 : 이용허락 규약\n",
    " - 발행단체 : CCL(Creative Commons), 공공누리(문화체육관광부)\n",
    "  - CCL : CC-BY, CC-BY-ND, CC-BY-SA, CC-BY-NC, CC-BY-NC-ND, CC-BY-NC-SA(나무위키)\n",
    "  - BY:저작자를 표시해라, ND:변경 금지, NC:비영리만 가능, SA:동일조건 변경허락\n",
    "- 뉴스기사 활용 : 한국언론진흥재단, 언론사에 계약 조건\n",
    "- 구매한 판매자에 따라 조건이 다르다.\n",
    "- 뉴스 기사는 저작권의 보호를 받지 못한다.\n",
    "- 공정이용\n",
    "<img src='img/copyright.png' width='700px' height='500px'></img>"
   ]
  },
  {
   "cell_type": "markdown",
   "id": "middle-mississippi",
   "metadata": {},
   "source": [
    "## 2. 피어 세션 정리"
   ]
  },
  {
   "cell_type": "markdown",
   "id": "adolescent-melbourne",
   "metadata": {},
   "source": [
    "#### 2.1 스터디"
   ]
  },
  {
   "cell_type": "markdown",
   "id": "amber-boring",
   "metadata": {},
   "source": [
    "- 2.1.1 Cycle Gan에 대한 논문 발표를 하고 토의하며 이해하는 시간을 가졌다. (발표 : 김상현)"
   ]
  },
  {
   "cell_type": "markdown",
   "id": "neutral-messenger",
   "metadata": {},
   "source": [
    "#### 2.2 원하는 진로를 잡고 논문 공부"
   ]
  },
  {
   "cell_type": "markdown",
   "id": "secret-queensland",
   "metadata": {},
   "source": [
    "- 새로운 논문 선택 gpt-1 읽기"
   ]
  },
  {
   "cell_type": "markdown",
   "id": "closed-negative",
   "metadata": {},
   "source": [
    "## 3. 진행중인 공부 및 신규 공부 목록"
   ]
  },
  {
   "cell_type": "markdown",
   "id": "knowing-feature",
   "metadata": {},
   "source": [
    "- 진행중인 공부  \n",
    "\n",
    "    - AI 기본 수학 : Mathematics for Machine learning - Marc Peter Deisenroth 4과 공부\n",
    "    - 웹 크롤링 및 데이터 처리 연습 익숙해지기\n",
    "    - Pytorch로 시작하는 딥러닝, Pytorch tutorial 공부  \n",
    "    - pytorch 데이터셋 설정"
   ]
  },
  {
   "cell_type": "markdown",
   "id": "extra-walnut",
   "metadata": {},
   "source": [
    "- 신규 공부 목록  \n"
   ]
  },
  {
   "cell_type": "markdown",
   "id": "military-technique",
   "metadata": {},
   "source": [
    "- 완료한 공부  "
   ]
  },
  {
   "cell_type": "markdown",
   "id": "organizational-small",
   "metadata": {},
   "source": [
    "## 4. 감사한 일"
   ]
  },
  {
   "cell_type": "markdown",
   "id": "simplified-english",
   "metadata": {},
   "source": [
    "- 일정이 바쁘신데 논문 이해에 큰 도움을 준 문영기 조교님에게 감사합니다."
   ]
  }
 ],
 "metadata": {
  "kernelspec": {
   "display_name": "Python 3",
   "language": "python",
   "name": "python3"
  },
  "language_info": {
   "codemirror_mode": {
    "name": "ipython",
    "version": 3
   },
   "file_extension": ".py",
   "mimetype": "text/x-python",
   "name": "python",
   "nbconvert_exporter": "python",
   "pygments_lexer": "ipython3",
   "version": "3.8.5"
  }
 },
 "nbformat": 4,
 "nbformat_minor": 5
}
