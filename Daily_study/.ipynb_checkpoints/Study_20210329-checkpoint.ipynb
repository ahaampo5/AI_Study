{
 "cells": [
  {
   "cell_type": "markdown",
   "id": "twelve-closing",
   "metadata": {},
   "source": [
    "# **학업 일지**"
   ]
  },
  {
   "cell_type": "markdown",
   "id": "coordinate-convert",
   "metadata": {},
   "source": [
    "#### 오늘의 한마디  "
   ]
  },
  {
   "cell_type": "markdown",
   "id": "beautiful-springfield",
   "metadata": {},
   "source": [
    "> **개인의 베이스 라인을 만들 수 있도록 연습하기.**"
   ]
  },
  {
   "cell_type": "markdown",
   "id": "gross-giving",
   "metadata": {},
   "source": [
    "## 1. Lecture Summary"
   ]
  },
  {
   "cell_type": "markdown",
   "id": "adopted-feedback",
   "metadata": {},
   "source": [
    "### 1.1 Competition"
   ]
  },
  {
   "cell_type": "markdown",
   "id": "minor-quick",
   "metadata": {},
   "source": [
    "#### 1.1.1 Overview\n",
    "- 의미, 목적, 이유, 대상, 산출물, 문제점, 배경, 도메인 = Problem Definition\n",
    "- Data Description : 데이터 스펙 요약본\n",
    "- Discussion\n",
    "- Process : Domain Understanding - Data Mining - Data Analysis - Data Processing - Modelling - training - Deploy"
   ]
  },
  {
   "cell_type": "markdown",
   "id": "expanded-assembly",
   "metadata": {},
   "source": [
    "* Example\n",
    "- 의미 : 마스크를 안 썼는지, 제대로 썼는지, 잘 못 썼는지 구별 할 수 있다. 나이를 구별할 수 있으며, 성별을 구별 할 수 있다.\n",
    "- 목적 : 성별, 나이 사이의 표면적 편향을 고려하여 특징을 배울 수 있도록 하고 마스크 착용에 민감하게 구별할 수 있어야 한다."
   ]
  },
  {
   "cell_type": "markdown",
   "id": "nonprofit-supervisor",
   "metadata": {},
   "source": [
    "#### 1.1.3 EDA\n",
    "- Exploratory Data Analysis(탐색적 데이터 분석)\n",
    " - 실제 모양, 궁금한 것, 알고 싶은 것, 주제와 연관성, 데이터 타입의 특성, 분포\n",
    "- Data Analysis, DataProcessing, Modelling, Training"
   ]
  },
  {
   "cell_type": "markdown",
   "id": "regulated-shipping",
   "metadata": {},
   "source": [
    "* Example"
   ]
  },
  {
   "cell_type": "markdown",
   "id": "middle-mississippi",
   "metadata": {},
   "source": [
    "## 2. Peer session summary"
   ]
  },
  {
   "cell_type": "markdown",
   "id": "adolescent-melbourne",
   "metadata": {},
   "source": [
    "#### 2.1 Study"
   ]
  },
  {
   "cell_type": "markdown",
   "id": "amber-boring",
   "metadata": {},
   "source": [
    "- Modeling에 관한 전반적인 정보와 팁 공유"
   ]
  },
  {
   "cell_type": "markdown",
   "id": "closed-negative",
   "metadata": {},
   "source": [
    "## 3. 진행중인 공부 및 신규 공부 목록"
   ]
  },
  {
   "cell_type": "markdown",
   "id": "knowing-feature",
   "metadata": {},
   "source": [
    "- 진행중인 공부  \n",
    "\n",
    "    - AI 기본 수학 : Mathematics for Machine learning - Marc Peter Deisenroth 7과 공부\n",
    "    - 웹 크롤링 및 데이터 처리 연습 익숙해지기\n",
    "    - Pytorch로 시작하는 딥러닝, Pytorch tutorial 공부  \n",
    "    - pytorch 데이터셋 설정  "
   ]
  },
  {
   "cell_type": "markdown",
   "id": "extra-walnut",
   "metadata": {},
   "source": [
    "- New study list  \n",
    " - Data Augmentation 적용\n",
    " - CV Model 후보군 5개 고르기"
   ]
  },
  {
   "cell_type": "markdown",
   "id": "military-technique",
   "metadata": {},
   "source": [
    "- 완료한 공부  "
   ]
  },
  {
   "cell_type": "markdown",
   "id": "organizational-small",
   "metadata": {},
   "source": [
    "## 4. 감사한 일"
   ]
  },
  {
   "cell_type": "markdown",
   "id": "simplified-english",
   "metadata": {},
   "source": [
    "- 다양한 정보에 대해서 공유하고 모르는 부분이 있으면 흔쾌히 도움을 주겠다고 말해준 오늘의 팀원들에게 감사합니다."
   ]
  }
 ],
 "metadata": {
  "kernelspec": {
   "display_name": "Python 3",
   "language": "python",
   "name": "python3"
  },
  "language_info": {
   "codemirror_mode": {
    "name": "ipython",
    "version": 3
   },
   "file_extension": ".py",
   "mimetype": "text/x-python",
   "name": "python",
   "nbconvert_exporter": "python",
   "pygments_lexer": "ipython3",
   "version": "3.8.5"
  }
 },
 "nbformat": 4,
 "nbformat_minor": 5
}
