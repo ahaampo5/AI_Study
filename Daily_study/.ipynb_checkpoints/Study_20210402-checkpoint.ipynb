{
 "cells": [
  {
   "cell_type": "markdown",
   "id": "twelve-closing",
   "metadata": {},
   "source": [
    "# **학업 일지**"
   ]
  },
  {
   "cell_type": "markdown",
   "id": "coordinate-convert",
   "metadata": {},
   "source": [
    "#### 오늘의 한마디  "
   ]
  },
  {
   "cell_type": "markdown",
   "id": "beautiful-springfield",
   "metadata": {},
   "source": [
    "> **시각화와 데이터 관리를 통한 효율화**"
   ]
  },
  {
   "cell_type": "markdown",
   "id": "gross-giving",
   "metadata": {},
   "source": [
    "## 1. Lecture Summary"
   ]
  },
  {
   "cell_type": "markdown",
   "id": "adopted-feedback",
   "metadata": {},
   "source": [
    "### 1.1 Ensemble"
   ]
  },
  {
   "cell_type": "markdown",
   "id": "minor-quick",
   "metadata": {},
   "source": [
    "#### 1.1.1 Ensemble\n",
    "- Voting : Hard, Soft\n",
    "- Cross Validation\n",
    "- TTA : 애매한 대답 - noise를 가진 입력으로 추론"
   ]
  },
  {
   "cell_type": "markdown",
   "id": "breeding-newsletter",
   "metadata": {},
   "source": [
    "#### 1.1.2 Tip\n",
    "- 코드보다 설명을 명확하게 이해하는 것이 중요하다."
   ]
  },
  {
   "cell_type": "markdown",
   "id": "ancient-financing",
   "metadata": {},
   "source": [
    "#### 1.1.3 Hyperparameter Optimization\n",
    "- nni 모듈을 이용하여 간편하게 학습할 수 있다.\n"
   ]
  },
  {
   "cell_type": "markdown",
   "id": "middle-mississippi",
   "metadata": {},
   "source": [
    "## 2. Peer session summary"
   ]
  },
  {
   "cell_type": "markdown",
   "id": "adolescent-melbourne",
   "metadata": {},
   "source": [
    "#### 2.1 Study"
   ]
  },
  {
   "cell_type": "markdown",
   "id": "amber-boring",
   "metadata": {},
   "source": [
    "- 데이터 Augmentation에 대해 다양한 의견 정리"
   ]
  },
  {
   "cell_type": "markdown",
   "id": "closed-negative",
   "metadata": {},
   "source": [
    "## 3. 진행중인 공부 및 신규 공부 목록"
   ]
  },
  {
   "cell_type": "markdown",
   "id": "knowing-feature",
   "metadata": {},
   "source": [
    "- 진행중인 공부  \n",
    "\n",
    "    - AI 기본 수학 : Mathematics for Machine learning - Marc Peter Deisenroth 7과 공부\n",
    "    - 웹 크롤링 및 데이터 처리 연습 익숙해지기\n",
    "    - Pytorch로 시작하는 딥러닝, Pytorch tutorial 공부  \n",
    "    - Data Augmentation 적용"
   ]
  },
  {
   "cell_type": "markdown",
   "id": "extra-walnut",
   "metadata": {},
   "source": [
    "- New study list  \n"
   ]
  },
  {
   "cell_type": "markdown",
   "id": "military-technique",
   "metadata": {},
   "source": [
    "- 완료한 공부  "
   ]
  },
  {
   "cell_type": "markdown",
   "id": "organizational-small",
   "metadata": {},
   "source": [
    "## 4. 감사한 일"
   ]
  },
  {
   "cell_type": "markdown",
   "id": "simplified-english",
   "metadata": {},
   "source": [
    "- 코드 라이브 강의로 큰 영감을 준 김보찬 멘토님에게 감사합니다."
   ]
  }
 ],
 "metadata": {
  "kernelspec": {
   "display_name": "Python 3",
   "language": "python",
   "name": "python3"
  },
  "language_info": {
   "codemirror_mode": {
    "name": "ipython",
    "version": 3
   },
   "file_extension": ".py",
   "mimetype": "text/x-python",
   "name": "python",
   "nbconvert_exporter": "python",
   "pygments_lexer": "ipython3",
   "version": "3.8.5"
  }
 },
 "nbformat": 4,
 "nbformat_minor": 5
}
