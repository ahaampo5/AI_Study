{
 "cells": [
  {
   "cell_type": "markdown",
   "id": "extra-concern",
   "metadata": {},
   "source": [
    "# 첫주차 정리"
   ]
  },
  {
   "cell_type": "markdown",
   "id": "unique-pound",
   "metadata": {},
   "source": [
    "## 1. 개발환경 세팅"
   ]
  },
  {
   "cell_type": "markdown",
   "id": "boolean-penetration",
   "metadata": {},
   "source": [
    "- OS : 1. window 2. ubuntu 3. Mac  \n",
    "- shell : 1. python 2. ssh\n",
    " - python역시 shell의 일종이기 때문에 terminal과 동등하게 봐야한다.\n"
   ]
  },
  {
   "cell_type": "markdown",
   "id": "entertaining-ridge",
   "metadata": {},
   "source": [
    "## 2. OOP"
   ]
  },
  {
   "cell_type": "markdown",
   "id": "hired-making",
   "metadata": {},
   "source": [
    "- 모든 것을 객체화 할 수 있다.  \n",
    " - 크게 클래스를 고려하며 코딩하는 것과 클래스 객체를 다루기로 나눌 수 있다."
   ]
  },
  {
   "cell_type": "markdown",
   "id": "incomplete-swaziland",
   "metadata": {},
   "source": [
    "> 모듈\n",
    "itertools - cycle, islice, dropwhile  \n",
    "torch // numpy // panda // matplotlib // os // shutil // csv // json //  \n",
    "xml // urllib // requests // \n",
    "\n",
    "- - -\n",
    "> 클래스  \n",
    "int, float, str, bool  \n",
    "container : list, set, dict, tuple ,deque, defaultdict  \n"
   ]
  },
  {
   "cell_type": "markdown",
   "id": "enabling-poetry",
   "metadata": {},
   "source": [
    "## 3. 프로그램의 구성"
   ]
  },
  {
   "cell_type": "markdown",
   "id": "collaborative-guess",
   "metadata": {},
   "source": [
    "- 조건, 반복 : if, elif, else, while, for\n",
    "- 예외 처리 : try, except, else, finally, raise, assert\n",
    "- 로그 남기기 : logging  \n",
    "- 바이너리 저장 : pickle  \n",
    "- "
   ]
  },
  {
   "cell_type": "markdown",
   "id": "fancy-sally",
   "metadata": {},
   "source": [
    "## 4. 유용한 구문"
   ]
  },
  {
   "cell_type": "markdown",
   "id": "defensive-polls",
   "metadata": {},
   "source": [
    "- list, generator, dict comprehension  \n",
    "- zip, map, reduce, split, join  \n",
    "- swap  \n",
    "- argument : `*`, `**` , paramater : unpacking (zip과 활용)\n",
    "- closure function : 같은용도인데 조금씩 다르게 쓸 때 유용  \n",
    "- decorator : 앞뒤로 함수 넣을 때 활용"
   ]
  },
  {
   "cell_type": "code",
   "execution_count": 2,
   "id": "seeing-picking",
   "metadata": {},
   "outputs": [
    {
     "data": {
      "text/plain": [
       "16"
      ]
     },
     "execution_count": 2,
     "metadata": {},
     "output_type": "execute_result"
    }
   ],
   "source": [
    "def generate_power(exponent):\n",
    "    def wrapper(f):\n",
    "        def inner(*args):\n",
    "            result = f(*args)\n",
    "            return exponent**result\n",
    "        return inner\n",
    "    return wrapper\n",
    "\n",
    "@generate_power(2)\n",
    "def raise_two(n):\n",
    "    return n**2\n",
    "\n",
    "raise_two(2)"
   ]
  }
 ],
 "metadata": {
  "kernelspec": {
   "display_name": "Python 3",
   "language": "python",
   "name": "python3"
  },
  "language_info": {
   "codemirror_mode": {
    "name": "ipython",
    "version": 3
   },
   "file_extension": ".py",
   "mimetype": "text/x-python",
   "name": "python",
   "nbconvert_exporter": "python",
   "pygments_lexer": "ipython3",
   "version": "3.8.5"
  }
 },
 "nbformat": 4,
 "nbformat_minor": 5
}
