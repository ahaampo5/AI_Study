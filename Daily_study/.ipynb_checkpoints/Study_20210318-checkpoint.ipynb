{
 "cells": [
  {
   "cell_type": "markdown",
   "id": "twelve-closing",
   "metadata": {},
   "source": [
    "# **학업 일지**"
   ]
  },
  {
   "cell_type": "markdown",
   "id": "coordinate-convert",
   "metadata": {},
   "source": [
    "#### 오늘의 한마디  "
   ]
  },
  {
   "cell_type": "markdown",
   "id": "beautiful-springfield",
   "metadata": {},
   "source": [
    "> **Quantization과 Distilation을 이해하자.**"
   ]
  },
  {
   "cell_type": "code",
   "execution_count": 1,
   "id": "individual-second",
   "metadata": {},
   "outputs": [
    {
     "name": "stdout",
     "output_type": "stream",
     "text": [
      "0.30000000000000004 False\n",
      "0.4 False\n",
      "<class 'int'>\n",
      "0.9999999999999998 False\n",
      "<class 'float'>\n"
     ]
    }
   ],
   "source": [
    "print(0.1 + 0.2, 0.1 + 0.2 == 0.3) # 무슨 연산이 우선인가? 덧셈?, 0.300000000, 1\n",
    "print(0.1 + 0.3, 0.1 + 0.3 == 0.3) # 0.4, 0\n",
    "\n",
    "sum = 0\n",
    "print(type(sum))\n",
    "for i in range(7):\n",
    "    sum += 1.0/7.0\n",
    "print(sum, sum == 1.0)\n",
    "print(type(sum))"
   ]
  },
  {
   "cell_type": "markdown",
   "id": "gross-giving",
   "metadata": {},
   "source": [
    "## 1. Lecture Summary"
   ]
  },
  {
   "cell_type": "markdown",
   "id": "adopted-feedback",
   "metadata": {},
   "source": [
    "### 1.1 Quantization"
   ]
  },
  {
   "cell_type": "markdown",
   "id": "personalized-consumer",
   "metadata": {},
   "source": [
    "#### 1.1.1 Fixed point & Floating point\n",
    "- Fixed point\n",
    " - Pros : decimal fraction, Addition subtraction with no error, Price/cost is better\n",
    " - Cons : The dynamic range of values if much less, Multiplication is rathe more provlematic\n",
    "- Floating point"
   ]
  },
  {
   "cell_type": "markdown",
   "id": "minor-quick",
   "metadata": {},
   "source": [
    "#### 1.1.2 Continuous, Discrete value\n",
    "- too many cost to represent continuous value"
   ]
  },
  {
   "cell_type": "markdown",
   "id": "nonprofit-supervisor",
   "metadata": {},
   "source": [
    "#### 1.1.3 Precision & accuracy\n",
    "- Precision : Variance\n",
    "- Accuracy : Bias from goal"
   ]
  },
  {
   "cell_type": "markdown",
   "id": "freelance-answer",
   "metadata": {},
   "source": [
    "### 1.2 Quantization"
   ]
  },
  {
   "cell_type": "markdown",
   "id": "impossible-ireland",
   "metadata": {},
   "source": [
    "#### 1.2.1 표현력\n",
    "- 32bit, 16bit, 8bit, 4bit, 2bit, 1bit to speed up reference\n",
    "- Affine quantization\n",
    "- ReLU with quantization"
   ]
  },
  {
   "cell_type": "markdown",
   "id": "religious-suspect",
   "metadata": {},
   "source": [
    "### 1.3 Quantization의 종류"
   ]
  },
  {
   "cell_type": "markdown",
   "id": "simplified-sequence",
   "metadata": {},
   "source": [
    "#### 1.3.1 Dynamic quantization\n",
    "- Weights are quantized ahead of time but the activations are dynamically quantized during inference"
   ]
  },
  {
   "cell_type": "markdown",
   "id": "acknowledged-retirement",
   "metadata": {},
   "source": [
    "#### 1.3.2 Static quantization\n",
    "- Static qauntization is also known as post training quantization"
   ]
  },
  {
   "cell_type": "markdown",
   "id": "sudden-morrison",
   "metadata": {},
   "source": [
    "#### 1.3.3 Quantization aware training\n",
    "- During training, all calcultions are done in floating point, with fake_quant modules modeling the effects of quantization by clamping and rounding to simulate the effects of INT8"
   ]
  },
  {
   "cell_type": "markdown",
   "id": "middle-mississippi",
   "metadata": {},
   "source": [
    "## 2. Peer session summary"
   ]
  },
  {
   "cell_type": "markdown",
   "id": "adolescent-melbourne",
   "metadata": {},
   "source": [
    "#### 2.1 Study"
   ]
  },
  {
   "cell_type": "markdown",
   "id": "amber-boring",
   "metadata": {},
   "source": [
    "- Acceleration에 대한 강의 리뷰\n",
    "- Pruning에 대한 강의 리뷰"
   ]
  },
  {
   "cell_type": "markdown",
   "id": "neutral-messenger",
   "metadata": {},
   "source": [
    "#### 2.2 원하는 진로를 잡고 논문 공부"
   ]
  },
  {
   "cell_type": "markdown",
   "id": "closed-negative",
   "metadata": {},
   "source": [
    "## 3. 진행중인 공부 및 신규 공부 목록"
   ]
  },
  {
   "cell_type": "markdown",
   "id": "knowing-feature",
   "metadata": {},
   "source": [
    "- 진행중인 공부  \n",
    "\n",
    "    - AI 기본 수학 : Mathematics for Machine learning - Marc Peter Deisenroth 5과 공부\n",
    "    - 웹 크롤링 및 데이터 처리 연습 익숙해지기\n",
    "    - Pytorch로 시작하는 딥러닝, Pytorch tutorial 공부  \n",
    "    - pytorch 데이터셋 설정  "
   ]
  },
  {
   "cell_type": "markdown",
   "id": "extra-walnut",
   "metadata": {},
   "source": [
    "- New study list  "
   ]
  },
  {
   "cell_type": "markdown",
   "id": "military-technique",
   "metadata": {},
   "source": [
    "- 완료한 공부  "
   ]
  },
  {
   "cell_type": "markdown",
   "id": "organizational-small",
   "metadata": {},
   "source": [
    "## 4. 감사한 일"
   ]
  },
  {
   "cell_type": "markdown",
   "id": "simplified-english",
   "metadata": {},
   "source": [
    "- 팀원에게 필요하다고 생각한 부분을 공유해준 김상현 팀원에게 감사합니다."
   ]
  }
 ],
 "metadata": {
  "kernelspec": {
   "display_name": "Python 3",
   "language": "python",
   "name": "python3"
  },
  "language_info": {
   "codemirror_mode": {
    "name": "ipython",
    "version": 3
   },
   "file_extension": ".py",
   "mimetype": "text/x-python",
   "name": "python",
   "nbconvert_exporter": "python",
   "pygments_lexer": "ipython3",
   "version": "3.8.5"
  }
 },
 "nbformat": 4,
 "nbformat_minor": 5
}
