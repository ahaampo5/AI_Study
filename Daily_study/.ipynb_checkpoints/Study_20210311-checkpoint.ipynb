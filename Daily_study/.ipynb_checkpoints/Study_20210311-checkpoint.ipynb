{
 "cells": [
  {
   "cell_type": "markdown",
   "id": "twelve-closing",
   "metadata": {},
   "source": [
    "# **학업 일지**"
   ]
  },
  {
   "cell_type": "markdown",
   "id": "coordinate-convert",
   "metadata": {},
   "source": [
    "#### 오늘의 한마디  "
   ]
  },
  {
   "cell_type": "markdown",
   "id": "beautiful-springfield",
   "metadata": {},
   "source": [
    "> **Segmentation과 GAN 모델을 구현하는 것 연습해보자.**"
   ]
  },
  {
   "cell_type": "markdown",
   "id": "gross-giving",
   "metadata": {},
   "source": [
    "## 1. Recture Summary"
   ]
  },
  {
   "cell_type": "markdown",
   "id": "adopted-feedback",
   "metadata": {},
   "source": [
    "### 1.1 Advanced segmentation"
   ]
  },
  {
   "cell_type": "markdown",
   "id": "personalized-consumer",
   "metadata": {},
   "source": [
    "#### 1.1.1 Instance segmentation"
   ]
  },
  {
   "cell_type": "markdown",
   "id": "fuzzy-government",
   "metadata": {},
   "source": [
    "- Semantic segmentation + distinguishing instances\n",
    "- Mask R-CNN\n",
    " - Faster R-CNN + mask FCN predictor\n",
    " - 2 stage structure\n",
    "- YOLACT(You Only Look At CoefficienTs)\n",
    " - 1 stage structure\n",
    "- YolactEdge\n",
    " - key frame 을 다음 계산에 전달시켜 계산량 줄였다."
   ]
  },
  {
   "cell_type": "markdown",
   "id": "curious-belfast",
   "metadata": {},
   "source": [
    "#### 1.1.2 Panoptic segmentation\n",
    "- Stuff + Instances of Things\n",
    "- UPSNet\n",
    "- VPSNet\n",
    " - 시간차를 가지는 데이터를 활용"
   ]
  },
  {
   "cell_type": "markdown",
   "id": "private-guinea",
   "metadata": {},
   "source": [
    "#### 1.1.3 Landmark localization\n",
    "- Facial landmark localization\n",
    "- Human pose estimation\n",
    "- Coordinate regression\n",
    "- Heatmap classification - high time complexity\n",
    "- Hourglass network\n",
    " - UNet stacks\n",
    "- RetinaFace\n",
    " - FPN + Multi-task branches(classification, bounding box, 5 point regression, mesh regression)\n",
    "- Extension pattern \n",
    " - FPN + Target task branch"
   ]
  },
  {
   "cell_type": "markdown",
   "id": "union-block",
   "metadata": {},
   "source": [
    "#### 1.1.4 Detecting objects as keypoints\n",
    "- CornerNet\n",
    " - Bounding box \n",
    "- CenterNet\n",
    " - width, height, Center"
   ]
  },
  {
   "cell_type": "markdown",
   "id": "freelance-answer",
   "metadata": {},
   "source": [
    "### 1.2 Conditional Generative model"
   ]
  },
  {
   "cell_type": "markdown",
   "id": "impossible-ireland",
   "metadata": {},
   "source": [
    "#### 1.2.1 Conditional generative model\n",
    "- p(X|condition)\n",
    "- style gan\n",
    "- Super resolution GAN(SRGAN)"
   ]
  },
  {
   "cell_type": "markdown",
   "id": "shaped-immune",
   "metadata": {},
   "source": [
    "#### 1.2.2 Image translation GANs\n",
    "- Pix2Pix - paired data\n",
    "- CycleGAN - unpaired data\n",
    "- GAN Loss - high quality\n",
    "- Perceptual loss - high quality(forward & backward)\n",
    " - pre-trained network(VGG)\n",
    " - Image Transform Net - convert to only one style\n",
    "- Feature reconstruction loss\n",
    "- Style reconstruction loss\n"
   ]
  },
  {
   "cell_type": "markdown",
   "id": "plain-heaven",
   "metadata": {},
   "source": [
    "#### 1.2.3 Various GAN applications\n",
    "- Deepfake\n",
    "- Face de-identification\n",
    "- Face anonymization with passcode\n",
    "- Video translation(manipulation)"
   ]
  },
  {
   "cell_type": "markdown",
   "id": "middle-mississippi",
   "metadata": {},
   "source": [
    "## 2. Peer session summary"
   ]
  },
  {
   "cell_type": "markdown",
   "id": "adolescent-melbourne",
   "metadata": {},
   "source": [
    "#### 2.1 Study"
   ]
  },
  {
   "cell_type": "markdown",
   "id": "amber-boring",
   "metadata": {},
   "source": [
    "- Object detection에 대한 발표(발표: 이주남)\n",
    "- CNN visualization에 대한 발표(발표: 안동주)"
   ]
  },
  {
   "cell_type": "markdown",
   "id": "neutral-messenger",
   "metadata": {},
   "source": [
    "#### 2.2 원하는 진로를 잡고 논문 공부"
   ]
  },
  {
   "cell_type": "markdown",
   "id": "secret-queensland",
   "metadata": {},
   "source": [
    "- 새로운 논문 선택 gpt-1 읽기"
   ]
  },
  {
   "cell_type": "markdown",
   "id": "closed-negative",
   "metadata": {},
   "source": [
    "## 3. 진행중인 공부 및 신규 공부 목록"
   ]
  },
  {
   "cell_type": "markdown",
   "id": "knowing-feature",
   "metadata": {},
   "source": [
    "- 진행중인 공부  \n",
    "\n",
    "    - AI 기본 수학 : Mathematics for Machine learning - Marc Peter Deisenroth 5과 공부\n",
    "    - 웹 크롤링 및 데이터 처리 연습 익숙해지기\n",
    "    - Pytorch로 시작하는 딥러닝, Pytorch tutorial 공부  \n",
    "    - pytorch 데이터셋 설정  "
   ]
  },
  {
   "cell_type": "markdown",
   "id": "extra-walnut",
   "metadata": {},
   "source": [
    "- New study list  \n",
    " - Sequential data pre processing"
   ]
  },
  {
   "cell_type": "markdown",
   "id": "military-technique",
   "metadata": {},
   "source": [
    "- 완료한 공부  "
   ]
  },
  {
   "cell_type": "markdown",
   "id": "organizational-small",
   "metadata": {},
   "source": [
    "## 4. 감사한 일"
   ]
  },
  {
   "cell_type": "markdown",
   "id": "simplified-english",
   "metadata": {},
   "source": [
    "- 팀원에게 필요하다고 생각한 부분을 공유해준 김상현 팀원에게 감사합니다."
   ]
  }
 ],
 "metadata": {
  "kernelspec": {
   "display_name": "Python 3",
   "language": "python",
   "name": "python3"
  },
  "language_info": {
   "codemirror_mode": {
    "name": "ipython",
    "version": 3
   },
   "file_extension": ".py",
   "mimetype": "text/x-python",
   "name": "python",
   "nbconvert_exporter": "python",
   "pygments_lexer": "ipython3",
   "version": "3.8.5"
  }
 },
 "nbformat": 4,
 "nbformat_minor": 5
}
