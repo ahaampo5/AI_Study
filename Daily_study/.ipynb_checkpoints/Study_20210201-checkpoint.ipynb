{
 "cells": [
  {
   "cell_type": "markdown",
   "id": "medium-relationship",
   "metadata": {},
   "source": [
    "# **학업 일지**"
   ]
  },
  {
   "cell_type": "markdown",
   "id": "personal-mining",
   "metadata": {},
   "source": [
    "#### 오늘의 한마디  "
   ]
  },
  {
   "cell_type": "markdown",
   "id": "interim-taylor",
   "metadata": {},
   "source": [
    "> **Pytorch library 깊게 공부하자.**"
   ]
  },
  {
   "cell_type": "markdown",
   "id": "domestic-nowhere",
   "metadata": {},
   "source": [
    "## 1. 강의 정리"
   ]
  },
  {
   "cell_type": "markdown",
   "id": "minute-scientist",
   "metadata": {},
   "source": [
    "### 1.1 MNIST "
   ]
  },
  {
   "cell_type": "markdown",
   "id": "hearing-conviction",
   "metadata": {},
   "source": [
    "#### 1.1.1 Code Review"
   ]
  },
  {
   "cell_type": "code",
   "execution_count": 1,
   "id": "thousand-interface",
   "metadata": {},
   "outputs": [
    {
     "name": "stdout",
     "output_type": "stream",
     "text": [
      "PyTorch version:[1.7.1].\n",
      "device:[cuda:0].\n"
     ]
    }
   ],
   "source": [
    "import numpy as np \n",
    "import matplotlib.pyplot as plt\n",
    "import torch\n",
    "import torch.nn as nn\n",
    "import torch.optim as optim\n",
    "import torch.nn.functional as F\n",
    "%matplotlib inline\n",
    "%config InlineBackend.figure_format='retina' # 선명하게 표현\n",
    "print (\"PyTorch version:[%s].\"%(torch.__version__))\n",
    "device = torch.device('cuda:0' if torch.cuda.is_available() else 'cpu')\n",
    "print (\"device:[%s].\"%(device))"
   ]
  },
  {
   "cell_type": "code",
   "execution_count": 11,
   "id": "japanese-account",
   "metadata": {},
   "outputs": [
    {
     "name": "stdout",
     "output_type": "stream",
     "text": [
      "True\n",
      "<function current_device at 0x000002460550F0D0>\n",
      "<function device_count at 0x00000246054FFEE0>\n",
      "GeForce GTX 1070\n",
      "<torch.cuda.device object at 0x000002460770A4C0>\n"
     ]
    }
   ],
   "source": [
    "import torch\n",
    "\n",
    "print(torch.cuda.is_available())\n",
    "print(torch.cuda.current_device)\n",
    "print(torch.cuda.device_count)\n",
    "print(torch.cuda.get_device_name(0))\n",
    "print(torch.cuda.device(0))\n"
   ]
  },
  {
   "cell_type": "code",
   "execution_count": 2,
   "id": "armed-freight",
   "metadata": {
    "scrolled": false
   },
   "outputs": [
    {
     "name": "stdout",
     "output_type": "stream",
     "text": [
      "mnist_train:\n",
      " Dataset MNIST\n",
      "    Number of datapoints: 60000\n",
      "    Root location: ./data/\n",
      "    Split: Train\n",
      "    StandardTransform\n",
      "Transform: ToTensor() \n",
      "\n",
      "mnist_test:\n",
      " Dataset MNIST\n",
      "    Number of datapoints: 10000\n",
      "    Root location: ./data/\n",
      "    Split: Test\n",
      "    StandardTransform\n",
      "Transform: ToTensor() \n",
      "\n",
      "Done.\n"
     ]
    }
   ],
   "source": [
    "from torchvision import datasets,transforms\n",
    "mnist_train = datasets.MNIST(root='./data/',train=True,transform=transforms.ToTensor(),download=False)\n",
    "mnist_test = datasets.MNIST(root='./data/',train=False,transform=transforms.ToTensor(),download=False)\n",
    "print (\"mnist_train:\\n\",mnist_train,\"\\n\")\n",
    "print (\"mnist_test:\\n\",mnist_test,\"\\n\")\n",
    "print (\"Done.\")"
   ]
  },
  {
   "cell_type": "code",
   "execution_count": 3,
   "id": "explicit-handling",
   "metadata": {},
   "outputs": [
    {
     "name": "stdout",
     "output_type": "stream",
     "text": [
      "Done.\n"
     ]
    }
   ],
   "source": [
    "BATCH_SIZE = 256\n",
    "train_iter = torch.utils.data.DataLoader(mnist_train,batch_size=BATCH_SIZE,shuffle=True,num_workers=1)\n",
    "test_iter = torch.utils.data.DataLoader(mnist_test,batch_size=BATCH_SIZE,shuffle=True,num_workers=1)\n",
    "print (\"Done.\")"
   ]
  },
  {
   "cell_type": "code",
   "execution_count": 4,
   "id": "transsexual-jesus",
   "metadata": {
    "scrolled": true
   },
   "outputs": [
    {
     "name": "stdout",
     "output_type": "stream",
     "text": [
      "Done.\n"
     ]
    }
   ],
   "source": [
    "class MultiLayerPerceptronClass(nn.Module):\n",
    "    \"\"\"\n",
    "        Multilayer Perceptron (MLP) Class\n",
    "    \"\"\"\n",
    "    def __init__(self,name='mlp',xdim=784,hdim=256,ydim=10):\n",
    "        super(MultiLayerPerceptronClass,self).__init__()\n",
    "        self.name = name\n",
    "        self.xdim = xdim\n",
    "        self.hdim = hdim\n",
    "        self.ydim = ydim\n",
    "        self.lin_1 = nn.Linear(xdim,hdim\n",
    "            # FILL IN HERE\n",
    "        )\n",
    "        self.lin_2 = nn.Linear(hdim,ydim\n",
    "            # FILL IN HERE\n",
    "        )\n",
    "        self.init_param() # initialize parameters\n",
    "        \n",
    "    def init_param(self):\n",
    "        nn.init.kaiming_normal_(self.lin_1.weight)\n",
    "        nn.init.zeros_(self.lin_1.bias)\n",
    "        nn.init.kaiming_normal_(self.lin_2.weight)\n",
    "        nn.init.zeros_(self.lin_2.bias)\n",
    "\n",
    "    def forward(self,x):\n",
    "        net = x\n",
    "        net = self.lin_1(net)\n",
    "        net = F.relu(net)\n",
    "        net = self.lin_2(net)\n",
    "        return net\n",
    "\n",
    "M = MultiLayerPerceptronClass(name='mlp',xdim=784,hdim=256,ydim=10).to(device)\n",
    "loss = nn.CrossEntropyLoss()\n",
    "optm = optim.Adam(M.parameters(),lr=1e-3)\n",
    "print (\"Done.\")"
   ]
  },
  {
   "cell_type": "code",
   "execution_count": 5,
   "id": "sharing-metropolitan",
   "metadata": {},
   "outputs": [
    {
     "name": "stdout",
     "output_type": "stream",
     "text": [
      "x_numpy:\n",
      " [[0.06885249 0.76834753 0.02542113 ... 0.28968629 0.80118636 0.16127526]\n",
      " [0.5961112  0.53129988 0.74296876 ... 0.47998629 0.2815322  0.8119845 ]]\n",
      "x_torch:\n",
      " tensor([[0.0689, 0.7683, 0.0254,  ..., 0.2897, 0.8012, 0.1613],\n",
      "        [0.5961, 0.5313, 0.7430,  ..., 0.4800, 0.2815, 0.8120]],\n",
      "       device='cuda:0')\n",
      "y_torch:\n",
      " tensor([[ 0.2762,  0.6030,  0.1850, -1.6582,  0.9543, -0.9015,  0.6705, -0.4582,\n",
      "         -2.3520,  1.3625],\n",
      "        [ 0.7030,  0.0769, -0.0377, -1.1271,  0.1010, -0.7699,  0.1703,  0.6732,\n",
      "         -3.0372,  1.5513]], device='cuda:0', grad_fn=<AddmmBackward>)\n",
      "y_numpy:\n",
      " [[ 0.27615935  0.6030214   0.18495685 -1.6581799   0.9543336  -0.9015199\n",
      "   0.6705401  -0.45818216 -2.3519554   1.3625469 ]\n",
      " [ 0.70297927  0.07694892 -0.03773686 -1.1271472   0.10098653 -0.769937\n",
      "   0.1703066   0.6732069  -3.0372221   1.5512589 ]]\n"
     ]
    }
   ],
   "source": [
    "x_numpy = np.random.rand(2,784)\n",
    "x_torch = torch.from_numpy(x_numpy).float().to(device)\n",
    "y_torch = M.forward(x_torch).to(device) # forward path\n",
    "y_numpy = y_torch.detach().cpu().numpy() # torch tensor to numpy array\n",
    "print (\"x_numpy:\\n\",x_numpy)\n",
    "print (\"x_torch:\\n\",x_torch)\n",
    "print (\"y_torch:\\n\",y_torch)\n",
    "print (\"y_numpy:\\n\",y_numpy)"
   ]
  },
  {
   "cell_type": "code",
   "execution_count": 6,
   "id": "complete-edinburgh",
   "metadata": {
    "scrolled": false
   },
   "outputs": [
    {
     "name": "stdout",
     "output_type": "stream",
     "text": [
      "[0] name:[lin_1.weight] shape:[(256, 784)].\n",
      "    val:[ 0.026 -0.043  0.036  0.126 -0.107]\n",
      "[1] name:[lin_1.bias] shape:[(256,)].\n",
      "    val:[0. 0. 0. 0. 0.]\n",
      "[2] name:[lin_2.weight] shape:[(10, 256)].\n",
      "    val:[-0.003  0.005 -0.076  0.062 -0.193]\n",
      "[3] name:[lin_2.bias] shape:[(10,)].\n",
      "    val:[0. 0. 0. 0. 0.]\n",
      "Total number of parameters:[203,530].\n"
     ]
    }
   ],
   "source": [
    "np.set_printoptions(precision=3)\n",
    "n_param = 0\n",
    "for p_idx,(param_name,param) in enumerate(M.named_parameters()):\n",
    "    param_numpy = param.detach().cpu().numpy()\n",
    "    n_param += len(param_numpy.reshape(-1))\n",
    "    print (\"[%d] name:[%s] shape:[%s].\"%(p_idx,param_name,param_numpy.shape))\n",
    "    print (\"    val:%s\"%(param_numpy.reshape(-1)[:5]))\n",
    "print (\"Total number of parameters:[%s].\"%(format(n_param,',d')))"
   ]
  },
  {
   "cell_type": "code",
   "execution_count": 7,
   "id": "quiet-preparation",
   "metadata": {},
   "outputs": [
    {
     "name": "stdout",
     "output_type": "stream",
     "text": [
      "Done\n"
     ]
    },
    {
     "data": {
      "text/plain": [
       "0.0589"
      ]
     },
     "execution_count": 7,
     "metadata": {},
     "output_type": "execute_result"
    }
   ],
   "source": [
    "def func_eval(model,data_iter,device):\n",
    "    with torch.no_grad():\n",
    "        model.eval() # evaluate (affects DropOut and BN)\n",
    "        n_total,n_correct = 0,0\n",
    "        for batch_in,batch_out in data_iter:\n",
    "            y_trgt = batch_out.to(device)\n",
    "            model_pred = model.forward(batch_in.view(-1, 28*28).to(device)\n",
    "                # FILL IN HERE\n",
    "            )\n",
    "            _,y_pred = torch.max(model_pred.data,1)\n",
    "            n_correct += (y_pred == y_trgt\n",
    "                # FILL IN HERE\n",
    "            ).sum().item()\n",
    "            n_total += batch_in.size(0)\n",
    "        val_accr = (n_correct/n_total)\n",
    "        model.train() # back to train mode \n",
    "    return val_accr\n",
    "print (\"Done\")\n",
    "func_eval(M,train_iter,device)"
   ]
  },
  {
   "cell_type": "code",
   "execution_count": 8,
   "id": "ultimate-korea",
   "metadata": {},
   "outputs": [
    {
     "name": "stdout",
     "output_type": "stream",
     "text": [
      "train_accr:[0.035] test_accr:[0.036].\n"
     ]
    }
   ],
   "source": [
    "M.init_param() # initialize parameters\n",
    "train_accr = func_eval(M,train_iter,device)\n",
    "test_accr = func_eval(M,test_iter,device)\n",
    "print (\"train_accr:[%.3f] test_accr:[%.3f].\"%(train_accr,test_accr))"
   ]
  },
  {
   "cell_type": "code",
   "execution_count": 9,
   "id": "miniature-profession",
   "metadata": {},
   "outputs": [
    {
     "name": "stdout",
     "output_type": "stream",
     "text": [
      "Start training.\n",
      "epoch:[0] loss:[0.373] train_accr:[0.946] test_accr:[0.944].\n",
      "epoch:[1] loss:[0.167] train_accr:[0.963] test_accr:[0.958].\n",
      "epoch:[2] loss:[0.120] train_accr:[0.972] test_accr:[0.966].\n",
      "epoch:[3] loss:[0.091] train_accr:[0.979] test_accr:[0.971].\n",
      "epoch:[4] loss:[0.074] train_accr:[0.985] test_accr:[0.975].\n",
      "epoch:[5] loss:[0.059] train_accr:[0.988] test_accr:[0.977].\n",
      "epoch:[6] loss:[0.049] train_accr:[0.989] test_accr:[0.977].\n",
      "epoch:[7] loss:[0.041] train_accr:[0.990] test_accr:[0.977].\n",
      "epoch:[8] loss:[0.035] train_accr:[0.994] test_accr:[0.979].\n",
      "epoch:[9] loss:[0.028] train_accr:[0.996] test_accr:[0.979].\n",
      "Done\n"
     ]
    }
   ],
   "source": [
    "print (\"Start training.\")\n",
    "M.init_param() # initialize parameters\n",
    "M.train()\n",
    "EPOCHS,print_every = 10,1\n",
    "for epoch in range(EPOCHS):\n",
    "    loss_val_sum = 0\n",
    "    for batch_in,batch_out in train_iter:\n",
    "        # Forward path\n",
    "        y_pred = M.forward(batch_in.view(-1, 28*28).to(device))\n",
    "        loss_out = loss(y_pred,batch_out.to(device))\n",
    "        # Update\n",
    "        # FILL IN HERE\n",
    "        optm.zero_grad()      # reset gradient \n",
    "        # FILL IN HERE\n",
    "        loss_out.backward()     # backpropagate\n",
    "        # FILL IN HERE\n",
    "        optm.step()   # optimizer update\n",
    "        loss_val_sum += loss_out\n",
    "    loss_val_avg = loss_val_sum/len(train_iter)\n",
    "    # Print\n",
    "    if ((epoch%print_every)==0) or (epoch==(EPOCHS-1)):\n",
    "        train_accr = func_eval(M,train_iter,device)\n",
    "        test_accr = func_eval(M,test_iter,device)\n",
    "        print (\"epoch:[%d] loss:[%.3f] train_accr:[%.3f] test_accr:[%.3f].\"%\n",
    "               (epoch,loss_val_avg,train_accr,test_accr))\n",
    "print (\"Done\")        "
   ]
  },
  {
   "cell_type": "code",
   "execution_count": 10,
   "id": "vertical-zoning",
   "metadata": {},
   "outputs": [
    {
     "data": {
      "image/png": "[encoded data removed]",
      "text/plain": [
       "<Figure size 720x720 with 25 Axes>"
      ]
     },
     "metadata": {
      "image/png": {
       "height": 573,
       "width": 569
      },
      "needs_background": "light"
     },
     "output_type": "display_data"
    },
    {
     "name": "stdout",
     "output_type": "stream",
     "text": [
      "Done\n"
     ]
    }
   ],
   "source": [
    "n_sample = 25\n",
    "sample_indices = np.random.choice(len(mnist_test.targets), n_sample, replace=False)\n",
    "test_x = mnist_test.data[sample_indices]\n",
    "test_y = mnist_test.targets[sample_indices]\n",
    "with torch.no_grad():\n",
    "    y_pred = M.forward(test_x.view(-1, 28*28).type(torch.float).to(device)/255.)\n",
    "y_pred = y_pred.argmax(axis=1)\n",
    "plt.figure(figsize=(10,10))\n",
    "for idx in range(n_sample):\n",
    "    plt.subplot(5, 5, idx+1)\n",
    "    plt.imshow(test_x[idx], cmap='gray')\n",
    "    plt.axis('off')\n",
    "    plt.title(\"Pred:%d, Label:%d\"%(y_pred[idx],test_y[idx]))\n",
    "plt.show()    \n",
    "print (\"Done\")"
   ]
  },
  {
   "cell_type": "markdown",
   "id": "electronic-panama",
   "metadata": {},
   "source": [
    "## 2. 피어 세션 정리"
   ]
  },
  {
   "cell_type": "markdown",
   "id": "noble-rating",
   "metadata": {},
   "source": [
    "#### 2.1 스터디"
   ]
  },
  {
   "cell_type": "markdown",
   "id": "hungry-isaac",
   "metadata": {},
   "source": [
    "- 2.1.1 Matplotlib과 seaborn을 바탕으로 visualization에 대한 발표를 하였다.(발표: 김준철)\n",
    "\n",
    "- 2.1.2 통계학의 가능도를 기본부터 시작하여 딥러닝을 어떻게 해석할 수 있는지에 대한 발표를 하였다.(발표: 이주남)\n"
   ]
  },
  {
   "cell_type": "markdown",
   "id": "miniature-spectrum",
   "metadata": {},
   "source": [
    "#### 2.2 원하는 진로를 잡고 논문 공부"
   ]
  },
  {
   "cell_type": "markdown",
   "id": "employed-speaker",
   "metadata": {},
   "source": [
    "- Deep Learning : Yann LeCnn, Yoshua Bengio & Geoffrey Hinton\n",
    "딥러닝에 대한 전반적인 이해를 돕고 AI 논문에 대한 언어 장벽을 없애기 위해 필요하며 발표 예정"
   ]
  },
  {
   "cell_type": "markdown",
   "id": "utility-filter",
   "metadata": {},
   "source": [
    "## 3. 진행중인 공부 및 신규 공부 목록"
   ]
  },
  {
   "cell_type": "markdown",
   "id": "active-builder",
   "metadata": {},
   "source": [
    "- 진행중인 공부  \n",
    "\n",
    "    - Deep learning 논문 읽고 정리하기\n",
    "    - AI 기본 수학 : Mathematics for Machine learning - Marc Peter Deisenroth\n",
    "    - 웹 크롤링 및 데이터 처리 연습 익숙해지기\n",
    "    - Numpy를 이용하여 프로젝트 하나 진행해보기 (wav파일로 악보를 추출하는 것을 계획중)\n",
    "    - Numpy, Pandas 연산 반복 학습 하기"
   ]
  },
  {
   "cell_type": "markdown",
   "id": "excited-establishment",
   "metadata": {},
   "source": [
    "- 신규 공부 목록  \n",
    " - Pytorch로 시작하는 딥러닝, Pytorch tutorial 공부"
   ]
  },
  {
   "cell_type": "markdown",
   "id": "prime-alert",
   "metadata": {},
   "source": [
    "- 완료한 공부  "
   ]
  },
  {
   "cell_type": "markdown",
   "id": "czech-filename",
   "metadata": {},
   "source": [
    "## 4. 감사한 일"
   ]
  },
  {
   "cell_type": "markdown",
   "id": "metropolitan-observer",
   "metadata": {},
   "source": [
    "- 주말동안 가장 어려운 부분을 도맡아 팀원들에게 이해하기 쉽게 통계를 설명해주었으며 열정적인 모습을 보여주어 다들 힘나게 해준 이주남님에게 감사합니다.\n",
    "- 코딩이나 구현에 약한 모습이 있어 의기소침한 저에게 격려를 해준 팀원들에게 감사합니다."
   ]
  }
 ],
 "metadata": {
  "kernelspec": {
   "display_name": "Python 3",
   "language": "python",
   "name": "python3"
  },
  "language_info": {
   "codemirror_mode": {
    "name": "ipython",
    "version": 3
   },
   "file_extension": ".py",
   "mimetype": "text/x-python",
   "name": "python",
   "nbconvert_exporter": "python",
   "pygments_lexer": "ipython3",
   "version": "3.8.5"
  }
 },
 "nbformat": 4,
 "nbformat_minor": 5
}
