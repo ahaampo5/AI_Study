{
 "cells": [
  {
   "cell_type": "markdown",
   "id": "twelve-closing",
   "metadata": {},
   "source": [
    "# **학업 일지**"
   ]
  },
  {
   "cell_type": "markdown",
   "id": "coordinate-convert",
   "metadata": {},
   "source": [
    "#### 오늘의 한마디  "
   ]
  },
  {
   "cell_type": "markdown",
   "id": "beautiful-springfield",
   "metadata": {},
   "source": [
    "> **실제 업무를 상정하고 공부하고 연습하자.**"
   ]
  },
  {
   "cell_type": "markdown",
   "id": "gross-giving",
   "metadata": {},
   "source": [
    "## 1. 강의 정리"
   ]
  },
  {
   "cell_type": "markdown",
   "id": "adopted-feedback",
   "metadata": {},
   "source": [
    "### 1.1 서비스 향 AI 모델 개발하기"
   ]
  },
  {
   "cell_type": "markdown",
   "id": "personalized-consumer",
   "metadata": {},
   "source": [
    "#### 1.1.1 실제 AI 개발"
   ]
  },
  {
   "cell_type": "markdown",
   "id": "coupled-underground",
   "metadata": {},
   "source": [
    "- 서비스 요구사항만 존재한다.\n",
    " - 학습 데이터셋과 테스트 데이터셋/테스트 하는 방법조차 없는 경우가 많다.\n",
    "- 학습 데이터 셋 준비\n",
    " - 종류, 수량, 정답 : 어떤 종류의 데이터를 처리할 것인지 파악 / 어떤 관점에서 종류, 수량을 정하느냐\n",
    " - 어떤 기술을 사용하여 표현 할 것인가\n",
    "  - 수학적, 컴퓨터적 사고\n",
    " - 어떤 단계의 모델이 필요한 것인가 : 모델을 단계별로 사용하기도 한다.\n",
    " - 학습 데이터 셋을 통해 모델을 만들어가야 하며 모델링에 맞는 학습 데이터인지 반복적으로 확인하며 진행하며 수렴해 간다.\n",
    " - 데이터 셋 담당자의 경우\n",
    "  - 서비스 기획자와 기술 모델의 요구사항 확인, 데이터 수량/종류 논의\n",
    "  - AI 모델 개발자와 학습 데이터에 대한 논의를 한다., 데이터 수량/종류 논의\n",
    "  - 외주업체와 대화를 통해 작업 툴을 개발한다. : 작업 가이드 작성, 작업 단가, 작업 수량, QnA\n",
    "- 테스트 데이터 셋을 설정하는 것도 다양한 관점이 있다.\n",
    " - 종류, 수량, 테스트 방법\n",
    "- 모델의 요구사항\n",
    " - 처리 시간\n",
    "  - Offline test(모델 학습단의 요구) : 이미지 입력 후 수식 영역 정보가 출력될 때까지의 시간\n",
    "  - Online test(실제 서비스단의 요구) : 이미지 촬영 후 이미지에서 수식 영역 정보가 화면 상에 표현되기까지의 시간\n",
    " - 목표 정확도\n",
    "  - 목표 qps : 초당 처리 가능한 요청 수\n",
    "   - 장비 늘리기 - RAM과 관련있다.\n",
    "   - 처리 시간 줄이기\n",
    "   - 모델 크기 줄이기\n",
    " - Serving 방식\n",
    "  - 하드웨어 디바이스의 종류 고려\n",
    "  - 장비 선택도 정해줘야 할 수 있다."
   ]
  },
  {
   "cell_type": "markdown",
   "id": "simple-beast",
   "metadata": {},
   "source": [
    "#### 1.1.2 부서"
   ]
  },
  {
   "cell_type": "markdown",
   "id": "handed-philosophy",
   "metadata": {},
   "source": [
    "- AI 모델팀(Modeler)\n",
    " - 모델링 과정 중 성능 분석/디버깅, 모델 구조 제안\n",
    "- 데이터 담당(Data Curator)\n",
    " - 학습 데이터 준비, 정량 평가 수립, 정성 평가 분석\n",
    "- Tool 개발(IDE Developer)\n",
    " - 라벨링 툴 개발, 모델 분석 툴 개발, 모델 개발 자동화, 파이프 라인 개발\n",
    "- Serving team(Model engineer)\n",
    " - Model을 받아서 경량화(모델 메모리 줄이기(distilation, quatization), (TFlite, TensorRT), CUDA programming, C,C++변환)\n",
    " - App developer, BE developer"
   ]
  },
  {
   "cell_type": "markdown",
   "id": "interested-national",
   "metadata": {},
   "source": [
    "#### 1.1.2 조언"
   ]
  },
  {
   "cell_type": "markdown",
   "id": "major-person",
   "metadata": {},
   "source": [
    "- 개발자에서 AI 관련 부서로 전환\n",
    " - 차근차근 넘어가는 것을 목표로 해라.\n",
    "- 모델링, 툴 개발, 서빙은 전체적으로 개발의 영역\n",
    "![image.png](./img/ChangetoAI.png)\n",
    "- 모델러\n",
    " - AutoML, 관련 툴의 발전으로 전문성이 계속해서 떨어질 것이다.\n",
    "  - 전문성을 확장\n",
    "  - AI기술 분야 확장 : CV, NLP, Graph, 경량화\n",
    "  - Front End 개발 능력 : annotation tool, debugging tool\n",
    "  - Back End 개발 능력 : api serving, massive gpu training"
   ]
  },
  {
   "cell_type": "markdown",
   "id": "freelance-answer",
   "metadata": {},
   "source": [
    "### 1.2 AI 시대의 커리어"
   ]
  },
  {
   "cell_type": "markdown",
   "id": "wired-victory",
   "metadata": {},
   "source": [
    "#### 1.2.2 그래프 표현 학습과 정점 풀링"
   ]
  },
  {
   "cell_type": "markdown",
   "id": "nervous-gravity",
   "metadata": {},
   "source": [
    "#### 1.2.3 부서 별 하는 역할\n",
    "- Data engineer, AIOps, AI engineer, AI researcher, AI Manager"
   ]
  },
  {
   "cell_type": "markdown",
   "id": "consecutive-baptist",
   "metadata": {},
   "source": [
    "####  1.3.2 모델러"
   ]
  },
  {
   "cell_type": "markdown",
   "id": "middle-mississippi",
   "metadata": {},
   "source": [
    "## 2. 피어 세션 정리"
   ]
  },
  {
   "cell_type": "markdown",
   "id": "adolescent-melbourne",
   "metadata": {},
   "source": [
    "#### 2.1 스터디"
   ]
  },
  {
   "cell_type": "markdown",
   "id": "amber-boring",
   "metadata": {},
   "source": [
    "- 2.1.1 GNN, GCN, GraphSAGE의 모델링 과정의 개념을 잡고 코드로 확인 하였다.(발표: 김준철)\n",
    "\n",
    "- 2.1.2 GAN의 Attention구조를 활용하여 구현한 개념을 발표하였다.(발표: 이주남)\n"
   ]
  },
  {
   "cell_type": "markdown",
   "id": "neutral-messenger",
   "metadata": {},
   "source": [
    "#### 2.2 원하는 진로를 잡고 논문 공부"
   ]
  },
  {
   "cell_type": "markdown",
   "id": "secret-queensland",
   "metadata": {},
   "source": [
    "- 새로운 논문 선택 gpt-1 읽기"
   ]
  },
  {
   "cell_type": "markdown",
   "id": "closed-negative",
   "metadata": {},
   "source": [
    "## 3. 진행중인 공부 및 신규 공부 목록"
   ]
  },
  {
   "cell_type": "markdown",
   "id": "knowing-feature",
   "metadata": {},
   "source": [
    "- 진행중인 공부  \n",
    "\n",
    "    - AI 기본 수학 : Mathematics for Machine learning - Marc Peter Deisenroth 4과 공부\n",
    "    - 웹 크롤링 및 데이터 처리 연습 익숙해지기\n",
    "    - Pytorch로 시작하는 딥러닝, Pytorch tutorial 공부  \n",
    "    - pytorch 데이터셋 설정"
   ]
  },
  {
   "cell_type": "markdown",
   "id": "extra-walnut",
   "metadata": {},
   "source": [
    "- 신규 공부 목록  \n"
   ]
  },
  {
   "cell_type": "markdown",
   "id": "military-technique",
   "metadata": {},
   "source": [
    "- 완료한 공부  "
   ]
  },
  {
   "cell_type": "markdown",
   "id": "organizational-small",
   "metadata": {},
   "source": [
    "## 4. 감사한 일"
   ]
  },
  {
   "cell_type": "markdown",
   "id": "simplified-english",
   "metadata": {},
   "source": [
    "- 머신러닝에 대한 기초가 부족한 점을 생각해서 책을 주천해준 안동주님에게 감사합니다."
   ]
  }
 ],
 "metadata": {
  "kernelspec": {
   "display_name": "Python 3",
   "language": "python",
   "name": "python3"
  },
  "language_info": {
   "codemirror_mode": {
    "name": "ipython",
    "version": 3
   },
   "file_extension": ".py",
   "mimetype": "text/x-python",
   "name": "python",
   "nbconvert_exporter": "python",
   "pygments_lexer": "ipython3",
   "version": "3.8.5"
  }
 },
 "nbformat": 4,
 "nbformat_minor": 5
}
