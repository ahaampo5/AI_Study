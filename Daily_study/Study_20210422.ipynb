{
 "cells": [
  {
   "cell_type": "markdown",
   "id": "twelve-closing",
   "metadata": {},
   "source": [
    "# **학업 일지**"
   ]
  },
  {
   "cell_type": "markdown",
   "id": "coordinate-convert",
   "metadata": {},
   "source": [
    "#### 오늘의 한마디  "
   ]
  },
  {
   "cell_type": "markdown",
   "id": "beautiful-springfield",
   "metadata": {},
   "source": [
    "> **전처리에 가장 중요한 피쳐를 선별해야한다.**"
   ]
  },
  {
   "cell_type": "markdown",
   "id": "gross-giving",
   "metadata": {},
   "source": [
    "## 1. Competition Summary"
   ]
  },
  {
   "cell_type": "markdown",
   "id": "adopted-feedback",
   "metadata": {},
   "source": [
    "### 1.1 Segmentation"
   ]
  },
  {
   "cell_type": "markdown",
   "id": "minor-quick",
   "metadata": {},
   "source": [
    "#### 1.1.1 데이터 전처리\n",
    "- 중복되는 데이터를 줄이는 방법\n",
    " - Run-Length Encoding - https://stackabuse.com/run-length-encoding/"
   ]
  },
  {
   "cell_type": "markdown",
   "id": "through-alexander",
   "metadata": {},
   "source": [
    "#### 1.1.2 \n",
    "- "
   ]
  },
  {
   "cell_type": "markdown",
   "id": "fossil-polish",
   "metadata": {},
   "source": [
    "#### 1.2 Gradient Boosting Models"
   ]
  },
  {
   "cell_type": "code",
   "execution_count": 5,
   "id": "operating-optimum",
   "metadata": {},
   "outputs": [],
   "source": [
    "from sklearn.datasets import load_boston"
   ]
  },
  {
   "cell_type": "markdown",
   "id": "pediatric-skirt",
   "metadata": {},
   "source": [
    "#### 1.1.2 모델\n",
    "- ML이 아닌 feature extractor를 직접 만들어 모델을 만들 수 있다.\n",
    "- ML\n",
    " - LightGBM"
   ]
  },
  {
   "cell_type": "markdown",
   "id": "eleven-combination",
   "metadata": {},
   "source": [
    "#### 1.1.3 EDA\n",
    "- Aggregation? , Time Series?, 결측치 확인, 데이터 분포 확인\n",
    "- 가설 세우기 \n",
    " - product_id : product-id 와 quantity와 관계성? product_id마다 구매가격?? product_id의 P,W 의 의미가 있을까? product_id의 id에 어떤 의미가 있을까?\n",
    " - quantity : 제품과 관련성이 있지 않을까?\n",
    " - order-date : 블랙프라이데이가 11월에 있기 때문에 11월에 몰아 사는 성향을 알 수 있다.\n",
    " - costomer_id가 구매의 기준이 될 수 있겠다. 이렇게 된다면 outlier 제거하고 학습시켜야겠네\n",
    " - country는 어떤 관계가 있을까?\n",
    " - total은 제품 개수와 가격의 곱 형태인데 그러면 제외해도 되는 값일까?\n",
    "  - 안될것 같아 Learning의 가장 큰 단점이 수학적 사고를 넣을 수 없다.(곱하기)\n",
    " - 한번에 얼마나 계산했는지가 총 total과 연관성이 있을까?\n",
    " - 사람마다 패턴을 측정하는 방향으로 하는 것도 의미가 있겠다.\n",
    " \n"
   ]
  },
  {
   "cell_type": "markdown",
   "id": "threatened-resistance",
   "metadata": {},
   "source": [
    "#### 1.1.4 가설 검증 사이클\n",
    "- EDA를 통한 데이터 분석으로 가설을 세우고 생각을 코드화 하여 하나씩 증명해 나가는 과정을 루틴화 한다."
   ]
  },
  {
   "cell_type": "markdown",
   "id": "british-march",
   "metadata": {},
   "source": [
    "### 1.2 Applying Filter Methods in Python for Feature Selection"
   ]
  },
  {
   "cell_type": "markdown",
   "id": "interesting-enterprise",
   "metadata": {},
   "source": [
    "#### 1.2.1 모르는 모듈\n",
    "- gc\n",
    "- sklearn"
   ]
  },
  {
   "cell_type": "markdown",
   "id": "unlikely-mills",
   "metadata": {},
   "source": [
    "#### 1.2.2 Modeling 구상\n",
    "- 2개의 12월 데이터로 현재 12월을 예측하는 모델\n",
    " - 개인을 기준으로 모델링\n",
    " - 대다수의 특징을 기준으로 모델링\n",
    "- 작년 1~11월의 데이터를 기준으로 올해 예측관련성 찾는 모델\n",
    "- 비슷한 특징을 가지는 사람만 모아서 학습 할 수 있겠다.\n",
    " - word to vector , "
   ]
  },
  {
   "cell_type": "markdown",
   "id": "hidden-ozone",
   "metadata": {},
   "source": [
    "#### 1.2.3 성능향상\n",
    "- k-fold : 5에서 10으로 늘려서 높임 0.81 -> 0.8117 - 항상 나아지는가에는 아직 의문점??"
   ]
  },
  {
   "cell_type": "markdown",
   "id": "middle-mississippi",
   "metadata": {},
   "source": [
    "## 2. Peer session summary"
   ]
  },
  {
   "cell_type": "markdown",
   "id": "adolescent-melbourne",
   "metadata": {},
   "source": [
    "#### 2.1 Study"
   ]
  },
  {
   "cell_type": "markdown",
   "id": "amber-boring",
   "metadata": {},
   "source": [
    "- 데이터와 모델에 대한 이야기를 나누었고 내일까지 데이터 분석과 모델 검색을 한 후에 다시 만나기로 했다."
   ]
  },
  {
   "cell_type": "markdown",
   "id": "closed-negative",
   "metadata": {},
   "source": [
    "## 3. 진행중인 공부 및 신규 공부 목록"
   ]
  },
  {
   "cell_type": "markdown",
   "id": "knowing-feature",
   "metadata": {},
   "source": [
    "- 진행중인 공부  \n",
    "\n",
    "    - AI 기본 수학 : Mathematics for Machine learning - Marc Peter Deisenroth 7과 공부\n",
    "    - 웹 크롤링 및 데이터 처리 연습 익숙해지기\n",
    "    - Pytorch로 시작하는 딥러닝, Pytorch tutorial 공부  "
   ]
  },
  {
   "cell_type": "markdown",
   "id": "extra-walnut",
   "metadata": {},
   "source": [
    "- New study list  \n"
   ]
  },
  {
   "cell_type": "markdown",
   "id": "military-technique",
   "metadata": {},
   "source": [
    "- 완료한 공부  "
   ]
  },
  {
   "cell_type": "markdown",
   "id": "organizational-small",
   "metadata": {},
   "source": [
    "## 4. 감사한 일"
   ]
  },
  {
   "cell_type": "markdown",
   "id": "simplified-english",
   "metadata": {},
   "source": [
    "- 매번 실수하고 "
   ]
  }
 ],
 "metadata": {
  "kernelspec": {
   "display_name": "Python 3",
   "language": "python",
   "name": "python3"
  },
  "language_info": {
   "codemirror_mode": {
    "name": "ipython",
    "version": 3
   },
   "file_extension": ".py",
   "mimetype": "text/x-python",
   "name": "python",
   "nbconvert_exporter": "python",
   "pygments_lexer": "ipython3",
   "version": "3.8.5"
  }
 },
 "nbformat": 4,
 "nbformat_minor": 5
}
