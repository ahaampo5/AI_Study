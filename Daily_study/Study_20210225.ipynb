{
 "cells": [
  {
   "cell_type": "markdown",
   "id": "twelve-closing",
   "metadata": {},
   "source": [
    "# **학업 일지**"
   ]
  },
  {
   "cell_type": "markdown",
   "id": "coordinate-convert",
   "metadata": {},
   "source": [
    "#### 오늘의 한마디  "
   ]
  },
  {
   "cell_type": "markdown",
   "id": "beautiful-springfield",
   "metadata": {},
   "source": [
    "> **정점을 임베딩벡터로 바꿔주어 머신러닝을 사용할 수 있게 만든다.**"
   ]
  },
  {
   "cell_type": "markdown",
   "id": "gross-giving",
   "metadata": {},
   "source": [
    "## 1. 강의 정리"
   ]
  },
  {
   "cell_type": "markdown",
   "id": "adopted-feedback",
   "metadata": {},
   "source": [
    "### 1.1 그래프의 정점 표현 방법"
   ]
  },
  {
   "cell_type": "markdown",
   "id": "personalized-consumer",
   "metadata": {},
   "source": [
    "#### 1.1.1 정점 표현 학습"
   ]
  },
  {
   "cell_type": "markdown",
   "id": "fitted-adapter",
   "metadata": {},
   "source": [
    "- 그래프의 정점들을 벡터의 형태로 표현하는 것(Node Embedding)\n",
    "- 임베딩의 이유 : 분류기(회귀분석, 다층 퍼셉트론), 군집 분석 알고리즘(K-Means, DBSCAN) 벡터 형태로 표현된 instance를 입력으로 받는다.\n",
    "- 임베딩 공간에서의 유사도로 내적을 사용하여 구한다.\n",
    "- 과정\n",
    " - 정점 유사도를 정의\n",
    " - 유사도를 보존하도록 정점 임베딩을 학습"
   ]
  },
  {
   "cell_type": "markdown",
   "id": "curious-belfast",
   "metadata": {},
   "source": [
    "#### 1.1.2 인접성 기반 접근법"
   ]
  },
  {
   "cell_type": "markdown",
   "id": "comparative-needle",
   "metadata": {},
   "source": [
    "- 인접하면 1 인접하지 않으면 0으로 할당한다.\n",
    "- 손실 함수\n",
    "인베딩 공간에서의 유사도(내적)과 그래프에서의 유사도 매트릭스의 차이를 계산한다.\n",
    "- 한계 : 얼마나 먼지의 여부나 군집관계를 나타낼 수 없다는 단점이 있다."
   ]
  },
  {
   "cell_type": "markdown",
   "id": "double-windsor",
   "metadata": {},
   "source": [
    "#### 1.1.3 거리 경로 중첩 기반 접근법"
   ]
  },
  {
   "cell_type": "markdown",
   "id": "blank-drama",
   "metadata": {},
   "source": [
    "- 인접성 기반 접근법의 개선법\n",
    " - 거리 기반 접근법 : 두 정점 사이의 거리가 충분히(hyper parameter) 가까운 경우 유사하다고 생각\n",
    " - 경로 기반 접근법 : 두 정점 사이의 경로가 많을 수록 유사하다고 생각\n",
    "  - 손실함수 : (u, v사이의 경로가 k 인 경우의 수(인접 행렬의 k제곱과 같다.)) - 임베딩의 내적\n",
    " - 중첩 기반 접근법 : 이웃의 개수가 많을수록 유사하다고 간주\n",
    "  - 손실함수 : u,v의 이웃집합의 교집합 - 임베딩의 내적\n",
    "  - 자카드 유사도(교집합/합집합), adamic Adar 점수(1/연결성의 총합)를 사용하기도 한다."
   ]
  },
  {
   "cell_type": "markdown",
   "id": "baking-disney",
   "metadata": {},
   "source": [
    "#### 1.1.4 임의보행 기반 접근법\n",
    "- 한 정점에서 시작하여 임의보행을 할 때 다른 정점에 도달할 확률\n",
    " - 과정\n",
    "  - 각 정점에서 시작하여 임의보행을 반복 수행\n",
    "  - 도달한 정점들의 리스트를 구성하고 정점 u,에서 시작한 임의보행 중 도달한 정점들의 리스트를 $N_R(u)$라고 한다.\n",
    "  - 손실함수 : -log(P(v|$z_u$)의 u,v에 대한 총합\n",
    "   - P(v|$z_u$) = exp(u,v의 내적) / 모든 v에 대해 exp(z와 v의 내적)의 합\n",
    "- 임의 보행 방법\n",
    " - DeepWalk : 균일한 확률로 선택\n",
    " - Node2Vec : Second order Biased Random Walk - 현재 정점과 직전에 머물렀던 정점을 고려하여 다음 정점을 선택\n",
    "  - 멀어지는 방향에 높은 확률을 부여하거나 가까워지는 방향에 높은 확률(같은 군집 모으기)을 부여하는 경우가 있다.\n",
    "- 손실 함수 근사\n",
    " - 정점의 제곱의 복잡도를 가지므로 몇 개의 정점을 뽑아서 비교하는 형태로 손실 함수를 근사한다.\n",
    "  - 연결성에 비례하는 확률로 네거티브 샘플을 뽑는다.(많이 샘플로 둘수록 안정성이 높다.)"
   ]
  },
  {
   "cell_type": "markdown",
   "id": "dominican-estonia",
   "metadata": {},
   "source": [
    "#### 1.1.5변환식 정점 표현 학습의 한계\n",
    "- 변환식 방법\n",
    " - 학습의 결과로 정점의 임베딩 자체를 얻는다. 정점을 임베딩으로 변화시키는 함수(인코더)를 얻는 귀납식과 대조된다.\n",
    "- 변환식 임베딩의 한계\n",
    " - 학습이 진행된 이후에 추가된 정점에 대해서는 임베딩을 얻을 수 없다.\n",
    " - 모든 정점에 대한 임베딩을 미리 계산하여 저장해두어야 합니다.\n",
    " - 정점이 속성 정보를 가진 경우에 이를 활용할 수 없습니다.\n"
   ]
  },
  {
   "cell_type": "markdown",
   "id": "freelance-answer",
   "metadata": {},
   "source": [
    "### 1.2 추천 시스템"
   ]
  },
  {
   "cell_type": "markdown",
   "id": "impossible-ireland",
   "metadata": {},
   "source": [
    "#### 1.2.1 넷플릭스 챌린지\n",
    "- 사용자별 영화 평점 데이터\n",
    "- 48만명 사용자의 1만 8천개의 영화에 대한 1억 개의 평점으로 구성\n"
   ]
  },
  {
   "cell_type": "markdown",
   "id": "wired-victory",
   "metadata": {},
   "source": [
    "#### 1.2.2 잠재 인수 모형"
   ]
  },
  {
   "cell_type": "markdown",
   "id": "individual-vault",
   "metadata": {},
   "source": [
    "- 잠재 인수 모형(Latent Factor Model) : 사용자와 상품을 벡터로 표현\n",
    "- 사용자와 상품의 임베딩의 내적이 평점과 최대한 유사하도록 하는 것 - 내적값과 그에 대한 평점을 예측\n",
    "- 과적합 : 잡음까지 학습하여 성능이 감소하는 현상\n",
    " - 방지하기위해 L2 regularization을 추가한다. -> 오차와 모형 복잡도를 표현\n",
    " - 정규화를 하여 그 값에 치중하지 않고 경향성을 본다."
   ]
  },
  {
   "cell_type": "markdown",
   "id": "nervous-gravity",
   "metadata": {},
   "source": [
    "#### 1.2.3 고급 잠재 인수 모형\n",
    "- 사용자와 상품의 편향을 고려한 잠재 인수 모형\n",
    " - 평점 = 전체 평균 + 사용자 + 편향 상품 + 편향 상호작용\n",
    "- 데이터 자체의 특성을 고려하여 적용\n",
    " - 시간적 편향의 반영"
   ]
  },
  {
   "cell_type": "markdown",
   "id": "middle-mississippi",
   "metadata": {},
   "source": [
    "## 2. 피어 세션 정리"
   ]
  },
  {
   "cell_type": "markdown",
   "id": "adolescent-melbourne",
   "metadata": {},
   "source": [
    "#### 2.1 스터디"
   ]
  },
  {
   "cell_type": "markdown",
   "id": "amber-boring",
   "metadata": {},
   "source": [
    "- 2.1.1 군집에 대한 개념과 군집성을 구하는 수식과 코드를 설명하고 분석하였다. (발표: 배새봄)\n",
    "\n",
    "- 2.1.2 협업 필터링의 데이터셋 구성부터 학습결과까지 직접 구현한 코드를 가지고 설명하였다.(발표: 안동주)\n"
   ]
  },
  {
   "cell_type": "markdown",
   "id": "neutral-messenger",
   "metadata": {},
   "source": [
    "#### 2.2 원하는 진로를 잡고 논문 공부"
   ]
  },
  {
   "cell_type": "markdown",
   "id": "secret-queensland",
   "metadata": {},
   "source": [
    "- 새로운 논문 선택 gpt-1 읽기"
   ]
  },
  {
   "cell_type": "markdown",
   "id": "closed-negative",
   "metadata": {},
   "source": [
    "## 3. 진행중인 공부 및 신규 공부 목록"
   ]
  },
  {
   "cell_type": "markdown",
   "id": "knowing-feature",
   "metadata": {},
   "source": [
    "- 진행중인 공부  \n",
    "\n",
    "    - AI 기본 수학 : Mathematics for Machine learning - Marc Peter Deisenroth 4과 공부\n",
    "    - 웹 크롤링 및 데이터 처리 연습 익숙해지기\n",
    "    - Pytorch로 시작하는 딥러닝, Pytorch tutorial 공부  \n",
    "    - pytorch 데이터셋 설정"
   ]
  },
  {
   "cell_type": "markdown",
   "id": "extra-walnut",
   "metadata": {},
   "source": [
    "- 신규 공부 목록  \n"
   ]
  },
  {
   "cell_type": "markdown",
   "id": "military-technique",
   "metadata": {},
   "source": [
    "- 완료한 공부  "
   ]
  },
  {
   "cell_type": "markdown",
   "id": "organizational-small",
   "metadata": {},
   "source": [
    "## 4. 감사한 일"
   ]
  },
  {
   "cell_type": "markdown",
   "id": "simplified-english",
   "metadata": {},
   "source": [
    "- 컴퓨터 사이언스에 대한 부족한 부분을 채워주려고 다양한 자료와 제안을 해준 조원들에게 감사합니다."
   ]
  }
 ],
 "metadata": {
  "kernelspec": {
   "display_name": "Python 3",
   "language": "python",
   "name": "python3"
  },
  "language_info": {
   "codemirror_mode": {
    "name": "ipython",
    "version": 3
   },
   "file_extension": ".py",
   "mimetype": "text/x-python",
   "name": "python",
   "nbconvert_exporter": "python",
   "pygments_lexer": "ipython3",
   "version": "3.8.5"
  }
 },
 "nbformat": 4,
 "nbformat_minor": 5
}
