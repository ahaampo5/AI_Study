{
 "cells": [
  {
   "cell_type": "markdown",
   "id": "twelve-closing",
   "metadata": {},
   "source": [
    "# **학업 일지**"
   ]
  },
  {
   "cell_type": "markdown",
   "id": "coordinate-convert",
   "metadata": {},
   "source": [
    "#### 오늘의 한마디  "
   ]
  },
  {
   "cell_type": "markdown",
   "id": "beautiful-springfield",
   "metadata": {},
   "source": [
    "> **모델과 추론과정을 자동화하여 언제든지 손쉽게 사용할 수 있도록 베이스 마련모델과 추론과정을 자동화하여 언제든지 손쉽게 사용할 수 있도록 베이스 마련**"
   ]
  },
  {
   "cell_type": "markdown",
   "id": "gross-giving",
   "metadata": {},
   "source": [
    "## 1. Lecture Summary"
   ]
  },
  {
   "cell_type": "markdown",
   "id": "adopted-feedback",
   "metadata": {},
   "source": [
    "### 1.1 Training & Inference"
   ]
  },
  {
   "cell_type": "markdown",
   "id": "minor-quick",
   "metadata": {},
   "source": [
    "#### 1.1.1 BackPropagation\n",
    "- Loss 모듈 역시 nn.Module에 속하며 마지막에 functional 함수로 연산이 이루어진다.\n",
    "- Focal Loss : 낮은 확률값에 더 높은 로스\n",
    "- Label Smoothing Loss : Hard label보다 추상화에 도움된다."
   ]
  },
  {
   "cell_type": "markdown",
   "id": "breeding-newsletter",
   "metadata": {},
   "source": [
    "#### 1.1.2 LR Scheduler\n",
    "- cos을 활용한 lr변화\n",
    "- 점진적으로 상세한 학습\n",
    "- 직접 lr 수정"
   ]
  },
  {
   "cell_type": "markdown",
   "id": "ancient-financing",
   "metadata": {},
   "source": [
    "#### 1.1.3 Metric\n",
    "- Accuracy, f1-score, Ranking\n"
   ]
  },
  {
   "cell_type": "markdown",
   "id": "careful-scientist",
   "metadata": {},
   "source": [
    "#### 1.1.4 Pytorch Lightning\n",
    "- bit수를 조정하여 가볍게 만들고 빠르게 학습시킬 수 있다."
   ]
  },
  {
   "cell_type": "markdown",
   "id": "middle-mississippi",
   "metadata": {},
   "source": [
    "## 2. Peer session summary"
   ]
  },
  {
   "cell_type": "markdown",
   "id": "adolescent-melbourne",
   "metadata": {},
   "source": [
    "#### 2.1 Study"
   ]
  },
  {
   "cell_type": "markdown",
   "id": "amber-boring",
   "metadata": {},
   "source": [
    "- 데이터 Augmentation에 대해 다양한 의견 정리"
   ]
  },
  {
   "cell_type": "markdown",
   "id": "closed-negative",
   "metadata": {},
   "source": [
    "## 3. 진행중인 공부 및 신규 공부 목록"
   ]
  },
  {
   "cell_type": "markdown",
   "id": "knowing-feature",
   "metadata": {},
   "source": [
    "- 진행중인 공부  \n",
    "\n",
    "    - AI 기본 수학 : Mathematics for Machine learning - Marc Peter Deisenroth 7과 공부\n",
    "    - 웹 크롤링 및 데이터 처리 연습 익숙해지기\n",
    "    - Pytorch로 시작하는 딥러닝, Pytorch tutorial 공부  \n",
    "    - Data Augmentation 적용"
   ]
  },
  {
   "cell_type": "markdown",
   "id": "extra-walnut",
   "metadata": {},
   "source": [
    "- New study list  \n"
   ]
  },
  {
   "cell_type": "markdown",
   "id": "military-technique",
   "metadata": {},
   "source": [
    "- 완료한 공부  "
   ]
  },
  {
   "cell_type": "markdown",
   "id": "organizational-small",
   "metadata": {},
   "source": [
    "## 4. 감사한 일"
   ]
  },
  {
   "cell_type": "markdown",
   "id": "simplified-english",
   "metadata": {},
   "source": [
    "- 어색할텐데 다들 말하려고 노력해준 오늘 피어들에게 감사합니다."
   ]
  }
 ],
 "metadata": {
  "kernelspec": {
   "display_name": "Python 3",
   "language": "python",
   "name": "python3"
  },
  "language_info": {
   "codemirror_mode": {
    "name": "ipython",
    "version": 3
   },
   "file_extension": ".py",
   "mimetype": "text/x-python",
   "name": "python",
   "nbconvert_exporter": "python",
   "pygments_lexer": "ipython3",
   "version": "3.8.5"
  }
 },
 "nbformat": 4,
 "nbformat_minor": 5
}
