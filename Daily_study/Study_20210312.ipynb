{
 "cells": [
  {
   "cell_type": "markdown",
   "id": "twelve-closing",
   "metadata": {},
   "source": [
    "# **학업 일지**"
   ]
  },
  {
   "cell_type": "markdown",
   "id": "coordinate-convert",
   "metadata": {},
   "source": [
    "#### 오늘의 한마디  "
   ]
  },
  {
   "cell_type": "markdown",
   "id": "beautiful-springfield",
   "metadata": {},
   "source": [
    "> **Segmentation과 GAN 모델을 구현하는 것 연습해보자.**"
   ]
  },
  {
   "cell_type": "markdown",
   "id": "gross-giving",
   "metadata": {},
   "source": [
    "## 1. Recture Summary"
   ]
  },
  {
   "cell_type": "markdown",
   "id": "adopted-feedback",
   "metadata": {},
   "source": [
    "### 1.1 Computer Vision"
   ]
  },
  {
   "cell_type": "markdown",
   "id": "personalized-consumer",
   "metadata": {},
   "source": [
    "#### 1.1.1 multi-model learning\n",
    "- Use not only vision but also audio and other sense(social, Depth, unimodal(text), force)\n",
    "- Different representations between modalities\n",
    "- Unbalance between heterogeneous feature spaces - 1:N matching\n",
    "- Biased to one modality\n",
    "- Matching, Translating, Referencing"
   ]
  },
  {
   "cell_type": "markdown",
   "id": "curious-belfast",
   "metadata": {},
   "source": [
    "#### 1.1.2 Data & text\n",
    "- joint embedding\n",
    " - Text embedding\n",
    " - Image tagging - Can generate tags of a given image, and retrieve imgages by a tag keyword as well\n",
    " - Image&food recipe\n",
    "- Cross modal translation\n",
    " - image to text description - CNN & RNN\n",
    " - Feature map to word\n",
    " - Text-to-image by generative model\n",
    "- Cross modal reasoning\n",
    " - Visual question answering\n",
    " - spectogram, melspectogram, MFCC\n",
    " - SoundNet"
   ]
  },
  {
   "cell_type": "markdown",
   "id": "private-guinea",
   "metadata": {},
   "source": [
    "#### 1.1.3 Visual data & audio\n",
    "- Short-time Fourier transform(STFT)\n",
    "- image to speech\n",
    "- speech to image\n",
    "- sound source localization"
   ]
  },
  {
   "cell_type": "markdown",
   "id": "freelance-answer",
   "metadata": {},
   "source": [
    "### 1.2 3D modeling"
   ]
  },
  {
   "cell_type": "markdown",
   "id": "impossible-ireland",
   "metadata": {},
   "source": [
    "#### 1.2.1 3D\n",
    "- AR/VR\n",
    "- medical application\n",
    "- Triangulation\n",
    "- Multi-view images, Volumetric(voxel), Part assembly, Point cloud, Mesh(Graph CNN), Implicit shape\n",
    "- Dataset\n",
    " - PartNet, SceneNet, ScanNet, outdoor 3D scene datasets(KITTI, Semantic KITTI, Waymo Open Dataset)"
   ]
  },
  {
   "cell_type": "markdown",
   "id": "shaped-immune",
   "metadata": {},
   "source": [
    "#### 1.2.2 3D tasks\n",
    "- Recognition\n",
    "- Detection\n",
    "- 3D semantic segmentation\n",
    "- Mesh R-CNN"
   ]
  },
  {
   "cell_type": "markdown",
   "id": "plain-heaven",
   "metadata": {},
   "source": [
    "#### 1.2.3 3D example\n",
    "- Photo refocusing\n"
   ]
  },
  {
   "cell_type": "markdown",
   "id": "middle-mississippi",
   "metadata": {},
   "source": [
    "## 2. Peer session summary"
   ]
  },
  {
   "cell_type": "markdown",
   "id": "adolescent-melbourne",
   "metadata": {},
   "source": [
    "#### 2.1 Study"
   ]
  },
  {
   "cell_type": "markdown",
   "id": "amber-boring",
   "metadata": {},
   "source": [
    "- Object detection에 대한 발표(발표: 이주남)\n",
    "- CNN visualization에 대한 발표(발표: 안동주)"
   ]
  },
  {
   "cell_type": "markdown",
   "id": "neutral-messenger",
   "metadata": {},
   "source": [
    "#### 2.2 원하는 진로를 잡고 논문 공부"
   ]
  },
  {
   "cell_type": "markdown",
   "id": "secret-queensland",
   "metadata": {},
   "source": [
    "- 새로운 논문 선택 gpt-1 읽기"
   ]
  },
  {
   "cell_type": "markdown",
   "id": "closed-negative",
   "metadata": {},
   "source": [
    "## 3. 진행중인 공부 및 신규 공부 목록"
   ]
  },
  {
   "cell_type": "markdown",
   "id": "knowing-feature",
   "metadata": {},
   "source": [
    "- 진행중인 공부  \n",
    "\n",
    "    - AI 기본 수학 : Mathematics for Machine learning - Marc Peter Deisenroth 5과 공부\n",
    "    - 웹 크롤링 및 데이터 처리 연습 익숙해지기\n",
    "    - Pytorch로 시작하는 딥러닝, Pytorch tutorial 공부  \n",
    "    - pytorch 데이터셋 설정  "
   ]
  },
  {
   "cell_type": "markdown",
   "id": "extra-walnut",
   "metadata": {},
   "source": [
    "- New study list  \n",
    " - Sequential data pre processing"
   ]
  },
  {
   "cell_type": "markdown",
   "id": "military-technique",
   "metadata": {},
   "source": [
    "- 완료한 공부  "
   ]
  },
  {
   "cell_type": "markdown",
   "id": "organizational-small",
   "metadata": {},
   "source": [
    "## 4. 감사한 일"
   ]
  },
  {
   "cell_type": "markdown",
   "id": "simplified-english",
   "metadata": {},
   "source": [
    "- 팀원에게 필요하다고 생각한 부분을 공유해준 김상현 팀원에게 감사합니다."
   ]
  }
 ],
 "metadata": {
  "kernelspec": {
   "display_name": "Python 3",
   "language": "python",
   "name": "python3"
  },
  "language_info": {
   "codemirror_mode": {
    "name": "ipython",
    "version": 3
   },
   "file_extension": ".py",
   "mimetype": "text/x-python",
   "name": "python",
   "nbconvert_exporter": "python",
   "pygments_lexer": "ipython3",
   "version": "3.8.5"
  }
 },
 "nbformat": 4,
 "nbformat_minor": 5
}
