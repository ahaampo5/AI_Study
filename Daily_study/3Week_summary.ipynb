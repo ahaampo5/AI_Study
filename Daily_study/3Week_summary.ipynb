{
 "cells": [
  {
   "cell_type": "markdown",
   "id": "piano-gregory",
   "metadata": {},
   "source": [
    "# 베이즈 정리"
   ]
  },
  {
   "cell_type": "markdown",
   "id": "authentic-domestic",
   "metadata": {},
   "source": [
    "</b>"
   ]
  },
  {
   "cell_type": "markdown",
   "id": "certain-chester",
   "metadata": {},
   "source": [
    "조건부 확률을 베이즈 정리를 이용하여 풀어서 해석할 수 있으며 이를 이용하여 사전확률을 갱신한다.(반복되는 경우에 활용하면 좋다.) - evidence도 같이 갱신된다.\n",
    "Recall, Precision, Prior, Posterior, True Positive, False Positive, False Negative, True Negative, False alarm, Specificity의 용어를 통해 확률적인 환경을 해석 할 수 있다.\n",
    "\n",
    "중첩 요인을 제거해야 인과관계를 계산할 수 있다."
   ]
  }
 ],
 "metadata": {
  "kernelspec": {
   "display_name": "Python 3",
   "language": "python",
   "name": "python3"
  },
  "language_info": {
   "codemirror_mode": {
    "name": "ipython",
    "version": 3
   },
   "file_extension": ".py",
   "mimetype": "text/x-python",
   "name": "python",
   "nbconvert_exporter": "python",
   "pygments_lexer": "ipython3",
   "version": "3.8.5"
  }
 },
 "nbformat": 4,
 "nbformat_minor": 5
}
