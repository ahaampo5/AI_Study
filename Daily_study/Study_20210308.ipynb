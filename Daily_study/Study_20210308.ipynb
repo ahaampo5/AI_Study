{
 "cells": [
  {
   "cell_type": "markdown",
   "id": "twelve-closing",
   "metadata": {},
   "source": [
    "# **학업 일지**"
   ]
  },
  {
   "cell_type": "markdown",
   "id": "coordinate-convert",
   "metadata": {},
   "source": [
    "#### 오늘의 한마디  "
   ]
  },
  {
   "cell_type": "markdown",
   "id": "beautiful-springfield",
   "metadata": {},
   "source": [
    "> **정점을 임베딩벡터로 바꿔주어 머신러닝을 사용할 수 있게 만든다.**"
   ]
  },
  {
   "cell_type": "markdown",
   "id": "gross-giving",
   "metadata": {},
   "source": [
    "## 1. 강의 정리"
   ]
  },
  {
   "cell_type": "markdown",
   "id": "adopted-feedback",
   "metadata": {},
   "source": [
    "### 1.1 Computer Vision"
   ]
  },
  {
   "cell_type": "markdown",
   "id": "personalized-consumer",
   "metadata": {},
   "source": [
    "#### 1.1.1 CV의 이해"
   ]
  },
  {
   "cell_type": "markdown",
   "id": "fuzzy-government",
   "metadata": {},
   "source": [
    "- 5감 + face, touch, speech 등 사회적 감각으로 상황을 인지하게 된다. - 지각능력의 구현이 중요하다.\n",
    "- Visual World - Sensing device - Interpreting device - Interpretation = inverse rendering\n",
    "- Rendering = from information to image\n",
    "- Class of visual perception\n",
    " - Color perception\n",
    " - Motion perception\n",
    " - 3D perception\n",
    " - Semantic-level perception\n",
    " - Social perception (emotion perception)\n",
    " - Visuomotor perception, etc.\n",
    "- 우리의 뇌도 편향되어 학습되어있다."
   ]
  },
  {
   "cell_type": "markdown",
   "id": "curious-belfast",
   "metadata": {},
   "source": [
    "#### 1.1.2 CV 활용"
   ]
  },
  {
   "cell_type": "markdown",
   "id": "northern-produce",
   "metadata": {},
   "source": [
    "- 고전적 CV\n",
    " - Input - Feature extraction - Classification - Output\n",
    "- 현재의 CV\n",
    " - Input - ANN - Output\n",
    " - Multi-model\n",
    " - visualization tool"
   ]
  },
  {
   "cell_type": "markdown",
   "id": "freelance-answer",
   "metadata": {},
   "source": [
    "### 1.2 Classification"
   ]
  },
  {
   "cell_type": "markdown",
   "id": "impossible-ireland",
   "metadata": {},
   "source": [
    "#### 1.2.1 Classifier의 종류\n",
    "- k-NN\n",
    " - 모든 데이터가 존재한다면 군집을 모두 분류할 수 있고 검색문제로 변환된다.\n",
    " - 비슷하다의 의미를 정의해야한다. \n",
    "- Fully connected layer\n",
    " - 각 weight와 이미지의 내적으로 score를 내는 방식\n",
    " - 공간적인 특징을 찾는 것이 아니라 모든 픽셀을 고려하기 때문에 사진이 부분만 나오는 경우에 효과가 좋지않다.\n",
    "- CNN\n",
    " - local영역의 특징을 뽑아내어 score를 계산\n",
    " - 적은 parameter로 효율적인 결과를 도출 할 수 있다.\n",
    " - weight가 많은 데이터의 특징의 평균영상처럼 표현된다."
   ]
  },
  {
   "cell_type": "markdown",
   "id": "plain-heaven",
   "metadata": {},
   "source": [
    "#### 1.2.2 Brief History\n",
    "- AlexNet\n",
    " - ReLU, deep structure, LRN, 11x11 conv filter, \n",
    " - receptive field : 한 점을 결정하는데 참조한 input space의 공간\n",
    "- VGGNet\n",
    " - deep structure, only 3x3 conv filter"
   ]
  },
  {
   "cell_type": "markdown",
   "id": "dental-negotiation",
   "metadata": {},
   "source": [
    "### 1.3 Dataset 효율적으로 활용하기"
   ]
  },
  {
   "cell_type": "markdown",
   "id": "french-respect",
   "metadata": {},
   "source": [
    "#### 1.3.1 Data augmentation\n",
    "- 우리의 데이터는 sample데이터이기 때문에 실제 분포와 비슷하게 만들어 줄 필요가 있다.\n",
    "- 밝기, 각도, 부분만 보기, Affine transform(세 점을 매핑), CutMix\n",
    "- 모든 증강방법을 쓸 수 없으니 RandAugment를 써서 가장 좋은 방법을 추출하자.\n",
    " - 어떤 증강법을 쓸까(Which Policy)\n",
    " - 몇개의 증강법을 쓸까(How many policy)"
   ]
  },
  {
   "cell_type": "markdown",
   "id": "manual-vertex",
   "metadata": {},
   "source": [
    "#### 1.3.2 Transfer learning\n",
    "- label은 사람이 그려야 하기에 큰 인건비가 필요하다.\n",
    "- 한 사진의 특성을 다른 데이터에 적용할만한 공통이 있다.\n",
    "- CNN은 그대로 둔 채로 FC layer만 바꾸어 다양한 특징을 학습할 수 있다.\n",
    "- CNN의 lr을 낮게 두고 fine-tuning을 한다."
   ]
  },
  {
   "cell_type": "markdown",
   "id": "corrected-provision",
   "metadata": {},
   "source": [
    "#### 1.3.3 Knowledge distillation\n",
    "- Teacher Model을 student Model\n",
    " - teacher(pre-train), student 의 kl devergence를 최소화\n",
    " - model compression\n",
    " - pseudo-labeling(more dataset) : 임의의 데이터를 사용가능하다.\n",
    " - temparature(T) : soft label - 논리를 녹여넣는다."
   ]
  },
  {
   "cell_type": "markdown",
   "id": "collaborative-preview",
   "metadata": {},
   "source": [
    "### 1.4 Leveraging unlabeled dataset for training"
   ]
  },
  {
   "cell_type": "markdown",
   "id": "automatic-canberra",
   "metadata": {},
   "source": [
    "#### 1.4.1 Semi-supervised learning\n",
    "- Unlabeled data 활용\n",
    " - pre-training - pseudo labeled dataset 구축 - 재학습"
   ]
  },
  {
   "cell_type": "markdown",
   "id": "sound-georgia",
   "metadata": {},
   "source": [
    "#### 1.4.2 Self training\n",
    "- Augmentation + Teacher-Student networks + semi-supervised learning\n",
    "- SOTA ImageNet classification\n",
    "- Self-training with noisy student\n",
    " - 1. Train initial teacher model with labeled data\n",
    " - 2. Pseudo-label unlabeled data using teacher model\n",
    " - 3. Train student model with both labeled and unlabeleld data with augmentation\n",
    " - 4. Set the student model as a new teacher, and set new model (begger) as a new student\n",
    " - 5. Repeat 2~4 with new teacher/student models"
   ]
  },
  {
   "cell_type": "markdown",
   "id": "collected-learning",
   "metadata": {},
   "source": [
    "## 구현해볼 것\n",
    "- randaugmentation\n",
    "- "
   ]
  },
  {
   "cell_type": "markdown",
   "id": "middle-mississippi",
   "metadata": {},
   "source": [
    "## 2. 피어 세션 정리"
   ]
  },
  {
   "cell_type": "markdown",
   "id": "adolescent-melbourne",
   "metadata": {},
   "source": [
    "#### 2.1 스터디"
   ]
  },
  {
   "cell_type": "markdown",
   "id": "amber-boring",
   "metadata": {},
   "source": []
  },
  {
   "cell_type": "markdown",
   "id": "neutral-messenger",
   "metadata": {},
   "source": [
    "#### 2.2 원하는 진로를 잡고 논문 공부"
   ]
  },
  {
   "cell_type": "markdown",
   "id": "secret-queensland",
   "metadata": {},
   "source": [
    "- 새로운 논문 선택 gpt-1 읽기"
   ]
  },
  {
   "cell_type": "markdown",
   "id": "closed-negative",
   "metadata": {},
   "source": [
    "## 3. 진행중인 공부 및 신규 공부 목록"
   ]
  },
  {
   "cell_type": "markdown",
   "id": "knowing-feature",
   "metadata": {},
   "source": [
    "- 진행중인 공부  \n",
    "\n",
    "    - AI 기본 수학 : Mathematics for Machine learning - Marc Peter Deisenroth 4과 공부\n",
    "    - 웹 크롤링 및 데이터 처리 연습 익숙해지기\n",
    "    - Pytorch로 시작하는 딥러닝, Pytorch tutorial 공부  \n",
    "    - pytorch 데이터셋 설정"
   ]
  },
  {
   "cell_type": "markdown",
   "id": "extra-walnut",
   "metadata": {},
   "source": [
    "- 신규 공부 목록  \n"
   ]
  },
  {
   "cell_type": "markdown",
   "id": "military-technique",
   "metadata": {},
   "source": [
    "- 완료한 공부  "
   ]
  },
  {
   "cell_type": "markdown",
   "id": "organizational-small",
   "metadata": {},
   "source": [
    "## 4. 감사한 일"
   ]
  },
  {
   "cell_type": "markdown",
   "id": "simplified-english",
   "metadata": {},
   "source": [
    "- 컴퓨터 사이언스에 대한 부족한 부분을 채워주려고 다양한 자료와 제안을 해준 조원들에게 감사합니다."
   ]
  }
 ],
 "metadata": {
  "kernelspec": {
   "display_name": "Python 3",
   "language": "python",
   "name": "python3"
  },
  "language_info": {
   "codemirror_mode": {
    "name": "ipython",
    "version": 3
   },
   "file_extension": ".py",
   "mimetype": "text/x-python",
   "name": "python",
   "nbconvert_exporter": "python",
   "pygments_lexer": "ipython3",
   "version": "3.8.5"
  }
 },
 "nbformat": 4,
 "nbformat_minor": 5
}
