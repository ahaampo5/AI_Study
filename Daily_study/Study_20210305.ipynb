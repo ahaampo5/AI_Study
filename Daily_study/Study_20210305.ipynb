{
 "cells": [
  {
   "cell_type": "markdown",
   "id": "twelve-closing",
   "metadata": {},
   "source": [
    "# **학업 일지**"
   ]
  },
  {
   "cell_type": "markdown",
   "id": "coordinate-convert",
   "metadata": {},
   "source": [
    "#### 오늘의 한마디  "
   ]
  },
  {
   "cell_type": "markdown",
   "id": "beautiful-springfield",
   "metadata": {},
   "source": [
    "> **모델링의 현실감각을 가지는 것이 공부의 방향성을 조정하는 중요한 요점**"
   ]
  },
  {
   "cell_type": "markdown",
   "id": "gross-giving",
   "metadata": {},
   "source": [
    "## 1. 강의 정리"
   ]
  },
  {
   "cell_type": "markdown",
   "id": "adopted-feedback",
   "metadata": {},
   "source": [
    "### 1.1 AI + ML, Quant Trading"
   ]
  },
  {
   "cell_type": "markdown",
   "id": "personalized-consumer",
   "metadata": {},
   "source": [
    "#### 1.1.1 Quant Trading"
   ]
  },
  {
   "cell_type": "markdown",
   "id": "minute-portuguese",
   "metadata": {},
   "source": [
    "- Abitrary\n",
    "- Market making\n",
    " - 살 때와 팔 때 가격이 다른 것으로 수익 창출\n",
    " - 눈치를 잘 보면서 가격이 한 쪽으로 크게 움직일 것을 예측\n",
    "- Statistical arbitrage\n",
    " - 미래 가격의 변화를 예측하여 수익 창출\n",
    "- 퀀트 헤지펀드 / 로보 어드바이저 - 퀀트 투자\n",
    "- 프랍 트레이딩 : 회사 파트너들의 자본을 거래"
   ]
  },
  {
   "cell_type": "markdown",
   "id": "simple-beast",
   "metadata": {},
   "source": [
    "#### 1.1.2 가능성"
   ]
  },
  {
   "cell_type": "markdown",
   "id": "handed-philosophy",
   "metadata": {},
   "source": [
    "- 효율적 시장 가설\n",
    " - 가격은 상품에 대한 모든 정보를 포함하고 있기 때문에 장기적으로 초과수익을 얻을 수는 없다.\n",
    "- 안된다는 증거와 썰들이 많다\n",
    "\n",
    "- 예측 범위에 따라 다르지만 미래를 예상할 수 있는 다양한 이유가 있다.\n",
    " - 포지션이 큰 참가자들은 움직이는 데 오래 걸린다.\n",
    " - 큰 가격 변화가 있을 때 군중 심리가 나타난다.\n",
    " - 새로운 정보(뉴스, 공시 정보, 매출 및 펀더멘털)가 시장에 반영되기까지는 시간이 걸린다.\n",
    " - 기술적, 법적 문제들\n",
    " - 거래량이 많은 상품이나 거래소가 가격 발견 과정을 선도한다.\n",
    " - 상품에 대한 새로운 정보가 가격에 포함되기 위해서는 누군가 거래를 해야 한다.\n"
   ]
  },
  {
   "cell_type": "markdown",
   "id": "ignored-photography",
   "metadata": {},
   "source": [
    "#### 1.1.3 딥러닝이 힘든 이유\n",
    "- 시장에 영향을 미치는 숨낳은 원인 중 우리가 볼 수 있는 것은 극히 일부에 불과하다.\n",
    "- 우리가 보는 정보도 항상 뒤늦게 보게 될 수밖에 없다.\n",
    "- 시장은 계속 변하고 참가자들조차 계속 변한다.\n",
    "- 달라지는 규제 조건\n"
   ]
  },
  {
   "cell_type": "markdown",
   "id": "intelligent-creek",
   "metadata": {},
   "source": [
    "#### 1.1.4 리서치\n",
    "1. 가설\n",
    " - 대부분의 리서치는 가설로부터 시작된다.\n",
    " - 설득력 있는 가설이 없이 시작된 리서치는 결론이 조금만 안 좋아도 끝나기 쉽다.\n",
    " - 학습된 모델의 형태나 성능으로부터 점진적으로 더 나은 가설을 얻기도 한다.\n",
    "2. 오렌지\n",
    " - 거래 시세, 공시자료\n",
    " - 뉴스, 트위터, 웹 크롤링 결과, 애널리스트 리포트 ..\n",
    " - 인공위성 사진, 날씨 정보, 신용카드 사용 정보 ..\n",
    " - 어떻게 엑기스를 골라낼 것인가? - 필터링, 노이즈 제거, 클리핑 ,outlier제거, 정규화, NLP ..\n",
    "3. 쥬서기\n",
    " - 어떤 알고리즘이 내가 가진 가설을 가장 잘 표현할 수 있을까?\n",
    " - 내가 최적화하고 있는 목적함수가 정말 적절할까?\n",
    " l1 outlier가 중요할 때, l2 norm \n",
    " - 기존에 공개된 코드를 그대로 사용하기엔 데이터가 너무 많은데 어떻게 스케일링 할까?\n",
    "4. Monetization\n",
    " - 어떤 거래소에서 거래할까?\n",
    " - 어떤 주문 타입을 쓸까?\n",
    " - 어떻게 포트폴리오를 관리해야 출렁임 없이 꾸준한 성능을 낼 수 있을까?\n",
    " \n",
    "- 주의 요소\n",
    " - 프로덕션 시스템과 백테스트 시스템의 차이\n",
    " - 마켓 임팩트\n",
    " - 데이터 스누핑의 위험\n",
    " -> 결과적으로 많은 검증 가능한 다양한 플랫폼을 만든다. 내가 푸는 문제에 대해 깊이 이해해야 한다."
   ]
  },
  {
   "cell_type": "markdown",
   "id": "freelance-answer",
   "metadata": {},
   "source": [
    "### 1.2 내가 만든 AI 모델이 합법인가 불법인가"
   ]
  },
  {
   "cell_type": "markdown",
   "id": "wired-victory",
   "metadata": {},
   "source": [
    "#### 1.2.1 개인적인 문제\n",
    "- 편향(Bias) : 무엇을 편향으로 말할 수 있느냐\n",
    "- Privacy : 누가 그 데이터를 저장되는가, 위치추적 앱"
   ]
  },
  {
   "cell_type": "markdown",
   "id": "nervous-gravity",
   "metadata": {},
   "source": [
    "#### 1.2.2 사회적인 문제\n",
    "- AI Now Report : 다음 10년간 어떤 사회적 영향을 줄 것인가에 대한 리포트\n",
    "- 사회적 불평등을 심화 할 수 있다. 경제적 요인. 노동자.\n",
    "- 잘못된 정보 전달 : Deepfake"
   ]
  },
  {
   "cell_type": "markdown",
   "id": "wireless-wrong",
   "metadata": {},
   "source": [
    "#### 1.2.3 인류의 문제\n",
    "- 건강 문제 개선\n",
    "- 환경 문제 개선"
   ]
  },
  {
   "cell_type": "markdown",
   "id": "middle-mississippi",
   "metadata": {},
   "source": [
    "## 2. 피어 세션 정리"
   ]
  },
  {
   "cell_type": "markdown",
   "id": "adolescent-melbourne",
   "metadata": {},
   "source": [
    "#### 2.1 스터디"
   ]
  },
  {
   "cell_type": "markdown",
   "id": "amber-boring",
   "metadata": {},
   "source": [
    "- 2.1.1 팀원들간 진로에 대한 고민 공유를 했고 진지하게 임할 준비를 하였다."
   ]
  },
  {
   "cell_type": "markdown",
   "id": "neutral-messenger",
   "metadata": {},
   "source": [
    "#### 2.2 원하는 진로를 잡고 논문 공부"
   ]
  },
  {
   "cell_type": "markdown",
   "id": "secret-queensland",
   "metadata": {},
   "source": [
    "- 새로운 논문 선택 gpt-1 읽기"
   ]
  },
  {
   "cell_type": "markdown",
   "id": "closed-negative",
   "metadata": {},
   "source": [
    "## 3. 진행중인 공부 및 신규 공부 목록"
   ]
  },
  {
   "cell_type": "markdown",
   "id": "knowing-feature",
   "metadata": {},
   "source": [
    "- 진행중인 공부  \n",
    "\n",
    "    - AI 기본 수학 : Mathematics for Machine learning - Marc Peter Deisenroth 4과 공부\n",
    "    - 웹 크롤링 및 데이터 처리 연습 익숙해지기\n",
    "    - Pytorch로 시작하는 딥러닝, Pytorch tutorial 공부  \n",
    "    - pytorch 데이터셋 설정"
   ]
  },
  {
   "cell_type": "markdown",
   "id": "extra-walnut",
   "metadata": {},
   "source": [
    "- 신규 공부 목록  \n"
   ]
  },
  {
   "cell_type": "markdown",
   "id": "military-technique",
   "metadata": {},
   "source": [
    "- 완료한 공부  "
   ]
  },
  {
   "cell_type": "markdown",
   "id": "organizational-small",
   "metadata": {},
   "source": [
    "## 4. 감사한 일"
   ]
  },
  {
   "cell_type": "markdown",
   "id": "simplified-english",
   "metadata": {},
   "source": [
    "- 고민을 공유하고 다양한 생각을 이야기하면서 많은 영감을 준 팀원들에게 감사합니다."
   ]
  }
 ],
 "metadata": {
  "kernelspec": {
   "display_name": "Python 3",
   "language": "python",
   "name": "python3"
  },
  "language_info": {
   "codemirror_mode": {
    "name": "ipython",
    "version": 3
   },
   "file_extension": ".py",
   "mimetype": "text/x-python",
   "name": "python",
   "nbconvert_exporter": "python",
   "pygments_lexer": "ipython3",
   "version": "3.8.5"
  }
 },
 "nbformat": 4,
 "nbformat_minor": 5
}
