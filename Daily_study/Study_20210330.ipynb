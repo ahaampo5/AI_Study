{
 "cells": [
  {
   "cell_type": "markdown",
   "id": "twelve-closing",
   "metadata": {},
   "source": [
    "# **학업 일지**"
   ]
  },
  {
   "cell_type": "markdown",
   "id": "coordinate-convert",
   "metadata": {},
   "source": [
    "#### 오늘의 한마디  "
   ]
  },
  {
   "cell_type": "markdown",
   "id": "beautiful-springfield",
   "metadata": {},
   "source": [
    "> **데이터 분포를 이해하고 편향을 고려하여 학습 데이터와 모델을 고려해야한다.**"
   ]
  },
  {
   "cell_type": "markdown",
   "id": "gross-giving",
   "metadata": {},
   "source": [
    "## 1. Lecture Summary"
   ]
  },
  {
   "cell_type": "markdown",
   "id": "adopted-feedback",
   "metadata": {},
   "source": [
    "### 1.1 Dataset"
   ]
  },
  {
   "cell_type": "markdown",
   "id": "minor-quick",
   "metadata": {},
   "source": [
    "#### 1.1.1 Data Processing\n",
    "- Bounding Bos, Resizing\n",
    " - Feature가 많이 존재하는 영역을 찾고 쓸데 없는 영역을 제거 할 방법 고려"
   ]
  },
  {
   "cell_type": "markdown",
   "id": "expanded-assembly",
   "metadata": {},
   "source": [
    "* Example\n",
    " - Crop하거나 좌우로 이동시켜서 학습할 생각 중\n",
    " - 비슷한 특징이 매우 많아서 추상화가 어려울 것으로 예상 -> Segmentation으로 방법 고려중"
   ]
  },
  {
   "cell_type": "markdown",
   "id": "breeding-newsletter",
   "metadata": {},
   "source": [
    "#### 1.1.2 Generalization\n",
    "- Data Augmentation\n",
    "- Bias & Variance 고려\n",
    "- Train & Validation Set 만들기"
   ]
  },
  {
   "cell_type": "markdown",
   "id": "constant-grade",
   "metadata": {},
   "source": [
    "- Example\n",
    " - 얼굴 주변을 Crop하는 방법과 밝기 조절, 배경을 제거하는 방법 고려중\n",
    " - Overfitting을 막기위해 Dropout 사용\n",
    " - Stractified Validation Set을 사용하여 일반화 성능 확인"
   ]
  },
  {
   "cell_type": "markdown",
   "id": "ancient-financing",
   "metadata": {},
   "source": [
    "#### 1.1.3 Data Generation\n",
    "- 빠르게 데이터 만들기\n",
    " - DataFeeding\n",
    "  - torchvision의 transform보다 빠른 albumentations로 대체 할 예정"
   ]
  },
  {
   "cell_type": "markdown",
   "id": "middle-mississippi",
   "metadata": {},
   "source": [
    "## 2. Peer session summary"
   ]
  },
  {
   "cell_type": "markdown",
   "id": "adolescent-melbourne",
   "metadata": {},
   "source": [
    "#### 2.1 Study"
   ]
  },
  {
   "cell_type": "markdown",
   "id": "amber-boring",
   "metadata": {},
   "source": [
    "- EfficientNet 모델 공유 및 AdamP 공유"
   ]
  },
  {
   "cell_type": "markdown",
   "id": "closed-negative",
   "metadata": {},
   "source": [
    "## 3. 진행중인 공부 및 신규 공부 목록"
   ]
  },
  {
   "cell_type": "markdown",
   "id": "knowing-feature",
   "metadata": {},
   "source": [
    "- 진행중인 공부  \n",
    "\n",
    "    - AI 기본 수학 : Mathematics for Machine learning - Marc Peter Deisenroth 7과 공부\n",
    "    - 웹 크롤링 및 데이터 처리 연습 익숙해지기\n",
    "    - Pytorch로 시작하는 딥러닝, Pytorch tutorial 공부  "
   ]
  },
  {
   "cell_type": "markdown",
   "id": "extra-walnut",
   "metadata": {},
   "source": [
    "- New study list  \n",
    " - Data Augmentation 적용"
   ]
  },
  {
   "cell_type": "markdown",
   "id": "military-technique",
   "metadata": {},
   "source": [
    "- 완료한 공부  "
   ]
  },
  {
   "cell_type": "markdown",
   "id": "organizational-small",
   "metadata": {},
   "source": [
    "## 4. 감사한 일"
   ]
  },
  {
   "cell_type": "markdown",
   "id": "simplified-english",
   "metadata": {},
   "source": [
    "- 24조 팀원간의 의사소통과 정보 공유가 큰 도움이 되어 전 팀원들에게 감사합니다.\n",
    "- 운영체제에 대해 기본적인 지식을 정리해서 공유한 김상현 팀원에게 감사합니다."
   ]
  }
 ],
 "metadata": {
  "kernelspec": {
   "display_name": "Python 3",
   "language": "python",
   "name": "python3"
  },
  "language_info": {
   "codemirror_mode": {
    "name": "ipython",
    "version": 3
   },
   "file_extension": ".py",
   "mimetype": "text/x-python",
   "name": "python",
   "nbconvert_exporter": "python",
   "pygments_lexer": "ipython3",
   "version": "3.8.5"
  }
 },
 "nbformat": 4,
 "nbformat_minor": 5
}
