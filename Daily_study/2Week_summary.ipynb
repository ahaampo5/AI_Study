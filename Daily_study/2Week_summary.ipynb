{
 "cells": [
  {
   "cell_type": "markdown",
   "id": "postal-personal",
   "metadata": {},
   "source": [
    "## 1. Pandas"
   ]
  },
  {
   "cell_type": "markdown",
   "id": "opponent-indie",
   "metadata": {},
   "source": [
    "- 원하는 column의 정보만 볼 수 있다. df.column or df[dolumn]\n",
    "- 원하는 row의 정보만 볼 수 있다. df.loc[] or df.iloc[]\n",
    "- 합치면 df.loc[:,['age']]\n",
    "- Numpy처럼 boolen index, fancy index 사용할 수 있다.\n",
    "운영진분들에게 감사 조교님에게 팀원들에게 감사"
   ]
  }
 ],
 "metadata": {
  "kernelspec": {
   "display_name": "Python 3",
   "language": "python",
   "name": "python3"
  },
  "language_info": {
   "codemirror_mode": {
    "name": "ipython",
    "version": 3
   },
   "file_extension": ".py",
   "mimetype": "text/x-python",
   "name": "python",
   "nbconvert_exporter": "python",
   "pygments_lexer": "ipython3",
   "version": "3.8.5"
  }
 },
 "nbformat": 4,
 "nbformat_minor": 5
}
