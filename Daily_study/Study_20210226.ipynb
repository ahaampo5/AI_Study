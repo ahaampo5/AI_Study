{
 "cells": [
  {
   "cell_type": "markdown",
   "id": "twelve-closing",
   "metadata": {},
   "source": [
    "# **학업 일지**"
   ]
  },
  {
   "cell_type": "markdown",
   "id": "coordinate-convert",
   "metadata": {},
   "source": [
    "#### 오늘의 한마디  "
   ]
  },
  {
   "cell_type": "markdown",
   "id": "beautiful-springfield",
   "metadata": {},
   "source": [
    "> **정점을 임베딩벡터로 바꿔주어 머신러닝을 사용할 수 있게 만든다.**"
   ]
  },
  {
   "cell_type": "markdown",
   "id": "gross-giving",
   "metadata": {},
   "source": [
    "## 1. 강의 정리"
   ]
  },
  {
   "cell_type": "markdown",
   "id": "adopted-feedback",
   "metadata": {},
   "source": [
    "### 1.1 그래프 신경망"
   ]
  },
  {
   "cell_type": "markdown",
   "id": "personalized-consumer",
   "metadata": {},
   "source": [
    "#### 1.1.1 그래프 신경망 basic"
   ]
  },
  {
   "cell_type": "markdown",
   "id": "fitted-adapter",
   "metadata": {},
   "source": [
    "- 그래프 신경망의 구조\n",
    " - 그래프(인접행렬), 정점의 속성 정보(벡터)를 입력으로 받는다.\n",
    "- 임베딩을 원하는 정점이 있으면 그에 대한 이웃 정점들의 정보를 집계하여 임베딩한다.\n",
    " - 가변적인 입력을 처리할 수 있는 함수가 만들어져야 한다.\n",
    "  - 이웃들 정보의 평균을 계산하고 신경망에 적용하는 단계를 거친다.\n",
    "- 손실함수\n",
    " - 정점간 거리를 보존\n",
    "  - 그래프에서의 유사도 (인접성을 기반으로 유사도 정의)\n",
    " - 분류기의 경우\n",
    "  - 크로스 엔트로피\n",
    "   - 정점의 실제 유형과 정점의 임베딩을 비교하여 계산\n",
    "- 일부 대상 정점에 대한 계산 그래프를 구성한다.\n",
    "- Back propagation\n"
   ]
  },
  {
   "cell_type": "markdown",
   "id": "curious-belfast",
   "metadata": {},
   "source": [
    "#### 1.1.2 그래프 신경망 변형"
   ]
  },
  {
   "cell_type": "markdown",
   "id": "comparative-needle",
   "metadata": {},
   "source": [
    "- GCN( Graph Convolution Network)\n",
    "![a.png](./img/GCN.png)\n",
    "- GraphSAGE\n",
    " - Aggregation, concatenation이 큰 차이\n",
    "![b.png](./img/graphsage.png)\n"
   ]
  },
  {
   "cell_type": "markdown",
   "id": "double-windsor",
   "metadata": {},
   "source": [
    "#### 1.1.3 Convolution과의 차이"
   ]
  },
  {
   "cell_type": "markdown",
   "id": "blank-drama",
   "metadata": {},
   "source": [
    "- CNN\n",
    " - 이웃의 정보를 집계하는 과정을 반복한다.\n",
    " - 인접 픽셀이 유용한 정보를 담고있을 가능성이 높다.\n",
    "- GCN\n",
    " - 입력이 여러가지가 들어가는 것을 처리 가능해야한다.\n",
    " - 입력이 관련이 없기에 Convolution을 바로 사용하는 것은 유용하지 않다."
   ]
  },
  {
   "cell_type": "markdown",
   "id": "freelance-answer",
   "metadata": {},
   "source": [
    "### 1.2 그래프 신경망 심화"
   ]
  },
  {
   "cell_type": "markdown",
   "id": "impossible-ireland",
   "metadata": {},
   "source": [
    "#### 1.2.1 신경망에서의 어텐션\n",
    "- 기본 그래프 신경망의 한계\n",
    " - 이웃들의 정보를 동일한 가중치로 평균을 낸다.\n",
    " - 그래프 합성곱 신경망에서 역시 단순히 연결성을 고려한 가중치로 평균을 낸다.\n",
    "- GAT(Graph Attention Network)\n",
    " - 가중치 자체도 학습의 대상이다.\n",
    " - 정점 i로부터 이웃 j 로의 가중치 $a_ij$는 세 단계를 통해 계산합니다.\n",
    "  ![c.png](./img/GAT.png)\n"
   ]
  },
  {
   "cell_type": "markdown",
   "id": "wired-victory",
   "metadata": {},
   "source": [
    "#### 1.2.2 그래프 표현 학습과 정점 풀링"
   ]
  },
  {
   "cell_type": "markdown",
   "id": "individual-vault",
   "metadata": {},
   "source": [
    "- 그래프 표현 학습\n",
    " - 그래프 임베딩 : 그래프 전체를 벡터의 형태로 표현\n",
    "- 그래프 풀링\n",
    " - 정점 임베딩들로부터 그래프 임베딩을 얻는 과정\n",
    "- 그래프 신경망의 활용\n",
    " - 임베딩 얻기, 군집 찾기, 군집 내 합산에서 활용"
   ]
  },
  {
   "cell_type": "markdown",
   "id": "nervous-gravity",
   "metadata": {},
   "source": [
    "#### 1.2.3 지나친 획일화(Over-smoothing) 문제\n",
    "- 작은 세상 효과와 비슷한 현상\n",
    " - 2, 3개의 layer가 적절하다.\n",
    "- 해결책\n",
    " - Residual을 넣는다.\n",
    " - JK 네트워크\n",
    "  - 모든 층의 임베딩을 함께 사용한다.\n",
    " - APPNP\n",
    "  - 0번째 층을 제외하고는 신경망 없이 집계 함수를 단순화"
   ]
  },
  {
   "cell_type": "markdown",
   "id": "plain-heaven",
   "metadata": {},
   "source": [
    "#### 1.2.4 그래프 데이터의 증강\n",
    "- 데이터 증강\n",
    " - 유사도가 높은 정점 간의 간선을 추가하는 방법"
   ]
  },
  {
   "cell_type": "markdown",
   "id": "middle-mississippi",
   "metadata": {},
   "source": [
    "## 2. 피어 세션 정리"
   ]
  },
  {
   "cell_type": "markdown",
   "id": "adolescent-melbourne",
   "metadata": {},
   "source": [
    "#### 2.1 스터디"
   ]
  },
  {
   "cell_type": "markdown",
   "id": "amber-boring",
   "metadata": {},
   "source": [
    "- 2.1.1 군집에 대한 개념과 군집성을 구하는 수식과 코드를 설명하고 분석하였다. (발표: 배새봄)\n",
    "\n",
    "- 2.1.2 협업 필터링의 데이터셋 구성부터 학습결과까지 직접 구현한 코드를 가지고 설명하였다.(발표: 안동주)\n"
   ]
  },
  {
   "cell_type": "markdown",
   "id": "neutral-messenger",
   "metadata": {},
   "source": [
    "#### 2.2 원하는 진로를 잡고 논문 공부"
   ]
  },
  {
   "cell_type": "markdown",
   "id": "secret-queensland",
   "metadata": {},
   "source": [
    "- 새로운 논문 선택 gpt-1 읽기"
   ]
  },
  {
   "cell_type": "markdown",
   "id": "closed-negative",
   "metadata": {},
   "source": [
    "## 3. 진행중인 공부 및 신규 공부 목록"
   ]
  },
  {
   "cell_type": "markdown",
   "id": "knowing-feature",
   "metadata": {},
   "source": [
    "- 진행중인 공부  \n",
    "\n",
    "    - AI 기본 수학 : Mathematics for Machine learning - Marc Peter Deisenroth 4과 공부\n",
    "    - 웹 크롤링 및 데이터 처리 연습 익숙해지기\n",
    "    - Pytorch로 시작하는 딥러닝, Pytorch tutorial 공부  \n",
    "    - pytorch 데이터셋 설정"
   ]
  },
  {
   "cell_type": "markdown",
   "id": "extra-walnut",
   "metadata": {},
   "source": [
    "- 신규 공부 목록  \n"
   ]
  },
  {
   "cell_type": "markdown",
   "id": "military-technique",
   "metadata": {},
   "source": [
    "- 완료한 공부  "
   ]
  },
  {
   "cell_type": "markdown",
   "id": "organizational-small",
   "metadata": {},
   "source": [
    "## 4. 감사한 일"
   ]
  },
  {
   "cell_type": "markdown",
   "id": "simplified-english",
   "metadata": {},
   "source": [
    "- 컴퓨터 사이언스에 대한 부족한 부분을 채워주려고 다양한 자료와 제안을 해준 조원들에게 감사합니다."
   ]
  }
 ],
 "metadata": {
  "kernelspec": {
   "display_name": "Python 3",
   "language": "python",
   "name": "python3"
  },
  "language_info": {
   "codemirror_mode": {
    "name": "ipython",
    "version": 3
   },
   "file_extension": ".py",
   "mimetype": "text/x-python",
   "name": "python",
   "nbconvert_exporter": "python",
   "pygments_lexer": "ipython3",
   "version": "3.8.5"
  }
 },
 "nbformat": 4,
 "nbformat_minor": 5
}
