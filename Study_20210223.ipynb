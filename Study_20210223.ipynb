{
 "cells": [
  {
   "cell_type": "markdown",
   "metadata": {},
   "source": [
    "# **학업 일지**"
   ]
  },
  {
   "cell_type": "markdown",
   "metadata": {},
   "source": [
    "#### 오늘의 한마디  "
   ]
  },
  {
   "cell_type": "markdown",
   "metadata": {},
   "source": [
    "> **웹을 그래프로 이해하고 검색엔진 알고리즘을 구현한다.**"
   ]
  },
  {
   "cell_type": "markdown",
   "metadata": {},
   "source": [
    "## 1. 강의 정리"
   ]
  },
  {
   "cell_type": "markdown",
   "metadata": {},
   "source": [
    "### 1.1 PageRank"
   ]
  },
  {
   "cell_type": "markdown",
   "metadata": {},
   "source": [
    "#### 1.1.1 PageRank란 무엇인가?"
   ]
  },
  {
   "cell_type": "markdown",
   "metadata": {},
   "source": [
    "- 관련성이 높고 신뢰할 수 있는 정도를 각 노드마다 나타낸다."
   ]
  },
  {
   "cell_type": "markdown",
   "metadata": {},
   "source": [
    "#### 1.1.2 PageRank의 관점"
   ]
  },
  {
   "cell_type": "markdown",
   "metadata": {},
   "source": [
    "- 투표의 관점\n",
    " - 각 노드의 페이지랭크 점수를 out degree를 나누어 주어 도착노드에 더해준다. 이후 연립방정식을 풀어 각 페이지랭크 점수를 구한다."
   ]
  },
  {
   "cell_type": "markdown",
   "metadata": {},
   "source": [
    "- Random Walk의 관점\n",
    " - 웹서퍼가 있다고 가정하여 균일한 확률로 노드중 하나를 고른다고 가정한다. -> 지속적으로 진행하면 확률분포는 수렴하게 된다."
   ]
  },
  {
   "cell_type": "markdown",
   "metadata": {},
   "source": [
    "#### 1.1.4 페이지랭크의 계산\n",
    "- 반복곱을 사용하여 구한다.\n",
    "- 문제점 \n",
    " - Spider Trap에 의한 문제\n",
    " - Dead End에 의한 문제 (0으로 수렴)\n",
    "  - 순간이동 : Damping Factor a를 정의하여 (1-a)의 확률로 임의의 노드로 이동한다. a는 0.8정도로 사용한다."
   ]
  },
  {
   "cell_type": "markdown",
   "metadata": {},
   "source": [
    "### 1.2 그래프 전파"
   ]
  },
  {
   "cell_type": "markdown",
   "metadata": {},
   "source": [
    "#### 1.2.1 수학적 모형화"
   ]
  },
  {
   "cell_type": "markdown",
   "metadata": {},
   "source": [
    "- 복잡\n",
    "얼리어답터 = 시드 집합(Seed Set)\n",
    "- 의사결정 기반의 전파 모형 \n",
    " - 선형 임계치 모형(Linear Threshold Model) - 확률적 해석까지 사용\n",
    "- 확률적 전파 모형\n",
    " - 독립적 전파 모형(Independent Cascade Model)"
   ]
  },
  {
   "cell_type": "markdown",
   "metadata": {},
   "source": [
    "#### 1.2.2 바이럴 마케팅과 전파 최대화 문제\n",
    "- 전파 최대화 문제 : 전파를 최대화 하기 위한 시드 집합을 찾는 문제\n",
    " - 정점 중심성(Node Centrality) - 휴리스틱\n",
    "  - 페이지랭크 점수, 연결 중심성, 근접 중심성, 매개 중심성\n",
    " - 탐욕 알고리즘(Greedy Algorithm)"
   ]
  },
  {
   "cell_type": "markdown",
   "metadata": {},
   "source": [
    "#### 1.2.3 독립적 전파 모형 시뮬레이터\n"
   ]
  },
  {
   "cell_type": "markdown",
   "metadata": {},
   "source": [
    "## 2. 피어 세션 정리"
   ]
  },
  {
   "cell_type": "markdown",
   "metadata": {},
   "source": [
    "#### 2.1 스터디"
   ]
  },
  {
   "cell_type": "markdown",
   "metadata": {},
   "source": [
    "- 2.1.1 Graph의 특성들에 대해서 설명하고 코드를 통해 상세하게 살펴보았다.(발표: 김상현)\n",
    "\n",
    "- 2.1.2 랜덤 그래프와 실제 그래프의 특징을 발표하고 실제 연산을 통해 구체적으로 확인하였다. (발표: 변재경)\n"
   ]
  },
  {
   "cell_type": "markdown",
   "metadata": {},
   "source": [
    "#### 2.2 원하는 진로를 잡고 논문 공부"
   ]
  },
  {
   "cell_type": "markdown",
   "metadata": {},
   "source": [
    "- 새로운 논문 선택 gpt-1 읽기"
   ]
  },
  {
   "cell_type": "markdown",
   "metadata": {},
   "source": [
    "## 3. 진행중인 공부 및 신규 공부 목록"
   ]
  },
  {
   "cell_type": "markdown",
   "metadata": {},
   "source": [
    "- 진행중인 공부  \n",
    "\n",
    "    - AI 기본 수학 : Mathematics for Machine learning - Marc Peter Deisenroth 4과 공부\n",
    "    - 웹 크롤링 및 데이터 처리 연습 익숙해지기\n",
    "    - Pytorch로 시작하는 딥러닝, Pytorch tutorial 공부  \n",
    "    - pytorch 데이터셋 설정"
   ]
  },
  {
   "cell_type": "markdown",
   "metadata": {},
   "source": [
    "- 신규 공부 목록  \n"
   ]
  },
  {
   "cell_type": "markdown",
   "metadata": {},
   "source": [
    "- 완료한 공부  "
   ]
  },
  {
   "cell_type": "markdown",
   "metadata": {},
   "source": [
    "## 4. 감사한 일"
   ]
  },
  {
   "cell_type": "markdown",
   "metadata": {},
   "source": [
    "- 어떤 길을 갈지 같이 이야기하면서 고민을 공유한 팀원들에게 감사합니다."
   ]
  }
 ],
 "metadata": {
  "kernelspec": {
   "display_name": "Python 3",
   "language": "python",
   "name": "python3"
  },
  "language_info": {
   "codemirror_mode": {
    "name": "ipython",
    "version": 3
   },
   "file_extension": ".py",
   "mimetype": "text/x-python",
   "name": "python",
   "nbconvert_exporter": "python",
   "pygments_lexer": "ipython3",
   "version": "3.8.5"
  }
 },
 "nbformat": 4,
 "nbformat_minor": 5
}
