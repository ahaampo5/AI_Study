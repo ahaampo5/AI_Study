{
 "cells": [
  {
   "cell_type": "markdown",
   "id": "33c34bad",
   "metadata": {},
   "source": [
    "# Daily Report"
   ]
  },
  {
   "cell_type": "markdown",
   "id": "17164bfe",
   "metadata": {},
   "source": [
    "> On Recognizing Texts of Arbitrary Shapes with 2D Self-Attention 논문 정리  \n",
    "Normalization"
   ]
  },
  {
   "cell_type": "markdown",
   "id": "0674d085",
   "metadata": {},
   "source": [
    "## Abstract"
   ]
  },
  {
   "cell_type": "markdown",
   "id": "b82f2967",
   "metadata": {},
   "source": [
    "- Self-Attention Text Recognition Network\n",
    "- describe 2D spatial dependencies\n"
   ]
  },
  {
   "cell_type": "markdown",
   "id": "c79e25c6",
   "metadata": {},
   "source": [
    "## Introduction"
   ]
  },
  {
   "cell_type": "markdown",
   "id": "d2a2766f",
   "metadata": {},
   "source": [
    "- Key words : scene text recognition(STR), \n",
    "\n",
    "- 2D feature map을 사용하려면 더 복잡한 구조를 도입해야 한다.\n",
    "\n",
    "- 세 가지 새로운 모듈 제안\n",
    " - Shallow CNN block\n",
    " - Adaptive 2D positional encoding\n",
    " - Locality-aware feedforward layer(LAF)\n",
    "\n",
    "- 세 가지 개선점\n",
    " - Attention mechanism for irregular benchmark datasets\n",
    " - useful modifications to make the Transformer encoder suitable for 2D input\n",
    " - empirical analyses\n"
   ]
  },
  {
   "cell_type": "markdown",
   "id": "81c162b1",
   "metadata": {},
   "source": [
    "## Related Works"
   ]
  },
  {
   "cell_type": "markdown",
   "id": "066be1e2",
   "metadata": {},
   "source": [
    "- Structure\n",
    " - Text Detection \n",
    " - Text Localization\n",
    " - Text Verification\n",
    " - Text Segmentation\n",
    " - Text Recognition\n",
    " - Natural language Precessing\n"
   ]
  },
  {
   "cell_type": "markdown",
   "id": "3471389d",
   "metadata": {},
   "source": [
    "<img src=\"../../../Daily_study/img/STR_structure.png\" alt=\"STR_struecure\">"
   ]
  },
  {
   "cell_type": "markdown",
   "id": "1c65c774",
   "metadata": {},
   "source": [
    "- Issues\n",
    " - Script Identification\n",
    "   - Image 데이터이므로 문자를 문자로 인식하는 것이 어려울 수 있다.\n",
    " - Text enhancement\n",
    " - Text tracking\n",
    " - Natural language processing"
   ]
  },
  {
   "cell_type": "markdown",
   "id": "7c510c97",
   "metadata": {},
   "source": [
    "## Methodologies"
   ]
  },
  {
   "cell_type": "markdown",
   "id": "730b4b45",
   "metadata": {},
   "source": [
    "- Cropped Scene Text Image Recognition : 잘라서 연속된 순서로 재설정\n",
    " - Segmentation-Based Methods\n",
    "   - 3-steps : image preprocessing, character segmentation, character recognition \n",
    "   \n",
    " - Segmentation-Free Methods\n",
    "   - 4-steps : image preprocessing, feature representation, sequence modeling, prediction\n",
    "- Image preprocessing stage\n",
    " - Background Removal : Generative adversarial networks(GANs)\n",
    "   - \"which reduced recognition difficulties and dramatically boosted performance\"\n",
    " - Text Image Super-Resolution(TextSR) : \n",
    " - Rectification : normalize, remove the distortion\n",
    "   - spatial transformer network(STN) -> Thin-Plate_Spline(TPS) -> multi-object rectification network -> symmetry-constrained rectification network\n",
    "\n",
    "- Feature Representation Stage\n",
    " - CNN : \n",
    "\n",
    "- Sequence Modeling Stage\n",
    " - BiLSTM : \n",
    "\n",
    "- Prediction Stage\n",
    " - Connectionist temporal classification(CTC)\n",
    "\n",
    "- Attention Mechanism\n",
    " - Applying to 2D prediction problems\n",
    " - Improving the construction of implicit language model\n",
    " - Improving parallelization and reducing complexity\n",
    " - Addressing attention drift"
   ]
  },
  {
   "cell_type": "markdown",
   "id": "fc047ac7",
   "metadata": {},
   "source": []
  },
  {
   "cell_type": "markdown",
   "id": "45e5bcfe",
   "metadata": {},
   "source": [
    "## Normalization"
   ]
  },
  {
   "cell_type": "code",
   "execution_count": null,
   "id": "6a19e98d",
   "metadata": {},
   "outputs": [],
   "source": [
    "https://kozodoi.me/python/deep%20learning/pytorch/tutorial/2021/03/08/image-mean-std.html"
   ]
  },
  {
   "cell_type": "code",
   "execution_count": null,
   "id": "c4b24f6f",
   "metadata": {},
   "outputs": [],
   "source": [
    "sum = np.array([0.,0.,0.])\n",
    "sum_sq = np.array([0.,0.,0.])\n",
    "for i in tqdm(df['image_name']):\n",
    "    img = cv2.imread(PREFIX + i)\n",
    "    img = cv2.cvtColor(img, cv2.COLOR_BGR2RGB)\n",
    "    img = cv2.resize(img, dsize=(128, 128))\n",
    "    img = img.transpose(2,0,1).astype(float)\n",
    "    sum += np.sum(img, axis=(-1,-2))\n",
    "    sum_sq += np.sum(np.power(img,2), axis=(-1,-2))"
   ]
  },
  {
   "cell_type": "code",
   "execution_count": null,
   "id": "2dc67e83",
   "metadata": {},
   "outputs": [],
   "source": [
    "count = len(df['image_name']) * 128 * 512\n",
    "\n",
    "total_mean = sum / count\n",
    "total_var  = (sum_sq / count) - (total_mean ** 2)\n",
    "total_std  = torch.sqrt(total_var)"
   ]
  },
  {
   "cell_type": "code",
   "execution_count": null,
   "id": "a842115b",
   "metadata": {},
   "outputs": [],
   "source": [
    "total_mean, total_std"
   ]
  }
 ],
 "metadata": {
  "kernelspec": {
   "display_name": "Python 3",
   "language": "python",
   "name": "python3"
  },
  "language_info": {
   "codemirror_mode": {
    "name": "ipython",
    "version": 3
   },
   "file_extension": ".py",
   "mimetype": "text/x-python",
   "name": "python",
   "nbconvert_exporter": "python",
   "pygments_lexer": "ipython3",
   "version": "3.8.8"
  }
 },
 "nbformat": 4,
 "nbformat_minor": 5
}
