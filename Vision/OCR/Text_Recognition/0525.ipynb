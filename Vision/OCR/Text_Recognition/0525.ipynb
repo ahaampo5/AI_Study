{
 "cells": [
  {
   "cell_type": "markdown",
   "id": "33c34bad",
   "metadata": {},
   "source": [
    "# Daily Report"
   ]
  },
  {
   "cell_type": "markdown",
   "id": "17164bfe",
   "metadata": {},
   "source": [
    "### Text Recognition inthe Wile:A Survey 논문 정리"
   ]
  },
  {
   "cell_type": "markdown",
   "id": "0674d085",
   "metadata": {},
   "source": [
    "## Abstract"
   ]
  },
  {
   "cell_type": "markdown",
   "id": "b82f2967",
   "metadata": {},
   "source": [
    "- summerize the fundamental problems and state-of-the-art\n",
    "- new insights and ideas\n",
    "- comprehensive review of publicly available resources\n",
    "- directions for future work"
   ]
  },
  {
   "cell_type": "markdown",
   "id": "c79e25c6",
   "metadata": {},
   "source": [
    "## Introduction"
   ]
  },
  {
   "cell_type": "markdown",
   "id": "d2a2766f",
   "metadata": {},
   "source": [
    "- Key words : scene text recognition(STR), optical character, recognition(OCR)\n",
    "\n",
    "- STR\n",
    " - Complex background\n",
    " - Multiple colors, irregular fonts, different sizes, and diverse orientations\n",
    " - Distorted by nonumiform illumination, los resolution, and motion blurring\n",
    " - Captured ramdomly in its native environment\n",
    "\n",
    "- OCR\n",
    " - Clean background\n",
    " - Single coor, regular font, consistent size and uniform arrangement\n",
    " - Clear and frontal\n",
    " - Occupied the main part of the images\n",
    "\n"
   ]
  },
  {
   "cell_type": "markdown",
   "id": "a2b6ee77",
   "metadata": {},
   "source": [
    "<img src=\"../../../Daily_study/img/OCR_STR.png\" alt=\"OCR_STR\">"
   ]
  },
  {
   "cell_type": "markdown",
   "id": "81c162b1",
   "metadata": {},
   "source": [
    "## BackGround"
   ]
  },
  {
   "cell_type": "markdown",
   "id": "066be1e2",
   "metadata": {},
   "source": [
    "- Structure\n",
    " - Text Detection \n",
    " - Text Localization\n",
    " - Text Verification\n",
    " - Text Segmentation\n",
    " - Text Recognition\n",
    " - Natural language Precessing\n"
   ]
  },
  {
   "cell_type": "markdown",
   "id": "3471389d",
   "metadata": {},
   "source": [
    "<img src=\"../../../Daily_study/img/STR_structure.png\" alt=\"STR_struecure\">"
   ]
  },
  {
   "cell_type": "markdown",
   "id": "1c65c774",
   "metadata": {},
   "source": [
    "- Issues\n",
    " - Script Identification\n",
    "   - Image 데이터이므로 문자를 문자로 인식하는 것이 어려울 수 있다.\n",
    " - Text enhancement\n",
    " - Text tracking\n",
    " - Natural language processing"
   ]
  },
  {
   "cell_type": "markdown",
   "id": "7c510c97",
   "metadata": {},
   "source": [
    "## Methodologies"
   ]
  },
  {
   "cell_type": "markdown",
   "id": "730b4b45",
   "metadata": {},
   "source": [
    "- Cropped Scene Text Image Recognition : 잘라서 연속된 순서로 재설정\n",
    " - Segmentation-Based Methods\n",
    "   - 3-steps : image preprocessing, character segmentation, character recognition \n",
    "   \n",
    " - Segmentation-Free Methods\n",
    "   - 4-steps : image preprocessing, feature representation, sequence modeling, prediction\n",
    "- Image preprocessing stage\n",
    " - Background Removal : Generative adversarial networks(GANs)\n",
    "   - \"which reduced recognition difficulties and dramatically boosted performance\"\n",
    " - Text Image Super-Resolution(TextSR) : \n",
    " - Rectification : normalize, remove the distortion\n",
    "   - spatial transformer network(STN) -> Thin-Plate_Spline(TPS) -> multi-object rectification network -> symmetry-constrained rectification network\n",
    "\n",
    "- Feature Representation Stage\n",
    " - CNN : \n",
    "\n",
    "- Sequence Modeling Stage\n",
    " - BiLSTM : \n",
    "\n",
    "- Prediction Stage\n",
    " - Connectionist temporal classification(CTC)\n",
    "\n",
    "- Attention Mechanism\n",
    " - Applying to 2D prediction problems\n",
    " - Improving the construction of implicit language model\n",
    " - Improving parallelization and reducing complexity\n",
    " - Addressing attention drift"
   ]
  },
  {
   "cell_type": "markdown",
   "id": "fc047ac7",
   "metadata": {},
   "source": []
  }
 ],
 "metadata": {
  "kernelspec": {
   "display_name": "Python 3",
   "language": "python",
   "name": "python3"
  },
  "language_info": {
   "codemirror_mode": {
    "name": "ipython",
    "version": 3
   },
   "file_extension": ".py",
   "mimetype": "text/x-python",
   "name": "python",
   "nbconvert_exporter": "python",
   "pygments_lexer": "ipython3",
   "version": "3.8.8"
  }
 },
 "nbformat": 4,
 "nbformat_minor": 5
}
