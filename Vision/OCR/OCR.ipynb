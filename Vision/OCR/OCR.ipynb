{
 "cells": [
  {
   "cell_type": "markdown",
   "id": "31cf2184",
   "metadata": {},
   "source": [
    "# What is OCR?"
   ]
  },
  {
   "cell_type": "markdown",
   "id": "758cca88",
   "metadata": {},
   "source": [
    "# Introduction"
   ]
  },
  {
   "cell_type": "markdown",
   "id": "56cf9972",
   "metadata": {},
   "source": [
    "### Localization"
   ]
  },
  {
   "cell_type": "markdown",
   "id": "6c5593a3",
   "metadata": {},
   "source": [
    "- Instant Object Detection\n",
    " - Faster RCNN\n",
    "   - 2stage\n",
    "   - RPN\n",
    " - SSD\n",
    "   - 1stage\n",
    " - Neck\n",
    "   - FPN\n",
    "- Instant Segmentation\n",
    " - U-Net\n",
    " - Mask RCNN\n",
    "   - Object Detection(Faster RCNN) + Semantic Segmentation\n",
    "   "
   ]
  },
  {
   "cell_type": "markdown",
   "id": "41b380d7",
   "metadata": {},
   "source": [
    "\n",
    "### Recogonition"
   ]
  },
  {
   "cell_type": "code",
   "execution_count": null,
   "id": "cbb9942c",
   "metadata": {},
   "outputs": [],
   "source": []
  }
 ],
 "metadata": {
  "kernelspec": {
   "display_name": "Python 3",
   "language": "python",
   "name": "python3"
  },
  "language_info": {
   "codemirror_mode": {
    "name": "ipython",
    "version": 3
   },
   "file_extension": ".py",
   "mimetype": "text/x-python",
   "name": "python",
   "nbconvert_exporter": "python",
   "pygments_lexer": "ipython3",
   "version": "3.8.8"
  }
 },
 "nbformat": 4,
 "nbformat_minor": 5
}
