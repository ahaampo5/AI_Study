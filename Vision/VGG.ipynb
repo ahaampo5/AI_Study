{
 "cells": [
  {
   "cell_type": "code",
   "execution_count": 1,
   "id": "impossible-helicopter",
   "metadata": {},
   "outputs": [
    {
     "name": "stdout",
     "output_type": "stream",
     "text": [
      "Pytorch version : 1.7.1\n",
      "Device : cuda:0\n"
     ]
    }
   ],
   "source": [
    "import os\n",
    "import torch\n",
    "import torch.nn as nn\n",
    "import torch.optim as optim\n",
    "import torch.nn.functional as F\n",
    "from torch.utils.data import DataLoader\n",
    "from torchvision import datasets, transforms\n",
    "print('Pytorch version :', torch.__version__)\n",
    "device = torch.device('cuda:0' if torch.cuda.is_available() else 'cpu')\n",
    "print('Device :',device)"
   ]
  },
  {
   "cell_type": "code",
   "execution_count": 2,
   "id": "suspended-democrat",
   "metadata": {
    "scrolled": true
   },
   "outputs": [
    {
     "name": "stdout",
     "output_type": "stream",
     "text": [
      "Files already downloaded and verified\n",
      "Files already downloaded and verified\n"
     ]
    }
   ],
   "source": [
    "train_data = datasets.CIFAR100(root='data',train=True,transform=transforms.ToTensor(),download=True)\n",
    "test_data = datasets.CIFAR100(root='data',train=False,transform=transforms.ToTensor(),download=True)"
   ]
  },
  {
   "cell_type": "code",
   "execution_count": 3,
   "id": "moderate-gates",
   "metadata": {},
   "outputs": [
    {
     "data": {
      "text/plain": [
       "torch.Size([3, 32, 32])"
      ]
     },
     "execution_count": 3,
     "metadata": {},
     "output_type": "execute_result"
    }
   ],
   "source": [
    "train_data.__getitem__(0)[0].size()"
   ]
  },
  {
   "cell_type": "code",
   "execution_count": 4,
   "id": "continued-threshold",
   "metadata": {},
   "outputs": [],
   "source": [
    "BATCH_SIZE = 512\n",
    "train_iter = DataLoader(train_data,batch_size=BATCH_SIZE,shuffle=True,num_workers=1)\n",
    "test_iter = DataLoader(test_data,batch_size=BATCH_SIZE,shuffle=True,num_workers=1)"
   ]
  },
  {
   "cell_type": "code",
   "execution_count": 5,
   "id": "single-logic",
   "metadata": {},
   "outputs": [],
   "source": [
    "import torch\n",
    "import torch.nn as nn\n",
    "\n",
    "class VGG(nn.Module):\n",
    "    def __init__(self, num_classes=100):\n",
    "        super(VGG, self).__init__()\n",
    "\n",
    "        self.relu = nn.ReLU(inplace=True)\n",
    "\n",
    "        # Convolution Feature Extraction Part\n",
    "        self.conv1 = nn.Conv2d(3, 64, kernel_size=3, padding=1) # 64,width,height\n",
    "        self.bn1   = nn.BatchNorm2d(64)\n",
    "        self.pool1 = nn.MaxPool2d(kernel_size=2, stride=2) # 64, width/2, height/2\n",
    "\n",
    "        '''==========================================================='''\n",
    "        '''======================== TO DO (1) ========================'''\n",
    "        self.conv2 = nn.Conv2d(64, 128, kernel_size=3, padding=1) # 128, width/2, height/2\n",
    "        self.bn2   = nn.BatchNorm2d(128)\n",
    "        self.pool2 = nn.MaxPool2d(kernel_size=2, stride=2) # 128, width/4, height/4\n",
    "\n",
    "        self.conv3_1 = nn.Conv2d(128,256, kernel_size=3, padding=1) # 256, width/4, height/4\n",
    "        self.bn3_1   = nn.BatchNorm2d(256)\n",
    "        self.conv3_2 = nn.Conv2d(256,256, kernel_size=3, padding=1) # 256, width/4, height/4\n",
    "        self.bn3_2   = nn.BatchNorm2d(256)\n",
    "        self.pool3   = nn.MaxPool2d(kernel_size=2, stride=2) # 256, width/8, height/8\n",
    "\n",
    "        self.conv4_1 = nn.Conv2d(256,512, kernel_size=3, padding=1) # 512, width/8, height/8\n",
    "        self.bn4_1   = nn.BatchNorm2d(512)\n",
    "        self.conv4_2 = nn.Conv2d(512,512, kernel_size=3, padding=1) # 512, width/8, height/8\n",
    "        self.bn4_2   = nn.BatchNorm2d(512)\n",
    "        self.pool4   = nn.MaxPool2d(kernel_size=2, stride=2) # 512, width/16, height/16\n",
    "\n",
    "        self.conv5_1 = nn.Conv2d(512,512, kernel_size=3, padding=1) # 512, width/16, height/16\n",
    "        self.bn5_1   = nn.BatchNorm2d(512)\n",
    "        self.conv5_2 = nn.Conv2d(512,512, kernel_size=3, padding=1) # 512, width/16, height/16\n",
    "        self.bn5_2   = nn.BatchNorm2d(512)\n",
    "        self.pool5   = nn.MaxPool2d(kernel_size=2, stride=2) # 512, width/32, height/32\n",
    "        '''======================== TO DO (1) ========================'''\n",
    "        '''==========================================================='''\n",
    "\n",
    "\n",
    "        # Fully Connected Classifier Part\n",
    "        self.fc1      = nn.Linear(512 * 1 * 1, 4096)\n",
    "        self.dropout1 = nn.Dropout()\n",
    "\n",
    "        '''==========================================================='''\n",
    "        '''======================== TO DO (2) ========================'''\n",
    "        self.fc2      = nn.Linear(4096,4096)\n",
    "        self.dropout2 = nn.Dropout()\n",
    "\n",
    "        self.fc3      = nn.Linear(4096,100)\n",
    "        '''======================== TO DO (2) ========================'''\n",
    "        '''==========================================================='''\n",
    "\n",
    "    def forward(self, x):\n",
    "        # Convolution Feature Extraction Part\n",
    "        x = self.conv1(x)\n",
    "        x = self.bn1(x)\n",
    "        x = self.relu(x)\n",
    "        x = self.pool1(x)\n",
    "\n",
    "        x = self.conv2(x)\n",
    "        x = self.bn2(x)\n",
    "        x = self.relu(x)\n",
    "        x = self.pool2(x)\n",
    "\n",
    "        x = self.conv3_1(x)\n",
    "        x = self.bn3_1(x)\n",
    "        x = self.relu(x)\n",
    "        x = self.conv3_2(x)\n",
    "        x = self.bn3_2(x)\n",
    "        x = self.relu(x)\n",
    "        x = self.pool3(x)\n",
    "\n",
    "        x = self.conv4_1(x)\n",
    "        x = self.bn4_1(x)\n",
    "        x = self.relu(x)\n",
    "        x = self.conv4_2(x)\n",
    "        x = self.bn4_2(x)\n",
    "        x = self.relu(x)\n",
    "        x = self.pool4(x)\n",
    "\n",
    "        x = self.conv5_1(x)\n",
    "        x = self.bn5_1(x)\n",
    "        x = self.relu(x)\n",
    "        x = self.conv5_2(x)\n",
    "        x = self.bn5_2(x)\n",
    "        x = self.relu(x)\n",
    "        x = self.pool5(x)\n",
    "\n",
    "        # Fully Connected Classifier Part\n",
    "        x = torch.flatten(x,1)\n",
    "        x = self.fc1(x)\n",
    "        x = self.relu(x)\n",
    "        x = self.dropout1(x)\n",
    "\n",
    "        x = self.fc2(x)\n",
    "        x = self.relu(x)\n",
    "        x = self.dropout2(x)\n",
    "\n",
    "        x = self.fc3(x)\n",
    "        return x"
   ]
  },
  {
   "cell_type": "code",
   "execution_count": 6,
   "id": "thrown-formula",
   "metadata": {},
   "outputs": [
    {
     "name": "stdout",
     "output_type": "stream",
     "text": [
      "Output tensor shape is : torch.Size([1, 100])\n"
     ]
    }
   ],
   "source": [
    "# Network\n",
    "model = VGG(num_classes=100)\n",
    "\n",
    "# Random input\n",
    "x = torch.randn((1, 3, 32, 32))\n",
    "\n",
    "# Forward\n",
    "out = model(x)\n",
    "\n",
    "# Check the output shape\n",
    "print(\"Output tensor shape is :\", out.shape)"
   ]
  },
  {
   "cell_type": "code",
   "execution_count": 7,
   "id": "grateful-stylus",
   "metadata": {},
   "outputs": [],
   "source": [
    "model = VGG().to(device)\n",
    "criterion = nn.CrossEntropyLoss()\n",
    "optimizer = optim.Adam(model.parameters(),lr=1e-4)"
   ]
  },
  {
   "cell_type": "code",
   "execution_count": 8,
   "id": "silent-canyon",
   "metadata": {},
   "outputs": [],
   "source": [
    "def eval_func(model,data_iter,device):\n",
    "    model.eval()\n",
    "    with torch.no_grad():\n",
    "        count, total_count = 0,0\n",
    "        for batch_in, batch_label in data_iter:\n",
    "            x = batch_in.to(device)\n",
    "            y = batch_label.to(device)\n",
    "            y_pred = model.forward(x)\n",
    "            y_ = torch.argmax(y_pred, dim=-1)\n",
    "            count += (y==y_).sum().item()\n",
    "            total_count += batch_in.size(0)\n",
    "    model.train()\n",
    "    return count/total_count"
   ]
  },
  {
   "cell_type": "code",
   "execution_count": 9,
   "id": "behavioral-republic",
   "metadata": {},
   "outputs": [
    {
     "data": {
      "text/plain": [
       "0.01"
      ]
     },
     "execution_count": 9,
     "metadata": {},
     "output_type": "execute_result"
    }
   ],
   "source": [
    "eval_func(model,train_iter,device)"
   ]
  },
  {
   "cell_type": "code",
   "execution_count": 23,
   "id": "happy-leave",
   "metadata": {},
   "outputs": [
    {
     "data": {
      "text/plain": [
       "tensor([[[4., 2., 1., 2., 1., 3., 6., 0.],\n",
       "         [1., 2., 0., 2., 1., 3., 5., 4.],\n",
       "         [7., 4., 6., 7., 0., 1., 6., 6.],\n",
       "         [4., 0., 7., 1., 3., 3., 5., 0.],\n",
       "         [3., 0., 7., 1., 2., 5., 7., 6.],\n",
       "         [3., 4., 2., 1., 0., 2., 7., 3.],\n",
       "         [6., 4., 4., 0., 6., 6., 6., 7.],\n",
       "         [4., 1., 5., 6., 4., 3., 6., 5.]],\n",
       "\n",
       "        [[5., 2., 0., 3., 2., 4., 5., 3.],\n",
       "         [0., 1., 2., 3., 2., 5., 0., 5.],\n",
       "         [7., 4., 2., 1., 3., 6., 5., 0.],\n",
       "         [0., 1., 2., 7., 6., 2., 2., 5.],\n",
       "         [4., 6., 6., 4., 1., 2., 0., 5.],\n",
       "         [5., 0., 4., 0., 2., 5., 1., 6.],\n",
       "         [2., 4., 4., 7., 2., 1., 6., 3.],\n",
       "         [1., 0., 3., 1., 5., 5., 2., 0.]],\n",
       "\n",
       "        [[0., 3., 7., 2., 3., 0., 3., 4.],\n",
       "         [6., 6., 0., 7., 0., 2., 2., 7.],\n",
       "         [5., 0., 2., 7., 4., 5., 1., 4.],\n",
       "         [1., 3., 3., 2., 7., 4., 2., 5.],\n",
       "         [1., 2., 7., 0., 4., 3., 1., 2.],\n",
       "         [4., 2., 2., 2., 2., 1., 5., 6.],\n",
       "         [7., 3., 6., 3., 5., 3., 7., 3.],\n",
       "         [2., 1., 2., 3., 6., 3., 0., 5.]]])"
      ]
     },
     "execution_count": 23,
     "metadata": {},
     "output_type": "execute_result"
    }
   ],
   "source": [
    "num = torch.randint(0,8,(3,8,8)).type(torch.Tensor)\n",
    "num"
   ]
  },
  {
   "cell_type": "code",
   "execution_count": 26,
   "id": "horizontal-hayes",
   "metadata": {
    "scrolled": true
   },
   "outputs": [
    {
     "data": {
      "text/plain": [
       "tensor([[[1.6667, 1.6250, 3.5000],\n",
       "         [4.6667, 3.5000, 3.5000],\n",
       "         [3.1667, 2.5000, 5.0000],\n",
       "         [4.0000, 4.2500, 5.5000]],\n",
       "\n",
       "        [[1.6667, 2.6250, 3.6667],\n",
       "         [2.6667, 3.6250, 3.3333],\n",
       "         [4.1667, 3.0000, 3.1667],\n",
       "         [2.3333, 3.5000, 2.8333]],\n",
       "\n",
       "        [[3.6667, 2.6250, 3.0000],\n",
       "         [2.3333, 4.2500, 3.5000],\n",
       "         [3.0000, 2.6250, 3.0000],\n",
       "         [3.5000, 3.8750, 3.5000]]])"
      ]
     },
     "execution_count": 26,
     "metadata": {},
     "output_type": "execute_result"
    }
   ],
   "source": [
    "a = nn.AdaptiveAvgPool2d((4,3))\n",
    "a(num)"
   ]
  },
  {
   "cell_type": "code",
   "execution_count": 41,
   "id": "anonymous-landscape",
   "metadata": {
    "scrolled": true
   },
   "outputs": [
    {
     "name": "stdout",
     "output_type": "stream",
     "text": [
      "EPOCH : 0, train_acc : 0.17022, test_acc : 0.1642\n",
      "EPOCH : 1, train_acc : 0.30734, test_acc : 0.2763\n",
      "EPOCH : 2, train_acc : 0.4009, test_acc : 0.3279\n",
      "EPOCH : 3, train_acc : 0.50264, test_acc : 0.3613\n",
      "EPOCH : 4, train_acc : 0.57984, test_acc : 0.364\n",
      "EPOCH : 5, train_acc : 0.70262, test_acc : 0.3755\n",
      "EPOCH : 6, train_acc : 0.73908, test_acc : 0.3554\n",
      "EPOCH : 7, train_acc : 0.74216, test_acc : 0.3292\n",
      "EPOCH : 8, train_acc : 0.85366, test_acc : 0.3596\n",
      "EPOCH : 9, train_acc : 0.85792, test_acc : 0.3405\n"
     ]
    }
   ],
   "source": [
    "os.makedirs('./log', exist_ok=True)\n",
    "EPOCH = 10\n",
    "model.train()\n",
    "for epoch in range(EPOCH):\n",
    "    for batch_in, batch_label in train_iter:\n",
    "        x = batch_in.to(device)\n",
    "        y = batch_label.to(device)\n",
    "        y_pred = model.forward(x)\n",
    "        optimizer.zero_grad()\n",
    "        loss = criterion(y_pred, y)\n",
    "        loss.backward()\n",
    "        optimizer.step()\n",
    "    train_acc = eval_func(model,train_iter,device)\n",
    "    test_acc = eval_func(model,test_iter,device)\n",
    "    print(f'EPOCH : {epoch}, train_acc : {train_acc}, test_acc : {test_acc}')"
   ]
  },
  {
   "cell_type": "code",
   "execution_count": null,
   "id": "respected-supervision",
   "metadata": {},
   "outputs": [],
   "source": [
    "num_choice = 25\n",
    "choice = np.random.choice(60000,num_choice,replace=False)\n",
    "x = train_data.data[choice]\n",
    "t = train_data.target[choice]"
   ]
  },
  {
   "cell_type": "code",
   "execution_count": 45,
   "id": "public-bunny",
   "metadata": {},
   "outputs": [],
   "source": [
    "\n"
   ]
  }
 ],
 "metadata": {
  "kernelspec": {
   "display_name": "Python 3",
   "language": "python",
   "name": "python3"
  },
  "language_info": {
   "codemirror_mode": {
    "name": "ipython",
    "version": 3
   },
   "file_extension": ".py",
   "mimetype": "text/x-python",
   "name": "python",
   "nbconvert_exporter": "python",
   "pygments_lexer": "ipython3",
   "version": "3.8.5"
  }
 },
 "nbformat": 4,
 "nbformat_minor": 5
}
