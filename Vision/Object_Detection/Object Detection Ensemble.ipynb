{
 "cells": [
  {
   "cell_type": "markdown",
   "id": "169110ff",
   "metadata": {},
   "source": [
    "# Object Detection Ensemble"
   ]
  },
  {
   "cell_type": "markdown",
   "id": "98aa55cb",
   "metadata": {},
   "source": [
    "## Introduction"
   ]
  },
  {
   "cell_type": "markdown",
   "id": "2867f992",
   "metadata": {},
   "source": [
    "- 다양한 모델의 결과를 통합하여 향상된 결과를 도출한다. 대표적으로 NMS, soft-NMS, NMW, WBF 4가지 방법이 있다."
   ]
  },
  {
   "cell_type": "markdown",
   "id": "a184323e",
   "metadata": {},
   "source": [
    "현재 가장 좋은 성능을 가지는 WBF 적용\n",
    "https://arxiv.org/pdf/1910.13302.pdf"
   ]
  },
  {
   "cell_type": "markdown",
   "id": "7b366181",
   "metadata": {},
   "source": [
    "- NMS : 겹치는 대상을 제거\n",
    "- soft-NMS : 겹치는 대상을 순차적으로 제거\n",
    "- WBF : 전체 box의 confidence score를 고려하여 fused 박스를 만들어서 결과를 도출하는 식으로 진행\n",
    " - 모델이 다른 경우에 계속해서 오르는 양상을 보였다. confidence score를 구하는 과정에 대한 이해도를 높여서 다시 생각해볼 필요가 있을 것 같다."
   ]
  },
  {
   "cell_type": "code",
   "execution_count": null,
   "id": "59d12784",
   "metadata": {},
   "outputs": [],
   "source": []
  }
 ],
 "metadata": {
  "kernelspec": {
   "display_name": "Python 3",
   "language": "python",
   "name": "python3"
  },
  "language_info": {
   "codemirror_mode": {
    "name": "ipython",
    "version": 3
   },
   "file_extension": ".py",
   "mimetype": "text/x-python",
   "name": "python",
   "nbconvert_exporter": "python",
   "pygments_lexer": "ipython3",
   "version": "3.8.8"
  }
 },
 "nbformat": 4,
 "nbformat_minor": 5
}
