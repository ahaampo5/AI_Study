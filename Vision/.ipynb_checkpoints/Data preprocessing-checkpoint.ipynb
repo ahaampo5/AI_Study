{
 "cells": [
  {
   "cell_type": "code",
   "execution_count": 23,
   "id": "dental-turkish",
   "metadata": {},
   "outputs": [],
   "source": [
    "import numpy as np\n",
    "import cv2"
   ]
  },
  {
   "cell_type": "code",
   "execution_count": 12,
   "id": "fatal-kinase",
   "metadata": {},
   "outputs": [],
   "source": [
    "img = np.ones((224,224,3),dtype=np.float)"
   ]
  },
  {
   "cell_type": "code",
   "execution_count": 19,
   "id": "light-person",
   "metadata": {},
   "outputs": [
    {
     "name": "stdout",
     "output_type": "stream",
     "text": [
      "(224, 224, 3)\n"
     ]
    }
   ],
   "source": [
    "# brightness - add, scaling, logarithm, \n",
    "img[:,:,0] = img[:,:,0] + 100\n",
    "img[:,:,1] = img[:,:,1] + 100\n",
    "img[:,:,2] = img[:,:,2] + 100\n",
    "\n",
    "img[:,:,0][img[:,:,0]>255] = 255\n",
    "img[:,:,1][img[:,:,1]>255] = 255\n",
    "img[:,:,2][img[:,:,2]>255] = 255\n",
    "print(img.shape)"
   ]
  },
  {
   "cell_type": "code",
   "execution_count": 26,
   "id": "urban-anaheim",
   "metadata": {
    "collapsed": true
   },
   "outputs": [
    {
     "data": {
      "text/plain": [
       "array([[[255., 255., 255.],\n",
       "        [255., 255., 255.],\n",
       "        [255., 255., 255.],\n",
       "        ...,\n",
       "        [255., 255., 255.],\n",
       "        [255., 255., 255.],\n",
       "        [255., 255., 255.]],\n",
       "\n",
       "       [[255., 255., 255.],\n",
       "        [255., 255., 255.],\n",
       "        [255., 255., 255.],\n",
       "        ...,\n",
       "        [255., 255., 255.],\n",
       "        [255., 255., 255.],\n",
       "        [255., 255., 255.]],\n",
       "\n",
       "       [[255., 255., 255.],\n",
       "        [255., 255., 255.],\n",
       "        [255., 255., 255.],\n",
       "        ...,\n",
       "        [255., 255., 255.],\n",
       "        [255., 255., 255.],\n",
       "        [255., 255., 255.]],\n",
       "\n",
       "       ...,\n",
       "\n",
       "       [[255., 255., 255.],\n",
       "        [255., 255., 255.],\n",
       "        [255., 255., 255.],\n",
       "        ...,\n",
       "        [255., 255., 255.],\n",
       "        [255., 255., 255.],\n",
       "        [255., 255., 255.]],\n",
       "\n",
       "       [[255., 255., 255.],\n",
       "        [255., 255., 255.],\n",
       "        [255., 255., 255.],\n",
       "        ...,\n",
       "        [255., 255., 255.],\n",
       "        [255., 255., 255.],\n",
       "        [255., 255., 255.]],\n",
       "\n",
       "       [[255., 255., 255.],\n",
       "        [255., 255., 255.],\n",
       "        [255., 255., 255.],\n",
       "        ...,\n",
       "        [255., 255., 255.],\n",
       "        [255., 255., 255.],\n",
       "        [255., 255., 255.]]])"
      ]
     },
     "execution_count": 26,
     "metadata": {},
     "output_type": "execute_result"
    }
   ],
   "source": [
    "# rotation\n",
    "cv2.rotate(img, cv2.ROTATE_180)"
   ]
  },
  {
   "cell_type": "code",
   "execution_count": 29,
   "id": "loaded-generator",
   "metadata": {
    "scrolled": true
   },
   "outputs": [
    {
     "data": {
      "text/plain": [
       "(124, 140, 3)"
      ]
     },
     "execution_count": 29,
     "metadata": {},
     "output_type": "execute_result"
    }
   ],
   "source": [
    "# crop\n",
    "y_start = 100\n",
    "crop_y_size = 200\n",
    "x_start = 50\n",
    "crop_x_size = 140\n",
    "img_cropped = img[y_start:y_start+crop_y_size, x_start:x_start+crop_x_size,:]\n",
    "img_cropped.shape\n"
   ]
  },
  {
   "cell_type": "code",
   "execution_count": 33,
   "id": "cloudy-orchestra",
   "metadata": {},
   "outputs": [
    {
     "data": {
      "text/plain": [
       "(224, 224, 3)"
      ]
     },
     "execution_count": 33,
     "metadata": {},
     "output_type": "execute_result"
    }
   ],
   "source": [
    "# Affine transformation(Shear transform) - 평행사변형\n",
    "rows, cols, ch = img.shape\n",
    "point1 = np.float32([[50,50],[200,50],[50,200]])\n",
    "point2 = np.float32([[10,100],[200,50],[100,250]])\n",
    "M = cv2.getAffineTransform(point1,point2)\n",
    "shear_img = cv2.warpAffine(img,M,(cols,rows))\n",
    "shear_img.shape"
   ]
  },
  {
   "cell_type": "code",
   "execution_count": null,
   "id": "numeric-absence",
   "metadata": {},
   "outputs": [],
   "source": [
    "# CutMix\n"
   ]
  },
  {
   "cell_type": "markdown",
   "id": "humanitarian-startup",
   "metadata": {},
   "source": [
    "- RandAugment\n",
    " - identity, autoContrast(대조), equalize, rotate, solarize, color, posterize, contrast\n",
    " - brightness, sharpness, shear-x, shear-y, translate-x, translate-y"
   ]
  }
 ],
 "metadata": {
  "kernelspec": {
   "display_name": "Python 3",
   "language": "python",
   "name": "python3"
  },
  "language_info": {
   "codemirror_mode": {
    "name": "ipython",
    "version": 3
   },
   "file_extension": ".py",
   "mimetype": "text/x-python",
   "name": "python",
   "nbconvert_exporter": "python",
   "pygments_lexer": "ipython3",
   "version": "3.8.5"
  }
 },
 "nbformat": 4,
 "nbformat_minor": 5
}
