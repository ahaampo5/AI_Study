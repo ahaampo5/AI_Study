{
 "cells": [
  {
   "cell_type": "markdown",
   "id": "twelve-closing",
   "metadata": {},
   "source": [
    "# **학업 일지**"
   ]
  },
  {
   "cell_type": "markdown",
   "id": "coordinate-convert",
   "metadata": {},
   "source": [
    "#### 오늘의 한마디  "
   ]
  },
  {
   "cell_type": "markdown",
   "id": "beautiful-springfield",
   "metadata": {},
   "source": [
    "> **웹을 그래프로 이해하고 검색엔진 알고리즘을 구현한다.**"
   ]
  },
  {
   "cell_type": "markdown",
   "id": "gross-giving",
   "metadata": {},
   "source": [
    "## 1. 강의 정리"
   ]
  },
  {
   "cell_type": "markdown",
   "id": "adopted-feedback",
   "metadata": {},
   "source": [
    "### 1.1 그래프를 이용한 기계학습"
   ]
  },
  {
   "cell_type": "markdown",
   "id": "personalized-consumer",
   "metadata": {},
   "source": [
    "#### 1.1.1 군집 구조와 군집 탐색 문제"
   ]
  },
  {
   "cell_type": "markdown",
   "id": "fitted-adapter",
   "metadata": {},
   "source": [
    "- 군집(Community)\n",
    " - Social Circle을 의미하는 경우 혹은 행위와 관련된 경우가 있다.\n",
    "- 군집 탐색(Community detection)\n",
    " - 여러 군집으로 잘 나누는 문제 : 정점들을 그룹으로 묶는 문제"
   ]
  },
  {
   "cell_type": "markdown",
   "id": "curious-belfast",
   "metadata": {},
   "source": [
    "#### 1.1.2 군집 구조의 통계적 유의성과 군집성"
   ]
  },
  {
   "cell_type": "markdown",
   "id": "comparative-needle",
   "metadata": {},
   "source": [
    "- 배치 모형 : 군집 구조의 통계적 유의성을 본다.\n",
    " - 연결성을 보존한 상태에서 간선들을 무작위로 재배치 한 그래프 \n",
    "- 군집성(Modularity)의 정의 : 군집 탐색의 성공 여부를 판단\n",
    " - 0.3 ~ 0.7 이면 성공적이다."
   ]
  },
  {
   "cell_type": "markdown",
   "id": "double-windsor",
   "metadata": {},
   "source": [
    "#### 1.1.3 군집 탐색 알고리즘"
   ]
  },
  {
   "cell_type": "markdown",
   "id": "blank-drama",
   "metadata": {},
   "source": [
    "- Girvan_Newman 알고리즘 (Top-down)\n",
    " - 군집 간 다리 역할을 하는 간선을 순차적으로 제거하여 군집들이 분리되도록 만든다.\n",
    " - 다리 역할 간선 찾기 : 매개 중심성(Betweenness Centrality)를 사용한다.\n",
    "  - 해당 간선이 정점 간의 최단 경로에 놓이는 횟수\n",
    " - 간선의 제거 정도에 따라서 다른 입도(Granularity)의 군집 구조가 나타난다.\n",
    "  - 군집성이 최대가 되는 지점까지 간선을 제거한다.\n",
    "- Louvain 알고리즘 (Bottom-Up)\n",
    " - 개별 정점에서 점점 큰 군집을 형성한다.\n",
    " "
   ]
  },
  {
   "cell_type": "markdown",
   "id": "baking-disney",
   "metadata": {},
   "source": [
    "#### 1.1.4 중첩이 있는 군집 탐색\n",
    "- 실제 그래프는 중첩된 경우가 많다.\n",
    "- 완화된 중첩 군집 모형 : 각 정점이 군집에 속하는 것을 실수 확률로 나타낸다."
   ]
  },
  {
   "cell_type": "markdown",
   "id": "dominican-estonia",
   "metadata": {},
   "source": [
    "#### 1.1.5 알고리즘 구현 및 적용\n",
    "- "
   ]
  },
  {
   "cell_type": "markdown",
   "id": "freelance-answer",
   "metadata": {},
   "source": [
    "### 1.2 추천 시스템"
   ]
  },
  {
   "cell_type": "markdown",
   "id": "false-mention",
   "metadata": {},
   "source": [
    "#### 1.2.1 우리 주변의 추천 시스템"
   ]
  },
  {
   "cell_type": "markdown",
   "id": "fabulous-profit",
   "metadata": {},
   "source": [
    "- 그래프 관점에서 추천 시스템은 미래의 간선을 예측하는 문제 혹은 누락된 간선의 가중치를 추정하는 문제로 해석 할 수 있습니다."
   ]
  },
  {
   "cell_type": "markdown",
   "id": "impossible-ireland",
   "metadata": {},
   "source": [
    "#### 1.2.2 내용 기반 추천시스템\n",
    "- 내용 기반(Content-based) 추천시스템의 원리\n",
    " - 각 사용자가 구매/만족했던 상품과 유사한 것을 추천\n",
    " - 선호 : 상품 프로필 수집 - 구성 : 각각 상품의 프로필을 가중평균내어 사용자 프로필을 만든다. - 매칭 : 코사인 유사도를 계산하여 다른 상품의 프로필과 매칭한다. - 추천 : 코사인 유사도가 높은 상품을 추천\n",
    "- 내용 기반 추천시스템의 장단점\n",
    " - 장점 : \n",
    "  - 다른사용자의 구매 기록이 필요하지 않는다.\n",
    "  - 독특한 취향의 사용자에게 추천 가능\n",
    "  - 새 상품에 대해 추천 가능\n",
    "  - 추천의 이유 제공 가능\n",
    " - 단점 :\n",
    "  - 부가 정보가 없는 경우 사용 불가능\n",
    "  - 구매 기록이 없는 사용자에게 사용 불가능\n",
    "  - 과적합의 위험이 있다."
   ]
  },
  {
   "cell_type": "markdown",
   "id": "wired-victory",
   "metadata": {},
   "source": [
    "### 1.3 협엽 필터링"
   ]
  },
  {
   "cell_type": "markdown",
   "id": "nervous-gravity",
   "metadata": {},
   "source": [
    "#### 1.2.3 협업 필터링의 단계\n",
    "- 과정\n",
    " - 사용자와 유사한 취향의 사용자들을 찾는다.\n",
    " - 취향의 유사성은 상관 계수(Correlation Coefficient)를 통해 측정한다.\n",
    " - 취향의 유사도를 가중치로 사용한 평점의 가중 편균을 통해 평점을 추정한다.\n",
    "  - 취향이 유사한 k명의 사용자를 뽑아 각각의 유사도를 가중 평균을 내 평점을 계산한다.\n",
    " - 추정한 평점이 가장 높은 상품을 추천\n",
    "- 협업 필터링의 장단점\n",
    " - 장점 :\n",
    "  - 부가 정보가 없는 경우에도 사용할 수 있다.\n",
    " - 단점 :\n",
    "  - 충분한 수의 평점 데이터가 누적되어야 효과적이다.\n",
    "  - 새 상품, 새로운 사용자에 대한 추천이 불가능하다.\n",
    "  - 독특한 취향의 사용자에게 추천이 어렵다."
   ]
  },
  {
   "cell_type": "markdown",
   "id": "characteristic-tuner",
   "metadata": {},
   "source": [
    "### 1.4 추천 시스템의 평가\n",
    "#### 1.4.1 데이터 분리\n",
    "- 사용자에 대한 상품을 matrix로 나눈다. \n",
    "- 데이터를 훈련 데이터와 평가 데이터로 사용한다.\n",
    "- 평점을 추정한다.\n",
    "- 정답과 비교하여 학습을 한다.\n",
    "- 오차 측정하는 지표는 평균 제곱 오차(MSE)를 많이 사용한다. RMSE도 사용된다.\n"
   ]
  },
  {
   "cell_type": "markdown",
   "id": "sound-scope",
   "metadata": {},
   "source": [
    "### 1.5 협업 필터링 구현\n",
    "#### 1.5.1 데이터 불러오기 및 전처리\n"
   ]
  },
  {
   "cell_type": "markdown",
   "id": "middle-mississippi",
   "metadata": {},
   "source": [
    "## 2. 피어 세션 정리"
   ]
  },
  {
   "cell_type": "markdown",
   "id": "adolescent-melbourne",
   "metadata": {},
   "source": [
    "#### 2.1 스터디"
   ]
  },
  {
   "cell_type": "markdown",
   "id": "amber-boring",
   "metadata": {},
   "source": [
    "- 2.1.1 PageRank에 대한 개념과 실제로 구글에서 어떤 방식으로 (발표: 김준철)\n",
    "\n",
    "- 2.1.2 랜덤 그래프와 실제 그래프의 특징을 발표하고 실제 연산을 통해 구체적으로 확인하였다. (발표: 변재경)\n"
   ]
  },
  {
   "cell_type": "markdown",
   "id": "neutral-messenger",
   "metadata": {},
   "source": [
    "#### 2.2 원하는 진로를 잡고 논문 공부"
   ]
  },
  {
   "cell_type": "markdown",
   "id": "secret-queensland",
   "metadata": {},
   "source": [
    "- 새로운 논문 선택 gpt-1 읽기"
   ]
  },
  {
   "cell_type": "markdown",
   "id": "closed-negative",
   "metadata": {},
   "source": [
    "## 3. 진행중인 공부 및 신규 공부 목록"
   ]
  },
  {
   "cell_type": "markdown",
   "id": "knowing-feature",
   "metadata": {},
   "source": [
    "- 진행중인 공부  \n",
    "\n",
    "    - AI 기본 수학 : Mathematics for Machine learning - Marc Peter Deisenroth 4과 공부\n",
    "    - 웹 크롤링 및 데이터 처리 연습 익숙해지기\n",
    "    - Pytorch로 시작하는 딥러닝, Pytorch tutorial 공부  \n",
    "    - pytorch 데이터셋 설정"
   ]
  },
  {
   "cell_type": "markdown",
   "id": "extra-walnut",
   "metadata": {},
   "source": [
    "- 신규 공부 목록  \n"
   ]
  },
  {
   "cell_type": "markdown",
   "id": "military-technique",
   "metadata": {},
   "source": [
    "- 완료한 공부  "
   ]
  },
  {
   "cell_type": "markdown",
   "id": "organizational-small",
   "metadata": {},
   "source": [
    "## 4. 감사한 일"
   ]
  },
  {
   "cell_type": "markdown",
   "id": "simplified-english",
   "metadata": {},
   "source": [
    "- 어떤 길을 갈지 같이 이야기하면서 고민을 공유한 팀원들에게 감사합니다."
   ]
  }
 ],
 "metadata": {
  "kernelspec": {
   "display_name": "Python 3",
   "language": "python",
   "name": "python3"
  },
  "language_info": {
   "codemirror_mode": {
    "name": "ipython",
    "version": 3
   },
   "file_extension": ".py",
   "mimetype": "text/x-python",
   "name": "python",
   "nbconvert_exporter": "python",
   "pygments_lexer": "ipython3",
   "version": "3.8.5"
  }
 },
 "nbformat": 4,
 "nbformat_minor": 5
}
