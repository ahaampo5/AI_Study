{
 "cells": [
  {
   "cell_type": "code",
   "execution_count": 6,
   "id": "recreational-progressive",
   "metadata": {},
   "outputs": [],
   "source": [
    "import sklearn.linear_model as slm\n",
    "import numpy as np\n",
    "X = np.random.uniform(0,1,(3,4))\n",
    "y = np.random.uniform(0,1,(3,1))"
   ]
  },
  {
   "cell_type": "code",
   "execution_count": 17,
   "id": "declared-weather",
   "metadata": {},
   "outputs": [
    {
     "ename": "SyntaxError",
     "evalue": "invalid syntax (<ipython-input-17-0ce5f5a34cc4>, line 5)",
     "output_type": "error",
     "traceback": [
      "\u001b[1;36m  File \u001b[1;32m\"<ipython-input-17-0ce5f5a34cc4>\"\u001b[1;36m, line \u001b[1;32m5\u001b[0m\n\u001b[1;33m    model.\u001b[0m\n\u001b[1;37m          ^\u001b[0m\n\u001b[1;31mSyntaxError\u001b[0m\u001b[1;31m:\u001b[0m invalid syntax\n"
     ]
    }
   ],
   "source": [
    "print(X,y)\n",
    "model = slm.LinearRegression()\n",
    "model.fit(X, y)\n",
    "y_test = model.predict(X)\n",
    "model.set_params()"
   ]
  }
 ],
 "metadata": {
  "kernelspec": {
   "display_name": "Python 3",
   "language": "python",
   "name": "python3"
  },
  "language_info": {
   "codemirror_mode": {
    "name": "ipython",
    "version": 3
   },
   "file_extension": ".py",
   "mimetype": "text/x-python",
   "name": "python",
   "nbconvert_exporter": "python",
   "pygments_lexer": "ipython3",
   "version": "3.8.5"
  }
 },
 "nbformat": 4,
 "nbformat_minor": 5
}
