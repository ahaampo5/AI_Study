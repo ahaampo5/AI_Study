{
 "cells": [
  {
   "cell_type": "markdown",
   "id": "impossible-advantage",
   "metadata": {},
   "source": [
    "# **학업 일지**"
   ]
  },
  {
   "cell_type": "markdown",
   "id": "bottom-space",
   "metadata": {},
   "source": [
    "#### 오늘의 한마디  "
   ]
  },
  {
   "cell_type": "markdown",
   "id": "american-feedback",
   "metadata": {},
   "source": [
    "> **RNN에 Attention구조를 사용하여 NLP모델링의 다양한 구현을 해보자.**"
   ]
  },
  {
   "cell_type": "markdown",
   "id": "finished-theorem",
   "metadata": {},
   "source": [
    "## 1. 강의 정리"
   ]
  },
  {
   "cell_type": "markdown",
   "id": "tamil-oklahoma",
   "metadata": {},
   "source": [
    "### 1.1 Pre-Training model"
   ]
  },
  {
   "cell_type": "markdown",
   "id": "metallic-magic",
   "metadata": {},
   "source": [
    "#### 1.1.1 GPT-1"
   ]
  },
  {
   "cell_type": "markdown",
   "id": "rubber-allen",
   "metadata": {},
   "source": [
    "- 특징 : 다양한 special token을 넣어 심플한 테스트, 많은 테스크를 동시에 처리할 수 있는 통합모델\n",
    "- start, text, extract"
   ]
  },
  {
   "cell_type": "markdown",
   "id": "changed-version",
   "metadata": {},
   "source": [
    "#### 1.1.2 Bert\n",
    "- dot product로 hidden간의 관계를 계산하는경우\n",
    "- general : 일반적인 매트릭스를 hidden vector 사이에 추가해 계산하는 경우\n",
    "- concat : hidden vector 두개를 concat시킨 후 neural net을 통하고 scalar값을 도출하기 위해 transpose 벡터를 내적해주는 경우"
   ]
  },
  {
   "cell_type": "markdown",
   "id": "bibliographic-appointment",
   "metadata": {},
   "source": [
    "#### 1.1.3 장점과 특성"
   ]
  },
  {
   "cell_type": "markdown",
   "id": "printable-portuguese",
   "metadata": {},
   "source": [
    "- Seq2seq 모델에 추가되면서 기계번역에서 성능을 많이 올려주었다.\n",
    "- 긴 문장에 대해 학습이 잘 되지 않는 문제를 해결했다.\n",
    "- 언제 어떤 단어를 봐야할지 뉴럴넷이 스스로 선택하는 구조를 만들어준다."
   ]
  },
  {
   "cell_type": "markdown",
   "id": "equivalent-authority",
   "metadata": {},
   "source": [
    "### 1.2 Transformer의 Encoder 구조"
   ]
  },
  {
   "cell_type": "markdown",
   "id": "closing-flour",
   "metadata": {},
   "source": [
    "#### 1.2.1 Self Attention 구조"
   ]
  },
  {
   "cell_type": "markdown",
   "id": "minute-diary",
   "metadata": {},
   "source": [
    "- 국소적으로 해석하여 다음 단어만을 예측하는 greed decoding은 지금 가장 좋은 선택지를 골라 전체적으로 좋은 것을 고르지 못한다.\n",
    "- 이상적으로 모든 확률을 계산하여 최적의 확률을 고르는게 좋지만 계산량이 너무 많다.\n",
    "- 그 중간의 표현을 가진 방법이 beam search이다."
   ]
  },
  {
   "cell_type": "markdown",
   "id": "initial-horizontal",
   "metadata": {},
   "source": [
    "#### 1.2.2 Residual net 구조"
   ]
  },
  {
   "cell_type": "markdown",
   "id": "certified-colombia",
   "metadata": {},
   "source": [
    "1. k개의 가설로 정한다.(k를 beam size라 부른다.)\n",
    "2. 확률의 곱셈을 log를 씌워 덧셈꼴로 나타낸다.\n",
    "3. 각 항목에서 k개의 예측을 만들어 확률값이 큰 k개를 고른다.\n",
    "4. 모든 가정이 end토큰을 생성할 때까지 만들어준다. \n",
    " - 문제 : 가정을 많이 할 수록 더 안좋은 확률값을 가진다. -> normalize해준다.\n",
    "5. 타임스텝까지만 진행하거나 n개의 완료목록이 채워지면 완료한다."
   ]
  },
  {
   "cell_type": "markdown",
   "id": "composite-civilian",
   "metadata": {},
   "source": [
    "#### 1.2.3 Normalization 구조"
   ]
  },
  {
   "cell_type": "markdown",
   "id": "homeless-interview",
   "metadata": {},
   "source": [
    "#### 1.2.4 Positional Encoding"
   ]
  },
  {
   "cell_type": "markdown",
   "id": "developed-dietary",
   "metadata": {},
   "source": [
    "#### 1.2.5 Leaning Rate Scheduler"
   ]
  },
  {
   "cell_type": "markdown",
   "id": "national-lemon",
   "metadata": {},
   "source": [
    "### 1.3 Transformer의 Decoder 구조"
   ]
  },
  {
   "cell_type": "markdown",
   "id": "realistic-klein",
   "metadata": {},
   "source": [
    "#### 1.3.1 "
   ]
  },
  {
   "cell_type": "markdown",
   "id": "hidden-dover",
   "metadata": {},
   "source": [
    "#### 1.3.1 precision and recall"
   ]
  },
  {
   "cell_type": "markdown",
   "id": "empty-documentary",
   "metadata": {},
   "source": [
    "- 단어의 개수만 고려하는 것"
   ]
  },
  {
   "cell_type": "markdown",
   "id": "speaking-earth",
   "metadata": {},
   "source": [
    "![image.png](./img/bleu.png)"
   ]
  },
  {
   "cell_type": "markdown",
   "id": "supported-politics",
   "metadata": {},
   "source": [
    "#### 1.3.2 BLEU score"
   ]
  },
  {
   "cell_type": "markdown",
   "id": "searching-resolution",
   "metadata": {},
   "source": [
    "![image.png](./img/bleu_score.png)"
   ]
  },
  {
   "cell_type": "markdown",
   "id": "primary-guard",
   "metadata": {},
   "source": [
    "## 2. 피어 세션 정리"
   ]
  },
  {
   "cell_type": "markdown",
   "id": "boring-fashion",
   "metadata": {},
   "source": [
    "#### 2.1 스터디"
   ]
  },
  {
   "cell_type": "markdown",
   "id": "speaking-kruger",
   "metadata": {},
   "source": [
    "- 2.1.1 RNN 구조 발표(발표: 안동주)\n",
    "\n",
    "- 2.1.2 LSTM, GRU 구조 발표 (발표: 배새봄)\n"
   ]
  },
  {
   "cell_type": "markdown",
   "id": "formed-adult",
   "metadata": {},
   "source": [
    "#### 2.2 원하는 진로를 잡고 논문 공부"
   ]
  },
  {
   "cell_type": "markdown",
   "id": "prerequisite-mattress",
   "metadata": {},
   "source": [
    "- 새로운 논문 선택 gpt-2 읽기"
   ]
  },
  {
   "cell_type": "markdown",
   "id": "prompt-finding",
   "metadata": {},
   "source": [
    "## 3. 진행중인 공부 및 신규 공부 목록"
   ]
  },
  {
   "cell_type": "markdown",
   "id": "seven-violation",
   "metadata": {},
   "source": [
    "- 진행중인 공부  \n",
    "\n",
    "    - AI 기본 수학 : Mathematics for Machine learning - Marc Peter Deisenroth 4과 공부\n",
    "    - 웹 크롤링 및 데이터 처리 연습 익숙해지기\n",
    "    - Pytorch로 시작하는 딥러닝, Pytorch tutorial 공부  \n",
    "    - pytorch 데이터셋 설정"
   ]
  },
  {
   "cell_type": "markdown",
   "id": "broad-payroll",
   "metadata": {},
   "source": [
    "- 신규 공부 목록  \n"
   ]
  },
  {
   "cell_type": "markdown",
   "id": "boxed-particular",
   "metadata": {},
   "source": [
    "- 완료한 공부  "
   ]
  },
  {
   "cell_type": "markdown",
   "id": "british-monkey",
   "metadata": {},
   "source": [
    "## 4. 감사한 일"
   ]
  },
  {
   "cell_type": "markdown",
   "id": "functional-bridges",
   "metadata": {},
   "source": [
    "- 논문 발표를 위한 큰 틀을 잡아주시고 더 나아지도록 포인트를 집어주신 문영기 조교님에게 감사합니다."
   ]
  }
 ],
 "metadata": {
  "kernelspec": {
   "display_name": "Python 3",
   "language": "python",
   "name": "python3"
  },
  "language_info": {
   "codemirror_mode": {
    "name": "ipython",
    "version": 3
   },
   "file_extension": ".py",
   "mimetype": "text/x-python",
   "name": "python",
   "nbconvert_exporter": "python",
   "pygments_lexer": "ipython3",
   "version": "3.8.5"
  }
 },
 "nbformat": 4,
 "nbformat_minor": 5
}
